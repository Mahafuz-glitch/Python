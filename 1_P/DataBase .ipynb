{
 "cells": [
  {
   "cell_type": "code",
   "execution_count": 1,
   "metadata": {},
   "outputs": [],
   "source": [
    "import sqlite3"
   ]
  },
  {
   "cell_type": "code",
   "execution_count": 2,
   "metadata": {},
   "outputs": [
    {
     "name": "stdout",
     "output_type": "stream",
     "text": [
      "saved\n"
     ]
    }
   ],
   "source": [
    "#wWWW\n",
    "db=sqlite3.connect(\"db2.db\")\n",
    "c=db.cursor()\n",
    "c.execute(\"insert into demo values(?,?,?)\",(\"s001\",\"Amit\",\"Kolkata\"))\n",
    "db.commit()\n",
    "print(\"saved\")"
   ]
  },
  {
   "cell_type": "code",
   "execution_count": 28,
   "metadata": {},
   "outputs": [
    {
     "ename": "OperationalError",
     "evalue": "table demo has 1 columns but 3 values were supplied",
     "output_type": "error",
     "traceback": [
      "\u001b[1;31m---------------------------------------------------------------------------\u001b[0m",
      "\u001b[1;31mOperationalError\u001b[0m                          Traceback (most recent call last)",
      "\u001b[1;32m<ipython-input-28-73bd100ebbca>\u001b[0m in \u001b[0;36m<module>\u001b[1;34m\u001b[0m\n\u001b[1;32m----> 1\u001b[1;33m \u001b[0mc\u001b[0m\u001b[1;33m.\u001b[0m\u001b[0mexecute\u001b[0m\u001b[1;33m(\u001b[0m\u001b[1;34m\"insert into demo values(?,?,?)\"\u001b[0m\u001b[1;33m,\u001b[0m\u001b[1;33m(\u001b[0m\u001b[1;34m's001'\u001b[0m\u001b[1;33m,\u001b[0m\u001b[1;34m'Mahafuz'\u001b[0m\u001b[1;33m,\u001b[0m\u001b[1;34m'Kolkata'\u001b[0m\u001b[1;33m,\u001b[0m\u001b[1;33m)\u001b[0m\u001b[1;33m)\u001b[0m\u001b[1;33m\u001b[0m\u001b[1;33m\u001b[0m\u001b[0m\n\u001b[0m\u001b[0;32m      2\u001b[0m \u001b[0mdb\u001b[0m\u001b[1;33m.\u001b[0m\u001b[0mcommit\u001b[0m\u001b[1;33m(\u001b[0m\u001b[1;33m)\u001b[0m\u001b[1;33m\u001b[0m\u001b[1;33m\u001b[0m\u001b[0m\n\u001b[0;32m      3\u001b[0m \u001b[0mprint\u001b[0m\u001b[1;33m(\u001b[0m\u001b[1;34m'Record insert...'\u001b[0m\u001b[1;33m)\u001b[0m\u001b[1;33m\u001b[0m\u001b[1;33m\u001b[0m\u001b[0m\n",
      "\u001b[1;31mOperationalError\u001b[0m: table demo has 1 columns but 3 values were supplied"
     ]
    }
   ],
   "source": [
    "c.execute(\"insert into demo values(?,?,?)\",('s001','Mahafuz','Kolkata',))\n",
    "db.commit()\n",
    "print('Record insert...')"
   ]
  },
  {
   "cell_type": "code",
   "execution_count": 25,
   "metadata": {},
   "outputs": [
    {
     "name": "stdout",
     "output_type": "stream",
     "text": [
      "('12',)\n",
      "('12',)\n"
     ]
    }
   ],
   "source": [
    "#WWWWWW\n",
    "c.execute(\"select * from demo\")\n",
    "res=c.fetchall()\n",
    "for r in res:\n",
    "    print(r)"
   ]
  },
  {
   "cell_type": "code",
   "execution_count": 30,
   "metadata": {},
   "outputs": [
    {
     "name": "stdout",
     "output_type": "stream",
     "text": [
      "deleted..\n"
     ]
    }
   ],
   "source": [
    "c.execute(\"drop table demo\")\n",
    "db.commit()\n",
    "print(\"deleted..\")"
   ]
  },
  {
   "cell_type": "code",
   "execution_count": 31,
   "metadata": {},
   "outputs": [
    {
     "name": "stdout",
     "output_type": "stream",
     "text": [
      "table created\n"
     ]
    }
   ],
   "source": [
    "db=sqlite3.connect(\"db2.db\")\n",
    "c=db.cursor()\n",
    "c.execute(\"create table demo(sid text,sname text,sadd name)\")\n",
    "db.commit()\n",
    "print('table created')"
   ]
  },
  {
   "cell_type": "code",
   "execution_count": 32,
   "metadata": {},
   "outputs": [
    {
     "name": "stdout",
     "output_type": "stream",
     "text": [
      "Record insert...\n"
     ]
    }
   ],
   "source": [
    "c.execute(\"insert into demo values(?,?,?)\",('s001','Mahafuz','Kolkata',))\n",
    "db.commit()\n",
    "print('Record insert...')"
   ]
  },
  {
   "cell_type": "code",
   "execution_count": 37,
   "metadata": {},
   "outputs": [
    {
     "name": "stdout",
     "output_type": "stream",
     "text": [
      "('s001', 'Mahafuz', 'Kolkata')\n",
      "('s001', 'Mahafuz', 'Kolkata')\n",
      "('sid', 'sname', 'sadd')\n"
     ]
    }
   ],
   "source": [
    "c.execute(\"select * from demo\")\n",
    "res=c.fetchall()\n",
    "for r in res:\n",
    "    print(r)"
   ]
  },
  {
   "cell_type": "code",
   "execution_count": 40,
   "metadata": {},
   "outputs": [
    {
     "name": "stdout",
     "output_type": "stream",
     "text": [
      "Enter Id:a007\n",
      "Enter name :Mahafuz\n",
      "Enter add :dvjag\n",
      "Record insert...\n",
      "('s001', 'Mahafuz', 'Kolkata')\n",
      "('s001', 'Mahafuz', 'Kolkata')\n",
      "('sid', 'sname', 'sadd')\n",
      "('sid', 'sname', 'sadd')\n",
      "('a007', 'Mahafuz', 'dvjag')\n"
     ]
    }
   ],
   "source": [
    "sid=input(\"Enter Id:\")\n",
    "sname=input(\"Enter name :\")\n",
    "sadd=input(\"Enter add :\")\n",
    "c.execute(\"insert into demo values(?,?,?)\",(sid,sname,sadd))\n",
    "db.commit()\n",
    "print('Record insert...')\n",
    "c.execute(\"select * from demo\")\n",
    "res=c.fetchall()\n",
    "for r in res:\n",
    "    print(r)"
   ]
  },
  {
   "cell_type": "code",
   "execution_count": 38,
   "metadata": {},
   "outputs": [
    {
     "name": "stdout",
     "output_type": "stream",
     "text": [
      "('s001', 'Mahafuz', 'Kolkata')\n",
      "('s001', 'Mahafuz', 'Kolkata')\n",
      "('sid', 'sname', 'sadd')\n"
     ]
    }
   ],
   "source": [
    "c.execute(\"select * from demo\")\n",
    "res=c.fetchall()\n",
    "for r in res:\n",
    "    print(r)"
   ]
  },
  {
   "cell_type": "code",
   "execution_count": 45,
   "metadata": {},
   "outputs": [
    {
     "name": "stdout",
     "output_type": "stream",
     "text": [
      "Saved..\n"
     ]
    }
   ],
   "source": [
    "list =[('s001', 'Mahafuz', 'Kolkata'),\n",
    "        ('a007', 'Mahafuz', 'dvjag')\n",
    "      ]\n",
    "c.executemany('insert into demo values(?,?,?)',list)\n",
    "db.commit()\n",
    "print(\"Saved..\")"
   ]
  },
  {
   "cell_type": "code",
   "execution_count": 51,
   "metadata": {},
   "outputs": [
    {
     "name": "stdout",
     "output_type": "stream",
     "text": [
      "Enter id :a007\n",
      "('a007', 'Mahafuz', 'dvjag')\n",
      "('a007', 'Mahafuz', 'dvjag')\n",
      "('a007', 'Mahafuz', 'dvjag')\n",
      "('a007', 'Mahafuz', 'dvjag')\n",
      "('a007', 'Mahafuz', 'dvjag')\n"
     ]
    }
   ],
   "source": [
    "sid=input('Enter id :')\n",
    "c.execute(\"select * from demo where sid =?\",(sid,))\n",
    "res=c.fetchall()\n",
    "if (res):\n",
    "    for r in res:\n",
    "        print(r)\n",
    "else :\n",
    "    print ('Record not found')"
   ]
  },
  {
   "cell_type": "code",
   "execution_count": 54,
   "metadata": {},
   "outputs": [
    {
     "name": "stdout",
     "output_type": "stream",
     "text": [
      "s001 Exist\n",
      "s002 Exist not\n",
      "a007 Exist\n",
      "a008 Exist not\n"
     ]
    }
   ],
   "source": [
    "list=['s001','s002','a007','a008']\n",
    "for i in range (0,len(list)):\n",
    "    x=list[i]\n",
    "    c.execute(\"select * from demo where sid =?\",(x,))\n",
    "    res=c.fetchall()\n",
    "    if (res):\n",
    "        print(x,'Exist')\n",
    "    else:\n",
    "        print(x,'Exist not')"
   ]
  },
  {
   "cell_type": "code",
   "execution_count": 57,
   "metadata": {},
   "outputs": [
    {
     "name": "stdout",
     "output_type": "stream",
     "text": [
      "Enter Id:a007\n",
      "Enter name :Mahafuz\n",
      "Enter add :howrah\n",
      "Record updated>>>\n",
      "('s001', 'Mahafuz', 'Kolkata')\n",
      "('s001', 'Mahafuz', 'Kolkata')\n",
      "('sid', 'sname', 'sadd')\n",
      "('sid', 'sname', 'sadd')\n",
      "('a007', 'Mahafuz', 'howrah')\n",
      "('s001', 'Mahafuz', 'Kolkata')\n",
      "('a007', 'Mahafuz', 'howrah')\n",
      "('s001', 'Mahafuz', 'Kolkata')\n",
      "('a007', 'Mahafuz', 'howrah')\n",
      "('s001', 'Mahafuz', 'Kolkata')\n",
      "('a007', 'Mahafuz', 'howrah')\n",
      "('s001', 'Mahafuz', 'Kolkata')\n",
      "('a007', 'Mahafuz', 'howrah')\n"
     ]
    }
   ],
   "source": [
    "sid=input(\"Enter Id:\")\n",
    "sname=input(\"Enter name :\")\n",
    "sadd=input(\"Enter add :\")\n",
    "c.execute(\"update demo set sname=?,sadd=? where sid=?\",(sname,sadd,sid))\n",
    "db.commit()\n",
    "print('Record updated>>>')\n",
    "c.execute(\"select * from demo\")\n",
    "res=c.fetchall()\n",
    "for r in res:\n",
    "    print(r)"
   ]
  },
  {
   "cell_type": "code",
   "execution_count": null,
   "metadata": {},
   "outputs": [],
   "source": []
  }
 ],
 "metadata": {
  "kernelspec": {
   "display_name": "Python 3",
   "language": "python",
   "name": "python3"
  },
  "language_info": {
   "codemirror_mode": {
    "name": "ipython",
    "version": 3
   },
   "file_extension": ".py",
   "mimetype": "text/x-python",
   "name": "python",
   "nbconvert_exporter": "python",
   "pygments_lexer": "ipython3",
   "version": "3.8.5"
  }
 },
 "nbformat": 4,
 "nbformat_minor": 2
}
