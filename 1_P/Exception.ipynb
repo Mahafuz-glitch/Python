{
 "cells": [
  {
   "cell_type": "code",
   "execution_count": 1,
   "metadata": {},
   "outputs": [
    {
     "name": "stdout",
     "output_type": "stream",
     "text": [
      "Enter a:2\n",
      "Enter b:2\n",
      "1.0\n"
     ]
    }
   ],
   "source": [
    "a=int (input(\"Enter a:\"))\n",
    "b=int(input(\"Enter b:\"))\n",
    "c=a/b\n",
    "print(c)"
   ]
  },
  {
   "cell_type": "code",
   "execution_count": null,
   "metadata": {},
   "outputs": [],
   "source": [
    "try:\n",
    "    a=int (input(\"Enter a:\"))\n",
    "    b=int(input(\"Enter b:\"))\n",
    "    c=a/b\n",
    "    print(\"a/b=\" %d%c)\n",
    "except:\n",
    "    print(\"cannot divided by zero \")\n",
    "else:\n",
    "    print(\"OK\")\n"
   ]
  },
  {
   "cell_type": "code",
   "execution_count": null,
   "metadata": {},
   "outputs": [],
   "source": [
    "import sys\n",
    "list=['a',0,2]\n",
    "for entry in list:\n",
    "    try:\n",
    "        print(\"The entry is :\",entry)\n",
    "        r=1/int(entry)\n",
    "        break\n",
    "    except:\n",
    "        print(sys.exc_info()[0],\" occured\")\n",
    "        print(\"Next entry\")\n",
    "        print()\n",
    "print(\"Reciprocal of \",entry,\"is\",r)"
   ]
  },
  {
   "cell_type": "code",
   "execution_count": null,
   "metadata": {},
   "outputs": [],
   "source": [
    "try:\n",
    "    a=int(input(\"Enter a positive integer :\"))\n",
    "    if(a<=0):\n",
    "        raise ValueError(\"Not a positive number\")\n",
    "except ValueError as ve:\n",
    "    print(ve)\n",
    "finally:\n",
    "    print(\"Must executable\")"
   ]
  },
  {
   "cell_type": "code",
   "execution_count": null,
   "metadata": {},
   "outputs": [],
   "source": [
    "class Error (Exception):\n",
    "    \"\"\"Base class for other exception\"\"\"\n",
    "    pass\n",
    "class ValueTooSmallError(Error):\n",
    "    \"\"\"Rised when the input is to small\"\"\"\n",
    "    pass\n",
    "class ValueTooLargeError(Error):\n",
    "    \"\"\"Rised when the input is to large\"\"\"\n",
    "    pass\n",
    "number=10\n",
    "while True:\n",
    "    try:\n",
    "        i_num=int(input(\"Enter the number:\"))\n",
    "        if i_num<number:\n",
    "            raise ValueTooSmallError\n",
    "        elif i_num>number:\n",
    "            raise ValueTooLargeError\n",
    "        break\n",
    "    except ValueTooSmallError:\n",
    "        print(\"To small try again\")\n",
    "        print()\n",
    "    except ValueTooLargeError:\n",
    "        print(\"Value to large try again \")\n",
    "        print()\n",
    "print(\"value Match\")"
   ]
  },
  {
   "cell_type": "code",
   "execution_count": null,
   "metadata": {},
   "outputs": [
    {
     "name": "stdout",
     "output_type": "stream",
     "text": [
      "Enter the number:5\n",
      "Enter the number:-3\n",
      "Nev value try again..\n",
      "\n"
     ]
    }
   ],
   "source": [
    "class Error (Exception):\n",
    "    \"\"\"Base class for other exception\"\"\"\n",
    "    pass\n",
    "class NevValue(Error):\n",
    "    \"\"\"Rised when the input is to small\"\"\"\n",
    "    pass\n",
    "\n",
    "while True:\n",
    "    try:\n",
    "        i_num=int(input(\"Enter the number:\"))\n",
    "        j_num=int(input(\"Enter the number:\"))\n",
    "        if (i_num<0 or j_num<0):\n",
    "               raise NevValue\n",
    "        break\n",
    "    except NevValue:\n",
    "        print(\"Nev value try again..\")\n",
    "        print()\n",
    "print(\"value Match\")\n",
    "c=i_num+j_num\n",
    "print(c)"
   ]
  },
  {
   "cell_type": "code",
   "execution_count": null,
   "metadata": {},
   "outputs": [],
   "source": []
  }
 ],
 "metadata": {
  "kernelspec": {
   "display_name": "Python 3",
   "language": "python",
   "name": "python3"
  },
  "language_info": {
   "codemirror_mode": {
    "name": "ipython",
    "version": 3
   },
   "file_extension": ".py",
   "mimetype": "text/x-python",
   "name": "python",
   "nbconvert_exporter": "python",
   "pygments_lexer": "ipython3",
   "version": "3.8.5"
  }
 },
 "nbformat": 4,
 "nbformat_minor": 2
}
