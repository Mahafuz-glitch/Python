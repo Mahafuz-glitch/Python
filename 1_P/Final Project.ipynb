{
 "cells": [
  {
   "cell_type": "code",
   "execution_count": 2,
   "metadata": {},
   "outputs": [],
   "source": [
    "import sqlite3"
   ]
  },
  {
   "cell_type": "code",
   "execution_count": 4,
   "metadata": {},
   "outputs": [
    {
     "ename": "OperationalError",
     "evalue": "table books already exists",
     "output_type": "error",
     "traceback": [
      "\u001b[1;31m---------------------------------------------------------------------------\u001b[0m",
      "\u001b[1;31mOperationalError\u001b[0m                          Traceback (most recent call last)",
      "\u001b[1;32m<ipython-input-4-feb484c4c784>\u001b[0m in \u001b[0;36m<module>\u001b[1;34m\u001b[0m\n\u001b[0;32m      1\u001b[0m \u001b[0mpdb\u001b[0m\u001b[1;33m=\u001b[0m\u001b[0msqlite3\u001b[0m\u001b[1;33m.\u001b[0m\u001b[0mconnect\u001b[0m\u001b[1;33m(\u001b[0m\u001b[1;34m\"pdb2.pdb\"\u001b[0m\u001b[1;33m)\u001b[0m\u001b[1;33m\u001b[0m\u001b[1;33m\u001b[0m\u001b[0m\n\u001b[0;32m      2\u001b[0m \u001b[0mc\u001b[0m\u001b[1;33m=\u001b[0m\u001b[0mpdb\u001b[0m\u001b[1;33m.\u001b[0m\u001b[0mcursor\u001b[0m\u001b[1;33m(\u001b[0m\u001b[1;33m)\u001b[0m\u001b[1;33m\u001b[0m\u001b[1;33m\u001b[0m\u001b[0m\n\u001b[1;32m----> 3\u001b[1;33m \u001b[0mc\u001b[0m\u001b[1;33m.\u001b[0m\u001b[0mexecute\u001b[0m\u001b[1;33m(\u001b[0m\u001b[1;34m\"create table books(bid text,bname text,baut text,bfees text)\"\u001b[0m\u001b[1;33m)\u001b[0m\u001b[1;33m\u001b[0m\u001b[1;33m\u001b[0m\u001b[0m\n\u001b[0m\u001b[0;32m      4\u001b[0m \u001b[0mpdb\u001b[0m\u001b[1;33m.\u001b[0m\u001b[0mcommit\u001b[0m\u001b[1;33m(\u001b[0m\u001b[1;33m)\u001b[0m\u001b[1;33m\u001b[0m\u001b[1;33m\u001b[0m\u001b[0m\n\u001b[0;32m      5\u001b[0m list =[('b001', 'python', 'aba','100'),\n",
      "\u001b[1;31mOperationalError\u001b[0m: table books already exists"
     ]
    }
   ],
   "source": [
    "pdb=sqlite3.connect(\"pdb2.pdb\")\n",
    "c=pdb.cursor()\n",
    "c.execute(\"create table books(bid text,bname text,baut text,bfees text)\")\n",
    "pdb.commit()\n",
    "list =[('b001', 'python', 'aba','100'),\n",
    "        ('b002', 'java', 'dadd','120'),\n",
    "        ('b003','php','bihe','800')\n",
    "      ]\n",
    "c.executemany('insert into books values(?,?,?,?)',list)\n",
    "pdb.commit()\n",
    "print (\"For Reg Login 0 :\")\n",
    "print (\"For Registration 1 :\")\n",
    "x=int (input (\"Enter the value:\"))\n",
    "if x==0:\n",
    "    c.execute(\"create table nuser(sid text,sname text,sph text,spw text)\")\n",
    "    pdb.commit()\n",
    "    sid=input(\"Enter Id:\")\n",
    "    sname=input(\"Enter name :\")\n",
    "    sph=input(\"Enter PH :\")\n",
    "    spw=input(\"Enter Your New Password :\")\n",
    "    c.execute(\"insert into nuser values(?,?,?,?)\",(sid,sname,sph,spw))\n",
    "    pdb.commit()\n",
    "    print(\"ReG success full>>\")\n",
    "    print (\"Books available.......\")\n",
    "    c.execute(\"select * from books\")\n",
    "    res=c.fetchall()\n",
    "    for r in res:\n",
    "        print(r)\n",
    "    breg=input(\"Enter bookid to place oreder : \")\n",
    "    \n",
    "    boadd=input(\"Enter Your add:\")\n",
    "    c.execute(\"create table ord (bbid text,bboadd text)\")\n",
    "    pdb.commit()\n",
    "    c.execute(\"insert into ord values(?,?)\",(bbid,bboadd))\n",
    "    pdb.commit()\n",
    "    \n",
    "    print(\"BOOK Reg success>>\")\n",
    "    c.execute(\"select * from order\")\n",
    "    res=c.fetchall()\n",
    "    for r in res:\n",
    "        print(r)\n"
   ]
  },
  {
   "cell_type": "code",
   "execution_count": 5,
   "metadata": {},
   "outputs": [
    {
     "name": "stdout",
     "output_type": "stream",
     "text": [
      "deleted..\n"
     ]
    }
   ],
   "source": [
    "c.execute(\"drop table nuser\")\n",
    "pdb.commit()\n",
    "print(\"deleted..\")"
   ]
  },
  {
   "cell_type": "code",
   "execution_count": null,
   "metadata": {},
   "outputs": [],
   "source": []
  },
  {
   "cell_type": "code",
   "execution_count": null,
   "metadata": {},
   "outputs": [],
   "source": []
  }
 ],
 "metadata": {
  "kernelspec": {
   "display_name": "Python 3",
   "language": "python",
   "name": "python3"
  },
  "language_info": {
   "codemirror_mode": {
    "name": "ipython",
    "version": 3
   },
   "file_extension": ".py",
   "mimetype": "text/x-python",
   "name": "python",
   "nbconvert_exporter": "python",
   "pygments_lexer": "ipython3",
   "version": "3.7.1"
  }
 },
 "nbformat": 4,
 "nbformat_minor": 2
}
