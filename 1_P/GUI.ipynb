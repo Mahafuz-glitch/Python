{
 "cells": [
  {
   "cell_type": "code",
   "execution_count": null,
   "metadata": {},
   "outputs": [],
   "source": [
    "from tkinter import *\n",
    "def hello():\n",
    "    print(\"Hello World\")\n",
    "root=Tk()\n",
    "root.title(\"First GUI\")\n",
    "root.configure(bg=\"Green\")\n",
    "l=Label(root,text=\"Hello World\",fg=\"Red\",bg=\"powder blue\")\n",
    "l.pack()\n",
    "btn=Button(root,text=\"click\",command=hello)\n",
    "btn.pack()\n",
    "bt1=Button(root,text=\"Exit\",command=root.destroy)\n",
    "bt1.pack()\n",
    "root.mainloop()"
   ]
  },
  {
   "cell_type": "code",
   "execution_count": null,
   "metadata": {},
   "outputs": [],
   "source": [
    "from tkinter import *\n",
    "counter=0\n",
    "def counter_lable(lbl):\n",
    "    def count():\n",
    "        global counter\n",
    "        counter+=1\n",
    "        lbl.config(text=str(counter))\n",
    "        lbl.after(1000,count)\n",
    "    count()\n",
    "master=Tk()\n",
    "master.title(\"counter\")\n",
    "lbl=Label(master,fg=\"green\")\n",
    "lbl.pack()\n",
    "counter_lable(lbl)\n",
    "btn=Button(master,text=\"stop\",command=master.destroy,width=30)\n",
    "btn.pack()\n",
    "master.mainloop()"
   ]
  },
  {
   "cell_type": "code",
   "execution_count": null,
   "metadata": {},
   "outputs": [],
   "source": [
    "from tkinter import *\n",
    "def sayHello():\n",
    "    fn=e1.get()\n",
    "    ln=e2.get()\n",
    "    print(\"Hello\",fn,ln)\n",
    "\n",
    "master=Tk()\n",
    "fname=Label(master,text=\"First Name :\")\n",
    "fname.grid(row=0,column=0)\n",
    "e1=Entry(master)\n",
    "e1.grid(row=0,column=3)\n",
    "lname=Label(master,text=\"Last Name:\")\n",
    "lname.grid(row=4,column=0)\n",
    "e2=Entry(master)\n",
    "e2.grid(row=4,column=3)\n",
    "btn=Button (master,text=\"Ok\",width=\"15\",command=sayHello)\n",
    "btn.grid(row=7,column=3)\n",
    "master.mainloop()"
   ]
  },
  {
   "cell_type": "code",
   "execution_count": null,
   "metadata": {},
   "outputs": [],
   "source": [
    "from tkinter import *\n",
    "def cal():\n",
    "    fn=int(e1.get())\n",
    "    ln=int(e2.get())\n",
    "    lbl=Label(master,text=(fn+ln)).grid(row=11,column=3)\n",
    "def cal1():\n",
    "    fn=int(e1.get())\n",
    "    ln=int(e2.get())\n",
    "    lbl=Label(master,text=(fn-ln)).grid(row=13,column=3)\n",
    "def cal2():\n",
    "    fn=int(e1.get())\n",
    "    ln=int(e2.get())\n",
    "    lbl=Label(master,text=(fn*ln)).grid(row=15,column=3)\n",
    "def cal3():\n",
    "    fn=int(e1.get())\n",
    "    ln=int(e2.get())\n",
    "    lbl=Label(master,text=(fn/ln)).grid(row=17,column=3)\n",
    "master=Tk()\n",
    "fname=Label(master,text=\"First Num :\")\n",
    "fname.grid(row=0,column=0)\n",
    "e1=Entry(master)\n",
    "e1.grid(row=0,column=3)\n",
    "lname=Label(master,text=\"Last Num:\")\n",
    "lname.grid(row=4,column=0)\n",
    "e2=Entry(master)\n",
    "e2.grid(row=4,column=3)\n",
    "btn=Button (master,text=\"sum\",width=\"15\",command=cal)\n",
    "btn.grid(row=7,column=3)\n",
    "btn=Button (master,text=\"min\",width=\"15\",command=cal1)\n",
    "btn.grid(row=8,column=3)\n",
    "btn=Button (master,text=\"mul\",width=\"15\",command=cal2)\n",
    "btn.grid(row=9,column=3)\n",
    "btn=Button (master,text=\"div\",width=\"15\",command=cal3)\n",
    "btn.grid(row=10,column=3)\n",
    "master.mainloop()"
   ]
  },
  {
   "cell_type": "code",
   "execution_count": null,
   "metadata": {},
   "outputs": [],
   "source": [
    "from tkinter import *\n",
    "def Table():\n",
    "    print(\"\\n\")\n",
    "    for x in range(1,11):\n",
    "        m=int(EnterTable.get())\n",
    "        print('\\t\\t',(x),'X',(m),'=',(x*m),)\n",
    "multi=Tk()\n",
    "multi.title(\"Multiplication window\")\n",
    "multi.geometry('200x200+600+150')\n",
    "EnterTable=StringVar()\n",
    "labell=Label(multi,text='Multiplication Table',font=30,fg='Black').grid(row=1,column=6)\n",
    "txtTable=Entry(multi,textvariable=EnterTable,justify='center').grid(row=3,column=6)\n",
    "button1=Button(multi,text=\"Show\",command=Table).grid(row=5,column=6)\n",
    "QUIT=Button(multi,text=\"Quit\",fg='Red',command=multi.destroy).grid(row=5,column=7)\n",
    "multi.mainloop()"
   ]
  },
  {
   "cell_type": "code",
   "execution_count": null,
   "metadata": {},
   "outputs": [],
   "source": [
    "from tkinter import *\n",
    "def TimeTable():\n",
    "    for x in range(1,11):\n",
    "        m=int(EnterTable.get())\n",
    "        txtDisplay.insert(END,(x),'\\t','x','\\t',(m),'\\t','=','\\t',(x*m))\n",
    "        txtDisplay.insert(END,'\\n\\n')\n",
    "multi=Tk()\n",
    "multi.title(\"multiplication Table\")\n",
    "#multi.geometry('200x200+600+150')\n",
    "multi.resizable(0,0)\n",
    "text_input=StringVar()\n",
    "label=Label(multi,text=\"Multiplication Table\",font=('Italic',20,'bold'),\n",
    "            fg='Powder blue').grid(row=0,column=0)\n",
    "txtInput=Entry(multi,bd=30,textvariable=text_input,font=('Italic',20,'bold'),\n",
    "                insertwidth=4,bg=\"powder blue\",justify=\"center\").grid(row=1,column=0)\n",
    "txtDisplay=Text(multi,width=15,height=9,bg='powder blue',bd=16,font=('Italic',20,'bold'))\n",
    "txtDisplay.grid(row=2,column=0)\n",
    "btnTable=Button(multi,padx=16,pady=16,bd=8,fg='black',font=('Italic',20,'bold'),text='Multiplication',bg='blue',command=TimeTable\n",
    "               ).grid(row=3,column=0)\n",
    "\n",
    "multi.mainloop()"
   ]
  },
  {
   "cell_type": "code",
   "execution_count": null,
   "metadata": {},
   "outputs": [],
   "source": [
    "from tkinter import *\n",
    "root=Tk()\n",
    "l1=Label(root,text='select programming language',justify=LEFT).pack()"
   ]
  },
  {
   "cell_type": "code",
   "execution_count": null,
   "metadata": {},
   "outputs": [],
   "source": [
    "from tkinter import *\n",
    "root=Tk()\n",
    "v=IntVar()\n",
    "v.set(1)\n",
    "def ShowChoice():\n",
    "    print(v.get())\n",
    "\n",
    "\n",
    "languages=[\n",
    "           (\"python\",1),\n",
    "            (\"Perl\",2),\n",
    "            (\"Java\",3),\n",
    "            (\"C++\",4),\n",
    "            (\"c\",5)\n",
    "]\n",
    "#def ShowChoice:\n",
    " #   print(v.get())\n",
    "Label(root,text='select language:',justify=LEFT,padx=20).pack()\n",
    "for val,language in enumerate(languages):\n",
    "    Radiobutton(root,\n",
    "                text=language,\n",
    "                indicator=0,\n",
    "                padx=20,variable=v,\n",
    "                command=ShowChoice,value=val).pack(anchor=W)\n",
    "root.mainloop()"
   ]
  },
  {
   "cell_type": "code",
   "execution_count": 12,
   "metadata": {},
   "outputs": [
    {
     "name": "stdout",
     "output_type": "stream",
     "text": [
      "None is sel\n"
     ]
    }
   ],
   "source": [
    "from tkinter import *\n",
    "master=Tk()\n",
    "def Table():\n",
    "    m=var1.get()\n",
    "    n=var2.get()\n",
    "    if (m==1 and n==1):\n",
    "        print(\"Both Selected\")\n",
    "    if (m==1 and n==0):\n",
    "        print(\"paint is selected\")\n",
    "    if (m==0 and n==1):\n",
    "        print(\"Music is sel\")\n",
    "    if(m==0 and n==0):\n",
    "        print(\"None is sel\")\n",
    "var1=IntVar()\n",
    "Checkbutton(master,text='paint',variable=var1).grid(row=0,sticky=W)\n",
    "var2=IntVar()\n",
    "Checkbutton(master,text='music',variable=var2).grid(row=1,sticky=W)\n",
    "btn=Button(master,text=\"OK\",command=Table).grid(row=2,sticky=W)\n",
    "mainloop()"
   ]
  },
  {
   "cell_type": "code",
   "execution_count": 19,
   "metadata": {},
   "outputs": [],
   "source": [
    "from tkinter import *\n",
    "from math import *\n",
    "def evaluate(event):\n",
    "    res.configure(text=\"Result:\"+str(eval(e.get())))\n",
    "\n",
    "w=Tk()\n",
    "Label(w,text='Expression').pack()\n",
    "e=Entry(w)\n",
    "e.bind(\"<Return>\", evaluate)\n",
    "e.pack()\n",
    "res=Label(w)\n",
    "res.pack()\n",
    "w.mainloop()"
   ]
  },
  {
   "cell_type": "code",
   "execution_count": null,
   "metadata": {},
   "outputs": [],
   "source": []
  },
  {
   "cell_type": "code",
   "execution_count": null,
   "metadata": {},
   "outputs": [],
   "source": []
  }
 ],
 "metadata": {
  "kernelspec": {
   "display_name": "Python 3",
   "language": "python",
   "name": "python3"
  },
  "language_info": {
   "codemirror_mode": {
    "name": "ipython",
    "version": 3
   },
   "file_extension": ".py",
   "mimetype": "text/x-python",
   "name": "python",
   "nbconvert_exporter": "python",
   "pygments_lexer": "ipython3",
   "version": "3.7.1"
  }
 },
 "nbformat": 4,
 "nbformat_minor": 2
}
