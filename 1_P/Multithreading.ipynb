{
 "cells": [
  {
   "cell_type": "code",
   "execution_count": 1,
   "metadata": {},
   "outputs": [
    {
     "name": "stdout",
     "output_type": "stream",
     "text": [
      "Error: unable to start thread\n",
      "Thread-1:Wed Mar 24 21:13:42 2021\n",
      "Thread-1:Wed Mar 24 21:13:44 2021\n",
      "Thread-1:Wed Mar 24 21:13:46 2021\n",
      "Thread-1:Wed Mar 24 21:13:48 2021\n",
      "Thread-1:Wed Mar 24 21:13:50 2021\n"
     ]
    },
    {
     "ename": "KeyboardInterrupt",
     "evalue": "",
     "output_type": "error",
     "traceback": [
      "\u001b[0;31m---------------------------------------------------------------------------\u001b[0m",
      "\u001b[0;31mKeyboardInterrupt\u001b[0m                         Traceback (most recent call last)",
      "\u001b[0;32m<ipython-input-1-21c7c5f56e3b>\u001b[0m in \u001b[0;36m<module>\u001b[0;34m\u001b[0m\n\u001b[1;32m     13\u001b[0m     \u001b[0mprint\u001b[0m\u001b[0;34m(\u001b[0m\u001b[0;34m\"Error: unable to start thread\"\u001b[0m\u001b[0;34m)\u001b[0m\u001b[0;34m\u001b[0m\u001b[0;34m\u001b[0m\u001b[0m\n\u001b[1;32m     14\u001b[0m \u001b[0;32mwhile\u001b[0m \u001b[0;36m1\u001b[0m\u001b[0;34m:\u001b[0m\u001b[0;34m\u001b[0m\u001b[0;34m\u001b[0m\u001b[0m\n\u001b[0;32m---> 15\u001b[0;31m     \u001b[0;32mpass\u001b[0m\u001b[0;34m\u001b[0m\u001b[0;34m\u001b[0m\u001b[0m\n\u001b[0m",
      "\u001b[0;31mKeyboardInterrupt\u001b[0m: "
     ]
    }
   ],
   "source": [
    "import _thread\n",
    "import time\n",
    "def print_time(threadName,delay):\n",
    "    count=0\n",
    "    while count<5:\n",
    "        time.sleep(delay)\n",
    "        count+=1\n",
    "        print(\"%s:%s\"%( threadName, time.ctime(time.time()) ))\n",
    "try :\n",
    "    _thread.start_new_thread(print_time,(\"Thread-1\",2,))\n",
    "    _thread.start_new_thread(print_time,(\"Thread-2,4,\"))\n",
    "except:\n",
    "    print(\"Error: unable to start thread\")\n",
    "while 1:\n",
    "    pass"
   ]
  },
  {
   "cell_type": "code",
   "execution_count": 4,
   "metadata": {},
   "outputs": [
    {
     "name": "stdout",
     "output_type": "stream",
     "text": [
      "Starting Thread-1\n",
      "Starting Thread-2\n",
      "Thread-1:Tue Aug  6 14:10:19 2019\n",
      "Thread-1:Tue Aug  6 14:10:20 2019\n",
      "Thread-2:Tue Aug  6 14:10:20 2019\n",
      "Thread-1:Tue Aug  6 14:10:21 2019\n",
      "Thread-2:Tue Aug  6 14:10:22 2019Thread-1:Tue Aug  6 14:10:22 2019\n",
      "\n",
      "Thread-1:Tue Aug  6 14:10:23 2019\n",
      "Exiting Thread-1\n",
      "Thread-2:Tue Aug  6 14:10:24 2019\n",
      "Thread-2:Tue Aug  6 14:10:26 2019\n",
      "Thread-2:Tue Aug  6 14:10:28 2019\n",
      "Exiting Thread-2\n",
      "Exiting main thread\n"
     ]
    }
   ],
   "source": [
    "import threading\n",
    "import time\n",
    "\n",
    "exitFlag=0\n",
    "\n",
    "class myThread(threading.Thread):\n",
    "    def __init__(self,threadID,name,counter):\n",
    "        threading.Thread.__init__(self)\n",
    "        self.threadIDthr=threadID\n",
    "        self.name=name\n",
    "        self.counter=counter\n",
    "    def run(self):\n",
    "        print(\"Starting \"+self.name)\n",
    "        print_time(self.name,self.counter,5)\n",
    "        print(\"Exiting \"+self.name)\n",
    "def print_time(threadName,delay,counter):\n",
    "    while counter:\n",
    "        if exitFlag:\n",
    "            threadName.exit()\n",
    "        time.sleep(delay)\n",
    "        print(\"%s:%s\"%(threadName,time.ctime(time.time())))\n",
    "        counter-=1\n",
    "thread1=myThread(1,\"Thread-1\",1)\n",
    "thread2=myThread(2,\"Thread-2\",2)\n",
    "thread1.start()\n",
    "thread2.start()\n",
    "thread1.join()\n",
    "thread2.join()\n",
    "print(\"Exiting main thread\")\n",
    "            "
   ]
  },
  {
   "cell_type": "code",
   "execution_count": null,
   "metadata": {},
   "outputs": [],
   "source": [
    "import threading\n",
    "import time\n",
    "\n",
    "exitFlag=0\n",
    "\n",
    "class myThread(threading.Thread):\n",
    "    a=list(input(\"Enter The line:\"))\n",
    "    def __init__(self,threadID,name,counter):\n",
    "        threading.Thread.__init__(self)\n",
    "        self.threadIDthr=threadID\n",
    "        self.name=name\n",
    "        self.counter=counter\n",
    "    def run(self):\n",
    "        print(\"Starting \"+self.name)\n",
    "        print_time(self.name,self.counter,5)\n",
    "        print(\"Exiting \"+self.name)\n",
    "def print_time(threadName,delay,counter):\n",
    "    while counter:\n",
    "        if exitFlag:\n",
    "            threadName.exit()\n",
    "        time.sleep(delay)\n",
    "        print(\"%s:%s\"%(threadName,time.ctime(time.time())))\n",
    "        counter-=1\n",
    "thread1=myThread(1,\"Thread-1\",1)\n",
    "thread2=myThread(2,\"Thread-2\",2)\n",
    "thread1.start()\n",
    "thread2.start()\n",
    "thread1.join()\n",
    "thread2.join()\n",
    "print(\"Exiting main thread\")\n",
    "            "
   ]
  }
 ],
 "metadata": {
  "kernelspec": {
   "display_name": "Python 3",
   "language": "python",
   "name": "python3"
  },
  "language_info": {
   "codemirror_mode": {
    "name": "ipython",
    "version": 3
   },
   "file_extension": ".py",
   "mimetype": "text/x-python",
   "name": "python",
   "nbconvert_exporter": "python",
   "pygments_lexer": "ipython3",
   "version": "3.8.5"
  }
 },
 "nbformat": 4,
 "nbformat_minor": 2
}
