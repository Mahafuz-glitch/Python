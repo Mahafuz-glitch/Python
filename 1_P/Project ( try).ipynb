{
 "cells": [
  {
   "cell_type": "code",
   "execution_count": 2,
   "metadata": {},
   "outputs": [],
   "source": [
    "import sqlite3 \n"
   ]
  },
  {
   "cell_type": "code",
   "execution_count": 33,
   "metadata": {},
   "outputs": [
    {
     "ename": "OperationalError",
     "evalue": "table course already exists",
     "output_type": "error",
     "traceback": [
      "\u001b[1;31m---------------------------------------------------------------------------\u001b[0m",
      "\u001b[1;31mOperationalError\u001b[0m                          Traceback (most recent call last)",
      "\u001b[1;32m<ipython-input-33-86b323a34464>\u001b[0m in \u001b[0;36m<module>\u001b[1;34m\u001b[0m\n\u001b[0;32m      1\u001b[0m \u001b[0mmdb\u001b[0m\u001b[1;33m=\u001b[0m\u001b[0msqlite3\u001b[0m\u001b[1;33m.\u001b[0m\u001b[0mconnect\u001b[0m\u001b[1;33m(\u001b[0m\u001b[1;34m\"mdb2.mdb\"\u001b[0m\u001b[1;33m)\u001b[0m\u001b[1;33m\u001b[0m\u001b[1;33m\u001b[0m\u001b[0m\n\u001b[0;32m      2\u001b[0m \u001b[0mc\u001b[0m\u001b[1;33m=\u001b[0m\u001b[0mmdb\u001b[0m\u001b[1;33m.\u001b[0m\u001b[0mcursor\u001b[0m\u001b[1;33m(\u001b[0m\u001b[1;33m)\u001b[0m\u001b[1;33m\u001b[0m\u001b[1;33m\u001b[0m\u001b[0m\n\u001b[1;32m----> 3\u001b[1;33m \u001b[0mc\u001b[0m\u001b[1;33m.\u001b[0m\u001b[0mexecute\u001b[0m\u001b[1;33m(\u001b[0m\u001b[1;34m\"create table course(cid text,cname text,cdur text,cfees text)\"\u001b[0m\u001b[1;33m)\u001b[0m\u001b[1;33m\u001b[0m\u001b[1;33m\u001b[0m\u001b[0m\n\u001b[0m\u001b[0;32m      4\u001b[0m \u001b[0mmdb\u001b[0m\u001b[1;33m.\u001b[0m\u001b[0mcommit\u001b[0m\u001b[1;33m(\u001b[0m\u001b[1;33m)\u001b[0m\u001b[1;33m\u001b[0m\u001b[1;33m\u001b[0m\u001b[0m\n\u001b[0;32m      5\u001b[0m list =[('c001', 'python', '9weeks','10k'),\n",
      "\u001b[1;31mOperationalError\u001b[0m: table course already exists"
     ]
    }
   ],
   "source": [
    "mdb=sqlite3.connect(\"mdb2.mdb\")\n",
    "c=mdb.cursor()\n",
    "c.execute(\"create table course(cid text,cname text,cdur text,cfees text)\")\n",
    "mdb.commit()\n",
    "list =[('c001', 'python', '9weeks','10k'),\n",
    "        ('c002', 'java', '8weeks','12k'),\n",
    "        ('c003','php','7weeks','8k')\n",
    "      ]\n",
    "c.executemany('insert into course values(?,?,?,?)',list)\n",
    "mdb.commit()\n",
    "print (\"For login press 0 :\")\n",
    "print (\"For Reg Student press 1 :\")\n",
    "x=int (input (\"Enter the value:\"))\n",
    "if x==0:\n",
    "    c.execute(\"create table student(sid text,sname text,sadd text,spass text)\")\n",
    "    mdb.commit()\n",
    "    sid=input(\"Enter Id:\")\n",
    "    sname=input(\"Enter name :\")\n",
    "    sadd=input(\"Enter add :\")\n",
    "    spass=input(\"Enter last pssing year :\")\n",
    "    c.execute(\"insert into student values(?,?,?,?)\",(sid,sname,sadd,spass))\n",
    "    mdb.commit()\n",
    "    print(\"ReG success full>>\")\n",
    "    print (\"course available.......\")\n",
    "    c.execute(\"select * from course\")\n",
    "    res=c.fetchall()\n",
    "    for r in res:\n",
    "        print(r)\n",
    "    sreg=input(\"Enter course id : \")\n",
    "    c.execute(\"create table stuReg(sid text,serg text)\")\n",
    "    mdb.commit()\n",
    "    c.execute(\"insert into stuReg values(?,?)\",(sid,sreg))\n",
    "    mdb.commit()\n",
    "    print(\"course Reg success>>\")\n",
    "    c.execute(\"select * from stuReg\")\n",
    "    res=c.fetchall()\n",
    "    for r in res:\n",
    "        print(r)\n",
    "if x==1:\n",
    "    sid=input('Enter your id :')\n",
    "    c.execute(\"select * from stuReg where sid =?\",(sid,))\n",
    "    res=c.fetchall()\n",
    "    if (res):\n",
    "        for r in res:\n",
    "            print(r)\n",
    "    else :\n",
    "        print ('Record not found')\n",
    "if x==2:\n",
    "    adminid='a001'\n",
    "    password='p0000'\n",
    "    adminid=input(\"enter admin id\")\n",
    "    password=input(\"enter password\")\n",
    "    if(adminid=='a001' and password=='p0000'):\n",
    "        cid=input(\"enter course id\")\n",
    "        cname=input(\"enter course name\")\n",
    "        cdura=input(\"enter duration\")\n",
    "        cfees=input(\"enter fees of the course\")\n",
    "        c.execute(\"insert into courses values(?,?,?,?)\",(cid,cname,cdura,cfees))\n",
    "        mdb.commit()\n",
    "        c.execute(\"select * from courses\")\n",
    "        res=c.fetchall()\n",
    "        for r in res:\n",
    "            print (r)\n",
    "        c.execute(\"select * from students\")\n",
    "        res=c.fetchall()\n",
    "        for r in res:\n",
    "            print (r)\n",
    "        c.execute(\"select * from status\")\n",
    "        res=c.fetchall()\n",
    "        for r in res:\n",
    "            print (r)  \n",
    "    else:\n",
    "        print(\"admin id or password did not matched\")    "
   ]
  },
  {
   "cell_type": "code",
   "execution_count": 1,
   "metadata": {},
   "outputs": [
    {
     "ename": "NameError",
     "evalue": "name 'c' is not defined",
     "output_type": "error",
     "traceback": [
      "\u001b[1;31m---------------------------------------------------------------------------\u001b[0m",
      "\u001b[1;31mNameError\u001b[0m                                 Traceback (most recent call last)",
      "\u001b[1;32m<ipython-input-1-7a3c80c7877e>\u001b[0m in \u001b[0;36m<module>\u001b[1;34m\u001b[0m\n\u001b[1;32m----> 1\u001b[1;33m \u001b[0mc\u001b[0m\u001b[1;33m.\u001b[0m\u001b[0mexecute\u001b[0m\u001b[1;33m(\u001b[0m\u001b[1;34m\"drop table stuReg\"\u001b[0m\u001b[1;33m)\u001b[0m\u001b[1;33m\u001b[0m\u001b[1;33m\u001b[0m\u001b[0m\n\u001b[0m\u001b[0;32m      2\u001b[0m \u001b[0mmdb\u001b[0m\u001b[1;33m.\u001b[0m\u001b[0mcommit\u001b[0m\u001b[1;33m(\u001b[0m\u001b[1;33m)\u001b[0m\u001b[1;33m\u001b[0m\u001b[1;33m\u001b[0m\u001b[0m\n\u001b[0;32m      3\u001b[0m \u001b[0mprint\u001b[0m\u001b[1;33m(\u001b[0m\u001b[1;34m\"deleted..\"\u001b[0m\u001b[1;33m)\u001b[0m\u001b[1;33m\u001b[0m\u001b[1;33m\u001b[0m\u001b[0m\n",
      "\u001b[1;31mNameError\u001b[0m: name 'c' is not defined"
     ]
    }
   ],
   "source": [
    "c.execute(\"drop table stuReg\")\n",
    "mdb.commit()\n",
    "print(\"deleted..\")"
   ]
  },
  {
   "cell_type": "code",
   "execution_count": null,
   "metadata": {},
   "outputs": [],
   "source": []
  },
  {
   "cell_type": "code",
   "execution_count": null,
   "metadata": {},
   "outputs": [],
   "source": []
  }
 ],
 "metadata": {
  "kernelspec": {
   "display_name": "Python 3",
   "language": "python",
   "name": "python3"
  },
  "language_info": {
   "codemirror_mode": {
    "name": "ipython",
    "version": 3
   },
   "file_extension": ".py",
   "mimetype": "text/x-python",
   "name": "python",
   "nbconvert_exporter": "python",
   "pygments_lexer": "ipython3",
   "version": "3.7.1"
  }
 },
 "nbformat": 4,
 "nbformat_minor": 2
}
