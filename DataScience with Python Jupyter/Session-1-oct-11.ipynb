{
 "cells": [
  {
   "cell_type": "code",
   "execution_count": null,
   "id": "a6ec33dd",
   "metadata": {},
   "outputs": [],
   "source": [
    "15 days:\n",
    "  \n",
    "\n",
    "1 python :\n",
    "\n",
    "\n",
    "   csv,excel,txt,web,db\n",
    "   \n",
    "2 Data Analysis\n",
    "   1 numpy : \n",
    "   2 Pandas :\n",
    "   3 Matplotlib : \n",
    "   4 seaborn :\n",
    "   5 EDA : \n",
    "       1 Handling missing data\n",
    "       2 FS :\n",
    "       3 Encoding \n",
    "       4 Project\n",
    "\n",
    "3 ML ,NLP\n",
    "   sklean : ML\n",
    "   NLP\n",
    "   statistics\n",
    "   project\n",
    "\n",
    "2 project\n",
    "intrview QA\n",
    "\n",
    "\n",
    "\n",
    "line1 read csv \n",
    "line2 read age column\n",
    "line3 find mean of age\n",
    "\n",
    "\n",
    "8pm IST to 11PM IST\n",
    "\n",
    "break 9:30 : 20 min\n",
    "   \n",
    "befor break 5 min QA\n",
    "\n",
    "befor ending of session \n",
    "10 min QA\n",
    "        \n",
    "        "
   ]
  },
  {
   "cell_type": "code",
   "execution_count": 1,
   "id": "98808c3d",
   "metadata": {},
   "outputs": [
    {
     "data": {
      "text/plain": [
       "'Welcome to DS Class.'"
      ]
     },
     "execution_count": 1,
     "metadata": {},
     "output_type": "execute_result"
    }
   ],
   "source": [
    "#python : \n",
    "#1989 : guido van : 1991\n",
    "#1.x : 1994\n",
    "#2.x : 2000 : 2.7 (EOL) : print \"Hello\"\n",
    "#3.x : 2008 : 3.9 :3.10 : print(\"Hello\") =>2to3\n",
    "#===========================================\n",
    "\n",
    "#1 simple\n",
    "#data=open(\"/Users/admin/Documents/abc.txt\").read()\n",
    "\n",
    "#2 open source :\n",
    "#3 pltform inde :\n",
    "\n",
    "#4 Dynamic:\n",
    "\n",
    "\n",
    "static: c,c++\n",
    "    \n",
    "    int id=101\n",
    "    id=234\n",
    "\n",
    "\n",
    "dynamic :\n",
    "    x=45\n",
    "    x=\"Amit\"\n",
    "\n",
    "\n",
    "\n",
    "\n",
    "\n",
    "\n",
    "data:\n",
    "    \n",
    "data types :\n",
    "\n",
    "id=101\n",
    "age=34.5\n",
    "city=\"Delhi\"\n",
    "name=\"Amit\"\n",
    "\n",
    "\n",
    "\n",
    "        "
   ]
  },
  {
   "cell_type": "code",
   "execution_count": 2,
   "id": "89ac37ba",
   "metadata": {},
   "outputs": [],
   "source": [
    "x=45"
   ]
  },
  {
   "cell_type": "code",
   "execution_count": 3,
   "id": "a046bbd4",
   "metadata": {},
   "outputs": [
    {
     "data": {
      "text/plain": [
       "int"
      ]
     },
     "execution_count": 3,
     "metadata": {},
     "output_type": "execute_result"
    }
   ],
   "source": [
    "type(x)"
   ]
  },
  {
   "cell_type": "code",
   "execution_count": 4,
   "id": "60e9abfd",
   "metadata": {},
   "outputs": [],
   "source": [
    "x=\"Amit\""
   ]
  },
  {
   "cell_type": "code",
   "execution_count": 5,
   "id": "e3bd6d99",
   "metadata": {},
   "outputs": [
    {
     "data": {
      "text/plain": [
       "str"
      ]
     },
     "execution_count": 5,
     "metadata": {},
     "output_type": "execute_result"
    }
   ],
   "source": [
    "type(x)"
   ]
  },
  {
   "cell_type": "code",
   "execution_count": 6,
   "id": "24fe8bf7",
   "metadata": {},
   "outputs": [
    {
     "ename": "SyntaxError",
     "evalue": "invalid syntax (<ipython-input-6-4e1906ada42d>, line 1)",
     "output_type": "error",
     "traceback": [
      "\u001b[0;36m  File \u001b[0;32m\"<ipython-input-6-4e1906ada42d>\"\u001b[0;36m, line \u001b[0;32m1\u001b[0m\n\u001b[0;31m    int x=45\u001b[0m\n\u001b[0m        ^\u001b[0m\n\u001b[0;31mSyntaxError\u001b[0m\u001b[0;31m:\u001b[0m invalid syntax\n"
     ]
    }
   ],
   "source": [
    "int x=45"
   ]
  },
  {
   "cell_type": "code",
   "execution_count": null,
   "id": "398e5d12",
   "metadata": {},
   "outputs": [],
   "source": [
    "#x=34\n",
    "#def add():\n",
    "#    pass\n",
    "\n",
    "\n",
    "# [a-zA-Z0-9] [ _ ]\n",
    "# char , [ _ ]\n",
    "# space\n",
    "# keywords. : \n"
   ]
  },
  {
   "cell_type": "code",
   "execution_count": 15,
   "id": "3887f1cf",
   "metadata": {},
   "outputs": [
    {
     "ename": "SyntaxError",
     "evalue": "invalid syntax (<ipython-input-15-df8f4378882f>, line 7)",
     "output_type": "error",
     "traceback": [
      "\u001b[0;36m  File \u001b[0;32m\"<ipython-input-15-df8f4378882f>\"\u001b[0;36m, line \u001b[0;32m7\u001b[0m\n\u001b[0;31m    if=45\u001b[0m\n\u001b[0m      ^\u001b[0m\n\u001b[0;31mSyntaxError\u001b[0m\u001b[0;31m:\u001b[0m invalid syntax\n"
     ]
    }
   ],
   "source": [
    "#xy$556=789                 #sift + enter\n",
    "#var1=23\n",
    "#_x=34\n",
    "#1var=56\n",
    "#student_name=\"Amit\"\n",
    "#if=45"
   ]
  },
  {
   "cell_type": "code",
   "execution_count": 16,
   "id": "337848cc",
   "metadata": {},
   "outputs": [
    {
     "name": "stdout",
     "output_type": "stream",
     "text": [
      "hello\n"
     ]
    }
   ],
   "source": [
    "print(\"hello\")"
   ]
  },
  {
   "cell_type": "code",
   "execution_count": 18,
   "id": "4fbd1e69",
   "metadata": {},
   "outputs": [],
   "source": [
    "#data types :\n",
    "\n",
    "#int,float,bool   str , complex\n",
    "\n",
    "int : base10 [0-9] => x=4563456\n",
    "float : 12.5575 \n",
    "bool : \n",
    "     True => 1\n",
    "     False => 0\n",
    "str:\n",
    "\n",
    "    ' ' : char,word\n",
    "    \" \" : line\n",
    "        \n",
    "    ''' ''' : M. Line\n",
    "\n",
    "complex :\n",
    "    <real>+<imag>j"
   ]
  },
  {
   "cell_type": "code",
   "execution_count": 51,
   "id": "db2fa8b5",
   "metadata": {},
   "outputs": [],
   "source": [
    "x=\"can't do that\""
   ]
  },
  {
   "cell_type": "code",
   "execution_count": 57,
   "id": "c60241fc",
   "metadata": {},
   "outputs": [],
   "source": [
    "st='''line1\n",
    "line2\n",
    "line3\n",
    "line4\n",
    "line5'''"
   ]
  },
  {
   "cell_type": "code",
   "execution_count": 56,
   "id": "515c8b9b",
   "metadata": {},
   "outputs": [
    {
     "name": "stdout",
     "output_type": "stream",
     "text": [
      "line1\n",
      "line2\n",
      "line3\n"
     ]
    }
   ],
   "source": [
    "print(st)"
   ]
  },
  {
   "cell_type": "code",
   "execution_count": 59,
   "id": "e4e0d4a6",
   "metadata": {},
   "outputs": [
    {
     "data": {
      "text/plain": [
       "complex"
      ]
     },
     "execution_count": 59,
     "metadata": {},
     "output_type": "execute_result"
    }
   ],
   "source": [
    "x=4+6j\n",
    "\n",
    "type(x)"
   ]
  },
  {
   "cell_type": "code",
   "execution_count": 63,
   "id": "665cb5ba",
   "metadata": {},
   "outputs": [],
   "source": [
    "x=\"192.168.0.1\"\n",
    "user=\"amit@123\""
   ]
  },
  {
   "cell_type": "code",
   "execution_count": null,
   "id": "b7a9efdb",
   "metadata": {},
   "outputs": [],
   "source": [
    "# int, float , bool , str , complex : immutable"
   ]
  },
  {
   "cell_type": "code",
   "execution_count": 66,
   "id": "38fcbcea",
   "metadata": {},
   "outputs": [],
   "source": [
    "x=23\n",
    "y=23"
   ]
  },
  {
   "cell_type": "code",
   "execution_count": 67,
   "id": "f8215447",
   "metadata": {},
   "outputs": [
    {
     "data": {
      "text/plain": [
       "4490320928"
      ]
     },
     "execution_count": 67,
     "metadata": {},
     "output_type": "execute_result"
    }
   ],
   "source": [
    "id(x)"
   ]
  },
  {
   "cell_type": "code",
   "execution_count": 68,
   "id": "200e38fd",
   "metadata": {},
   "outputs": [
    {
     "data": {
      "text/plain": [
       "4490320928"
      ]
     },
     "execution_count": 68,
     "metadata": {},
     "output_type": "execute_result"
    }
   ],
   "source": [
    "id(y)"
   ]
  },
  {
   "cell_type": "code",
   "execution_count": 69,
   "id": "8bacc258",
   "metadata": {},
   "outputs": [],
   "source": [
    "x=x+2"
   ]
  },
  {
   "cell_type": "code",
   "execution_count": 70,
   "id": "460934af",
   "metadata": {},
   "outputs": [
    {
     "data": {
      "text/plain": [
       "23"
      ]
     },
     "execution_count": 70,
     "metadata": {},
     "output_type": "execute_result"
    }
   ],
   "source": [
    "y"
   ]
  },
  {
   "cell_type": "code",
   "execution_count": 71,
   "id": "79bffa22",
   "metadata": {},
   "outputs": [
    {
     "data": {
      "text/plain": [
       "4490320928"
      ]
     },
     "execution_count": 71,
     "metadata": {},
     "output_type": "execute_result"
    }
   ],
   "source": [
    "id(y)"
   ]
  },
  {
   "cell_type": "code",
   "execution_count": 72,
   "id": "c43cd0d6",
   "metadata": {},
   "outputs": [
    {
     "data": {
      "text/plain": [
       "25"
      ]
     },
     "execution_count": 72,
     "metadata": {},
     "output_type": "execute_result"
    }
   ],
   "source": [
    "x"
   ]
  },
  {
   "cell_type": "code",
   "execution_count": 73,
   "id": "938e724f",
   "metadata": {},
   "outputs": [
    {
     "data": {
      "text/plain": [
       "4490320992"
      ]
     },
     "execution_count": 73,
     "metadata": {},
     "output_type": "execute_result"
    }
   ],
   "source": [
    "id(x)"
   ]
  },
  {
   "cell_type": "code",
   "execution_count": null,
   "id": "b61a13db",
   "metadata": {},
   "outputs": [],
   "source": [
    "#Operators :\n",
    "\n",
    "1 :  + , - , * , / , % , // , **\n",
    "2 :  == ,!= , > , < ,>=,<=\n",
    "\n",
    "    \n",
    "#tomorrow\n",
    "2 types :\n",
    "input\n",
    "print\n",
    "type casting\n",
    "if else\n"
   ]
  },
  {
   "cell_type": "code",
   "execution_count": 89,
   "id": "766a8840",
   "metadata": {},
   "outputs": [
    {
     "data": {
      "text/plain": [
       "True"
      ]
     },
     "execution_count": 89,
     "metadata": {},
     "output_type": "execute_result"
    }
   ],
   "source": [
    "x=23\n",
    "y=5\n",
    "\n",
    "#x==y\n",
    "#x!=y\n"
   ]
  },
  {
   "cell_type": "code",
   "execution_count": 85,
   "id": "2a81af9c",
   "metadata": {},
   "outputs": [
    {
     "data": {
      "text/plain": [
       "64"
      ]
     },
     "execution_count": 85,
     "metadata": {},
     "output_type": "execute_result"
    }
   ],
   "source": [
    "#x+y\n",
    "#x-y\n",
    "#x*y\n",
    "#13%2   => 1\n",
    "#13/2   => 6.5\n",
    "#12/2   => 6.0\n",
    "\n",
    "#12//2  => 6\n",
    "#13//2   => 6\n",
    "#4**3\n"
   ]
  },
  {
   "cell_type": "code",
   "execution_count": null,
   "id": "11d34692",
   "metadata": {},
   "outputs": [],
   "source": []
  },
  {
   "cell_type": "code",
   "execution_count": null,
   "id": "1eebf08c",
   "metadata": {},
   "outputs": [],
   "source": []
  }
 ],
 "metadata": {
  "kernelspec": {
   "display_name": "Python 3",
   "language": "python",
   "name": "python3"
  },
  "language_info": {
   "codemirror_mode": {
    "name": "ipython",
    "version": 3
   },
   "file_extension": ".py",
   "mimetype": "text/x-python",
   "name": "python",
   "nbconvert_exporter": "python",
   "pygments_lexer": "ipython3",
   "version": "3.8.3"
  }
 },
 "nbformat": 4,
 "nbformat_minor": 5
}
