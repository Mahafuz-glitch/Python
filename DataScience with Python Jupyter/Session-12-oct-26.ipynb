{
 "cells": [
  {
   "cell_type": "code",
   "execution_count": 1,
   "id": "c62968d2",
   "metadata": {},
   "outputs": [
    {
     "name": "stderr",
     "output_type": "stream",
     "text": [
      "<frozen importlib._bootstrap>:219: RuntimeWarning: numpy.ufunc size changed, may indicate binary incompatibility. Expected 192 from C header, got 216 from PyObject\n",
      "<frozen importlib._bootstrap>:219: RuntimeWarning: numpy.ufunc size changed, may indicate binary incompatibility. Expected 192 from C header, got 216 from PyObject\n"
     ]
    }
   ],
   "source": [
    "#Normalization \n",
    "#  min max scaler\n",
    "\n",
    "import pandas as pd\n",
    "import numpy as np\n",
    "import matplotlib.pyplot as plt\n",
    "import seaborn as sns"
   ]
  },
  {
   "cell_type": "code",
   "execution_count": 12,
   "id": "909a78e1",
   "metadata": {},
   "outputs": [],
   "source": [
    "df=pd.read_csv(\"/Users/admin/Documents/imputation/Normalization/wine_data.csv\",\n",
    "              header=None,usecols=[0,1,2])\n",
    "\n",
    "df.columns=['Class lable','Alcohol','Malic acid']"
   ]
  },
  {
   "cell_type": "code",
   "execution_count": 13,
   "id": "ff2e9f46",
   "metadata": {},
   "outputs": [
    {
     "data": {
      "text/html": [
       "<div>\n",
       "<style scoped>\n",
       "    .dataframe tbody tr th:only-of-type {\n",
       "        vertical-align: middle;\n",
       "    }\n",
       "\n",
       "    .dataframe tbody tr th {\n",
       "        vertical-align: top;\n",
       "    }\n",
       "\n",
       "    .dataframe thead th {\n",
       "        text-align: right;\n",
       "    }\n",
       "</style>\n",
       "<table border=\"1\" class=\"dataframe\">\n",
       "  <thead>\n",
       "    <tr style=\"text-align: right;\">\n",
       "      <th></th>\n",
       "      <th>Class lable</th>\n",
       "      <th>Alcohol</th>\n",
       "      <th>Malic acid</th>\n",
       "    </tr>\n",
       "  </thead>\n",
       "  <tbody>\n",
       "    <tr>\n",
       "      <th>0</th>\n",
       "      <td>1</td>\n",
       "      <td>14.23</td>\n",
       "      <td>1.71</td>\n",
       "    </tr>\n",
       "    <tr>\n",
       "      <th>1</th>\n",
       "      <td>1</td>\n",
       "      <td>13.20</td>\n",
       "      <td>1.78</td>\n",
       "    </tr>\n",
       "    <tr>\n",
       "      <th>2</th>\n",
       "      <td>1</td>\n",
       "      <td>13.16</td>\n",
       "      <td>2.36</td>\n",
       "    </tr>\n",
       "    <tr>\n",
       "      <th>3</th>\n",
       "      <td>1</td>\n",
       "      <td>14.37</td>\n",
       "      <td>1.95</td>\n",
       "    </tr>\n",
       "    <tr>\n",
       "      <th>4</th>\n",
       "      <td>1</td>\n",
       "      <td>13.24</td>\n",
       "      <td>2.59</td>\n",
       "    </tr>\n",
       "  </tbody>\n",
       "</table>\n",
       "</div>"
      ],
      "text/plain": [
       "   Class lable  Alcohol  Malic acid\n",
       "0            1    14.23        1.71\n",
       "1            1    13.20        1.78\n",
       "2            1    13.16        2.36\n",
       "3            1    14.37        1.95\n",
       "4            1    13.24        2.59"
      ]
     },
     "execution_count": 13,
     "metadata": {},
     "output_type": "execute_result"
    }
   ],
   "source": [
    "df.head()"
   ]
  },
  {
   "cell_type": "code",
   "execution_count": 14,
   "id": "13f62d45",
   "metadata": {},
   "outputs": [],
   "source": [
    "from sklearn.model_selection import train_test_split\n",
    "\n",
    "x_train,x_test,y_train,y_test=train_test_split(df.drop('Class lable',axis=1),\n",
    "                                              df['Class lable'],test_size=0.3)"
   ]
  },
  {
   "cell_type": "code",
   "execution_count": 15,
   "id": "48c2ec2b",
   "metadata": {},
   "outputs": [
    {
     "data": {
      "text/plain": [
       "((124, 2), (54, 2))"
      ]
     },
     "execution_count": 15,
     "metadata": {},
     "output_type": "execute_result"
    }
   ],
   "source": [
    "x_train.shape,x_test.shape"
   ]
  },
  {
   "cell_type": "code",
   "execution_count": 16,
   "id": "56586d8d",
   "metadata": {},
   "outputs": [],
   "source": [
    "from sklearn.preprocessing import MinMaxScaler\n",
    "\n",
    "mn=MinMaxScaler()"
   ]
  },
  {
   "cell_type": "code",
   "execution_count": 17,
   "id": "d3ad2df6",
   "metadata": {},
   "outputs": [
    {
     "data": {
      "text/plain": [
       "MinMaxScaler()"
      ]
     },
     "execution_count": 17,
     "metadata": {},
     "output_type": "execute_result"
    }
   ],
   "source": [
    "mn.fit(x_train)"
   ]
  },
  {
   "cell_type": "code",
   "execution_count": 18,
   "id": "7899b6cf",
   "metadata": {},
   "outputs": [],
   "source": [
    "x_train_scale=mn.transform(x_train)"
   ]
  },
  {
   "cell_type": "code",
   "execution_count": 19,
   "id": "0da33446",
   "metadata": {},
   "outputs": [],
   "source": [
    "x_test_scale=mn.transform(x_test)"
   ]
  },
  {
   "cell_type": "code",
   "execution_count": 21,
   "id": "daa1c14b",
   "metadata": {},
   "outputs": [
    {
     "data": {
      "text/plain": [
       "array([[0.95238095, 0.17226891],\n",
       "       [0.46130952, 0.08403361],\n",
       "       [0.28869048, 0.53361345],\n",
       "       [0.54464286, 0.09663866],\n",
       "       [0.68154762, 0.49369748],\n",
       "       [0.67559524, 0.17436975],\n",
       "       [0.70535714, 0.63445378],\n",
       "       [0.57440476, 0.53781513],\n",
       "       [0.64583333, 0.18697479],\n",
       "       [0.63690476, 0.35714286],\n",
       "       [0.4672619 , 0.32983193],\n",
       "       [0.54761905, 0.78151261],\n",
       "       [0.7202381 , 0.59033613],\n",
       "       [0.94345238, 0.18277311],\n",
       "       [0.60119048, 0.24369748],\n",
       "       [0.79166667, 0.49789916],\n",
       "       [0.52380952, 0.37394958],\n",
       "       [0.3125    , 0.09243697],\n",
       "       [0.8422619 , 0.1302521 ],\n",
       "       [0.34821429, 0.44957983],\n",
       "       [0.23511905, 0.17436975],\n",
       "       [0.79761905, 1.        ],\n",
       "       [0.90178571, 0.15546218],\n",
       "       [0.77083333, 0.85294118],\n",
       "       [0.98511905, 0.16596639],\n",
       "       [0.8422619 , 0.09663866],\n",
       "       [0.83333333, 0.14285714],\n",
       "       [0.80059524, 0.11344538],\n",
       "       [0.44047619, 0.17647059],\n",
       "       [0.77678571, 0.46428571],\n",
       "       [0.60119048, 0.62394958],\n",
       "       [0.6875    , 0.0105042 ],\n",
       "       [0.42261905, 0.44957983],\n",
       "       [0.6547619 , 0.50630252],\n",
       "       [0.72916667, 0.19327731],\n",
       "       [0.49702381, 0.62605042],\n",
       "       [0.73214286, 0.16176471],\n",
       "       [0.80654762, 0.16386555],\n",
       "       [0.63392857, 0.30882353],\n",
       "       [0.36309524, 0.62815126],\n",
       "       [0.99702381, 0.20588235],\n",
       "       [0.39880952, 0.0105042 ],\n",
       "       [0.61904762, 0.02521008],\n",
       "       [0.375     , 0.1092437 ],\n",
       "       [0.12797619, 0.5987395 ],\n",
       "       [0.23214286, 0.25840336],\n",
       "       [0.60714286, 0.12815126],\n",
       "       [0.66964286, 0.15756303],\n",
       "       [1.        , 0.20588235],\n",
       "       [0.39880952, 0.05882353],\n",
       "       [0.125     , 0.31722689],\n",
       "       [0.41369048, 0.74369748],\n",
       "       [0.2172619 , 0.37605042],\n",
       "       [0.85416667, 0.16596639],\n",
       "       [0.73511905, 0.19327731],\n",
       "       [0.73214286, 0.56722689],\n",
       "       [0.41666667, 0.13445378],\n",
       "       [0.42857143, 0.13235294],\n",
       "       [0.78571429, 0.07563025],\n",
       "       [0.47916667, 0.0987395 ],\n",
       "       [0.49404762, 0.13445378],\n",
       "       [0.80357143, 0.7289916 ],\n",
       "       [0.41369048, 0.1512605 ],\n",
       "       [0.        , 0.1302521 ],\n",
       "       [0.56547619, 0.61134454],\n",
       "       [0.63392857, 0.56302521],\n",
       "       [0.99404762, 0.22268908],\n",
       "       [0.75892857, 0.35504202],\n",
       "       [0.375     , 0.1512605 ],\n",
       "       [0.83333333, 0.15966387],\n",
       "       [0.38988095, 0.32773109],\n",
       "       [0.81845238, 0.39285714],\n",
       "       [0.56547619, 0.40336134],\n",
       "       [0.51785714, 0.53361345],\n",
       "       [0.39880952, 0.06722689],\n",
       "       [0.39880952, 0.15546218],\n",
       "       [0.17261905, 0.09663866],\n",
       "       [0.86607143, 0.17647059],\n",
       "       [0.79761905, 0.20378151],\n",
       "       [0.30059524, 0.71638655],\n",
       "       [0.49702381, 0.55882353],\n",
       "       [0.36309524, 0.80462185],\n",
       "       [0.24107143, 0.42016807],\n",
       "       [0.88988095, 0.16596639],\n",
       "       [0.70238095, 0.18487395],\n",
       "       [0.24107143, 0.        ],\n",
       "       [0.23511905, 0.12184874],\n",
       "       [0.72916667, 0.16386555],\n",
       "       [0.25      , 0.71848739],\n",
       "       [0.38690476, 0.0210084 ],\n",
       "       [0.8125    , 0.13445378],\n",
       "       [0.70833333, 0.6197479 ],\n",
       "       [0.28869048, 0.1302521 ],\n",
       "       [0.92261905, 0.67436975],\n",
       "       [0.75892857, 0.16176471],\n",
       "       [0.3125    , 0.05042017],\n",
       "       [0.58333333, 0.16386555],\n",
       "       [0.6577381 , 0.35714286],\n",
       "       [0.3125    , 0.19747899],\n",
       "       [0.50297619, 0.18067227],\n",
       "       [0.54166667, 0.5       ],\n",
       "       [0.18154762, 0.24579832],\n",
       "       [0.94642857, 0.66176471],\n",
       "       [0.55059524, 0.44117647],\n",
       "       [0.74107143, 0.4789916 ],\n",
       "       [0.94940476, 0.17016807],\n",
       "       [0.69345238, 0.35084034],\n",
       "       [0.33630952, 0.1512605 ],\n",
       "       [0.50297619, 0.19327731],\n",
       "       [0.38690476, 0.04411765],\n",
       "       [0.22619048, 0.2605042 ],\n",
       "       [0.91369048, 0.23739496],\n",
       "       [0.44345238, 0.32352941],\n",
       "       [0.17559524, 0.23109244],\n",
       "       [0.48809524, 0.01890756],\n",
       "       [0.83035714, 0.18067227],\n",
       "       [0.1577381 , 0.24369748],\n",
       "       [0.94047619, 0.14705882],\n",
       "       [0.73809524, 0.19117647],\n",
       "       [0.35119048, 0.06302521],\n",
       "       [0.35416667, 0.08403361],\n",
       "       [0.41369048, 0.3487395 ],\n",
       "       [0.33928571, 0.11764706],\n",
       "       [0.39880952, 0.03781513]])"
      ]
     },
     "execution_count": 21,
     "metadata": {},
     "output_type": "execute_result"
    }
   ],
   "source": [
    "x_train_scale"
   ]
  },
  {
   "cell_type": "code",
   "execution_count": 22,
   "id": "402db710",
   "metadata": {},
   "outputs": [],
   "source": [
    "x_train_scale=pd.DataFrame(x_train_scale,columns=x_train.columns)"
   ]
  },
  {
   "cell_type": "code",
   "execution_count": 23,
   "id": "c7c1b389",
   "metadata": {},
   "outputs": [
    {
     "data": {
      "text/html": [
       "<div>\n",
       "<style scoped>\n",
       "    .dataframe tbody tr th:only-of-type {\n",
       "        vertical-align: middle;\n",
       "    }\n",
       "\n",
       "    .dataframe tbody tr th {\n",
       "        vertical-align: top;\n",
       "    }\n",
       "\n",
       "    .dataframe thead th {\n",
       "        text-align: right;\n",
       "    }\n",
       "</style>\n",
       "<table border=\"1\" class=\"dataframe\">\n",
       "  <thead>\n",
       "    <tr style=\"text-align: right;\">\n",
       "      <th></th>\n",
       "      <th>Alcohol</th>\n",
       "      <th>Malic acid</th>\n",
       "    </tr>\n",
       "  </thead>\n",
       "  <tbody>\n",
       "    <tr>\n",
       "      <th>0</th>\n",
       "      <td>0.952381</td>\n",
       "      <td>0.172269</td>\n",
       "    </tr>\n",
       "    <tr>\n",
       "      <th>1</th>\n",
       "      <td>0.461310</td>\n",
       "      <td>0.084034</td>\n",
       "    </tr>\n",
       "    <tr>\n",
       "      <th>2</th>\n",
       "      <td>0.288690</td>\n",
       "      <td>0.533613</td>\n",
       "    </tr>\n",
       "    <tr>\n",
       "      <th>3</th>\n",
       "      <td>0.544643</td>\n",
       "      <td>0.096639</td>\n",
       "    </tr>\n",
       "    <tr>\n",
       "      <th>4</th>\n",
       "      <td>0.681548</td>\n",
       "      <td>0.493697</td>\n",
       "    </tr>\n",
       "    <tr>\n",
       "      <th>...</th>\n",
       "      <td>...</td>\n",
       "      <td>...</td>\n",
       "    </tr>\n",
       "    <tr>\n",
       "      <th>119</th>\n",
       "      <td>0.351190</td>\n",
       "      <td>0.063025</td>\n",
       "    </tr>\n",
       "    <tr>\n",
       "      <th>120</th>\n",
       "      <td>0.354167</td>\n",
       "      <td>0.084034</td>\n",
       "    </tr>\n",
       "    <tr>\n",
       "      <th>121</th>\n",
       "      <td>0.413690</td>\n",
       "      <td>0.348739</td>\n",
       "    </tr>\n",
       "    <tr>\n",
       "      <th>122</th>\n",
       "      <td>0.339286</td>\n",
       "      <td>0.117647</td>\n",
       "    </tr>\n",
       "    <tr>\n",
       "      <th>123</th>\n",
       "      <td>0.398810</td>\n",
       "      <td>0.037815</td>\n",
       "    </tr>\n",
       "  </tbody>\n",
       "</table>\n",
       "<p>124 rows × 2 columns</p>\n",
       "</div>"
      ],
      "text/plain": [
       "      Alcohol  Malic acid\n",
       "0    0.952381    0.172269\n",
       "1    0.461310    0.084034\n",
       "2    0.288690    0.533613\n",
       "3    0.544643    0.096639\n",
       "4    0.681548    0.493697\n",
       "..        ...         ...\n",
       "119  0.351190    0.063025\n",
       "120  0.354167    0.084034\n",
       "121  0.413690    0.348739\n",
       "122  0.339286    0.117647\n",
       "123  0.398810    0.037815\n",
       "\n",
       "[124 rows x 2 columns]"
      ]
     },
     "execution_count": 23,
     "metadata": {},
     "output_type": "execute_result"
    }
   ],
   "source": [
    "x_train_scale"
   ]
  },
  {
   "cell_type": "code",
   "execution_count": 24,
   "id": "336ab459",
   "metadata": {},
   "outputs": [
    {
     "data": {
      "text/html": [
       "<div>\n",
       "<style scoped>\n",
       "    .dataframe tbody tr th:only-of-type {\n",
       "        vertical-align: middle;\n",
       "    }\n",
       "\n",
       "    .dataframe tbody tr th {\n",
       "        vertical-align: top;\n",
       "    }\n",
       "\n",
       "    .dataframe thead th {\n",
       "        text-align: right;\n",
       "    }\n",
       "</style>\n",
       "<table border=\"1\" class=\"dataframe\">\n",
       "  <thead>\n",
       "    <tr style=\"text-align: right;\">\n",
       "      <th></th>\n",
       "      <th>Alcohol</th>\n",
       "      <th>Malic acid</th>\n",
       "    </tr>\n",
       "  </thead>\n",
       "  <tbody>\n",
       "    <tr>\n",
       "      <th>count</th>\n",
       "      <td>124.0</td>\n",
       "      <td>124.0</td>\n",
       "    </tr>\n",
       "    <tr>\n",
       "      <th>mean</th>\n",
       "      <td>12.9</td>\n",
       "      <td>2.3</td>\n",
       "    </tr>\n",
       "    <tr>\n",
       "      <th>std</th>\n",
       "      <td>0.8</td>\n",
       "      <td>1.1</td>\n",
       "    </tr>\n",
       "    <tr>\n",
       "      <th>min</th>\n",
       "      <td>11.0</td>\n",
       "      <td>0.9</td>\n",
       "    </tr>\n",
       "    <tr>\n",
       "      <th>25%</th>\n",
       "      <td>12.3</td>\n",
       "      <td>1.5</td>\n",
       "    </tr>\n",
       "    <tr>\n",
       "      <th>50%</th>\n",
       "      <td>12.9</td>\n",
       "      <td>1.8</td>\n",
       "    </tr>\n",
       "    <tr>\n",
       "      <th>75%</th>\n",
       "      <td>13.6</td>\n",
       "      <td>3.0</td>\n",
       "    </tr>\n",
       "    <tr>\n",
       "      <th>max</th>\n",
       "      <td>14.4</td>\n",
       "      <td>5.6</td>\n",
       "    </tr>\n",
       "  </tbody>\n",
       "</table>\n",
       "</div>"
      ],
      "text/plain": [
       "       Alcohol  Malic acid\n",
       "count    124.0       124.0\n",
       "mean      12.9         2.3\n",
       "std        0.8         1.1\n",
       "min       11.0         0.9\n",
       "25%       12.3         1.5\n",
       "50%       12.9         1.8\n",
       "75%       13.6         3.0\n",
       "max       14.4         5.6"
      ]
     },
     "execution_count": 24,
     "metadata": {},
     "output_type": "execute_result"
    }
   ],
   "source": [
    "np.round(x_train.describe(),1)"
   ]
  },
  {
   "cell_type": "code",
   "execution_count": 25,
   "id": "fe4f7513",
   "metadata": {},
   "outputs": [
    {
     "data": {
      "text/html": [
       "<div>\n",
       "<style scoped>\n",
       "    .dataframe tbody tr th:only-of-type {\n",
       "        vertical-align: middle;\n",
       "    }\n",
       "\n",
       "    .dataframe tbody tr th {\n",
       "        vertical-align: top;\n",
       "    }\n",
       "\n",
       "    .dataframe thead th {\n",
       "        text-align: right;\n",
       "    }\n",
       "</style>\n",
       "<table border=\"1\" class=\"dataframe\">\n",
       "  <thead>\n",
       "    <tr style=\"text-align: right;\">\n",
       "      <th></th>\n",
       "      <th>Alcohol</th>\n",
       "      <th>Malic acid</th>\n",
       "    </tr>\n",
       "  </thead>\n",
       "  <tbody>\n",
       "    <tr>\n",
       "      <th>count</th>\n",
       "      <td>124.0</td>\n",
       "      <td>124.0</td>\n",
       "    </tr>\n",
       "    <tr>\n",
       "      <th>mean</th>\n",
       "      <td>0.6</td>\n",
       "      <td>0.3</td>\n",
       "    </tr>\n",
       "    <tr>\n",
       "      <th>std</th>\n",
       "      <td>0.2</td>\n",
       "      <td>0.2</td>\n",
       "    </tr>\n",
       "    <tr>\n",
       "      <th>min</th>\n",
       "      <td>0.0</td>\n",
       "      <td>0.0</td>\n",
       "    </tr>\n",
       "    <tr>\n",
       "      <th>25%</th>\n",
       "      <td>0.4</td>\n",
       "      <td>0.1</td>\n",
       "    </tr>\n",
       "    <tr>\n",
       "      <th>50%</th>\n",
       "      <td>0.6</td>\n",
       "      <td>0.2</td>\n",
       "    </tr>\n",
       "    <tr>\n",
       "      <th>75%</th>\n",
       "      <td>0.8</td>\n",
       "      <td>0.4</td>\n",
       "    </tr>\n",
       "    <tr>\n",
       "      <th>max</th>\n",
       "      <td>1.0</td>\n",
       "      <td>1.0</td>\n",
       "    </tr>\n",
       "  </tbody>\n",
       "</table>\n",
       "</div>"
      ],
      "text/plain": [
       "       Alcohol  Malic acid\n",
       "count    124.0       124.0\n",
       "mean       0.6         0.3\n",
       "std        0.2         0.2\n",
       "min        0.0         0.0\n",
       "25%        0.4         0.1\n",
       "50%        0.6         0.2\n",
       "75%        0.8         0.4\n",
       "max        1.0         1.0"
      ]
     },
     "execution_count": 25,
     "metadata": {},
     "output_type": "execute_result"
    }
   ],
   "source": [
    "np.round(x_train_scale.describe(),1)"
   ]
  },
  {
   "cell_type": "code",
   "execution_count": 27,
   "id": "9819e531",
   "metadata": {},
   "outputs": [
    {
     "data": {
      "text/plain": [
       "<matplotlib.collections.PathCollection at 0x12ae82820>"
      ]
     },
     "execution_count": 27,
     "metadata": {},
     "output_type": "execute_result"
    },
    {
     "data": {
      "image/png": "[encoded data removed]",
      "text/plain": [
       "<Figure size 720x504 with 2 Axes>"
      ]
     },
     "metadata": {
      "needs_background": "light"
     },
     "output_type": "display_data"
    }
   ],
   "source": [
    "plt.figure(figsize=(10,7))\n",
    "\n",
    "plt.subplot(1,2,1)\n",
    "plt.scatter(x_train['Alcohol'],x_train['Malic acid'])\n",
    "\n",
    "plt.subplot(1,2,2)\n",
    "plt.scatter(x_train_scale['Alcohol'],x_train_scale['Malic acid'])"
   ]
  },
  {
   "cell_type": "code",
   "execution_count": null,
   "id": "56b7a28c",
   "metadata": {},
   "outputs": [],
   "source": [
    "k-mean\n",
    "knn\n",
    "ANN\n",
    "Greadient Boosting"
   ]
  },
  {
   "cell_type": "code",
   "execution_count": null,
   "id": "37ca48ca",
   "metadata": {},
   "outputs": [],
   "source": [
    "ML:\n",
    "    \n",
    "Supervised ML:\n",
    "    Regression :\n",
    "        \n",
    "    Classification:\n",
    "        \n",
    "Unsupervised :(clustring)\n",
    "    \n",
    "    "
   ]
  },
  {
   "cell_type": "code",
   "execution_count": null,
   "id": "ff296ce7",
   "metadata": {},
   "outputs": [],
   "source": [
    "SLR: Leaner Reg.\n",
    "    \n",
    "\n",
    "    "
   ]
  },
  {
   "cell_type": "code",
   "execution_count": 28,
   "id": "7e53c3bc",
   "metadata": {},
   "outputs": [],
   "source": [
    "import numpy as np\n",
    "import pandas as pd"
   ]
  },
  {
   "cell_type": "code",
   "execution_count": 29,
   "id": "4b48386b",
   "metadata": {},
   "outputs": [],
   "source": [
    "df=pd.read_csv(\"/Users/admin/Desktop/allpythonfile/salary_data.csv\")"
   ]
  },
  {
   "cell_type": "code",
   "execution_count": 30,
   "id": "1c26a693",
   "metadata": {},
   "outputs": [
    {
     "data": {
      "text/html": [
       "<div>\n",
       "<style scoped>\n",
       "    .dataframe tbody tr th:only-of-type {\n",
       "        vertical-align: middle;\n",
       "    }\n",
       "\n",
       "    .dataframe tbody tr th {\n",
       "        vertical-align: top;\n",
       "    }\n",
       "\n",
       "    .dataframe thead th {\n",
       "        text-align: right;\n",
       "    }\n",
       "</style>\n",
       "<table border=\"1\" class=\"dataframe\">\n",
       "  <thead>\n",
       "    <tr style=\"text-align: right;\">\n",
       "      <th></th>\n",
       "      <th>YearsExperience</th>\n",
       "      <th>Salary</th>\n",
       "    </tr>\n",
       "  </thead>\n",
       "  <tbody>\n",
       "    <tr>\n",
       "      <th>0</th>\n",
       "      <td>1.1</td>\n",
       "      <td>39343</td>\n",
       "    </tr>\n",
       "    <tr>\n",
       "      <th>1</th>\n",
       "      <td>1.3</td>\n",
       "      <td>46205</td>\n",
       "    </tr>\n",
       "    <tr>\n",
       "      <th>2</th>\n",
       "      <td>1.5</td>\n",
       "      <td>37731</td>\n",
       "    </tr>\n",
       "    <tr>\n",
       "      <th>3</th>\n",
       "      <td>2.0</td>\n",
       "      <td>43525</td>\n",
       "    </tr>\n",
       "    <tr>\n",
       "      <th>4</th>\n",
       "      <td>2.2</td>\n",
       "      <td>39891</td>\n",
       "    </tr>\n",
       "  </tbody>\n",
       "</table>\n",
       "</div>"
      ],
      "text/plain": [
       "   YearsExperience  Salary\n",
       "0              1.1   39343\n",
       "1              1.3   46205\n",
       "2              1.5   37731\n",
       "3              2.0   43525\n",
       "4              2.2   39891"
      ]
     },
     "execution_count": 30,
     "metadata": {},
     "output_type": "execute_result"
    }
   ],
   "source": [
    "df.head()"
   ]
  },
  {
   "cell_type": "code",
   "execution_count": 33,
   "id": "c5c200f4",
   "metadata": {},
   "outputs": [],
   "source": [
    "x=df.iloc[:,:-1].values"
   ]
  },
  {
   "cell_type": "code",
   "execution_count": 35,
   "id": "1f540e9c",
   "metadata": {},
   "outputs": [],
   "source": [
    "y=df.iloc[:,1].values"
   ]
  },
  {
   "cell_type": "code",
   "execution_count": 37,
   "id": "d0a70b79",
   "metadata": {},
   "outputs": [
    {
     "data": {
      "text/plain": [
       "(30, 2)"
      ]
     },
     "execution_count": 37,
     "metadata": {},
     "output_type": "execute_result"
    }
   ],
   "source": [
    "df.shape"
   ]
  },
  {
   "cell_type": "code",
   "execution_count": 38,
   "id": "dcdc64e7",
   "metadata": {},
   "outputs": [],
   "source": [
    "from sklearn.model_selection import train_test_split"
   ]
  },
  {
   "cell_type": "code",
   "execution_count": 39,
   "id": "cc4d308e",
   "metadata": {},
   "outputs": [],
   "source": [
    "x_train,x_test,y_train,y_test=train_test_split(x,y,test_size=1/3,\n",
    "                                               random_state=0)"
   ]
  },
  {
   "cell_type": "code",
   "execution_count": 40,
   "id": "e279812d",
   "metadata": {},
   "outputs": [],
   "source": [
    "from sklearn.linear_model import LinearRegression"
   ]
  },
  {
   "cell_type": "code",
   "execution_count": 41,
   "id": "30831e20",
   "metadata": {},
   "outputs": [],
   "source": [
    "lr=LinearRegression()"
   ]
  },
  {
   "cell_type": "code",
   "execution_count": 42,
   "id": "aee6a331",
   "metadata": {},
   "outputs": [
    {
     "data": {
      "text/plain": [
       "LinearRegression()"
      ]
     },
     "execution_count": 42,
     "metadata": {},
     "output_type": "execute_result"
    }
   ],
   "source": [
    "lr.fit(x_train,y_train)"
   ]
  },
  {
   "cell_type": "code",
   "execution_count": 43,
   "id": "8f747bf4",
   "metadata": {},
   "outputs": [
    {
     "data": {
      "text/plain": [
       "26816.192244031183"
      ]
     },
     "execution_count": 43,
     "metadata": {},
     "output_type": "execute_result"
    }
   ],
   "source": [
    "lr.intercept_"
   ]
  },
  {
   "cell_type": "code",
   "execution_count": 44,
   "id": "fd13c2a6",
   "metadata": {},
   "outputs": [
    {
     "data": {
      "text/plain": [
       "array([9345.94244312])"
      ]
     },
     "execution_count": 44,
     "metadata": {},
     "output_type": "execute_result"
    }
   ],
   "source": [
    "lr.coef_"
   ]
  },
  {
   "cell_type": "code",
   "execution_count": 45,
   "id": "aee110d2",
   "metadata": {},
   "outputs": [
    {
     "data": {
      "text/plain": [
       "array([58592.39655065])"
      ]
     },
     "execution_count": 45,
     "metadata": {},
     "output_type": "execute_result"
    }
   ],
   "source": [
    "lr.predict([[3.4]])"
   ]
  },
  {
   "cell_type": "code",
   "execution_count": 46,
   "id": "b6a71d7e",
   "metadata": {},
   "outputs": [],
   "source": [
    "y_pred=lr.predict(x_test)"
   ]
  },
  {
   "cell_type": "code",
   "execution_count": 47,
   "id": "bfe5d552",
   "metadata": {},
   "outputs": [
    {
     "data": {
      "text/plain": [
       "array([ 37731, 122391,  57081,  63218, 116969, 109431, 112635,  55794,\n",
       "        83088, 101302])"
      ]
     },
     "execution_count": 47,
     "metadata": {},
     "output_type": "execute_result"
    }
   ],
   "source": [
    "y_test"
   ]
  },
  {
   "cell_type": "code",
   "execution_count": 48,
   "id": "87e6342f",
   "metadata": {},
   "outputs": [
    {
     "data": {
      "text/plain": [
       "array([ 40835.10590871, 123079.39940819,  65134.55626083,  63265.36777221,\n",
       "       115602.64545369, 108125.8914992 , 116537.23969801,  64199.96201652,\n",
       "        76349.68719258, 100649.1375447 ])"
      ]
     },
     "execution_count": 48,
     "metadata": {},
     "output_type": "execute_result"
    }
   ],
   "source": [
    "y_pred"
   ]
  },
  {
   "cell_type": "code",
   "execution_count": 49,
   "id": "61bbd131",
   "metadata": {},
   "outputs": [
    {
     "data": {
      "text/plain": [
       "0.9749154407708353"
      ]
     },
     "execution_count": 49,
     "metadata": {},
     "output_type": "execute_result"
    }
   ],
   "source": [
    "lr.score(x_test,y_test)"
   ]
  },
  {
   "cell_type": "code",
   "execution_count": 51,
   "id": "913232b5",
   "metadata": {},
   "outputs": [],
   "source": [
    "#Logistic Reg .\n",
    "\n",
    "df=pd.read_csv(\"/Users/admin/Downloads/P14-Part3-Classification/Section 16 - Logistic Regression/Python/Social_Network_Ads.csv\")"
   ]
  },
  {
   "cell_type": "code",
   "execution_count": 52,
   "id": "a3df9955",
   "metadata": {},
   "outputs": [
    {
     "data": {
      "text/html": [
       "<div>\n",
       "<style scoped>\n",
       "    .dataframe tbody tr th:only-of-type {\n",
       "        vertical-align: middle;\n",
       "    }\n",
       "\n",
       "    .dataframe tbody tr th {\n",
       "        vertical-align: top;\n",
       "    }\n",
       "\n",
       "    .dataframe thead th {\n",
       "        text-align: right;\n",
       "    }\n",
       "</style>\n",
       "<table border=\"1\" class=\"dataframe\">\n",
       "  <thead>\n",
       "    <tr style=\"text-align: right;\">\n",
       "      <th></th>\n",
       "      <th>User ID</th>\n",
       "      <th>Gender</th>\n",
       "      <th>Age</th>\n",
       "      <th>EstimatedSalary</th>\n",
       "      <th>Purchased</th>\n",
       "    </tr>\n",
       "  </thead>\n",
       "  <tbody>\n",
       "    <tr>\n",
       "      <th>0</th>\n",
       "      <td>15624510</td>\n",
       "      <td>Male</td>\n",
       "      <td>19</td>\n",
       "      <td>19000</td>\n",
       "      <td>0</td>\n",
       "    </tr>\n",
       "    <tr>\n",
       "      <th>1</th>\n",
       "      <td>15810944</td>\n",
       "      <td>Male</td>\n",
       "      <td>35</td>\n",
       "      <td>20000</td>\n",
       "      <td>0</td>\n",
       "    </tr>\n",
       "    <tr>\n",
       "      <th>2</th>\n",
       "      <td>15668575</td>\n",
       "      <td>Female</td>\n",
       "      <td>26</td>\n",
       "      <td>43000</td>\n",
       "      <td>0</td>\n",
       "    </tr>\n",
       "    <tr>\n",
       "      <th>3</th>\n",
       "      <td>15603246</td>\n",
       "      <td>Female</td>\n",
       "      <td>27</td>\n",
       "      <td>57000</td>\n",
       "      <td>0</td>\n",
       "    </tr>\n",
       "    <tr>\n",
       "      <th>4</th>\n",
       "      <td>15804002</td>\n",
       "      <td>Male</td>\n",
       "      <td>19</td>\n",
       "      <td>76000</td>\n",
       "      <td>0</td>\n",
       "    </tr>\n",
       "  </tbody>\n",
       "</table>\n",
       "</div>"
      ],
      "text/plain": [
       "    User ID  Gender  Age  EstimatedSalary  Purchased\n",
       "0  15624510    Male   19            19000          0\n",
       "1  15810944    Male   35            20000          0\n",
       "2  15668575  Female   26            43000          0\n",
       "3  15603246  Female   27            57000          0\n",
       "4  15804002    Male   19            76000          0"
      ]
     },
     "execution_count": 52,
     "metadata": {},
     "output_type": "execute_result"
    }
   ],
   "source": [
    "df.head()"
   ]
  },
  {
   "cell_type": "code",
   "execution_count": 55,
   "id": "54ba44af",
   "metadata": {},
   "outputs": [],
   "source": [
    "x=df.iloc[:,[2,3]].values"
   ]
  },
  {
   "cell_type": "code",
   "execution_count": 56,
   "id": "d6d39d9a",
   "metadata": {},
   "outputs": [],
   "source": [
    "y=df.iloc[:,-1].values"
   ]
  },
  {
   "cell_type": "code",
   "execution_count": 59,
   "id": "ad2d0faf",
   "metadata": {},
   "outputs": [],
   "source": [
    "from sklearn.model_selection import train_test_split"
   ]
  },
  {
   "cell_type": "code",
   "execution_count": 60,
   "id": "041d6fd0",
   "metadata": {},
   "outputs": [],
   "source": [
    "x_train,x_test,y_train,y_test=train_test_split(x,y,test_size=0.25,random_state=0)"
   ]
  },
  {
   "cell_type": "code",
   "execution_count": 61,
   "id": "282bdba5",
   "metadata": {},
   "outputs": [
    {
     "data": {
      "text/plain": [
       "((300, 2), (100, 2))"
      ]
     },
     "execution_count": 61,
     "metadata": {},
     "output_type": "execute_result"
    }
   ],
   "source": [
    "x_train.shape,x_test.shape"
   ]
  },
  {
   "cell_type": "code",
   "execution_count": 62,
   "id": "07165415",
   "metadata": {},
   "outputs": [],
   "source": [
    "#FE\n",
    "\n",
    "from sklearn.preprocessing import StandardScaler"
   ]
  },
  {
   "cell_type": "code",
   "execution_count": 64,
   "id": "0e9e2e7c",
   "metadata": {},
   "outputs": [
    {
     "data": {
      "text/plain": [
       "StandardScaler()"
      ]
     },
     "execution_count": 64,
     "metadata": {},
     "output_type": "execute_result"
    }
   ],
   "source": [
    "sc=StandardScaler()\n",
    "\n",
    "sc.fit(x_train)"
   ]
  },
  {
   "cell_type": "code",
   "execution_count": 65,
   "id": "9e03b256",
   "metadata": {},
   "outputs": [],
   "source": [
    "x_train=sc.transform(x_train)"
   ]
  },
  {
   "cell_type": "code",
   "execution_count": 67,
   "id": "887b3bd1",
   "metadata": {},
   "outputs": [],
   "source": [
    "x_test=sc.transform(x_test)"
   ]
  },
  {
   "cell_type": "code",
   "execution_count": 68,
   "id": "017b47cc",
   "metadata": {},
   "outputs": [],
   "source": [
    "from sklearn.linear_model import LogisticRegression"
   ]
  },
  {
   "cell_type": "code",
   "execution_count": 69,
   "id": "c9a7b26a",
   "metadata": {},
   "outputs": [],
   "source": [
    "lr=LogisticRegression()"
   ]
  },
  {
   "cell_type": "code",
   "execution_count": 70,
   "id": "75a12cf8",
   "metadata": {},
   "outputs": [
    {
     "data": {
      "text/plain": [
       "LogisticRegression()"
      ]
     },
     "execution_count": 70,
     "metadata": {},
     "output_type": "execute_result"
    }
   ],
   "source": [
    "lr.fit(x_train,y_train)"
   ]
  },
  {
   "cell_type": "code",
   "execution_count": 71,
   "id": "b4a58e47",
   "metadata": {},
   "outputs": [],
   "source": [
    "y_pred=lr.predict(x_test)"
   ]
  },
  {
   "cell_type": "code",
   "execution_count": 73,
   "id": "d24a777d",
   "metadata": {},
   "outputs": [],
   "source": [
    "out=sc.transform([[34,45000]])"
   ]
  },
  {
   "cell_type": "code",
   "execution_count": 74,
   "id": "42b716f1",
   "metadata": {},
   "outputs": [
    {
     "data": {
      "text/plain": [
       "array([[-0.4086731 , -0.71274813]])"
      ]
     },
     "execution_count": 74,
     "metadata": {},
     "output_type": "execute_result"
    }
   ],
   "source": [
    "out"
   ]
  },
  {
   "cell_type": "code",
   "execution_count": 75,
   "id": "995aeeef",
   "metadata": {},
   "outputs": [
    {
     "data": {
      "text/plain": [
       "array([0])"
      ]
     },
     "execution_count": 75,
     "metadata": {},
     "output_type": "execute_result"
    }
   ],
   "source": [
    "lr.predict(out)"
   ]
  },
  {
   "cell_type": "code",
   "execution_count": 76,
   "id": "81ab44b5",
   "metadata": {},
   "outputs": [],
   "source": [
    "#confusion_matrix\n",
    "\n",
    "from sklearn.metrics import confusion_matrix"
   ]
  },
  {
   "cell_type": "code",
   "execution_count": 77,
   "id": "06262321",
   "metadata": {},
   "outputs": [
    {
     "data": {
      "text/plain": [
       "array([[65,  3],\n",
       "       [ 8, 24]])"
      ]
     },
     "execution_count": 77,
     "metadata": {},
     "output_type": "execute_result"
    }
   ],
   "source": [
    "confusion_matrix(y_test,y_pred)"
   ]
  },
  {
   "cell_type": "code",
   "execution_count": 78,
   "id": "dbdb3123",
   "metadata": {},
   "outputs": [],
   "source": [
    "from sklearn.metrics import accuracy_score"
   ]
  },
  {
   "cell_type": "code",
   "execution_count": 79,
   "id": "81254223",
   "metadata": {},
   "outputs": [
    {
     "data": {
      "text/plain": [
       "0.89"
      ]
     },
     "execution_count": 79,
     "metadata": {},
     "output_type": "execute_result"
    }
   ],
   "source": [
    "accuracy_score(y_test,y_pred)"
   ]
  },
  {
   "cell_type": "code",
   "execution_count": 80,
   "id": "ea8bf956",
   "metadata": {},
   "outputs": [],
   "source": [
    "#KNN:"
   ]
  },
  {
   "cell_type": "code",
   "execution_count": 81,
   "id": "a43f64c9",
   "metadata": {},
   "outputs": [],
   "source": [
    "\n",
    "\n",
    "df=pd.read_csv(\"/Users/admin/Downloads/P14-Part3-Classification/Section 16 - Logistic Regression/Python/Social_Network_Ads.csv\")"
   ]
  },
  {
   "cell_type": "code",
   "execution_count": 83,
   "id": "7839b2da",
   "metadata": {},
   "outputs": [],
   "source": [
    "x=df.iloc[:,[2,3]].values"
   ]
  },
  {
   "cell_type": "code",
   "execution_count": 85,
   "id": "63d01577",
   "metadata": {},
   "outputs": [],
   "source": [
    "y=df.iloc[:,-1].values"
   ]
  },
  {
   "cell_type": "code",
   "execution_count": 86,
   "id": "23cc10fe",
   "metadata": {},
   "outputs": [],
   "source": [
    "from sklearn.model_selection import train_test_split"
   ]
  },
  {
   "cell_type": "code",
   "execution_count": 97,
   "id": "cc74b82e",
   "metadata": {},
   "outputs": [],
   "source": [
    "x_train,x_test,y_train,y_test=train_test_split(x,y,test_size=0.25,random_state=0)"
   ]
  },
  {
   "cell_type": "code",
   "execution_count": 107,
   "id": "1142d9aa",
   "metadata": {},
   "outputs": [
    {
     "data": {
      "text/plain": [
       "((300, 2), (100, 2))"
      ]
     },
     "execution_count": 107,
     "metadata": {},
     "output_type": "execute_result"
    }
   ],
   "source": [
    "x_train.shape,x_test.shape"
   ]
  },
  {
   "cell_type": "code",
   "execution_count": 108,
   "id": "ee48da75",
   "metadata": {},
   "outputs": [],
   "source": [
    "#FS\n",
    "\n",
    "from sklearn.preprocessing import StandardScaler\n",
    "\n",
    "sc=StandardScaler()"
   ]
  },
  {
   "cell_type": "code",
   "execution_count": 109,
   "id": "2f679528",
   "metadata": {},
   "outputs": [],
   "source": [
    "x_train=sc.fit_transform(x_train)"
   ]
  },
  {
   "cell_type": "code",
   "execution_count": 110,
   "id": "f7606f60",
   "metadata": {},
   "outputs": [],
   "source": [
    "x_test=sc.transform(x_test)"
   ]
  },
  {
   "cell_type": "code",
   "execution_count": 113,
   "id": "a31579c7",
   "metadata": {},
   "outputs": [
    {
     "data": {
      "text/plain": [
       "((300, 2), (100, 2))"
      ]
     },
     "execution_count": 113,
     "metadata": {},
     "output_type": "execute_result"
    }
   ],
   "source": [
    "x_train.shape,x_test.shape"
   ]
  },
  {
   "cell_type": "code",
   "execution_count": 114,
   "id": "b25cc3c1",
   "metadata": {},
   "outputs": [],
   "source": [
    "from sklearn.neighbors import KNeighborsClassifier"
   ]
  },
  {
   "cell_type": "code",
   "execution_count": 115,
   "id": "2ff2ded7",
   "metadata": {},
   "outputs": [],
   "source": [
    "knn=KNeighborsClassifier(n_neighbors=5)"
   ]
  },
  {
   "cell_type": "code",
   "execution_count": 117,
   "id": "994cb244",
   "metadata": {},
   "outputs": [
    {
     "data": {
      "text/plain": [
       "KNeighborsClassifier()"
      ]
     },
     "execution_count": 117,
     "metadata": {},
     "output_type": "execute_result"
    }
   ],
   "source": [
    "knn.fit(x_train,y_train)"
   ]
  },
  {
   "cell_type": "code",
   "execution_count": 118,
   "id": "773eaa85",
   "metadata": {},
   "outputs": [],
   "source": [
    "y_pred=knn.predict(x_test)"
   ]
  },
  {
   "cell_type": "code",
   "execution_count": 119,
   "id": "7d42e082",
   "metadata": {},
   "outputs": [],
   "source": [
    "from sklearn.metrics import confusion_matrix"
   ]
  },
  {
   "cell_type": "code",
   "execution_count": 120,
   "id": "7930e19a",
   "metadata": {},
   "outputs": [
    {
     "data": {
      "text/plain": [
       "array([[64,  4],\n",
       "       [ 3, 29]])"
      ]
     },
     "execution_count": 120,
     "metadata": {},
     "output_type": "execute_result"
    }
   ],
   "source": [
    "confusion_matrix(y_test,y_pred)"
   ]
  },
  {
   "cell_type": "code",
   "execution_count": 121,
   "id": "bc71e4c5",
   "metadata": {},
   "outputs": [
    {
     "data": {
      "text/plain": [
       "0.93"
      ]
     },
     "execution_count": 121,
     "metadata": {},
     "output_type": "execute_result"
    }
   ],
   "source": [
    "from sklearn.metrics import accuracy_score\n",
    "\n",
    "accuracy_score(y_test,y_pred)"
   ]
  },
  {
   "cell_type": "code",
   "execution_count": 123,
   "id": "ef2e3b8a",
   "metadata": {},
   "outputs": [],
   "source": [
    "df=pd.get_dummies(df,columns=['Gender'],drop_first=True)"
   ]
  },
  {
   "cell_type": "code",
   "execution_count": 124,
   "id": "23ea2423",
   "metadata": {},
   "outputs": [
    {
     "data": {
      "text/html": [
       "<div>\n",
       "<style scoped>\n",
       "    .dataframe tbody tr th:only-of-type {\n",
       "        vertical-align: middle;\n",
       "    }\n",
       "\n",
       "    .dataframe tbody tr th {\n",
       "        vertical-align: top;\n",
       "    }\n",
       "\n",
       "    .dataframe thead th {\n",
       "        text-align: right;\n",
       "    }\n",
       "</style>\n",
       "<table border=\"1\" class=\"dataframe\">\n",
       "  <thead>\n",
       "    <tr style=\"text-align: right;\">\n",
       "      <th></th>\n",
       "      <th>User ID</th>\n",
       "      <th>Age</th>\n",
       "      <th>EstimatedSalary</th>\n",
       "      <th>Purchased</th>\n",
       "      <th>Gender_Male</th>\n",
       "    </tr>\n",
       "  </thead>\n",
       "  <tbody>\n",
       "    <tr>\n",
       "      <th>0</th>\n",
       "      <td>15624510</td>\n",
       "      <td>19</td>\n",
       "      <td>19000</td>\n",
       "      <td>0</td>\n",
       "      <td>1</td>\n",
       "    </tr>\n",
       "    <tr>\n",
       "      <th>1</th>\n",
       "      <td>15810944</td>\n",
       "      <td>35</td>\n",
       "      <td>20000</td>\n",
       "      <td>0</td>\n",
       "      <td>1</td>\n",
       "    </tr>\n",
       "    <tr>\n",
       "      <th>2</th>\n",
       "      <td>15668575</td>\n",
       "      <td>26</td>\n",
       "      <td>43000</td>\n",
       "      <td>0</td>\n",
       "      <td>0</td>\n",
       "    </tr>\n",
       "    <tr>\n",
       "      <th>3</th>\n",
       "      <td>15603246</td>\n",
       "      <td>27</td>\n",
       "      <td>57000</td>\n",
       "      <td>0</td>\n",
       "      <td>0</td>\n",
       "    </tr>\n",
       "    <tr>\n",
       "      <th>4</th>\n",
       "      <td>15804002</td>\n",
       "      <td>19</td>\n",
       "      <td>76000</td>\n",
       "      <td>0</td>\n",
       "      <td>1</td>\n",
       "    </tr>\n",
       "  </tbody>\n",
       "</table>\n",
       "</div>"
      ],
      "text/plain": [
       "    User ID  Age  EstimatedSalary  Purchased  Gender_Male\n",
       "0  15624510   19            19000          0            1\n",
       "1  15810944   35            20000          0            1\n",
       "2  15668575   26            43000          0            0\n",
       "3  15603246   27            57000          0            0\n",
       "4  15804002   19            76000          0            1"
      ]
     },
     "execution_count": 124,
     "metadata": {},
     "output_type": "execute_result"
    }
   ],
   "source": [
    "df.head()"
   ]
  },
  {
   "cell_type": "code",
   "execution_count": 128,
   "id": "d124be9f",
   "metadata": {},
   "outputs": [],
   "source": [
    "x=df.iloc[:,[1,2,4]].values"
   ]
  },
  {
   "cell_type": "code",
   "execution_count": 130,
   "id": "40f510b7",
   "metadata": {},
   "outputs": [],
   "source": [
    "y=df.iloc[:,-2].values"
   ]
  },
  {
   "cell_type": "code",
   "execution_count": null,
   "id": "7f80ceac",
   "metadata": {},
   "outputs": [],
   "source": [
    "#K-mean :\n",
    "#NLP :\n"
   ]
  },
  {
   "cell_type": "code",
   "execution_count": null,
   "id": "a846b489",
   "metadata": {},
   "outputs": [],
   "source": []
  }
 ],
 "metadata": {
  "kernelspec": {
   "display_name": "Python 3",
   "language": "python",
   "name": "python3"
  },
  "language_info": {
   "codemirror_mode": {
    "name": "ipython",
    "version": 3
   },
   "file_extension": ".py",
   "mimetype": "text/x-python",
   "name": "python",
   "nbconvert_exporter": "python",
   "pygments_lexer": "ipython3",
   "version": "3.8.3"
  }
 },
 "nbformat": 4,
 "nbformat_minor": 5
}
