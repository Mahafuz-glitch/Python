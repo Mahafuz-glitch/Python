{
 "cells": [
  {
   "cell_type": "code",
   "execution_count": 1,
   "id": "b8105886",
   "metadata": {},
   "outputs": [],
   "source": [
    "#1 [a-zA-Z0-9] [ _ ]\n",
    "#2 char, [ _ ]\n",
    "#3 space\n",
    "#4 keywords"
   ]
  },
  {
   "cell_type": "code",
   "execution_count": null,
   "id": "14ef4bd3",
   "metadata": {},
   "outputs": [],
   "source": [
    "1 : + , - , * , / , % ,// , **\n",
    "2 : == , != , < ,> <= ,>=\n",
    "3 : and , or , not    \n",
    "4 : in , not in\n",
    "\n",
    "condition1 and condition2\n",
    "T.           +        T.   : T\n",
    "F.           +        T.   : F\n",
    "T.           +        F.   : F\n",
    "F.           +        F.   : F\n",
    "\n",
    "    \n",
    "    \n",
    "\n",
    "condition1 or condition2\n",
    "T.           +        T.   : T\n",
    "F.           +        T.   : T\n",
    "T.           +        F.   : T\n",
    "F.           +        F.   : F\n",
    "    \n",
    "\n",
    "    \n",
    "    "
   ]
  },
  {
   "cell_type": "code",
   "execution_count": 5,
   "id": "0a73bc24",
   "metadata": {},
   "outputs": [],
   "source": [
    "data=[101,\"Amit\",23,\"Delhi\",45000]\n"
   ]
  },
  {
   "cell_type": "code",
   "execution_count": 6,
   "id": "afc558ba",
   "metadata": {},
   "outputs": [
    {
     "data": {
      "text/plain": [
       "True"
      ]
     },
     "execution_count": 6,
     "metadata": {},
     "output_type": "execute_result"
    }
   ],
   "source": [
    "23 in data"
   ]
  },
  {
   "cell_type": "code",
   "execution_count": 8,
   "id": "29322893",
   "metadata": {},
   "outputs": [
    {
     "data": {
      "text/plain": [
       "True"
      ]
     },
     "execution_count": 8,
     "metadata": {},
     "output_type": "execute_result"
    }
   ],
   "source": [
    "\"Amit\" in data"
   ]
  },
  {
   "cell_type": "code",
   "execution_count": 9,
   "id": "dbc9149f",
   "metadata": {},
   "outputs": [
    {
     "data": {
      "text/plain": [
       "True"
      ]
     },
     "execution_count": 9,
     "metadata": {},
     "output_type": "execute_result"
    }
   ],
   "source": [
    "34 not in data"
   ]
  },
  {
   "cell_type": "code",
   "execution_count": 26,
   "id": "75950916",
   "metadata": {},
   "outputs": [
    {
     "name": "stdout",
     "output_type": "stream",
     "text": [
      "Hello Welcome\n"
     ]
    }
   ],
   "source": [
    "#id=101\n",
    "name=\"Amit\"\n",
    "age=34\n",
    "\n",
    "id1,name1,age=102,\"Deepak\",45\n",
    "\n",
    "x=3\n",
    "y=3\n",
    "z=3\n",
    "\n",
    "\n",
    "a=b=c=45\n",
    "\n",
    "#print(name)\n",
    "#print(a,name,name1)\n",
    "\n",
    "print(\"Hello\",end=\" \")\n",
    "print(\"Welcome\")\n",
    "\n",
    "\n"
   ]
  },
  {
   "cell_type": "code",
   "execution_count": 21,
   "id": "ae92b01d",
   "metadata": {},
   "outputs": [],
   "source": [
    "#id() # shift+tab\n",
    "#help(id)"
   ]
  },
  {
   "cell_type": "code",
   "execution_count": 29,
   "id": "d31e9f4c",
   "metadata": {},
   "outputs": [
    {
     "name": "stdout",
     "output_type": "stream",
     "text": [
      "Enter a number :56\n"
     ]
    }
   ],
   "source": [
    "x=input(\"Enter a number :\")"
   ]
  },
  {
   "cell_type": "code",
   "execution_count": 31,
   "id": "0b841dbb",
   "metadata": {},
   "outputs": [
    {
     "name": "stdout",
     "output_type": "stream",
     "text": [
      "Enter a number :2\n",
      "Enter a number :3\n",
      "23\n"
     ]
    }
   ],
   "source": [
    "x=input(\"Enter a number :\")\n",
    "y=input(\"Enter a number :\")\n",
    "\n",
    "z=x+y\n",
    "\n",
    "print(z)   "
   ]
  },
  {
   "cell_type": "code",
   "execution_count": 37,
   "id": "5f56cb31",
   "metadata": {},
   "outputs": [
    {
     "name": "stdout",
     "output_type": "stream",
     "text": [
      "Enter a number :True\n"
     ]
    }
   ],
   "source": [
    "x=input(\"Enter a number :\") #return str"
   ]
  },
  {
   "cell_type": "code",
   "execution_count": 38,
   "id": "8bf39c6f",
   "metadata": {},
   "outputs": [
    {
     "data": {
      "text/plain": [
       "str"
      ]
     },
     "execution_count": 38,
     "metadata": {},
     "output_type": "execute_result"
    }
   ],
   "source": [
    "type(x)"
   ]
  },
  {
   "cell_type": "code",
   "execution_count": 41,
   "id": "f0b1524f",
   "metadata": {},
   "outputs": [
    {
     "name": "stdout",
     "output_type": "stream",
     "text": [
      "34\n",
      "<class 'str'>\n"
     ]
    }
   ],
   "source": [
    "data=open(\"/Users/admin/Documents/abc.txt\").read()\n",
    "print(data)\n",
    "print(type(data))"
   ]
  },
  {
   "cell_type": "code",
   "execution_count": null,
   "id": "4313d090",
   "metadata": {},
   "outputs": [],
   "source": [
    "x=\"45000$\"\n",
    "size=\"34mb\"\n",
    "p=\"56%\""
   ]
  },
  {
   "cell_type": "code",
   "execution_count": null,
   "id": "8bcc83cf",
   "metadata": {},
   "outputs": [],
   "source": [
    "#type casting : \n",
    "\n",
    "int , float , bool , str , complex :\n",
    "    \n",
    "1 int(45.6) => 45    \n",
    "2 int(True) => 1\n",
    "3 int('34') => 34 #[base10] [0-9]\n",
    "4 int(5+7j) => error  #can't convert complex to int\n",
    "\n",
    "\n",
    "1 float(23) => 23.0\n",
    "2 float(True) => 1.0\n",
    "3 float(\"34.6\") => 34.6\n",
    "4 float(5+6j) => error\n",
    "\n",
    "\n",
    "1 int  : bool(0) : False\n",
    "2 float : bool(0.0) : False\n",
    "3 str : bool('') : False\n",
    "4 complex : bool(0+0j) : False\n",
    "        \n",
    "\n",
    "1 str(23) => '23'\n",
    "2 str(3.4) => '3.4'\n",
    "3 str(True) => 'True'\n",
    "4 str(3+6j) => '(3+6j)'\n"
   ]
  },
  {
   "cell_type": "code",
   "execution_count": 44,
   "id": "ea1eb108",
   "metadata": {},
   "outputs": [],
   "source": [
    "x=45.6\n",
    "type(x)\n",
    "y=int(x)"
   ]
  },
  {
   "cell_type": "code",
   "execution_count": 63,
   "id": "22b544f8",
   "metadata": {},
   "outputs": [
    {
     "name": "stdout",
     "output_type": "stream",
     "text": [
      "Enter a number :2\n",
      "Enter a number :3\n",
      "5\n"
     ]
    }
   ],
   "source": [
    "x=input(\"Enter a number :\")\n",
    "y=input(\"Enter a number :\")\n",
    "\n",
    "a=int(x)\n",
    "b=int(y)\n",
    "\n",
    "z=a+b\n",
    "\n",
    "print(z) "
   ]
  },
  {
   "cell_type": "code",
   "execution_count": 64,
   "id": "46c4c575",
   "metadata": {},
   "outputs": [
    {
     "name": "stdout",
     "output_type": "stream",
     "text": [
      "Enter a number :2\n",
      "Enter a number :5\n",
      "7\n"
     ]
    }
   ],
   "source": [
    "x=int(input(\"Enter a number :\"))\n",
    "y=int(input(\"Enter a number :\"))\n",
    "\n",
    "z=x+y\n",
    "\n",
    "print(z) "
   ]
  },
  {
   "cell_type": "code",
   "execution_count": 73,
   "id": "7599c8e7",
   "metadata": {},
   "outputs": [
    {
     "data": {
      "text/plain": [
       "False"
      ]
     },
     "execution_count": 73,
     "metadata": {},
     "output_type": "execute_result"
    }
   ],
   "source": [
    "bool('')"
   ]
  },
  {
   "cell_type": "code",
   "execution_count": 74,
   "id": "29f9dccb",
   "metadata": {},
   "outputs": [],
   "source": [
    "x=''"
   ]
  },
  {
   "cell_type": "code",
   "execution_count": 75,
   "id": "dd675baf",
   "metadata": {},
   "outputs": [
    {
     "data": {
      "text/plain": [
       "0"
      ]
     },
     "execution_count": 75,
     "metadata": {},
     "output_type": "execute_result"
    }
   ],
   "source": [
    "len(x)"
   ]
  },
  {
   "cell_type": "code",
   "execution_count": null,
   "id": "d8a3fc70",
   "metadata": {},
   "outputs": [],
   "source": [
    "#1 if else"
   ]
  },
  {
   "cell_type": "code",
   "execution_count": 87,
   "id": "7fcf0948",
   "metadata": {},
   "outputs": [
    {
     "name": "stdout",
     "output_type": "stream",
     "text": [
      "line1\n",
      "line2\n",
      "line6\n"
     ]
    }
   ],
   "source": [
    "\n",
    "\n",
    "if 8>6 :\n",
    "    print(\"line1\")\n",
    "    print(\"line2\")\n",
    "\n",
    "else :\n",
    "    print(\"line3\")\n",
    "    print(\"line4\")\n",
    "\n",
    "    \n",
    "    \n",
    "    print(\"line5\")\n",
    "print(\"line6\")"
   ]
  },
  {
   "cell_type": "code",
   "execution_count": null,
   "id": "d3940336",
   "metadata": {},
   "outputs": [],
   "source": [
    "#if - else :\n",
    "\n",
    "if condition :\n",
    "    #Task : True\n",
    "\n",
    "\n",
    "==========================\n",
    "\n",
    "if condition:\n",
    "    #true\n",
    "else:\n",
    "    #False\n"
   ]
  },
  {
   "cell_type": "code",
   "execution_count": 90,
   "id": "0f772c33",
   "metadata": {},
   "outputs": [
    {
     "name": "stdout",
     "output_type": "stream",
     "text": [
      "Enter age :45\n",
      "valid\n"
     ]
    }
   ],
   "source": [
    "age=int(input(\"Enter age :\")) #23,5\n",
    "\n",
    "if age>18:\n",
    "    print(\"valid\")\n",
    "    \n"
   ]
  },
  {
   "cell_type": "code",
   "execution_count": 92,
   "id": "6bf534c9",
   "metadata": {},
   "outputs": [
    {
     "name": "stdout",
     "output_type": "stream",
     "text": [
      "Enter age :5\n",
      "not valid\n"
     ]
    }
   ],
   "source": [
    "age=int(input(\"Enter age :\")) #23,5\n",
    "\n",
    "if age>18:\n",
    "    print(\"valid\")\n",
    "else:\n",
    "    print(\"not valid\")"
   ]
  },
  {
   "cell_type": "code",
   "execution_count": 95,
   "id": "e42ed011",
   "metadata": {},
   "outputs": [
    {
     "name": "stdout",
     "output_type": "stream",
     "text": [
      "Enter a number :7\n",
      "Enter a number :7\n",
      "both are equal\n"
     ]
    }
   ],
   "source": [
    "x=int(input(\"Enter a number :\")) #5,7\n",
    "y=int(input(\"Enter a number :\")) #7,7\n",
    "\n",
    "if x!=y: #5!=7, 7!=7\n",
    "   if x>y:  #5>7\n",
    "      print(\"x is greater\")\n",
    "   else:\n",
    "      print(\"y is greater\")\n",
    "else:\n",
    "    print(\"both are equal\")"
   ]
  },
  {
   "cell_type": "code",
   "execution_count": 100,
   "id": "eab038d3",
   "metadata": {},
   "outputs": [
    {
     "name": "stdout",
     "output_type": "stream",
     "text": [
      "Enter day :SUnday\n",
      "Enter amount :7890\n",
      "after 10% discount price will be : 7101.0\n"
     ]
    }
   ],
   "source": [
    "day=input(\"Enter day :\")\n",
    "amount=int(input(\"Enter amount :\"))\n",
    "\n",
    "if day.lower()==\"sunday\" and amount>=5000:\n",
    "    discount=(amount*10)/100\n",
    "    amount=amount-discount\n",
    "    print(\"after 10% discount price will be :\",amount)\n",
    "else:\n",
    "    print(\"without discount price will be :\",amount)"
   ]
  },
  {
   "cell_type": "code",
   "execution_count": 101,
   "id": "46c381ed",
   "metadata": {},
   "outputs": [
    {
     "name": "stdout",
     "output_type": "stream",
     "text": [
      "Enter day :sunday\n",
      "Enter amount :4567\n",
      "after 5% discount price will be : 4338.65\n"
     ]
    }
   ],
   "source": [
    "day=input(\"Enter day :\")\n",
    "amount=int(input(\"Enter amount :\"))\n",
    "\n",
    "if day.lower()==\"sunday\" and amount>=5000:\n",
    "    discount=(amount*10)/100\n",
    "    amount=amount-discount\n",
    "    print(\"after 10% discount price will be :\",amount)\n",
    "elif   day.lower() == \"sunday\"    and  amount > 4000 :\n",
    "    discount=(amount*5)/100\n",
    "    amount=amount-discount\n",
    "    print(\"after 5% discount price will be :\",amount)\n",
    "else:  \n",
    "    print(\"without discount price will be :\",amount)\n",
    "    \n"
   ]
  },
  {
   "cell_type": "code",
   "execution_count": null,
   "id": "e567ffa3",
   "metadata": {},
   "outputs": [],
   "source": [
    "#loops\n",
    " "
   ]
  },
  {
   "cell_type": "code",
   "execution_count": null,
   "id": "43933773",
   "metadata": {},
   "outputs": [],
   "source": [
    "#range(start,end,step)\n",
    "\n",
    "start : default : 0\n",
    "end : (end - 1step)  \n",
    "steps :  default : +1    \n",
    "1-10.  :  1,2,3,4,5,6,7,8,9\n",
    "10-1   10,9,8,7,6,5,4,3,2 \n",
    "\n",
    "\n",
    "range(10) : [0-9] => [0,1,2,3,4...9]\n",
    "range(3,10) : [3-9] => [3,4,5...9]\n",
    "range(1,20,2) : [1-19] => [1,3,5,7...19]\n",
    "range(10,1,-1) : [10-2] => [10,9,8,7...2]\n",
    " \n"
   ]
  },
  {
   "cell_type": "code",
   "execution_count": 141,
   "id": "4e684ec6",
   "metadata": {},
   "outputs": [],
   "source": [
    "#loop => for , while\n",
    "\n",
    "#for loops\n",
    "\n",
    "#seq : list,tuple,dict,set,str,range\n",
    "#for var in seq:\n",
    "    #code\n",
    "\n",
    "#for x in range(10,1,-1):\n",
    "#    print(x)\n",
    "\n",
    "\n",
    "#while\n",
    "\n",
    "#while condition:\n",
    "    #code\n",
    "\n",
    "\n",
    "for x in range(1,11):\n",
    "    print(x)\n",
    "    \n",
    "    \n",
    "a=11\n",
    "while a<11:\n",
    "    print(a)\n",
    "    a=a+1\n",
    "    \n",
    "    \n",
    "    \n",
    "    \n",
    "    \n",
    "    "
   ]
  },
  {
   "cell_type": "code",
   "execution_count": 130,
   "id": "e8dafd80",
   "metadata": {},
   "outputs": [],
   "source": [
    "x=\"Deepak\""
   ]
  },
  {
   "cell_type": "code",
   "execution_count": 131,
   "id": "9a322c22",
   "metadata": {},
   "outputs": [
    {
     "data": {
      "text/plain": [
       "str"
      ]
     },
     "execution_count": 131,
     "metadata": {},
     "output_type": "execute_result"
    }
   ],
   "source": [
    "type(x)"
   ]
  },
  {
   "cell_type": "code",
   "execution_count": 132,
   "id": "0b5e9f15",
   "metadata": {},
   "outputs": [
    {
     "data": {
      "text/plain": [
       "6"
      ]
     },
     "execution_count": 132,
     "metadata": {},
     "output_type": "execute_result"
    }
   ],
   "source": [
    "len(x)"
   ]
  },
  {
   "cell_type": "code",
   "execution_count": 129,
   "id": "f2abe3db",
   "metadata": {},
   "outputs": [
    {
     "data": {
      "text/plain": [
       "('Amit', 'Deepak')"
      ]
     },
     "execution_count": 129,
     "metadata": {},
     "output_type": "execute_result"
    }
   ],
   "source": [
    "x"
   ]
  },
  {
   "cell_type": "code",
   "execution_count": null,
   "id": "3bf287f8",
   "metadata": {},
   "outputs": [],
   "source": [
    "#for,while\n",
    "#break,continue,pass\n",
    "#list\n",
    "#tuple"
   ]
  }
 ],
 "metadata": {
  "kernelspec": {
   "display_name": "Python 3",
   "language": "python",
   "name": "python3"
  },
  "language_info": {
   "codemirror_mode": {
    "name": "ipython",
    "version": 3
   },
   "file_extension": ".py",
   "mimetype": "text/x-python",
   "name": "python",
   "nbconvert_exporter": "python",
   "pygments_lexer": "ipython3",
   "version": "3.8.3"
  }
 },
 "nbformat": 4,
 "nbformat_minor": 5
}
