{
 "cells": [
  {
   "cell_type": "code",
   "execution_count": 11,
   "id": "9f12aafc",
   "metadata": {},
   "outputs": [
    {
     "name": "stdout",
     "output_type": "stream",
     "text": [
      "Enter username :amit\n",
      "Enter username :deepak\n",
      "Enter username :root\n"
     ]
    }
   ],
   "source": [
    "#for,while :\n",
    "\n",
    "#for var in range(1,11):\n",
    "#    print(var)\n",
    "\n",
    "'''\n",
    "x=1\n",
    "while x<=10:\n",
    "    print(x)\n",
    "    x=x+1\n",
    "'''\n",
    "\n",
    "name=None\n",
    "\n",
    "while name!=\"root\":\n",
    "    name=input(\"Enter username :\")  #amit\n",
    "\n",
    "\n",
    "    \n",
    "    \n",
    "    \n",
    "\n"
   ]
  },
  {
   "cell_type": "code",
   "execution_count": 9,
   "id": "59e07308",
   "metadata": {},
   "outputs": [],
   "source": [
    "y=None    #: null"
   ]
  },
  {
   "cell_type": "code",
   "execution_count": 10,
   "id": "3007ad48",
   "metadata": {},
   "outputs": [],
   "source": [
    "y=67"
   ]
  },
  {
   "cell_type": "code",
   "execution_count": null,
   "id": "a6c1b083",
   "metadata": {},
   "outputs": [],
   "source": [
    "#1 algorithm \n",
    "#2 flowchart\n"
   ]
  },
  {
   "cell_type": "code",
   "execution_count": 12,
   "id": "036c2ea2",
   "metadata": {},
   "outputs": [
    {
     "name": "stdout",
     "output_type": "stream",
     "text": [
      "1275\n"
     ]
    }
   ],
   "source": [
    "#1-50\n",
    "#result=0\n",
    "#for x in range(1,51):\n",
    "#    result=result+x\n",
    "#print(result)\n",
    "\n",
    "\n",
    "*\n",
    "**\n",
    "***\n",
    "****\n",
    "    "
   ]
  },
  {
   "cell_type": "code",
   "execution_count": 14,
   "id": "456b8936",
   "metadata": {},
   "outputs": [],
   "source": [
    "#1,50\n",
    "#for x in range(1,51):\n",
    "#    if x%2==0:\n",
    "#        print(x)\n"
   ]
  },
  {
   "cell_type": "code",
   "execution_count": 18,
   "id": "0a18a171",
   "metadata": {},
   "outputs": [
    {
     "name": "stdout",
     "output_type": "stream",
     "text": [
      "0\n",
      "1\n",
      "2\n"
     ]
    }
   ],
   "source": [
    "#break, continue\n",
    "\n",
    "for x in range(5):\n",
    "    if x==3:\n",
    "        break\n",
    "    print(x)\n",
    "    \n",
    "\n"
   ]
  },
  {
   "cell_type": "code",
   "execution_count": 19,
   "id": "e9cd99d2",
   "metadata": {},
   "outputs": [
    {
     "name": "stdout",
     "output_type": "stream",
     "text": [
      "Enter username :amit\n",
      "Enter username :deepak\n",
      "Enter username :abc\n",
      "Enter username :root\n",
      "welcome root\n"
     ]
    }
   ],
   "source": [
    "while True:\n",
    "    name=input(\"Enter username :\")\n",
    "    if name==\"root\":\n",
    "        print(\"welcome root\")\n",
    "        break\n",
    "    "
   ]
  },
  {
   "cell_type": "code",
   "execution_count": 24,
   "id": "762b1437",
   "metadata": {},
   "outputs": [
    {
     "name": "stdout",
     "output_type": "stream",
     "text": [
      "0\n",
      "1\n",
      "2\n",
      "4\n"
     ]
    }
   ],
   "source": [
    "#continue\n",
    "\n",
    "for x in range(5):\n",
    "    if x==3:\n",
    "        continue\n",
    "    print(x)\n",
    "    \n",
    "    \n"
   ]
  },
  {
   "cell_type": "code",
   "execution_count": 25,
   "id": "1723e6a3",
   "metadata": {},
   "outputs": [],
   "source": [
    "data=[234,789,654,123,89,456,342,901,89]"
   ]
  },
  {
   "cell_type": "code",
   "execution_count": 29,
   "id": "51d2e155",
   "metadata": {},
   "outputs": [
    {
     "name": "stdout",
     "output_type": "stream",
     "text": [
      "234\n",
      "123\n",
      "89\n",
      "456\n",
      "342\n",
      "89\n"
     ]
    }
   ],
   "source": [
    "for x in data:\n",
    "    if x>500:\n",
    "        continue\n",
    "    print(x)"
   ]
  },
  {
   "cell_type": "code",
   "execution_count": 35,
   "id": "55a23c70",
   "metadata": {},
   "outputs": [
    {
     "name": "stdout",
     "output_type": "stream",
     "text": [
      "else\n"
     ]
    }
   ],
   "source": [
    "#pass\n",
    "\n",
    "if 4>5:\n",
    "    pass\n",
    "else:\n",
    "    print(\"else\")"
   ]
  },
  {
   "cell_type": "code",
   "execution_count": 63,
   "id": "5a9d32a7",
   "metadata": {},
   "outputs": [
    {
     "name": "stdout",
     "output_type": "stream",
     "text": [
      "['Noida', 90, 78]\n"
     ]
    }
   ],
   "source": [
    "#list : collection of objects:\n",
    "#list : [ , ]\n",
    "#list : itemses will store based on index\n",
    "        #start : 0\n",
    "        #end : n-1 ( number of item)\n",
    "#list : homo,hetro,duplicate,None\n",
    "#list : mutable : add,update,delete\n",
    "        \n",
    "    \n",
    "\n",
    "list1=[101,\"Amit\",23,\"Delhi\",45000,\"Deepak\",100,\"Tarun\",56,78,90,\"Noida\"]\n",
    "#.      0.   1.    2.   3.    4\n",
    "list2=[23,45,678,90,32,65,78]\n",
    "#list3=list1+list2\n",
    "#print(\"Amit\" in list1)\n",
    "\n",
    "#list_name[index]\n",
    "#print(list1[1])\n",
    "\n",
    "#slice\n",
    "#list_name[start:end:step] #end-1\n",
    "#print(list1[1:5])\n",
    "#print(list1[:5])\n",
    "#print(list1[4:])\n",
    "#print(list1[4:])\n",
    "#print(list1[1:8:2])\n",
    "#print(list1[-4:-1])\n",
    "#print(list1[-1:-4:-1])  \n",
    "\n",
    "\n",
    "\n"
   ]
  },
  {
   "cell_type": "code",
   "execution_count": 68,
   "id": "fa168262",
   "metadata": {},
   "outputs": [
    {
     "name": "stdout",
     "output_type": "stream",
     "text": [
      "5\n"
     ]
    }
   ],
   "source": [
    "list1=[101,\"Amit\",23,\"Delhi\",45000]\n",
    "#.      0.   1.    2.   3.    4\n",
    "list2=[23,45,678,90,32,65,78]\n",
    "\n",
    "\n",
    "\n",
    "#update\n",
    "#list1[1]=\"Deepak\"\n",
    "#list1[1:3]=[\"Ram\",56]\n",
    "\n",
    "#delete\n",
    "#del list1[3]\n",
    "#del list1[1:3]\n",
    "\n",
    "#print(len(list1))\n",
    "\n"
   ]
  },
  {
   "cell_type": "code",
   "execution_count": 69,
   "id": "03412d1b",
   "metadata": {},
   "outputs": [
    {
     "name": "stdout",
     "output_type": "stream",
     "text": [
      "['__add__', '__class__', '__contains__', '__delattr__', '__delitem__', '__dir__', '__doc__', '__eq__', '__format__', '__ge__', '__getattribute__', '__getitem__', '__gt__', '__hash__', '__iadd__', '__imul__', '__init__', '__init_subclass__', '__iter__', '__le__', '__len__', '__lt__', '__mul__', '__ne__', '__new__', '__reduce__', '__reduce_ex__', '__repr__', '__reversed__', '__rmul__', '__setattr__', '__setitem__', '__sizeof__', '__str__', '__subclasshook__', 'append', 'clear', 'copy', 'count', 'extend', 'index', 'insert', 'pop', 'remove', 'reverse', 'sort']\n"
     ]
    }
   ],
   "source": [
    "print(dir(list))"
   ]
  },
  {
   "cell_type": "code",
   "execution_count": 91,
   "id": "63f917fd",
   "metadata": {},
   "outputs": [
    {
     "name": "stdout",
     "output_type": "stream",
     "text": [
      "[678, 90, 78, 65, 45, 32, 23]\n"
     ]
    }
   ],
   "source": [
    "list1=[101,\"Amit\",23,\"Delhi\",45000]\n",
    "#.      0.   1.    2.   3.    4\n",
    "list2=[23,45,678,90,32,65,78]\n",
    "\n",
    "\n",
    "#list1.append(45)\n",
    "#list1.insert(1,\"Deepak\")\n",
    "#list1.extend([2,3,4,5,6])\n",
    "\n",
    "#print(list1.index(\"Delhi\"))\n",
    "#print(list1.index(23))\n",
    "#print(list1.index(23,3))\n",
    "#list1=[23,101,\"Amit\",23,\"Delhi\",45000,23]\n",
    "#filnd index of all 23  ?\n",
    "#print(list1.count(23))\n",
    "#list3=list1\n",
    "#list4=list1.copy()\n",
    "#list1.clear()\n",
    "#print(list1.pop(1))\n",
    "#list1.remove(\"Delhi\")\n",
    "#list1.remove(23)\n",
    "#list1=[23,101,\"Amit\",23,\"Delhi\",45000,23]\n",
    "#remove all 23 from list\n",
    "#list1.reverse()\n",
    "#list2.sort()\n",
    "#list2.sort(reverse=True)\n",
    "print(list2)\n"
   ]
  },
  {
   "cell_type": "code",
   "execution_count": null,
   "id": "4811973a",
   "metadata": {},
   "outputs": [],
   "source": [
    "list1=[23,36,45,22,67,8,90,53,88]\n",
    "#find all even numbers and add them in a list"
   ]
  },
  {
   "cell_type": "code",
   "execution_count": 112,
   "id": "2c73aef3",
   "metadata": {},
   "outputs": [
    {
     "data": {
      "text/plain": [
       "3"
      ]
     },
     "execution_count": 112,
     "metadata": {},
     "output_type": "execute_result"
    }
   ],
   "source": [
    "#tuple : collection of items\n",
    "#tuple : ( , )\n",
    "#tuple : based on index : start : 0 end : (n-1)\n",
    "#tuple :homo,hetro,duplicate\n",
    "#tuple : immutable : \n",
    "\n",
    "\n",
    "#.   -5.  -4.  -3. -2.      -1\n",
    "t1=(101,\"Amit\",23,\"Delhi\",450000)\n",
    "#.   0.   1.   2.   3.     4\n",
    "\n",
    "t2=(23,56,78,90,21,65)\n",
    "\n",
    "#t3=t1+t2\n",
    "#print(\"Delhi\" in t1)\n",
    "#print(t1[-3])\n",
    "#print(t1[1:4])\n",
    "\n",
    "#t1[1]=\"Deepak\" #error\n",
    "#del t1[1] #error\n",
    "#len(t1)\n",
    "\n",
    "#t1.count(101)\n",
    "#t1.index(\"Delhi\")\n"
   ]
  },
  {
   "cell_type": "code",
   "execution_count": 96,
   "id": "4b44dd09",
   "metadata": {},
   "outputs": [
    {
     "data": {
      "text/plain": [
       "tuple"
      ]
     },
     "execution_count": 96,
     "metadata": {},
     "output_type": "execute_result"
    }
   ],
   "source": [
    "x=(23,)\n",
    "type(x)"
   ]
  },
  {
   "cell_type": "code",
   "execution_count": null,
   "id": "7e5b808c",
   "metadata": {},
   "outputs": [],
   "source": [
    "(5678*10)/100 => (56780)/100\n",
    "\n",
    "(4+7)+8. => (11)+8"
   ]
  },
  {
   "cell_type": "code",
   "execution_count": 97,
   "id": "b2694172",
   "metadata": {},
   "outputs": [],
   "source": [
    "x=3,4,5"
   ]
  },
  {
   "cell_type": "code",
   "execution_count": 98,
   "id": "b7e7d4d4",
   "metadata": {},
   "outputs": [
    {
     "data": {
      "text/plain": [
       "tuple"
      ]
     },
     "execution_count": 98,
     "metadata": {},
     "output_type": "execute_result"
    }
   ],
   "source": [
    "type(x)"
   ]
  },
  {
   "cell_type": "code",
   "execution_count": 110,
   "id": "9f82e927",
   "metadata": {},
   "outputs": [
    {
     "name": "stdout",
     "output_type": "stream",
     "text": [
      "['__add__', '__class__', '__contains__', '__delattr__', '__dir__', '__doc__', '__eq__', '__format__', '__ge__', '__getattribute__', '__getitem__', '__getnewargs__', '__gt__', '__hash__', '__init__', '__init_subclass__', '__iter__', '__le__', '__len__', '__lt__', '__mul__', '__ne__', '__new__', '__reduce__', '__reduce_ex__', '__repr__', '__rmul__', '__setattr__', '__sizeof__', '__str__', '__subclasshook__', 'count', 'index']\n"
     ]
    }
   ],
   "source": [
    "print(dir(tuple))"
   ]
  },
  {
   "cell_type": "code",
   "execution_count": 113,
   "id": "43945b59",
   "metadata": {},
   "outputs": [],
   "source": [
    "x=[2,3,4,5]\n",
    "y=(23,45,67,8)"
   ]
  },
  {
   "cell_type": "code",
   "execution_count": 114,
   "id": "99100dae",
   "metadata": {},
   "outputs": [
    {
     "data": {
      "text/plain": [
       "[23, 45, 67, 8]"
      ]
     },
     "execution_count": 114,
     "metadata": {},
     "output_type": "execute_result"
    }
   ],
   "source": [
    "list(y)"
   ]
  },
  {
   "cell_type": "code",
   "execution_count": 115,
   "id": "86b1ec74",
   "metadata": {},
   "outputs": [
    {
     "data": {
      "text/plain": [
       "(2, 3, 4, 5)"
      ]
     },
     "execution_count": 115,
     "metadata": {},
     "output_type": "execute_result"
    }
   ],
   "source": [
    "tuple(x)"
   ]
  },
  {
   "cell_type": "code",
   "execution_count": null,
   "id": "77d6d6c7",
   "metadata": {},
   "outputs": [],
   "source": [
    "#dict\n",
    "#set\n",
    "#str\n",
    "#function"
   ]
  }
 ],
 "metadata": {
  "kernelspec": {
   "display_name": "Python 3",
   "language": "python",
   "name": "python3"
  },
  "language_info": {
   "codemirror_mode": {
    "name": "ipython",
    "version": 3
   },
   "file_extension": ".py",
   "mimetype": "text/x-python",
   "name": "python",
   "nbconvert_exporter": "python",
   "pygments_lexer": "ipython3",
   "version": "3.8.3"
  }
 },
 "nbformat": 4,
 "nbformat_minor": 5
}
