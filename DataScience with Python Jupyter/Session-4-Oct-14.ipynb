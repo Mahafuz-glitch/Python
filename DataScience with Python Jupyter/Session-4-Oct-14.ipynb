{
 "cells": [
  {
   "cell_type": "code",
   "execution_count": 1,
   "id": "dc3b48fb",
   "metadata": {},
   "outputs": [
    {
     "name": "stdout",
     "output_type": "stream",
     "text": [
      "[36, 22, 8, 90, 88]\n"
     ]
    }
   ],
   "source": [
    "list4=[23,36,45,22,67,8,90,53,88]\n",
    "\n",
    "even=[]\n",
    "for x in list4:\n",
    "    if x%2==0:\n",
    "        even.append(x)\n",
    "        \n",
    "print(even)\n",
    "\n"
   ]
  },
  {
   "cell_type": "code",
   "execution_count": 2,
   "id": "0fddd821",
   "metadata": {},
   "outputs": [
    {
     "data": {
      "text/plain": [
       "[36, 22, 8, 90, 88]"
      ]
     },
     "execution_count": 2,
     "metadata": {},
     "output_type": "execute_result"
    }
   ],
   "source": [
    "#list comprehension:\n",
    "#List comprehension offers a shorter syntax when you want to create a new list based on the values of an existing list.\n",
    "\n",
    "list4=[23,36,45,22,67,8,90,53,88]\n",
    "\n",
    "list2=[ x     for x in list4      if x%2==0  ]\n",
    "\n",
    "list2"
   ]
  },
  {
   "cell_type": "code",
   "execution_count": 3,
   "id": "5b3d40a1",
   "metadata": {},
   "outputs": [
    {
     "data": {
      "text/plain": [
       "[90, 88]"
      ]
     },
     "execution_count": 3,
     "metadata": {},
     "output_type": "execute_result"
    }
   ],
   "source": [
    "list4=[23,36,45,22,67,8,90,53,88]\n",
    "\n",
    "even=[]\n",
    "for x in list4:\n",
    "    if x%2==0:\n",
    "        if x>50:\n",
    "            even.append(x)\n",
    "        \n",
    "even\n"
   ]
  },
  {
   "cell_type": "code",
   "execution_count": 4,
   "id": "5d21ea90",
   "metadata": {},
   "outputs": [
    {
     "data": {
      "text/plain": [
       "[90, 88]"
      ]
     },
     "execution_count": 4,
     "metadata": {},
     "output_type": "execute_result"
    }
   ],
   "source": [
    "list4=[23,36,45,22,67,8,90,53,88]\n",
    "\n",
    "\n",
    "list2=[ x  for x in list4 if x%2==0 if x>50 ]\n",
    "\n",
    "list2"
   ]
  },
  {
   "cell_type": "code",
   "execution_count": 5,
   "id": "793f897a",
   "metadata": {},
   "outputs": [
    {
     "data": {
      "text/plain": [
       "[4.6000000000000005, 7.2, 9.0, 4.4, 13.4, 1.6, 18.0, 10.600000000000001, 17.6]"
      ]
     },
     "execution_count": 5,
     "metadata": {},
     "output_type": "execute_result"
    }
   ],
   "source": [
    "list4=[23,36,45,22,67,8,90,53,88]\n",
    "\n",
    "list3=[ x*0.2    for x in list4 ]\n",
    "\n",
    "list3"
   ]
  },
  {
   "cell_type": "code",
   "execution_count": 6,
   "id": "3645e5bb",
   "metadata": {},
   "outputs": [
    {
     "data": {
      "text/plain": [
       "['Amit', 'Sam', 'Ram', 'Deepak']"
      ]
     },
     "execution_count": 6,
     "metadata": {},
     "output_type": "execute_result"
    }
   ],
   "source": [
    "names=[\"amit\",\"sam\",\"ram\",\"deepak\"]\n",
    "\n",
    "newnames=[name.title()   for name in names ]\n",
    "\n",
    "newnames"
   ]
  },
  {
   "cell_type": "code",
   "execution_count": 7,
   "id": "fbae6762",
   "metadata": {},
   "outputs": [
    {
     "name": "stdout",
     "output_type": "stream",
     "text": [
      "[23, 36, 45, 22, 67, 8, 90, 53, 88]\n",
      "[0, 1, 0, 1, 0, 1, 1, 0, 1]\n"
     ]
    }
   ],
   "source": [
    "list4=[23,36,45,22,67,8,90,53,88]\n",
    "\n",
    "list3=[1   if x%2==0  else 0   for x in list4]\n",
    "\n",
    "\n",
    "print(list4)\n",
    "print(list3)"
   ]
  },
  {
   "cell_type": "code",
   "execution_count": 13,
   "id": "822696e3",
   "metadata": {},
   "outputs": [],
   "source": [
    "#x=[101,\"Amit\",56,[4,5,6,7]]\n",
    "#print(x[3][1])\n",
    "\n",
    "x=(101,\"Amit\",56,[3,4,5])\n",
    "x[3][1]=200\n",
    "\n",
    "\n",
    "\n"
   ]
  },
  {
   "cell_type": "code",
   "execution_count": 41,
   "id": "49720db7",
   "metadata": {},
   "outputs": [],
   "source": [
    "#dict: collection of keys and values\n",
    "#dict: {k:v,k:v,k:v}\n",
    "#key : key must be immutable , key need to be unique\n",
    "#values : \n",
    "#dict : mutable : \n",
    "\n",
    "d1={\"id\":101,\"name\":\"Amit\",\"age\":23,\"city\":\"Delhi\",\"salary\":45000}\n",
    "\n",
    "d2={123:\"Deepak\"}\n",
    "\n",
    "\n",
    "#d3=d1+d2 #error\n",
    "#print(\"name\" in d1) #keys\n",
    "\n",
    "#dict_name[key]\n",
    "#print(d1['city'])\n",
    "#print(d1['abc']) #keyError\n",
    "#print(d1.get(\"abc\",\"key does not exists\"))\n",
    "\n",
    "#d1['name']=\"Pooja\"\n",
    "#del d1['salary']\n",
    "\n",
    "#print(len(d1))\n",
    "\n",
    "\n",
    "\n",
    "\n"
   ]
  },
  {
   "cell_type": "code",
   "execution_count": 54,
   "id": "f7ee54de",
   "metadata": {},
   "outputs": [],
   "source": [
    "d1={\"id\":101,\"name\":\"Amit\",\"age\":23,\"city\":\"Delhi\",\"salary\":45000}\n",
    "\n",
    "d2={123:\"Deepak\"}\n",
    "\n",
    "#add\n",
    "#d1['city']=\"India\" #not recommend\n",
    "#d1.setdefault('country','India')\n",
    "#d1.copy()\n",
    "#d1.clear()\n",
    "\n",
    "#k=list(d1.keys())\n",
    "#v=list(d1.values())\n",
    "#it=list(d1.items())\n",
    "\n",
    "#for x in d1.items():\n",
    "#    print(x[0],x[1])\n",
    "\n",
    "\n"
   ]
  },
  {
   "cell_type": "code",
   "execution_count": 55,
   "id": "8ec624e9",
   "metadata": {},
   "outputs": [],
   "source": [
    "d1={'people':[{'india':[{'id':101,\"name\":\"Amit\"},\n",
    "                        {\"id\":102,\"name\":\"Deepak\"}]}]}"
   ]
  },
  {
   "cell_type": "code",
   "execution_count": 60,
   "id": "d8d9acb3",
   "metadata": {},
   "outputs": [
    {
     "data": {
      "text/plain": [
       "'Deepak'"
      ]
     },
     "execution_count": 60,
     "metadata": {},
     "output_type": "execute_result"
    }
   ],
   "source": [
    "d1['people'][0]['india'][1]['name']"
   ]
  },
  {
   "cell_type": "code",
   "execution_count": 61,
   "id": "fb09dc7d",
   "metadata": {},
   "outputs": [
    {
     "data": {
      "text/plain": [
       "{'id': 101,\n",
       " 'name': 'Deepak',\n",
       " 'age': 23,\n",
       " 'city': 'Delhi',\n",
       " 'salary': 45000,\n",
       " 123: 'Deepak'}"
      ]
     },
     "execution_count": 61,
     "metadata": {},
     "output_type": "execute_result"
    }
   ],
   "source": [
    "d1={\"id\":101,\"name\":\"Amit\",\"age\":23,\"city\":\"Delhi\",\"salary\":45000}\n",
    "\n",
    "d2={123:\"Deepak\",\"name\":\"Deepak\",\"age\":23}\n",
    "\n",
    "\n",
    "d1.update(d2)\n",
    "\n",
    "d1"
   ]
  },
  {
   "cell_type": "code",
   "execution_count": 76,
   "id": "73ffdd53",
   "metadata": {},
   "outputs": [
    {
     "name": "stdout",
     "output_type": "stream",
     "text": [
      "{1, 3, 14}\n"
     ]
    }
   ],
   "source": [
    "#set : collection of unique value\n",
    "#set : {,}\n",
    "#set : not ordered \n",
    "#set : mutable\n",
    "\n",
    "\n",
    "s1={101,\"Amit\",23,\"Delhi\"}\n",
    "\n",
    "#s1.add(56)\n",
    "#s1.remove(\"Amit\")\n",
    "\n",
    "\n",
    "s1={1,3,6,9,14}\n",
    "s2={2,6,9,7,17}\n",
    "\n",
    "#print(s1.union(s2))\n",
    "#print(s1.intersection(s2))\n",
    "#print(s1.difference(s2))"
   ]
  },
  {
   "cell_type": "code",
   "execution_count": 64,
   "id": "9dfe83ab",
   "metadata": {},
   "outputs": [
    {
     "data": {
      "text/plain": [
       "set"
      ]
     },
     "execution_count": 64,
     "metadata": {},
     "output_type": "execute_result"
    }
   ],
   "source": [
    "s1={34}\n",
    "type(s1)"
   ]
  },
  {
   "cell_type": "code",
   "execution_count": 65,
   "id": "b2350490",
   "metadata": {},
   "outputs": [
    {
     "data": {
      "text/plain": [
       "set"
      ]
     },
     "execution_count": 65,
     "metadata": {},
     "output_type": "execute_result"
    }
   ],
   "source": [
    "s2=set()\n",
    "type(s2)"
   ]
  },
  {
   "cell_type": "code",
   "execution_count": 94,
   "id": "6e6f8dfb",
   "metadata": {},
   "outputs": [
    {
     "name": "stdout",
     "output_type": "stream",
     "text": [
      "19\n"
     ]
    }
   ],
   "source": [
    "#str :\n",
    "\n",
    "st1=\"welcome to ds class\"\n",
    "st2=\"to DS class\"\n",
    "\n",
    "\n",
    "#st3=st1+st2\n",
    "#print('to ds' in st1)\n",
    "#print(st1[2])\n",
    "#print(st1[-1])\n",
    "#print(st1[1:4])\n",
    "\n",
    "#st1[1]='t' #error\n",
    "#print(len(st1))\n",
    "\n",
    "\n",
    "\n",
    "\n",
    "\n"
   ]
  },
  {
   "cell_type": "code",
   "execution_count": 100,
   "id": "aa37959e",
   "metadata": {},
   "outputs": [
    {
     "name": "stdout",
     "output_type": "stream",
     "text": [
      "Enter a number :5\n",
      "Enter a number :9\n",
      "sum of 5 and 9 is 14\n"
     ]
    }
   ],
   "source": [
    "#path=r\"D:\\python\\newfiles\\temp\\abc.csv\"\n",
    "#path=\"D:\\\\python\\\\newfiles\\\\temp\\\\abc.csv\"\n",
    "\n",
    "x=int(input(\"Enter a number :\")) #2\n",
    "y=int(input(\"Enter a number :\")) #3\n",
    "\n",
    "z=x+y\n",
    "\n",
    "#st=\"sum of {} and {} is {}\".format(x,y,z)\n",
    "#st=f\"sum of {x} and {y} is {z}\"\n",
    "\n",
    "print(st)"
   ]
  },
  {
   "cell_type": "raw",
   "id": "a4bfe29c",
   "metadata": {},
   "source": []
  },
  {
   "cell_type": "code",
   "execution_count": 129,
   "id": "2a40eb1d",
   "metadata": {},
   "outputs": [
    {
     "data": {
      "text/plain": [
       "1000000"
      ]
     },
     "execution_count": 129,
     "metadata": {},
     "output_type": "execute_result"
    }
   ],
   "source": [
    "x=\"1,000,000+\"\n",
    "y=\"2.8M\"\n",
    "z=\"$4.99\"\n",
    "\n",
    "\n",
    "#a=float(y.rstrip('M'))\n",
    "#b=float(z.lstrip('$'))\n",
    "c=x.rstrip('+')\n",
    "c=c.replace(',','')\n",
    "int(c)"
   ]
  },
  {
   "cell_type": "code",
   "execution_count": 126,
   "id": "8b9290e2",
   "metadata": {},
   "outputs": [
    {
     "data": {
      "text/plain": [
       "'Hello Hi how are you'"
      ]
     },
     "execution_count": 126,
     "metadata": {},
     "output_type": "execute_result"
    }
   ],
   "source": [
    "x=\"hello hi how are you\"\n",
    "x.replace('h','H',2)"
   ]
  },
  {
   "cell_type": "code",
   "execution_count": 132,
   "id": "055601ee",
   "metadata": {},
   "outputs": [
    {
     "data": {
      "text/plain": [
       "['102', 'Deepak', '56']"
      ]
     },
     "execution_count": 132,
     "metadata": {},
     "output_type": "execute_result"
    }
   ],
   "source": [
    "data1=\"101,Amit,23,Delhi\"\n",
    "data2=\"102::Deepak::56\"\n",
    "\n",
    "#data1.split(',')\n",
    "#data2.split(\"::\")\n",
    "\n",
    "\n",
    "\n",
    "\n"
   ]
  },
  {
   "cell_type": "code",
   "execution_count": 133,
   "id": "14b3dec5",
   "metadata": {},
   "outputs": [
    {
     "name": "stdout",
     "output_type": "stream",
     "text": [
      "welcome to ds class\n",
      "WELCOME TO DS CLASS\n",
      "WELCOmE TO DS CLaSS\n",
      "Welcome To Ds Class\n",
      "Welcome to ds class\n"
     ]
    }
   ],
   "source": [
    "st=\"welcoMe to ds clAss\"\n",
    "\n",
    "print(st.lower())\n",
    "print(st.upper())\n",
    "print(st.swapcase())\n",
    "print(st.title())\n",
    "print(st.capitalize())"
   ]
  },
  {
   "cell_type": "code",
   "execution_count": 137,
   "id": "cdb35d4a",
   "metadata": {},
   "outputs": [
    {
     "name": "stdout",
     "output_type": "stream",
     "text": [
      "20\n"
     ]
    }
   ],
   "source": [
    "st=\"welcome to ds to class to\"\n",
    "\n",
    "#st.find(sub,start,end)\n",
    "\n",
    "#print(st.find('to')) #match will found : start index of match\n",
    "#print(st.find(\"tp\")) #not found : -1\n",
    "#print(st.find('to',10))\n",
    "\n",
    "#find index of all sub string...?\n"
   ]
  },
  {
   "cell_type": "code",
   "execution_count": null,
   "id": "eec4ffef",
   "metadata": {},
   "outputs": [],
   "source": [
    "#function\n",
    "#module\n",
    "#exception handling\n"
   ]
  }
 ],
 "metadata": {
  "kernelspec": {
   "display_name": "Python 3",
   "language": "python",
   "name": "python3"
  },
  "language_info": {
   "codemirror_mode": {
    "name": "ipython",
    "version": 3
   },
   "file_extension": ".py",
   "mimetype": "text/x-python",
   "name": "python",
   "nbconvert_exporter": "python",
   "pygments_lexer": "ipython3",
   "version": "3.8.3"
  }
 },
 "nbformat": 4,
 "nbformat_minor": 5
}
