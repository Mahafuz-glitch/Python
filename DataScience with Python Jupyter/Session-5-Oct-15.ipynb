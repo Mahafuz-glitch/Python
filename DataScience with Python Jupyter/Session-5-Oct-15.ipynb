{
 "cells": [
  {
   "cell_type": "code",
   "execution_count": 11,
   "id": "716a2a49",
   "metadata": {},
   "outputs": [
    {
     "name": "stdout",
     "output_type": "stream",
     "text": [
      "user.csv\n",
      "data.csv\n"
     ]
    }
   ],
   "source": [
    "#st=\"Hello:hi:how:are:you\"\n",
    "#st.split(':') #return list\n",
    "\n",
    "\n",
    "data=[\"abc.txt\",\"user.csv\",\"image.png\",\"file1.doc\",\"data.csv\"]\n",
    "\n",
    "#for file in data:\n",
    "#   x=file.split(\".\")\n",
    "#    if x[-1]==\"csv\":\n",
    "#        print(file)\n",
    "\n",
    "\n",
    "st=\"welcome\"\n",
    "#print(st.endswith(\"me\"))\n",
    "#print(st.startswith(\"we\"))\n",
    "\n",
    "for file in data:\n",
    "    if file.endswith(\".csv\"):\n",
    "        print(file)"
   ]
  },
  {
   "cell_type": "code",
   "execution_count": 14,
   "id": "2b7b237f",
   "metadata": {},
   "outputs": [
    {
     "data": {
      "text/plain": [
       "'hello my name is Amit'"
      ]
     },
     "execution_count": 14,
     "metadata": {},
     "output_type": "execute_result"
    }
   ],
   "source": [
    "list1=[\"hello\",\"my\",\"name\",\"is\",\"Amit\"]\n",
    "\n",
    "st=\" \".join(list1)\n",
    "\n",
    "st"
   ]
  },
  {
   "cell_type": "code",
   "execution_count": 18,
   "id": "c5eb34f4",
   "metadata": {},
   "outputs": [],
   "source": [
    "#function :\n",
    "#def fun_name(agrs):\n",
    "    #code\n",
    "\n",
    "def msg():\n",
    "    print(\"Hello Word this is my first function\")\n",
    "    \n",
    "\n",
    "#msg()\n",
    "\n",
    "\n"
   ]
  },
  {
   "cell_type": "code",
   "execution_count": 21,
   "id": "23ddde81",
   "metadata": {},
   "outputs": [],
   "source": [
    "def add():\n",
    "    x=2\n",
    "    y=3\n",
    "    z=x+y\n",
    "    print(z)\n",
    "    \n"
   ]
  },
  {
   "cell_type": "code",
   "execution_count": 22,
   "id": "aa08fe19",
   "metadata": {},
   "outputs": [],
   "source": [
    "def add(x,y):\n",
    "    z=x+y\n",
    "    print(z)\n",
    "    \n",
    "    "
   ]
  },
  {
   "cell_type": "code",
   "execution_count": 24,
   "id": "2f21ea9f",
   "metadata": {},
   "outputs": [
    {
     "name": "stdout",
     "output_type": "stream",
     "text": [
      "7\n"
     ]
    }
   ],
   "source": [
    "add(3,4)"
   ]
  },
  {
   "cell_type": "code",
   "execution_count": 25,
   "id": "83419929",
   "metadata": {},
   "outputs": [
    {
     "name": "stdout",
     "output_type": "stream",
     "text": [
      "14\n"
     ]
    }
   ],
   "source": [
    "add(10,4)"
   ]
  },
  {
   "cell_type": "code",
   "execution_count": 26,
   "id": "a972432c",
   "metadata": {},
   "outputs": [],
   "source": [
    "def info(id,name,city,salary):\n",
    "    print(\"id is. :\",id)\n",
    "    print(\"name is :\",name)\n",
    "    print(\"city is :\",city)\n",
    "    print(\"salary is :\",salary)\n",
    "    \n"
   ]
  },
  {
   "cell_type": "code",
   "execution_count": 28,
   "id": "2ef3b61c",
   "metadata": {},
   "outputs": [
    {
     "name": "stdout",
     "output_type": "stream",
     "text": [
      "id is. : 101\n",
      "name is : Amit\n",
      "city is : Delhi\n",
      "salary is : 45000\n"
     ]
    }
   ],
   "source": [
    "info(101,\"Amit\",\"Delhi\",45000)"
   ]
  },
  {
   "cell_type": "code",
   "execution_count": 31,
   "id": "ff3d08ec",
   "metadata": {},
   "outputs": [],
   "source": [
    "def info(id,name,city,salary):\n",
    "    print(\"id is. :\",id)\n",
    "    print(\"name is :\",name)\n",
    "    print(\"city is :\",city)\n",
    "    print(\"salary is :\",salary)"
   ]
  },
  {
   "cell_type": "code",
   "execution_count": 33,
   "id": "432439cf",
   "metadata": {},
   "outputs": [
    {
     "name": "stdout",
     "output_type": "stream",
     "text": [
      "id is. : 101\n",
      "name is : Amit\n",
      "city is : Delhi\n",
      "salary is : 45000\n"
     ]
    }
   ],
   "source": [
    "info(name=\"Amit\",city=\"Delhi\",salary=45000,id=101)"
   ]
  },
  {
   "cell_type": "code",
   "execution_count": 37,
   "id": "a551a0c6",
   "metadata": {},
   "outputs": [],
   "source": [
    "def info(id,name,city=\"Delhi\",salary=25000):\n",
    "    print(\"id is. :\",id)\n",
    "    print(\"name is :\",name)\n",
    "    print(\"city is :\",city)\n",
    "    print(\"salary is :\",salary)\n",
    "    \n"
   ]
  },
  {
   "cell_type": "code",
   "execution_count": 42,
   "id": "051098aa",
   "metadata": {},
   "outputs": [
    {
     "name": "stdout",
     "output_type": "stream",
     "text": [
      "id is. : 101\n",
      "name is : Amit\n",
      "city is : Delhi\n",
      "salary is : 56000\n"
     ]
    }
   ],
   "source": [
    "#info(101,\"Amit\")\n",
    "#info(101,\"Amit\",\"Noida\",45000)\n",
    "#info(101,\"Amit\",salary=56000)"
   ]
  },
  {
   "cell_type": "code",
   "execution_count": 53,
   "id": "e4749d0c",
   "metadata": {},
   "outputs": [
    {
     "name": "stdout",
     "output_type": "stream",
     "text": [
      "64.6\n"
     ]
    }
   ],
   "source": [
    "def add(*x):\n",
    "    result=0\n",
    "    for i in x:\n",
    "        result=result+i\n",
    "    print(result)\n",
    "\n",
    "\n",
    "add(4,4,6,7,8,9,5.6,6,7,8)\n",
    "\n",
    "\n"
   ]
  },
  {
   "cell_type": "code",
   "execution_count": 57,
   "id": "700646c3",
   "metadata": {},
   "outputs": [],
   "source": [
    "def add(*x):\n",
    "    result=0\n",
    "    for i in x:\n",
    "        result=result+i\n",
    "    return result\n",
    "\n",
    "    \n",
    "    "
   ]
  },
  {
   "cell_type": "code",
   "execution_count": 58,
   "id": "152d7caf",
   "metadata": {},
   "outputs": [
    {
     "name": "stdout",
     "output_type": "stream",
     "text": [
      "18\n"
     ]
    }
   ],
   "source": [
    "a=add(3,4,5,6)\n",
    "\n",
    "print(a)\n"
   ]
  },
  {
   "cell_type": "code",
   "execution_count": 64,
   "id": "dd344d8f",
   "metadata": {},
   "outputs": [],
   "source": [
    "def add(*x):\n",
    "    result=0\n",
    "    for i in x:\n",
    "        result=result+i\n",
    "    return result\n",
    "    \n",
    "    \n"
   ]
  },
  {
   "cell_type": "code",
   "execution_count": 63,
   "id": "f6394b7b",
   "metadata": {},
   "outputs": [
    {
     "name": "stdout",
     "output_type": "stream",
     "text": [
      "14\n"
     ]
    }
   ],
   "source": [
    "a=add(2,3,4,5)\n",
    "\n",
    "print(a)"
   ]
  },
  {
   "cell_type": "code",
   "execution_count": 66,
   "id": "96d70560",
   "metadata": {},
   "outputs": [
    {
     "name": "stdout",
     "output_type": "stream",
     "text": [
      "100 200\n",
      "100\n"
     ]
    },
    {
     "ename": "NameError",
     "evalue": "name 'p' is not defined",
     "output_type": "error",
     "traceback": [
      "\u001b[0;31m---------------------------------------------------------------------------\u001b[0m",
      "\u001b[0;31mNameError\u001b[0m                                 Traceback (most recent call last)",
      "\u001b[0;32m<ipython-input-66-71a89de2417f>\u001b[0m in \u001b[0;36m<module>\u001b[0;34m\u001b[0m\n\u001b[1;32m     16\u001b[0m \u001b[0;34m\u001b[0m\u001b[0m\n\u001b[1;32m     17\u001b[0m \u001b[0mm1\u001b[0m\u001b[0;34m(\u001b[0m\u001b[0;34m)\u001b[0m\u001b[0;34m\u001b[0m\u001b[0;34m\u001b[0m\u001b[0m\n\u001b[0;32m---> 18\u001b[0;31m \u001b[0mm2\u001b[0m\u001b[0;34m(\u001b[0m\u001b[0;34m)\u001b[0m\u001b[0;34m\u001b[0m\u001b[0;34m\u001b[0m\u001b[0m\n\u001b[0m\u001b[1;32m     19\u001b[0m \u001b[0;34m\u001b[0m\u001b[0m\n\u001b[1;32m     20\u001b[0m \u001b[0;34m\u001b[0m\u001b[0m\n",
      "\u001b[0;32m<ipython-input-66-71a89de2417f>\u001b[0m in \u001b[0;36mm2\u001b[0;34m()\u001b[0m\n\u001b[1;32m     13\u001b[0m \u001b[0;32mdef\u001b[0m \u001b[0mm2\u001b[0m\u001b[0;34m(\u001b[0m\u001b[0;34m)\u001b[0m\u001b[0;34m:\u001b[0m\u001b[0;34m\u001b[0m\u001b[0;34m\u001b[0m\u001b[0m\n\u001b[1;32m     14\u001b[0m     \u001b[0mprint\u001b[0m\u001b[0;34m(\u001b[0m\u001b[0mn\u001b[0m\u001b[0;34m)\u001b[0m\u001b[0;34m\u001b[0m\u001b[0;34m\u001b[0m\u001b[0m\n\u001b[0;32m---> 15\u001b[0;31m     \u001b[0mprint\u001b[0m\u001b[0;34m(\u001b[0m\u001b[0mp\u001b[0m\u001b[0;34m)\u001b[0m\u001b[0;34m\u001b[0m\u001b[0;34m\u001b[0m\u001b[0m\n\u001b[0m\u001b[1;32m     16\u001b[0m \u001b[0;34m\u001b[0m\u001b[0m\n\u001b[1;32m     17\u001b[0m \u001b[0mm1\u001b[0m\u001b[0;34m(\u001b[0m\u001b[0;34m)\u001b[0m\u001b[0;34m\u001b[0m\u001b[0;34m\u001b[0m\u001b[0m\n",
      "\u001b[0;31mNameError\u001b[0m: name 'p' is not defined"
     ]
    }
   ],
   "source": [
    "#types of variable\n",
    "\n",
    "#1 local variable : declared inside function\n",
    "#2 global variable : decalred outside function\n",
    "\n",
    "\n",
    "n=100 #global\n",
    "\n",
    "def m1():\n",
    "    p=200 #local varibale\n",
    "    print(n,p)\n",
    "    \n",
    "def m2():\n",
    "    print(n)\n",
    "    print(p)\n",
    "    \n",
    "m1()\n",
    "m2()\n",
    "\n",
    "def m3(r,t):\n",
    "    pass\n",
    "\n"
   ]
  },
  {
   "cell_type": "code",
   "execution_count": 80,
   "id": "148ef0b5",
   "metadata": {},
   "outputs": [
    {
     "name": "stdout",
     "output_type": "stream",
     "text": [
      "start\n",
      "can't div by zero\n",
      "end\n"
     ]
    }
   ],
   "source": [
    "print(\"start\")\n",
    "x=0\n",
    "try:\n",
    "  result=10/x\n",
    "  print(result)\n",
    "except ZeroDivisionError :\n",
    "    print(\"can't div by zero\")\n",
    "    \n",
    "\n",
    "print(\"end\")\n",
    "\n",
    "\n",
    "\n",
    "\n",
    "#try\n",
    "#except\n",
    "#finally\n",
    "#else\n",
    "\n",
    "\n",
    "\n",
    "\n",
    "\n"
   ]
  },
  {
   "cell_type": "code",
   "execution_count": 84,
   "id": "41c4269e",
   "metadata": {},
   "outputs": [
    {
     "name": "stdout",
     "output_type": "stream",
     "text": [
      "start\n",
      "can't div by zero\n",
      "end\n"
     ]
    }
   ],
   "source": [
    "print(\"start\")\n",
    "x=0\n",
    "list1=[2,6,9,3]\n",
    "try:\n",
    "  result=10/x\n",
    "  try:\n",
    "     print(list1[5])\n",
    "  except IndexError as ex:\n",
    "        print(ex)\n",
    "  print(result)\n",
    "except ZeroDivisionError :\n",
    "    print(\"can't div by zero\")\n",
    "    \n",
    "\n",
    "print(\"end\")"
   ]
  },
  {
   "cell_type": "code",
   "execution_count": 86,
   "id": "e8dcb3c2",
   "metadata": {},
   "outputs": [
    {
     "name": "stdout",
     "output_type": "stream",
     "text": [
      "start\n",
      "list index out of range\n",
      "end\n"
     ]
    }
   ],
   "source": [
    "print(\"start\")\n",
    "x=2\n",
    "list1=[2,6,9,3]\n",
    "try:\n",
    "  result=10/x\n",
    "  print(list1[5])\n",
    "  print(result)\n",
    "except ZeroDivisionError :\n",
    "    print(\"can't div by zero\")\n",
    "except IndexError as ex:\n",
    "        print(ex)   \n",
    "\n",
    "print(\"end\")"
   ]
  },
  {
   "cell_type": "code",
   "execution_count": 88,
   "id": "4b9e276d",
   "metadata": {},
   "outputs": [
    {
     "name": "stdout",
     "output_type": "stream",
     "text": [
      "start\n",
      "division by zero\n",
      "end\n"
     ]
    }
   ],
   "source": [
    "print(\"start\")\n",
    "x=0\n",
    "list1=[2,6,9,3]\n",
    "try:\n",
    "  result=10/x\n",
    "  print(list1[5])\n",
    "  print(result)\n",
    "except (ZeroDivisionError, IndexError) as ex :\n",
    "    print(ex)\n",
    "   \n",
    "\n",
    "print(\"end\")"
   ]
  },
  {
   "cell_type": "code",
   "execution_count": 91,
   "id": "d32f35ac",
   "metadata": {},
   "outputs": [
    {
     "name": "stdout",
     "output_type": "stream",
     "text": [
      "start\n",
      "division by zero\n",
      "end\n"
     ]
    }
   ],
   "source": [
    "print(\"start\")\n",
    "x=0\n",
    "list1=[2,6,9,3]\n",
    "try:  \n",
    "  result=10/x\n",
    "  print(list1[5])\n",
    "  print(result)\n",
    "except Exception as ex :\n",
    "    print(ex)\n",
    "   \n",
    "print(\"end\")"
   ]
  },
  {
   "cell_type": "code",
   "execution_count": null,
   "id": "a4fc1a18",
   "metadata": {},
   "outputs": [],
   "source": [
    "try:\n",
    "    read=open()\n",
    "    task\n",
    "\n",
    "except IOError as ex:\n",
    "    logging.error(\"issue with file\")\n",
    "except Exception as ex:\n",
    "    print()"
   ]
  },
  {
   "cell_type": "code",
   "execution_count": null,
   "id": "392abb6e",
   "metadata": {},
   "outputs": [],
   "source": [
    "print(\"start\")\n",
    "x=0\n",
    "list1=[2,6,9,3]\n",
    "try:  \n",
    "  result=10/x\n",
    "  print(list1[5])\n",
    "  print(result)\n",
    "except Exception as ex :\n",
    "    print(ex)\n",
    "   \n",
    "print(\"end\")\n",
    "\n",
    "\n",
    "\n",
    "'''\n",
    "try:\n",
    "    con=connect()\n",
    "    sql1\n",
    "    sql2 #error\n",
    "    sql3\n",
    "    \n",
    "except SQLException as ex:\n",
    "    print(ex)\n",
    "    \n",
    "finally:\n",
    "    con.close()\n",
    "'''\n",
    "\n"
   ]
  },
  {
   "cell_type": "code",
   "execution_count": 95,
   "id": "9127f57c",
   "metadata": {},
   "outputs": [
    {
     "name": "stdout",
     "output_type": "stream",
     "text": [
      "start\n",
      "division by zero\n",
      "finally block\n",
      "end\n"
     ]
    }
   ],
   "source": [
    "print(\"start\")\n",
    "x=0\n",
    "list1=[2,6,9,3]\n",
    "try:  \n",
    "  result=10/x\n",
    "  print(list1[2])\n",
    "  print(result)\n",
    "except Exception as ex :\n",
    "    print(ex)\n",
    "finally:\n",
    "    print(\"finally block\")\n",
    "print(\"end\")\n"
   ]
  },
  {
   "cell_type": "code",
   "execution_count": 99,
   "id": "285f0622",
   "metadata": {},
   "outputs": [
    {
     "name": "stdout",
     "output_type": "stream",
     "text": [
      "start\n",
      "division by zero\n",
      "finally block\n",
      "end\n"
     ]
    }
   ],
   "source": [
    "print(\"start\")\n",
    "x=0\n",
    "list1=[2,6,9,3]\n",
    "try:  \n",
    "  result=10/x\n",
    "  print(list1[2])\n",
    "  print(result)\n",
    "except Exception as ex:\n",
    "    print(ex)\n",
    "finally:\n",
    "    print(\"finally block\")\n",
    "\n",
    "print(\"end\")"
   ]
  },
  {
   "cell_type": "code",
   "execution_count": 101,
   "id": "89bb808b",
   "metadata": {},
   "outputs": [
    {
     "name": "stdout",
     "output_type": "stream",
     "text": [
      "start\n",
      "9\n",
      "5.0\n",
      "else block\n",
      "finally block\n",
      "end\n"
     ]
    }
   ],
   "source": [
    "print(\"start\")\n",
    "x=2\n",
    "list1=[2,6,9,3]\n",
    "try:  \n",
    "  result=10/x\n",
    "  print(list1[2])\n",
    "  print(result)\n",
    "except Exception as ex:\n",
    "    print(ex)\n",
    "else:\n",
    "    print(\"else block\")\n",
    "finally:\n",
    "    print(\"finally block\")\n",
    "\n",
    "print(\"end\")"
   ]
  },
  {
   "cell_type": "code",
   "execution_count": null,
   "id": "bb8964e6",
   "metadata": {},
   "outputs": [],
   "source": [
    "#moudle :\n",
    "read text\n",
    "web scarping\n"
   ]
  }
 ],
 "metadata": {
  "kernelspec": {
   "display_name": "Python 3",
   "language": "python",
   "name": "python3"
  },
  "language_info": {
   "codemirror_mode": {
    "name": "ipython",
    "version": 3
   },
   "file_extension": ".py",
   "mimetype": "text/x-python",
   "name": "python",
   "nbconvert_exporter": "python",
   "pygments_lexer": "ipython3",
   "version": "3.8.3"
  }
 },
 "nbformat": 4,
 "nbformat_minor": 5
}
