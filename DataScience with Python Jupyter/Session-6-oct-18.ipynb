{
 "cells": [
  {
   "cell_type": "code",
   "execution_count": 1,
   "id": "ba13e4a3",
   "metadata": {},
   "outputs": [],
   "source": [
    "#Module :  collection of related fucntion , varibales,classes,\n",
    "#.py => \n",
    "\n"
   ]
  },
  {
   "cell_type": "code",
   "execution_count": null,
   "id": "855107d0",
   "metadata": {},
   "outputs": [],
   "source": [
    "# text :\n",
    "\n",
    "f=open(\"filename\",\"mode\")\n",
    "\n",
    "mode:\n",
    "\n",
    "'r' : 'rt' : read : default mode\n",
    "'w' : 'wt' : write : if file exists : override, if not exists : create\n",
    "'a' : 'at' : append : if file exists : append, if not exists : create\n",
    "'r+' : 'rt+' : read and write\n",
    "'a+' : 'at+' : append and read \n",
    "\n",
    "    \n",
    "\n",
    "\n",
    "\n"
   ]
  },
  {
   "cell_type": "code",
   "execution_count": 7,
   "id": "b1eda99d",
   "metadata": {},
   "outputs": [
    {
     "data": {
      "text/plain": [
       "'/Users/admin'"
      ]
     },
     "execution_count": 7,
     "metadata": {},
     "output_type": "execute_result"
    }
   ],
   "source": [
    "import os\n",
    "\n",
    "os.getcwd()"
   ]
  },
  {
   "cell_type": "code",
   "execution_count": 12,
   "id": "79ee79a5",
   "metadata": {},
   "outputs": [],
   "source": [
    "f=open(\"/Users/admin/Movies/abc.txt\",\"w\")\n",
    "\n",
    "f.write(\"welcome to DS class\") #str \n",
    "\n",
    "f.close()"
   ]
  },
  {
   "cell_type": "code",
   "execution_count": 16,
   "id": "76b5d2b7",
   "metadata": {},
   "outputs": [],
   "source": [
    "f=open(\"/Users/admin/Movies/abc.txt\",\"a\")\n",
    "\n",
    "\n",
    "f.write(\"\\nHello Amit\")\n",
    "\n",
    "f.close()"
   ]
  },
  {
   "cell_type": "code",
   "execution_count": 22,
   "id": "3ef01b32",
   "metadata": {},
   "outputs": [
    {
     "name": "stdout",
     "output_type": "stream",
     "text": [
      "['A notebook integrates code and its output into a single document that combines visualizations,\\n', 'narrative text, mathematical equations, and other rich media. In other words:\\n', \"it's a single document where you can run code, display the output, and also add explanations,\\n\", 'formulas, charts, and make your work more transparent, understandable, repeatable, and shareable.']\n"
     ]
    }
   ],
   "source": [
    "f=open(\"/Users/admin/Movies/abc.txt\",\"r\")\n",
    "\n",
    "#data=f.read()\n",
    "#data=f.read(7)\n",
    "#data=f.readline()\n",
    "#data=f.readlines() #list\n",
    "\n",
    "\n",
    "f.close()\n"
   ]
  },
  {
   "cell_type": "code",
   "execution_count": 23,
   "id": "5326cb64",
   "metadata": {},
   "outputs": [
    {
     "name": "stdout",
     "output_type": "stream",
     "text": [
      "A note\n",
      "book integrates code and its output into a single document that combines visualizations,\n",
      "\n",
      "narrati\n",
      "ve text, mathematical equations, and other rich media. In other words:\n",
      "it's a single document where you can run code, display the output, and also add explanations,\n",
      "formulas, charts, and make your work more transparent, understandable, repeatable, and shareable.\n",
      "\n",
      "\n",
      "\n",
      "\n",
      "\n"
     ]
    }
   ],
   "source": [
    "f=open(\"/Users/admin/Movies/abc.txt\",\"r\")\n",
    "\n",
    "print(f.read(6))\n",
    "print(f.readline())\n",
    "print(f.read(7))\n",
    "print(f.read())\n",
    "print(f.read())\n",
    "\n",
    "f.close()\n",
    "\n",
    "\n"
   ]
  },
  {
   "cell_type": "code",
   "execution_count": 27,
   "id": "b07a5932",
   "metadata": {},
   "outputs": [
    {
     "name": "stdout",
     "output_type": "stream",
     "text": [
      "A notebook integrates code and its output into a single document that combines visualizations,\n",
      "narrative text, mathematical equations, and other rich media. In other words:\n",
      "it's a single document where you can run code, display the output, and also add explanations,\n",
      "formulas, charts, and make your work more transparent, understandable, repeatable, and shareable.\n",
      "\n",
      "\n",
      "\n",
      "\n",
      "A notebook integrates code and its output into a single document that combines visualizations,\n",
      "narrative text, mathematical equations, and other rich media. In other words:\n",
      "it's a single document where you can run code, display the output, and also add explanations,\n",
      "formulas, charts, and make your work more transparent, understandable, repeatable, and shareable.\n",
      "\n",
      "\n",
      "\n",
      "\n"
     ]
    }
   ],
   "source": [
    "f=open(\"/Users/admin/Movies/abc.txt\",\"r\")\n",
    "\n",
    "#print(f.tell())\n",
    "\n",
    "print(f.read())\n",
    "f.seek(0)\n",
    "print(f.read())\n",
    "\n",
    "f.close()\n"
   ]
  },
  {
   "cell_type": "code",
   "execution_count": 29,
   "id": "9524fe63",
   "metadata": {},
   "outputs": [
    {
     "name": "stdout",
     "output_type": "stream",
     "text": [
      "False\n",
      "True\n"
     ]
    }
   ],
   "source": [
    "with open(r\"/Users/admin/Movies/abc.txt\",\"r\") as f:\n",
    "    print(f.closed)\n",
    "print(f.closed)\n",
    "\n",
    "\n",
    "\n"
   ]
  },
  {
   "cell_type": "code",
   "execution_count": null,
   "id": "e0a42dfe",
   "metadata": {},
   "outputs": [],
   "source": [
    "#sql :\n",
    "#mysql ,sqlserver, => \n",
    "#mysql :\n",
    "\n",
    "#create database db_name;\n",
    "#use db_name; \n",
    "#create table table_name (id int , name varchar(256),age int);\n",
    "#insert into table_name values (id,name,age);\n",
    "\n",
    "\n",
    "# select * from table_name;\n",
    "# select col1,col2,col3 from table_name;\n",
    "# select * from table_name where condition:\n",
    "    \n",
    "    \n",
    "\n"
   ]
  },
  {
   "cell_type": "code",
   "execution_count": 41,
   "id": "32c553ef",
   "metadata": {},
   "outputs": [
    {
     "name": "stdout",
     "output_type": "stream",
     "text": [
      "((101, 'Amit', 23), (102, 'Deepak', 56), (103, 'Sam', 67), (104, 'tarun', 34), (105, 'Rahul', 33))\n"
     ]
    }
   ],
   "source": [
    "import pymysql\n",
    "try:\n",
    "   con=pymysql.connect(host=\"localhost\",user=\"root\",password=\"\",database=\"db_name\")\n",
    "   cur=con.cursor()\n",
    "   cur.execute(\"select * from user\")\n",
    "   #data=cur.fetchone()\n",
    "   data=cur.fetchall()\n",
    "   #data=cur.fetchmany(1)\n",
    "   print(data)\n",
    "   \n",
    "\n",
    "\n",
    "except Exception as ex:\n",
    "    print(ex)\n"
   ]
  },
  {
   "cell_type": "code",
   "execution_count": 44,
   "id": "668038ed",
   "metadata": {},
   "outputs": [],
   "source": [
    "import csv\n",
    "\n",
    "f=open(\"/Users/admin/Movies/user.csv\",\"w\")\n",
    "wrt=csv.writer(f)\n",
    "wrt.writerow([101,\"Amit\",34])\n",
    "\n",
    "f.close()"
   ]
  },
  {
   "cell_type": "code",
   "execution_count": 46,
   "id": "731ec272",
   "metadata": {},
   "outputs": [],
   "source": [
    "import pymysql\n",
    "import csv\n",
    "try:\n",
    "   con=pymysql.connect(host=\"localhost\",user=\"root\",password=\"\",database=\"db_name\")\n",
    "   cur=con.cursor()\n",
    "   cur.execute(\"select * from user\")\n",
    "   data=cur.fetchall()\n",
    "   f=open(\"/Users/admin/Movies/user.csv\",\"w\")\n",
    "   wrt=csv.writer(f)\n",
    "   wrt.writerows(data)\n",
    "   \n",
    "\n",
    "\n",
    "except Exception as ex:\n",
    "    print(ex)\n",
    "finally:\n",
    "    f.close()\n",
    "    con.close()"
   ]
  },
  {
   "cell_type": "code",
   "execution_count": 47,
   "id": "c888746d",
   "metadata": {},
   "outputs": [
    {
     "data": {
      "text/plain": [
       "[67, 34, 46, 12]"
      ]
     },
     "execution_count": 47,
     "metadata": {},
     "output_type": "execute_result"
    }
   ],
   "source": [
    "x=[12,34,46,67]\n",
    "x[0],x[-1]=x[-1],x[0]\n",
    "\n",
    "x\n"
   ]
  },
  {
   "cell_type": "code",
   "execution_count": 48,
   "id": "22023b0b",
   "metadata": {},
   "outputs": [],
   "source": [
    "x=5\n",
    "y=6\n",
    "x,y=y,x"
   ]
  },
  {
   "cell_type": "code",
   "execution_count": 49,
   "id": "3e937ee5",
   "metadata": {},
   "outputs": [
    {
     "data": {
      "text/plain": [
       "6"
      ]
     },
     "execution_count": 49,
     "metadata": {},
     "output_type": "execute_result"
    }
   ],
   "source": []
  },
  {
   "cell_type": "code",
   "execution_count": 50,
   "id": "551ec540",
   "metadata": {},
   "outputs": [
    {
     "data": {
      "text/plain": [
       "['H', 'e', 'l', 'l', 'o']"
      ]
     },
     "execution_count": 50,
     "metadata": {},
     "output_type": "execute_result"
    }
   ],
   "source": [
    "#list(\"Hello\")\n",
    "#[\"hello\"]\n",
    "#['h','e','l','l','o']"
   ]
  },
  {
   "cell_type": "code",
   "execution_count": 51,
   "id": "9c5d31a5",
   "metadata": {},
   "outputs": [
    {
     "data": {
      "text/plain": [
       "'cd'"
      ]
     },
     "execution_count": 51,
     "metadata": {},
     "output_type": "execute_result"
    }
   ],
   "source": [
    "\"abcd\"[2:]"
   ]
  },
  {
   "cell_type": "code",
   "execution_count": 52,
   "id": "c52e02f2",
   "metadata": {},
   "outputs": [
    {
     "data": {
      "text/plain": [
       "'1rn@'"
      ]
     },
     "execution_count": 52,
     "metadata": {},
     "output_type": "execute_result"
    }
   ],
   "source": [
    "\"1Rn@\".lower()\n"
   ]
  },
  {
   "cell_type": "code",
   "execution_count": null,
   "id": "2faf5d5e",
   "metadata": {},
   "outputs": [],
   "source": [
    "web scraping\n",
    "Numpy"
   ]
  }
 ],
 "metadata": {
  "kernelspec": {
   "display_name": "Python 3",
   "language": "python",
   "name": "python3"
  },
  "language_info": {
   "codemirror_mode": {
    "name": "ipython",
    "version": 3
   },
   "file_extension": ".py",
   "mimetype": "text/x-python",
   "name": "python",
   "nbconvert_exporter": "python",
   "pygments_lexer": "ipython3",
   "version": "3.8.3"
  }
 },
 "nbformat": 4,
 "nbformat_minor": 5
}
