{
 "cells": [
  {
   "cell_type": "code",
   "execution_count": 1,
   "id": "6fa113ea",
   "metadata": {},
   "outputs": [],
   "source": [
    "#webscraping :\n",
    "# bs4 => BeautifulSoup\n",
    "\n",
    "html_doc = \"\"\"\n",
    "<html><head><title>The Dormouse's story</title></head>\n",
    "<body>\n",
    "<p class=\"title\"><b>The Dormouse's story</b></p>\n",
    "\n",
    "<p class=\"story\">Once upon a time there were three little sisters; and their names were\n",
    "<a href=\"http://example.com/elsie\" class=\"sister\" id=\"link1\">Elsie</a>,\n",
    "<a href=\"http://example.com/lacie\" class=\"sister\" id=\"link2\">Lacie</a> and\n",
    "<a href=\"http://example.com/tillie\" class=\"sister\" id=\"link3\">Tillie</a>;\n",
    "and they lived at the bottom of a well.</p>\n",
    "\n",
    "<p class=\"story\">...</p>\n",
    "\"\"\"\n"
   ]
  },
  {
   "cell_type": "code",
   "execution_count": 2,
   "id": "325ea79c",
   "metadata": {},
   "outputs": [],
   "source": [
    "from bs4 import BeautifulSoup"
   ]
  },
  {
   "cell_type": "code",
   "execution_count": 3,
   "id": "fd5628aa",
   "metadata": {},
   "outputs": [],
   "source": [
    "soup=BeautifulSoup(html_doc,'html.parser')"
   ]
  },
  {
   "cell_type": "code",
   "execution_count": 7,
   "id": "c5ce8aa7",
   "metadata": {},
   "outputs": [],
   "source": [
    "#print(soup.prettify())"
   ]
  },
  {
   "cell_type": "code",
   "execution_count": 8,
   "id": "8bb2e43b",
   "metadata": {},
   "outputs": [
    {
     "data": {
      "text/plain": [
       "<title>The Dormouse's story</title>"
      ]
     },
     "execution_count": 8,
     "metadata": {},
     "output_type": "execute_result"
    }
   ],
   "source": [
    "soup.title"
   ]
  },
  {
   "cell_type": "code",
   "execution_count": 9,
   "id": "b27f5c9a",
   "metadata": {},
   "outputs": [
    {
     "data": {
      "text/plain": [
       "\"The Dormouse's story\""
      ]
     },
     "execution_count": 9,
     "metadata": {},
     "output_type": "execute_result"
    }
   ],
   "source": [
    "soup.title.get_text()"
   ]
  },
  {
   "cell_type": "code",
   "execution_count": 10,
   "id": "c9566ab7",
   "metadata": {},
   "outputs": [
    {
     "data": {
      "text/plain": [
       "<p class=\"title\"><b>The Dormouse's story</b></p>"
      ]
     },
     "execution_count": 10,
     "metadata": {},
     "output_type": "execute_result"
    }
   ],
   "source": [
    "soup.p"
   ]
  },
  {
   "cell_type": "code",
   "execution_count": 11,
   "id": "36ad09ea",
   "metadata": {},
   "outputs": [
    {
     "data": {
      "text/plain": [
       "<b>The Dormouse's story</b>"
      ]
     },
     "execution_count": 11,
     "metadata": {},
     "output_type": "execute_result"
    }
   ],
   "source": [
    "soup.p.b"
   ]
  },
  {
   "cell_type": "code",
   "execution_count": 12,
   "id": "a7668be6",
   "metadata": {},
   "outputs": [
    {
     "data": {
      "text/plain": [
       "\"The Dormouse's story\""
      ]
     },
     "execution_count": 12,
     "metadata": {},
     "output_type": "execute_result"
    }
   ],
   "source": [
    "soup.p.b.get_text()"
   ]
  },
  {
   "cell_type": "code",
   "execution_count": 13,
   "id": "233f9f63",
   "metadata": {},
   "outputs": [
    {
     "data": {
      "text/plain": [
       "[<a class=\"sister\" href=\"http://example.com/elsie\" id=\"link1\">Elsie</a>,\n",
       " <a class=\"sister\" href=\"http://example.com/lacie\" id=\"link2\">Lacie</a>,\n",
       " <a class=\"sister\" href=\"http://example.com/tillie\" id=\"link3\">Tillie</a>]"
      ]
     },
     "execution_count": 13,
     "metadata": {},
     "output_type": "execute_result"
    }
   ],
   "source": [
    "soup.find_all('a') #list"
   ]
  },
  {
   "cell_type": "code",
   "execution_count": 14,
   "id": "819b6c0a",
   "metadata": {},
   "outputs": [
    {
     "data": {
      "text/plain": [
       "[<p class=\"title\"><b>The Dormouse's story</b></p>,\n",
       " <p class=\"story\">Once upon a time there were three little sisters; and their names were\n",
       " <a class=\"sister\" href=\"http://example.com/elsie\" id=\"link1\">Elsie</a>,\n",
       " <a class=\"sister\" href=\"http://example.com/lacie\" id=\"link2\">Lacie</a> and\n",
       " <a class=\"sister\" href=\"http://example.com/tillie\" id=\"link3\">Tillie</a>;\n",
       " and they lived at the bottom of a well.</p>,\n",
       " <p class=\"story\">...</p>]"
      ]
     },
     "execution_count": 14,
     "metadata": {},
     "output_type": "execute_result"
    }
   ],
   "source": [
    "soup.find_all('p')"
   ]
  },
  {
   "cell_type": "code",
   "execution_count": 15,
   "id": "b3563a2d",
   "metadata": {},
   "outputs": [
    {
     "data": {
      "text/plain": [
       "[<p class=\"story\">Once upon a time there were three little sisters; and their names were\n",
       " <a class=\"sister\" href=\"http://example.com/elsie\" id=\"link1\">Elsie</a>,\n",
       " <a class=\"sister\" href=\"http://example.com/lacie\" id=\"link2\">Lacie</a> and\n",
       " <a class=\"sister\" href=\"http://example.com/tillie\" id=\"link3\">Tillie</a>;\n",
       " and they lived at the bottom of a well.</p>,\n",
       " <p class=\"story\">...</p>]"
      ]
     },
     "execution_count": 15,
     "metadata": {},
     "output_type": "execute_result"
    }
   ],
   "source": [
    "soup.find_all('p','story')"
   ]
  },
  {
   "cell_type": "code",
   "execution_count": 16,
   "id": "7e134449",
   "metadata": {},
   "outputs": [
    {
     "data": {
      "text/plain": [
       "<p class=\"story\">Once upon a time there were three little sisters; and their names were\n",
       "<a class=\"sister\" href=\"http://example.com/elsie\" id=\"link1\">Elsie</a>,\n",
       "<a class=\"sister\" href=\"http://example.com/lacie\" id=\"link2\">Lacie</a> and\n",
       "<a class=\"sister\" href=\"http://example.com/tillie\" id=\"link3\">Tillie</a>;\n",
       "and they lived at the bottom of a well.</p>"
      ]
     },
     "execution_count": 16,
     "metadata": {},
     "output_type": "execute_result"
    }
   ],
   "source": [
    "soup.find('p','story')"
   ]
  },
  {
   "cell_type": "code",
   "execution_count": 19,
   "id": "760b7d4e",
   "metadata": {},
   "outputs": [
    {
     "data": {
      "text/plain": [
       "<a class=\"sister\" href=\"http://example.com/lacie\" id=\"link2\">Lacie</a>"
      ]
     },
     "execution_count": 19,
     "metadata": {},
     "output_type": "execute_result"
    }
   ],
   "source": [
    "soup.find(id='link2')"
   ]
  },
  {
   "cell_type": "code",
   "execution_count": 20,
   "id": "3befbf65",
   "metadata": {},
   "outputs": [],
   "source": [
    "import urllib.request"
   ]
  },
  {
   "cell_type": "code",
   "execution_count": 21,
   "id": "00d458fa",
   "metadata": {},
   "outputs": [],
   "source": [
    "page=urllib.request.urlopen(\"https://en.wikipedia.org/wiki/List_of_state_and_union_territory_capitals_in_India\")"
   ]
  },
  {
   "cell_type": "code",
   "execution_count": 22,
   "id": "f828458d",
   "metadata": {},
   "outputs": [
    {
     "data": {
      "text/plain": [
       "200"
      ]
     },
     "execution_count": 22,
     "metadata": {},
     "output_type": "execute_result"
    }
   ],
   "source": [
    "page.status"
   ]
  },
  {
   "cell_type": "code",
   "execution_count": 24,
   "id": "d579d37d",
   "metadata": {},
   "outputs": [],
   "source": [
    "soup=BeautifulSoup(page,'html.parser')"
   ]
  },
  {
   "cell_type": "code",
   "execution_count": 26,
   "id": "9e9e6040",
   "metadata": {},
   "outputs": [],
   "source": [
    "table=soup.find('table',\"wikitable sortable plainrowheaders\")"
   ]
  },
  {
   "cell_type": "code",
   "execution_count": 28,
   "id": "9d6e41f8",
   "metadata": {},
   "outputs": [],
   "source": [
    "import pandas as pd"
   ]
  },
  {
   "cell_type": "code",
   "execution_count": 29,
   "id": "fb922104",
   "metadata": {},
   "outputs": [],
   "source": [
    "df=pd.read_html(str(table))"
   ]
  },
  {
   "cell_type": "code",
   "execution_count": 31,
   "id": "f250fecc",
   "metadata": {},
   "outputs": [
    {
     "data": {
      "text/html": [
       "<div>\n",
       "<style scoped>\n",
       "    .dataframe tbody tr th:only-of-type {\n",
       "        vertical-align: middle;\n",
       "    }\n",
       "\n",
       "    .dataframe tbody tr th {\n",
       "        vertical-align: top;\n",
       "    }\n",
       "\n",
       "    .dataframe thead th {\n",
       "        text-align: right;\n",
       "    }\n",
       "</style>\n",
       "<table border=\"1\" class=\"dataframe\">\n",
       "  <thead>\n",
       "    <tr style=\"text-align: right;\">\n",
       "      <th></th>\n",
       "      <th>No.</th>\n",
       "      <th>State</th>\n",
       "      <th>Administrative / Executive capital</th>\n",
       "      <th>Legislative capital</th>\n",
       "      <th>Judicial capital</th>\n",
       "      <th>Year of establishment</th>\n",
       "      <th>Former capital</th>\n",
       "    </tr>\n",
       "  </thead>\n",
       "  <tbody>\n",
       "    <tr>\n",
       "      <th>0</th>\n",
       "      <td>1</td>\n",
       "      <td>Andhra Pradesh</td>\n",
       "      <td>Visakhapatnam[3]</td>\n",
       "      <td>Amaravati[3]</td>\n",
       "      <td>Kurnool[3]</td>\n",
       "      <td>1956</td>\n",
       "      <td>Hyderabad[a](1956–2017) Amaravati (2017-2020)</td>\n",
       "    </tr>\n",
       "    <tr>\n",
       "      <th>1</th>\n",
       "      <td>2</td>\n",
       "      <td>Arunachal Pradesh</td>\n",
       "      <td>Itanagar</td>\n",
       "      <td>Itanagar</td>\n",
       "      <td>Guwahati</td>\n",
       "      <td>1987</td>\n",
       "      <td>—</td>\n",
       "    </tr>\n",
       "    <tr>\n",
       "      <th>2</th>\n",
       "      <td>3</td>\n",
       "      <td>Assam</td>\n",
       "      <td>Dispur</td>\n",
       "      <td>Dispur</td>\n",
       "      <td>Guwahati</td>\n",
       "      <td>1972</td>\n",
       "      <td>Shillong[b] (1950–1972)</td>\n",
       "    </tr>\n",
       "    <tr>\n",
       "      <th>3</th>\n",
       "      <td>4</td>\n",
       "      <td>Bihar</td>\n",
       "      <td>Patna</td>\n",
       "      <td>Patna</td>\n",
       "      <td>Patna</td>\n",
       "      <td>1950</td>\n",
       "      <td>—</td>\n",
       "    </tr>\n",
       "    <tr>\n",
       "      <th>4</th>\n",
       "      <td>5</td>\n",
       "      <td>Chhattisgarh</td>\n",
       "      <td>Naya Raipur [c]</td>\n",
       "      <td>Raipur</td>\n",
       "      <td>Bilaspur</td>\n",
       "      <td>2000</td>\n",
       "      <td>—</td>\n",
       "    </tr>\n",
       "    <tr>\n",
       "      <th>5</th>\n",
       "      <td>6</td>\n",
       "      <td>Goa</td>\n",
       "      <td>Panaji [d]</td>\n",
       "      <td>Porvorim</td>\n",
       "      <td>Mumbai</td>\n",
       "      <td>1987</td>\n",
       "      <td>—</td>\n",
       "    </tr>\n",
       "    <tr>\n",
       "      <th>6</th>\n",
       "      <td>7</td>\n",
       "      <td>Gujarat</td>\n",
       "      <td>Gandhinagar</td>\n",
       "      <td>Gandhinagar</td>\n",
       "      <td>Ahmedabad</td>\n",
       "      <td>1960</td>\n",
       "      <td>Ahmedabad (1960–1970)</td>\n",
       "    </tr>\n",
       "    <tr>\n",
       "      <th>7</th>\n",
       "      <td>8</td>\n",
       "      <td>Haryana</td>\n",
       "      <td>Chandigarh</td>\n",
       "      <td>Chandigarh</td>\n",
       "      <td>Chandigarh</td>\n",
       "      <td>1966</td>\n",
       "      <td>—</td>\n",
       "    </tr>\n",
       "    <tr>\n",
       "      <th>8</th>\n",
       "      <td>9</td>\n",
       "      <td>Himachal Pradesh</td>\n",
       "      <td>Shimla</td>\n",
       "      <td>Shimla (Summer)Dharamsala (Winter)[6]</td>\n",
       "      <td>Shimla</td>\n",
       "      <td>1971</td>\n",
       "      <td>—</td>\n",
       "    </tr>\n",
       "    <tr>\n",
       "      <th>9</th>\n",
       "      <td>10</td>\n",
       "      <td>Jharkhand</td>\n",
       "      <td>Ranchi</td>\n",
       "      <td>Ranchi</td>\n",
       "      <td>Ranchi</td>\n",
       "      <td>2000</td>\n",
       "      <td>—</td>\n",
       "    </tr>\n",
       "    <tr>\n",
       "      <th>10</th>\n",
       "      <td>11</td>\n",
       "      <td>Karnataka</td>\n",
       "      <td>Bengaluru</td>\n",
       "      <td>Bengaluru</td>\n",
       "      <td>Bengaluru</td>\n",
       "      <td>1956</td>\n",
       "      <td>—</td>\n",
       "    </tr>\n",
       "    <tr>\n",
       "      <th>11</th>\n",
       "      <td>12</td>\n",
       "      <td>Kerala</td>\n",
       "      <td>Thiruvananthapuram</td>\n",
       "      <td>Thiruvananthapuram</td>\n",
       "      <td>Ernakulam</td>\n",
       "      <td>1956</td>\n",
       "      <td>—</td>\n",
       "    </tr>\n",
       "    <tr>\n",
       "      <th>12</th>\n",
       "      <td>13</td>\n",
       "      <td>Madhya Pradesh</td>\n",
       "      <td>Bhopal</td>\n",
       "      <td>Bhopal</td>\n",
       "      <td>Jabalpur</td>\n",
       "      <td>1956</td>\n",
       "      <td>—</td>\n",
       "    </tr>\n",
       "    <tr>\n",
       "      <th>13</th>\n",
       "      <td>14</td>\n",
       "      <td>Maharashtra</td>\n",
       "      <td>Mumbai[e]</td>\n",
       "      <td>Mumbai (Summer) Nagpur (Winter)</td>\n",
       "      <td>Mumbai</td>\n",
       "      <td>1960</td>\n",
       "      <td>—</td>\n",
       "    </tr>\n",
       "    <tr>\n",
       "      <th>14</th>\n",
       "      <td>15</td>\n",
       "      <td>Manipur</td>\n",
       "      <td>Imphal</td>\n",
       "      <td>Imphal</td>\n",
       "      <td>Imphal</td>\n",
       "      <td>1972</td>\n",
       "      <td>—</td>\n",
       "    </tr>\n",
       "    <tr>\n",
       "      <th>15</th>\n",
       "      <td>16</td>\n",
       "      <td>Meghalaya</td>\n",
       "      <td>Shillong</td>\n",
       "      <td>Shillong</td>\n",
       "      <td>Shillong</td>\n",
       "      <td>1972</td>\n",
       "      <td>—</td>\n",
       "    </tr>\n",
       "    <tr>\n",
       "      <th>16</th>\n",
       "      <td>17</td>\n",
       "      <td>Mizoram</td>\n",
       "      <td>Aizawl</td>\n",
       "      <td>Aizawl</td>\n",
       "      <td>Guwahati</td>\n",
       "      <td>1987</td>\n",
       "      <td>—</td>\n",
       "    </tr>\n",
       "    <tr>\n",
       "      <th>17</th>\n",
       "      <td>18</td>\n",
       "      <td>Nagaland</td>\n",
       "      <td>Kohima</td>\n",
       "      <td>Kohima</td>\n",
       "      <td>Guwahati</td>\n",
       "      <td>1963</td>\n",
       "      <td>—</td>\n",
       "    </tr>\n",
       "    <tr>\n",
       "      <th>18</th>\n",
       "      <td>19</td>\n",
       "      <td>Odisha</td>\n",
       "      <td>Bhubaneswar</td>\n",
       "      <td>Bhubaneswar</td>\n",
       "      <td>Cuttack</td>\n",
       "      <td>1950</td>\n",
       "      <td>NaN</td>\n",
       "    </tr>\n",
       "    <tr>\n",
       "      <th>19</th>\n",
       "      <td>20</td>\n",
       "      <td>Punjab</td>\n",
       "      <td>Chandigarh</td>\n",
       "      <td>Chandigarh</td>\n",
       "      <td>Chandigarh</td>\n",
       "      <td>1966</td>\n",
       "      <td>—</td>\n",
       "    </tr>\n",
       "    <tr>\n",
       "      <th>20</th>\n",
       "      <td>21</td>\n",
       "      <td>Rajasthan</td>\n",
       "      <td>Jaipur</td>\n",
       "      <td>Jaipur</td>\n",
       "      <td>Jodhpur</td>\n",
       "      <td>1950</td>\n",
       "      <td>—</td>\n",
       "    </tr>\n",
       "    <tr>\n",
       "      <th>21</th>\n",
       "      <td>22</td>\n",
       "      <td>Sikkim</td>\n",
       "      <td>Gangtok[f]</td>\n",
       "      <td>Gangtok</td>\n",
       "      <td>Gangtok</td>\n",
       "      <td>1975</td>\n",
       "      <td>—</td>\n",
       "    </tr>\n",
       "    <tr>\n",
       "      <th>22</th>\n",
       "      <td>23</td>\n",
       "      <td>Tamil Nadu</td>\n",
       "      <td>Chennai[g]</td>\n",
       "      <td>Chennai</td>\n",
       "      <td>Chennai</td>\n",
       "      <td>1956</td>\n",
       "      <td>—</td>\n",
       "    </tr>\n",
       "    <tr>\n",
       "      <th>23</th>\n",
       "      <td>24</td>\n",
       "      <td>Telangana</td>\n",
       "      <td>Hyderabad</td>\n",
       "      <td>Hyderabad</td>\n",
       "      <td>Hyderabad</td>\n",
       "      <td>2014</td>\n",
       "      <td>—</td>\n",
       "    </tr>\n",
       "    <tr>\n",
       "      <th>24</th>\n",
       "      <td>25</td>\n",
       "      <td>Tripura</td>\n",
       "      <td>Agartala</td>\n",
       "      <td>Agartala</td>\n",
       "      <td>Agartala</td>\n",
       "      <td>1972</td>\n",
       "      <td>—</td>\n",
       "    </tr>\n",
       "    <tr>\n",
       "      <th>25</th>\n",
       "      <td>26</td>\n",
       "      <td>Uttar Pradesh</td>\n",
       "      <td>Lucknow</td>\n",
       "      <td>Lucknow</td>\n",
       "      <td>Prayagraj</td>\n",
       "      <td>1950</td>\n",
       "      <td>—</td>\n",
       "    </tr>\n",
       "    <tr>\n",
       "      <th>26</th>\n",
       "      <td>27</td>\n",
       "      <td>Uttarakhand</td>\n",
       "      <td>Gairsain (summer) Dehradun (winter)</td>\n",
       "      <td>Gairsain (summer)[8]Dehradun (winter)</td>\n",
       "      <td>Nainital</td>\n",
       "      <td>2000</td>\n",
       "      <td>—</td>\n",
       "    </tr>\n",
       "    <tr>\n",
       "      <th>27</th>\n",
       "      <td>28</td>\n",
       "      <td>West Bengal</td>\n",
       "      <td>Kolkata</td>\n",
       "      <td>Kolkata</td>\n",
       "      <td>Kolkata</td>\n",
       "      <td>1950</td>\n",
       "      <td>—</td>\n",
       "    </tr>\n",
       "  </tbody>\n",
       "</table>\n",
       "</div>"
      ],
      "text/plain": [
       "    No.              State   Administrative / Executive capital  \\\n",
       "0     1     Andhra Pradesh                     Visakhapatnam[3]   \n",
       "1     2  Arunachal Pradesh                             Itanagar   \n",
       "2     3              Assam                               Dispur   \n",
       "3     4              Bihar                                Patna   \n",
       "4     5       Chhattisgarh                      Naya Raipur [c]   \n",
       "5     6                Goa                           Panaji [d]   \n",
       "6     7            Gujarat                          Gandhinagar   \n",
       "7     8            Haryana                           Chandigarh   \n",
       "8     9   Himachal Pradesh                               Shimla   \n",
       "9    10          Jharkhand                               Ranchi   \n",
       "10   11          Karnataka                            Bengaluru   \n",
       "11   12             Kerala                   Thiruvananthapuram   \n",
       "12   13     Madhya Pradesh                               Bhopal   \n",
       "13   14        Maharashtra                            Mumbai[e]   \n",
       "14   15            Manipur                               Imphal   \n",
       "15   16          Meghalaya                             Shillong   \n",
       "16   17            Mizoram                               Aizawl   \n",
       "17   18           Nagaland                               Kohima   \n",
       "18   19             Odisha                          Bhubaneswar   \n",
       "19   20             Punjab                           Chandigarh   \n",
       "20   21          Rajasthan                               Jaipur   \n",
       "21   22             Sikkim                           Gangtok[f]   \n",
       "22   23         Tamil Nadu                           Chennai[g]   \n",
       "23   24          Telangana                            Hyderabad   \n",
       "24   25            Tripura                             Agartala   \n",
       "25   26      Uttar Pradesh                              Lucknow   \n",
       "26   27        Uttarakhand  Gairsain (summer) Dehradun (winter)   \n",
       "27   28        West Bengal                              Kolkata   \n",
       "\n",
       "                      Legislative capital Judicial capital  \\\n",
       "0                            Amaravati[3]       Kurnool[3]   \n",
       "1                                Itanagar         Guwahati   \n",
       "2                                  Dispur         Guwahati   \n",
       "3                                   Patna            Patna   \n",
       "4                                  Raipur         Bilaspur   \n",
       "5                                Porvorim           Mumbai   \n",
       "6                             Gandhinagar        Ahmedabad   \n",
       "7                              Chandigarh       Chandigarh   \n",
       "8   Shimla (Summer)Dharamsala (Winter)[6]           Shimla   \n",
       "9                                  Ranchi           Ranchi   \n",
       "10                              Bengaluru        Bengaluru   \n",
       "11                     Thiruvananthapuram        Ernakulam   \n",
       "12                                 Bhopal         Jabalpur   \n",
       "13        Mumbai (Summer) Nagpur (Winter)           Mumbai   \n",
       "14                                 Imphal           Imphal   \n",
       "15                               Shillong         Shillong   \n",
       "16                                 Aizawl         Guwahati   \n",
       "17                                 Kohima         Guwahati   \n",
       "18                            Bhubaneswar          Cuttack   \n",
       "19                             Chandigarh       Chandigarh   \n",
       "20                                 Jaipur          Jodhpur   \n",
       "21                                Gangtok          Gangtok   \n",
       "22                                Chennai          Chennai   \n",
       "23                              Hyderabad        Hyderabad   \n",
       "24                               Agartala         Agartala   \n",
       "25                                Lucknow        Prayagraj   \n",
       "26  Gairsain (summer)[8]Dehradun (winter)         Nainital   \n",
       "27                                Kolkata          Kolkata   \n",
       "\n",
       "    Year of establishment                                 Former capital  \n",
       "0                    1956  Hyderabad[a](1956–2017) Amaravati (2017-2020)  \n",
       "1                    1987                                              —  \n",
       "2                    1972                        Shillong[b] (1950–1972)  \n",
       "3                    1950                                              —  \n",
       "4                    2000                                              —  \n",
       "5                    1987                                              —  \n",
       "6                    1960                          Ahmedabad (1960–1970)  \n",
       "7                    1966                                              —  \n",
       "8                    1971                                              —  \n",
       "9                    2000                                              —  \n",
       "10                   1956                                              —  \n",
       "11                   1956                                              —  \n",
       "12                   1956                                              —  \n",
       "13                   1960                                              —  \n",
       "14                   1972                                              —  \n",
       "15                   1972                                              —  \n",
       "16                   1987                                              —  \n",
       "17                   1963                                              —  \n",
       "18                   1950                                            NaN  \n",
       "19                   1966                                              —  \n",
       "20                   1950                                              —  \n",
       "21                   1975                                              —  \n",
       "22                   1956                                              —  \n",
       "23                   2014                                              —  \n",
       "24                   1972                                              —  \n",
       "25                   1950                                              —  \n",
       "26                   2000                                              —  \n",
       "27                   1950                                              —  "
      ]
     },
     "execution_count": 31,
     "metadata": {},
     "output_type": "execute_result"
    }
   ],
   "source": [
    "df[0]"
   ]
  },
  {
   "cell_type": "code",
   "execution_count": 33,
   "id": "4e88802b",
   "metadata": {},
   "outputs": [],
   "source": [
    "df[0].to_csv(\"/Users/admin/Movies/India.csv\")"
   ]
  },
  {
   "cell_type": "code",
   "execution_count": 34,
   "id": "ecf2c04c",
   "metadata": {},
   "outputs": [],
   "source": [
    "import requests"
   ]
  },
  {
   "cell_type": "code",
   "execution_count": 35,
   "id": "34fefc49",
   "metadata": {},
   "outputs": [],
   "source": [
    "page=requests.get(\"http://forecast.weather.gov/MapClick.php?lat=37.7772&lon=-122.4168\")"
   ]
  },
  {
   "cell_type": "code",
   "execution_count": 36,
   "id": "687dce3f",
   "metadata": {},
   "outputs": [],
   "source": [
    "soup=BeautifulSoup(page.content,'html.parser')"
   ]
  },
  {
   "cell_type": "code",
   "execution_count": 42,
   "id": "e095b348",
   "metadata": {},
   "outputs": [],
   "source": [
    "seven_day=soup.find(id=\"seven-day-forecast-container\")"
   ]
  },
  {
   "cell_type": "code",
   "execution_count": 43,
   "id": "5d30d026",
   "metadata": {},
   "outputs": [
    {
     "data": {
      "text/plain": [
       "<div id=\"seven-day-forecast-container\"><ul class=\"list-unstyled\" id=\"seven-day-forecast-list\"><li class=\"forecast-tombstone\">\n",
       "<div class=\"tombstone-container\">\n",
       "<p class=\"period-name\">Today<br/><br/></p>\n",
       "<p><img alt=\"Today: Partly sunny, with a high near 66. South southwest wind 5 to 10 mph increasing to 11 to 16 mph in the afternoon. Winds could gust as high as 21 mph. \" class=\"forecast-icon\" src=\"newimages/medium/bkn.png\" title=\"Today: Partly sunny, with a high near 66. South southwest wind 5 to 10 mph increasing to 11 to 16 mph in the afternoon. Winds could gust as high as 21 mph. \"/></p><p class=\"short-desc\">Partly Sunny</p><p class=\"temp temp-high\">High: 66 °F</p></div></li><li class=\"forecast-tombstone\">\n",
       "<div class=\"tombstone-container\">\n",
       "<p class=\"period-name\">Tonight<br/><br/></p>\n",
       "<p><img alt=\"Tonight: Rain.  Steady temperature around 59. Breezy, with a south southeast wind 13 to 22 mph, with gusts as high as 33 mph.  Chance of precipitation is 90%. New precipitation amounts between a tenth and quarter of an inch possible. \" class=\"forecast-icon\" src=\"newimages/medium/nra90.png\" title=\"Tonight: Rain.  Steady temperature around 59. Breezy, with a south southeast wind 13 to 22 mph, with gusts as high as 33 mph.  Chance of precipitation is 90%. New precipitation amounts between a tenth and quarter of an inch possible. \"/></p><p class=\"short-desc\">Rain and<br/>Breezy</p><p class=\"temp temp-low\">Low: 59 °F</p></div></li><li class=\"forecast-tombstone\">\n",
       "<div class=\"tombstone-container\">\n",
       "<p class=\"period-name\">Wednesday<br/><br/></p>\n",
       "<p><img alt=\"Wednesday: Rain.  High near 66. South wind 16 to 21 mph, with gusts as high as 30 mph.  Chance of precipitation is 90%. New precipitation amounts between a tenth and quarter of an inch possible. \" class=\"forecast-icon\" src=\"newimages/medium/ra90.png\" title=\"Wednesday: Rain.  High near 66. South wind 16 to 21 mph, with gusts as high as 30 mph.  Chance of precipitation is 90%. New precipitation amounts between a tenth and quarter of an inch possible. \"/></p><p class=\"short-desc\">Rain</p><p class=\"temp temp-high\">High: 66 °F</p></div></li><li class=\"forecast-tombstone\">\n",
       "<div class=\"tombstone-container\">\n",
       "<p class=\"period-name\">Wednesday<br/>Night</p>\n",
       "<p><img alt=\"Wednesday Night: Rain.  Low around 59. South southeast wind 8 to 13 mph.  Chance of precipitation is 80%. New precipitation amounts between a tenth and quarter of an inch possible. \" class=\"forecast-icon\" src=\"newimages/medium/nra80.png\" title=\"Wednesday Night: Rain.  Low around 59. South southeast wind 8 to 13 mph.  Chance of precipitation is 80%. New precipitation amounts between a tenth and quarter of an inch possible. \"/></p><p class=\"short-desc\">Rain</p><p class=\"temp temp-low\">Low: 59 °F</p></div></li><li class=\"forecast-tombstone\">\n",
       "<div class=\"tombstone-container\">\n",
       "<p class=\"period-name\">Thursday<br/><br/></p>\n",
       "<p><img alt=\"Thursday: Rain.  High near 68. South southwest wind 9 to 14 mph, with gusts as high as 18 mph.  Chance of precipitation is 80%. New precipitation amounts between a tenth and quarter of an inch possible. \" class=\"forecast-icon\" src=\"newimages/medium/ra80.png\" title=\"Thursday: Rain.  High near 68. South southwest wind 9 to 14 mph, with gusts as high as 18 mph.  Chance of precipitation is 80%. New precipitation amounts between a tenth and quarter of an inch possible. \"/></p><p class=\"short-desc\">Rain</p><p class=\"temp temp-high\">High: 68 °F</p></div></li><li class=\"forecast-tombstone\">\n",
       "<div class=\"tombstone-container\">\n",
       "<p class=\"period-name\">Thursday<br/>Night</p>\n",
       "<p><img alt=\"Thursday Night: Rain.  Low around 58. Chance of precipitation is 80%. New precipitation amounts between a tenth and quarter of an inch possible. \" class=\"forecast-icon\" src=\"newimages/medium/nra80.png\" title=\"Thursday Night: Rain.  Low around 58. Chance of precipitation is 80%. New precipitation amounts between a tenth and quarter of an inch possible. \"/></p><p class=\"short-desc\">Rain</p><p class=\"temp temp-low\">Low: 58 °F</p></div></li><li class=\"forecast-tombstone\">\n",
       "<div class=\"tombstone-container\">\n",
       "<p class=\"period-name\">Friday<br/><br/></p>\n",
       "<p><img alt=\"Friday: Rain, mainly before 11am.  High near 64. Chance of precipitation is 80%.\" class=\"forecast-icon\" src=\"DualImage.php?i=ra&amp;j=ra&amp;ip=80&amp;jp=50\" title=\"Friday: Rain, mainly before 11am.  High near 64. Chance of precipitation is 80%.\"/></p><p class=\"short-desc\">Rain then<br/>Chance Rain</p><p class=\"temp temp-high\">High: 64 °F</p></div></li><li class=\"forecast-tombstone\">\n",
       "<div class=\"tombstone-container\">\n",
       "<p class=\"period-name\">Friday<br/>Night</p>\n",
       "<p><img alt=\"Friday Night: A slight chance of rain before 11pm.  Mostly cloudy, with a low around 53.\" class=\"forecast-icon\" src=\"DualImage.php?i=nra&amp;j=novc&amp;ip=0\" title=\"Friday Night: A slight chance of rain before 11pm.  Mostly cloudy, with a low around 53.\"/></p><p class=\"short-desc\">Slight Chance<br/>Rain then<br/>Cloudy</p><p class=\"temp temp-low\">Low: 53 °F</p></div></li><li class=\"forecast-tombstone\">\n",
       "<div class=\"tombstone-container\">\n",
       "<p class=\"period-name\">Saturday<br/><br/></p>\n",
       "<p><img alt=\"Saturday: A chance of rain after 11am.  Mostly cloudy, with a high near 63.\" class=\"forecast-icon\" src=\"newimages/medium/ra.png\" title=\"Saturday: A chance of rain after 11am.  Mostly cloudy, with a high near 63.\"/></p><p class=\"short-desc\">Chance Rain</p><p class=\"temp temp-high\">High: 63 °F</p></div></li></ul></div>"
      ]
     },
     "execution_count": 43,
     "metadata": {},
     "output_type": "execute_result"
    }
   ],
   "source": [
    "seven_day"
   ]
  },
  {
   "cell_type": "code",
   "execution_count": 44,
   "id": "fed050a6",
   "metadata": {},
   "outputs": [],
   "source": [
    "containers=seven_day.find_all('div',\"tombstone-container\")"
   ]
  },
  {
   "cell_type": "code",
   "execution_count": 46,
   "id": "0278f7a5",
   "metadata": {},
   "outputs": [
    {
     "data": {
      "text/plain": [
       "<div class=\"tombstone-container\">\n",
       "<p class=\"period-name\">Today<br/><br/></p>\n",
       "<p><img alt=\"Today: Partly sunny, with a high near 66. South southwest wind 5 to 10 mph increasing to 11 to 16 mph in the afternoon. Winds could gust as high as 21 mph. \" class=\"forecast-icon\" src=\"newimages/medium/bkn.png\" title=\"Today: Partly sunny, with a high near 66. South southwest wind 5 to 10 mph increasing to 11 to 16 mph in the afternoon. Winds could gust as high as 21 mph. \"/></p><p class=\"short-desc\">Partly Sunny</p><p class=\"temp temp-high\">High: 66 °F</p></div>"
      ]
     },
     "execution_count": 46,
     "metadata": {},
     "output_type": "execute_result"
    }
   ],
   "source": [
    "containers[0]"
   ]
  },
  {
   "cell_type": "code",
   "execution_count": 48,
   "id": "d4a16bea",
   "metadata": {},
   "outputs": [
    {
     "data": {
      "text/plain": [
       "'Today'"
      ]
     },
     "execution_count": 48,
     "metadata": {},
     "output_type": "execute_result"
    }
   ],
   "source": [
    "containers[0].find('p',\"period-name\").get_text()"
   ]
  },
  {
   "cell_type": "code",
   "execution_count": 49,
   "id": "d52026e9",
   "metadata": {},
   "outputs": [
    {
     "data": {
      "text/plain": [
       "'Partly Sunny'"
      ]
     },
     "execution_count": 49,
     "metadata": {},
     "output_type": "execute_result"
    }
   ],
   "source": [
    "containers[0].find('p',\"short-desc\").get_text()"
   ]
  },
  {
   "cell_type": "code",
   "execution_count": 50,
   "id": "97aee2de",
   "metadata": {},
   "outputs": [
    {
     "data": {
      "text/plain": [
       "'High: 66 °F'"
      ]
     },
     "execution_count": 50,
     "metadata": {},
     "output_type": "execute_result"
    }
   ],
   "source": [
    "containers[0].find('p',\"temp\").get_text()"
   ]
  },
  {
   "cell_type": "code",
   "execution_count": 52,
   "id": "23c69798",
   "metadata": {},
   "outputs": [
    {
     "data": {
      "text/plain": [
       "'Today: Partly sunny, with a high near 66. South southwest wind 5 to 10 mph increasing to 11 to 16 mph in the afternoon. Winds could gust as high as 21 mph. '"
      ]
     },
     "execution_count": 52,
     "metadata": {},
     "output_type": "execute_result"
    }
   ],
   "source": [
    "containers[0].find('img')['title']"
   ]
  },
  {
   "cell_type": "code",
   "execution_count": 53,
   "id": "4d73be62",
   "metadata": {},
   "outputs": [],
   "source": [
    "periods=[]\n",
    "short_desc=[]\n",
    "temp=[]\n",
    "desc=[]"
   ]
  },
  {
   "cell_type": "code",
   "execution_count": 54,
   "id": "fd3d6c48",
   "metadata": {},
   "outputs": [],
   "source": [
    "for x in range(len(containers)):\n",
    "    periods.append(containers[x].find('p',\"period-name\").get_text())\n",
    "    short_desc.append(containers[x].find('p',\"short-desc\").get_text())\n",
    "    temp.append(containers[x].find('p',\"temp\").get_text())\n",
    "    desc.append(containers[x].find('img')['title'])"
   ]
  },
  {
   "cell_type": "code",
   "execution_count": 57,
   "id": "fd90cbc9",
   "metadata": {},
   "outputs": [],
   "source": [
    "weather=pd.DataFrame({'Periods':periods,'short_dsc':short_desc,\n",
    "                     'Temp':temp,'Desc':desc})"
   ]
  },
  {
   "cell_type": "code",
   "execution_count": 58,
   "id": "18d2bb37",
   "metadata": {},
   "outputs": [
    {
     "data": {
      "text/html": [
       "<div>\n",
       "<style scoped>\n",
       "    .dataframe tbody tr th:only-of-type {\n",
       "        vertical-align: middle;\n",
       "    }\n",
       "\n",
       "    .dataframe tbody tr th {\n",
       "        vertical-align: top;\n",
       "    }\n",
       "\n",
       "    .dataframe thead th {\n",
       "        text-align: right;\n",
       "    }\n",
       "</style>\n",
       "<table border=\"1\" class=\"dataframe\">\n",
       "  <thead>\n",
       "    <tr style=\"text-align: right;\">\n",
       "      <th></th>\n",
       "      <th>Periods</th>\n",
       "      <th>short_dsc</th>\n",
       "      <th>Temp</th>\n",
       "      <th>Desc</th>\n",
       "    </tr>\n",
       "  </thead>\n",
       "  <tbody>\n",
       "    <tr>\n",
       "      <th>0</th>\n",
       "      <td>Today</td>\n",
       "      <td>Partly Sunny</td>\n",
       "      <td>High: 66 °F</td>\n",
       "      <td>Today: Partly sunny, with a high near 66. Sout...</td>\n",
       "    </tr>\n",
       "    <tr>\n",
       "      <th>1</th>\n",
       "      <td>Tonight</td>\n",
       "      <td>Rain andBreezy</td>\n",
       "      <td>Low: 59 °F</td>\n",
       "      <td>Tonight: Rain.  Steady temperature around 59. ...</td>\n",
       "    </tr>\n",
       "    <tr>\n",
       "      <th>2</th>\n",
       "      <td>Wednesday</td>\n",
       "      <td>Rain</td>\n",
       "      <td>High: 66 °F</td>\n",
       "      <td>Wednesday: Rain.  High near 66. South wind 16 ...</td>\n",
       "    </tr>\n",
       "    <tr>\n",
       "      <th>3</th>\n",
       "      <td>WednesdayNight</td>\n",
       "      <td>Rain</td>\n",
       "      <td>Low: 59 °F</td>\n",
       "      <td>Wednesday Night: Rain.  Low around 59. South s...</td>\n",
       "    </tr>\n",
       "    <tr>\n",
       "      <th>4</th>\n",
       "      <td>Thursday</td>\n",
       "      <td>Rain</td>\n",
       "      <td>High: 68 °F</td>\n",
       "      <td>Thursday: Rain.  High near 68. South southwest...</td>\n",
       "    </tr>\n",
       "    <tr>\n",
       "      <th>5</th>\n",
       "      <td>ThursdayNight</td>\n",
       "      <td>Rain</td>\n",
       "      <td>Low: 58 °F</td>\n",
       "      <td>Thursday Night: Rain.  Low around 58. Chance o...</td>\n",
       "    </tr>\n",
       "    <tr>\n",
       "      <th>6</th>\n",
       "      <td>Friday</td>\n",
       "      <td>Rain thenChance Rain</td>\n",
       "      <td>High: 64 °F</td>\n",
       "      <td>Friday: Rain, mainly before 11am.  High near 6...</td>\n",
       "    </tr>\n",
       "    <tr>\n",
       "      <th>7</th>\n",
       "      <td>FridayNight</td>\n",
       "      <td>Slight ChanceRain thenCloudy</td>\n",
       "      <td>Low: 53 °F</td>\n",
       "      <td>Friday Night: A slight chance of rain before 1...</td>\n",
       "    </tr>\n",
       "    <tr>\n",
       "      <th>8</th>\n",
       "      <td>Saturday</td>\n",
       "      <td>Chance Rain</td>\n",
       "      <td>High: 63 °F</td>\n",
       "      <td>Saturday: A chance of rain after 11am.  Mostly...</td>\n",
       "    </tr>\n",
       "  </tbody>\n",
       "</table>\n",
       "</div>"
      ],
      "text/plain": [
       "          Periods                     short_dsc         Temp  \\\n",
       "0           Today                  Partly Sunny  High: 66 °F   \n",
       "1         Tonight                Rain andBreezy   Low: 59 °F   \n",
       "2       Wednesday                          Rain  High: 66 °F   \n",
       "3  WednesdayNight                          Rain   Low: 59 °F   \n",
       "4        Thursday                          Rain  High: 68 °F   \n",
       "5   ThursdayNight                          Rain   Low: 58 °F   \n",
       "6          Friday          Rain thenChance Rain  High: 64 °F   \n",
       "7     FridayNight  Slight ChanceRain thenCloudy   Low: 53 °F   \n",
       "8        Saturday                   Chance Rain  High: 63 °F   \n",
       "\n",
       "                                                Desc  \n",
       "0  Today: Partly sunny, with a high near 66. Sout...  \n",
       "1  Tonight: Rain.  Steady temperature around 59. ...  \n",
       "2  Wednesday: Rain.  High near 66. South wind 16 ...  \n",
       "3  Wednesday Night: Rain.  Low around 59. South s...  \n",
       "4  Thursday: Rain.  High near 68. South southwest...  \n",
       "5  Thursday Night: Rain.  Low around 58. Chance o...  \n",
       "6  Friday: Rain, mainly before 11am.  High near 6...  \n",
       "7  Friday Night: A slight chance of rain before 1...  \n",
       "8  Saturday: A chance of rain after 11am.  Mostly...  "
      ]
     },
     "execution_count": 58,
     "metadata": {},
     "output_type": "execute_result"
    }
   ],
   "source": [
    "weather"
   ]
  },
  {
   "cell_type": "code",
   "execution_count": 60,
   "id": "bcbc8c6a",
   "metadata": {},
   "outputs": [],
   "source": [
    "weather.to_csv(\"/Users/admin/Movies/weather.csv\",index=False)"
   ]
  },
  {
   "cell_type": "code",
   "execution_count": 61,
   "id": "e0a8d8d5",
   "metadata": {},
   "outputs": [
    {
     "data": {
      "text/plain": [
       "9"
      ]
     },
     "execution_count": 61,
     "metadata": {},
     "output_type": "execute_result"
    }
   ],
   "source": [
    "#Numpy :\n",
    "\n",
    "len(temp)"
   ]
  },
  {
   "cell_type": "code",
   "execution_count": 62,
   "id": "b4f59804",
   "metadata": {},
   "outputs": [
    {
     "data": {
      "text/plain": [
       "9"
      ]
     },
     "execution_count": 62,
     "metadata": {},
     "output_type": "execute_result"
    }
   ],
   "source": [
    "len(short_desc)"
   ]
  },
  {
   "cell_type": "code",
   "execution_count": 65,
   "id": "07920218",
   "metadata": {},
   "outputs": [],
   "source": [
    "#Numpy :\n",
    "import numpy as np\n",
    "\n",
    "A=[1,2,3,4]\n",
    "B=[1.0,0.5,0.7,1.4]"
   ]
  },
  {
   "cell_type": "code",
   "execution_count": null,
   "id": "dd80442b",
   "metadata": {},
   "outputs": [],
   "source": [
    "#arr_name=np.array(list)\n"
   ]
  },
  {
   "cell_type": "code",
   "execution_count": 66,
   "id": "eb351d69",
   "metadata": {},
   "outputs": [],
   "source": [
    "arr1=np.array(A)"
   ]
  },
  {
   "cell_type": "code",
   "execution_count": 67,
   "id": "4bd3025b",
   "metadata": {},
   "outputs": [],
   "source": [
    "arr2=np.array(B)"
   ]
  },
  {
   "cell_type": "code",
   "execution_count": 69,
   "id": "45b1615b",
   "metadata": {},
   "outputs": [
    {
     "name": "stdout",
     "output_type": "stream",
     "text": [
      "<class 'numpy.ndarray'>\n"
     ]
    }
   ],
   "source": [
    "#print(type(arr1))"
   ]
  },
  {
   "cell_type": "code",
   "execution_count": 70,
   "id": "e2af6486",
   "metadata": {},
   "outputs": [
    {
     "data": {
      "text/plain": [
       "array([1. , 1. , 2.1, 5.6])"
      ]
     },
     "execution_count": 70,
     "metadata": {},
     "output_type": "execute_result"
    }
   ],
   "source": [
    "arr1*arr2"
   ]
  },
  {
   "cell_type": "code",
   "execution_count": 71,
   "id": "baf6f5f3",
   "metadata": {},
   "outputs": [],
   "source": [
    "arr3=np.array([2,5,6])"
   ]
  },
  {
   "cell_type": "code",
   "execution_count": 73,
   "id": "b8d4af0a",
   "metadata": {},
   "outputs": [],
   "source": [
    "#arr1*arr3"
   ]
  },
  {
   "cell_type": "code",
   "execution_count": 74,
   "id": "18c5163c",
   "metadata": {},
   "outputs": [],
   "source": [
    "#1D array\n",
    "\n",
    "arr1=np.array([2,4,6,89,12])"
   ]
  },
  {
   "cell_type": "code",
   "execution_count": 75,
   "id": "c7253bf4",
   "metadata": {},
   "outputs": [
    {
     "data": {
      "text/plain": [
       "1"
      ]
     },
     "execution_count": 75,
     "metadata": {},
     "output_type": "execute_result"
    }
   ],
   "source": [
    "arr1.ndim"
   ]
  },
  {
   "cell_type": "code",
   "execution_count": 76,
   "id": "bae502b3",
   "metadata": {},
   "outputs": [
    {
     "data": {
      "text/plain": [
       "(5,)"
      ]
     },
     "execution_count": 76,
     "metadata": {},
     "output_type": "execute_result"
    }
   ],
   "source": [
    "arr1.shape"
   ]
  },
  {
   "cell_type": "code",
   "execution_count": 77,
   "id": "8596f56b",
   "metadata": {},
   "outputs": [
    {
     "data": {
      "text/plain": [
       "89"
      ]
     },
     "execution_count": 77,
     "metadata": {},
     "output_type": "execute_result"
    }
   ],
   "source": [
    "arr1[3]"
   ]
  },
  {
   "cell_type": "code",
   "execution_count": 79,
   "id": "fed40e8f",
   "metadata": {},
   "outputs": [
    {
     "data": {
      "text/plain": [
       "array([12, 89])"
      ]
     },
     "execution_count": 79,
     "metadata": {},
     "output_type": "execute_result"
    }
   ],
   "source": [
    "arr1[-1:-3:-1]"
   ]
  },
  {
   "cell_type": "code",
   "execution_count": 80,
   "id": "e6d32aa6",
   "metadata": {},
   "outputs": [],
   "source": [
    "#2D array\n",
    "\n",
    "arr2=np.array([[1,2,3],[4,5,6],[7,8,9]])"
   ]
  },
  {
   "cell_type": "code",
   "execution_count": 81,
   "id": "3ad78c10",
   "metadata": {},
   "outputs": [
    {
     "data": {
      "text/plain": [
       "array([[1, 2, 3],\n",
       "       [4, 5, 6],\n",
       "       [7, 8, 9]])"
      ]
     },
     "execution_count": 81,
     "metadata": {},
     "output_type": "execute_result"
    }
   ],
   "source": [
    "arr2"
   ]
  },
  {
   "cell_type": "code",
   "execution_count": 82,
   "id": "0cc22a06",
   "metadata": {},
   "outputs": [
    {
     "data": {
      "text/plain": [
       "2"
      ]
     },
     "execution_count": 82,
     "metadata": {},
     "output_type": "execute_result"
    }
   ],
   "source": [
    "arr2.ndim"
   ]
  },
  {
   "cell_type": "code",
   "execution_count": 83,
   "id": "e0bbfe36",
   "metadata": {},
   "outputs": [
    {
     "data": {
      "text/plain": [
       "(3, 3)"
      ]
     },
     "execution_count": 83,
     "metadata": {},
     "output_type": "execute_result"
    }
   ],
   "source": [
    "arr2.shape"
   ]
  },
  {
   "cell_type": "code",
   "execution_count": 84,
   "id": "246dfafa",
   "metadata": {},
   "outputs": [],
   "source": [
    "arr3=np.array([[1,2,3],[4,5,6],[7,8,9],[10,11,12]])"
   ]
  },
  {
   "cell_type": "code",
   "execution_count": 85,
   "id": "aecb0a32",
   "metadata": {},
   "outputs": [
    {
     "data": {
      "text/plain": [
       "(4, 3)"
      ]
     },
     "execution_count": 85,
     "metadata": {},
     "output_type": "execute_result"
    }
   ],
   "source": [
    "arr3.shape"
   ]
  },
  {
   "cell_type": "code",
   "execution_count": 86,
   "id": "9ab4ca40",
   "metadata": {},
   "outputs": [
    {
     "data": {
      "text/plain": [
       "array([[ 1,  2,  3],\n",
       "       [ 4,  5,  6],\n",
       "       [ 7,  8,  9],\n",
       "       [10, 11, 12]])"
      ]
     },
     "execution_count": 86,
     "metadata": {},
     "output_type": "execute_result"
    }
   ],
   "source": [
    "arr3"
   ]
  },
  {
   "cell_type": "code",
   "execution_count": 88,
   "id": "b9836fa3",
   "metadata": {},
   "outputs": [
    {
     "data": {
      "text/plain": [
       "8"
      ]
     },
     "execution_count": 88,
     "metadata": {},
     "output_type": "execute_result"
    }
   ],
   "source": [
    "arr3[2][1]"
   ]
  },
  {
   "cell_type": "code",
   "execution_count": 91,
   "id": "efcaf1b6",
   "metadata": {},
   "outputs": [
    {
     "data": {
      "text/plain": [
       "12"
      ]
     },
     "execution_count": 91,
     "metadata": {},
     "output_type": "execute_result"
    }
   ],
   "source": [
    "arr3[3,2]"
   ]
  },
  {
   "cell_type": "code",
   "execution_count": 95,
   "id": "760cf7ab",
   "metadata": {},
   "outputs": [
    {
     "data": {
      "text/plain": [
       "array([ 8, 11])"
      ]
     },
     "execution_count": 95,
     "metadata": {},
     "output_type": "execute_result"
    }
   ],
   "source": [
    "arr3[2:,1]"
   ]
  },
  {
   "cell_type": "code",
   "execution_count": 97,
   "id": "1f20701c",
   "metadata": {},
   "outputs": [
    {
     "data": {
      "text/plain": [
       "array([[ 8,  9],\n",
       "       [11, 12]])"
      ]
     },
     "execution_count": 97,
     "metadata": {},
     "output_type": "execute_result"
    }
   ],
   "source": [
    "arr3[2:,1:]"
   ]
  },
  {
   "cell_type": "code",
   "execution_count": 99,
   "id": "e6e50c48",
   "metadata": {},
   "outputs": [
    {
     "data": {
      "text/plain": [
       "array([[4, 5],\n",
       "       [7, 8]])"
      ]
     },
     "execution_count": 99,
     "metadata": {},
     "output_type": "execute_result"
    }
   ],
   "source": [
    "arr3[1:3,:2]"
   ]
  },
  {
   "cell_type": "code",
   "execution_count": 101,
   "id": "480a0241",
   "metadata": {},
   "outputs": [],
   "source": [
    "#3D array:\n",
    "arr4=np.array([[[1,2,3],[4,5,6],[7,8,9]],[[10,11,12],[13,14,15],[16,17,18]],[[19,20,21],[22,23,24],[25,26,27]]])"
   ]
  },
  {
   "cell_type": "code",
   "execution_count": 102,
   "id": "0db09683",
   "metadata": {},
   "outputs": [
    {
     "data": {
      "text/plain": [
       "array([[[ 1,  2,  3],\n",
       "        [ 4,  5,  6],\n",
       "        [ 7,  8,  9]],\n",
       "\n",
       "       [[10, 11, 12],\n",
       "        [13, 14, 15],\n",
       "        [16, 17, 18]],\n",
       "\n",
       "       [[19, 20, 21],\n",
       "        [22, 23, 24],\n",
       "        [25, 26, 27]]])"
      ]
     },
     "execution_count": 102,
     "metadata": {},
     "output_type": "execute_result"
    }
   ],
   "source": [
    "arr4"
   ]
  },
  {
   "cell_type": "code",
   "execution_count": 103,
   "id": "12f02fcb",
   "metadata": {},
   "outputs": [
    {
     "data": {
      "text/plain": [
       "3"
      ]
     },
     "execution_count": 103,
     "metadata": {},
     "output_type": "execute_result"
    }
   ],
   "source": [
    "arr4.ndim"
   ]
  },
  {
   "cell_type": "code",
   "execution_count": 104,
   "id": "39d9c0ba",
   "metadata": {},
   "outputs": [
    {
     "data": {
      "text/plain": [
       "(3, 3, 3)"
      ]
     },
     "execution_count": 104,
     "metadata": {},
     "output_type": "execute_result"
    }
   ],
   "source": [
    "arr4.shape"
   ]
  },
  {
   "cell_type": "code",
   "execution_count": 108,
   "id": "5808930c",
   "metadata": {},
   "outputs": [
    {
     "data": {
      "text/plain": [
       "18"
      ]
     },
     "execution_count": 108,
     "metadata": {},
     "output_type": "execute_result"
    }
   ],
   "source": [
    "arr4[1,2,2]"
   ]
  },
  {
   "cell_type": "code",
   "execution_count": 109,
   "id": "9023d1ae",
   "metadata": {},
   "outputs": [
    {
     "data": {
      "text/plain": [
       "array([24, 27])"
      ]
     },
     "execution_count": 109,
     "metadata": {},
     "output_type": "execute_result"
    }
   ],
   "source": [
    "arr4[2,1:3,2]"
   ]
  },
  {
   "cell_type": "code",
   "execution_count": 110,
   "id": "1799038f",
   "metadata": {},
   "outputs": [
    {
     "data": {
      "text/plain": [
       "array([[ 5,  8],\n",
       "       [14, 17],\n",
       "       [23, 26]])"
      ]
     },
     "execution_count": 110,
     "metadata": {},
     "output_type": "execute_result"
    }
   ],
   "source": [
    "arr4[0:,1:,1]"
   ]
  },
  {
   "cell_type": "code",
   "execution_count": 111,
   "id": "3f1a66b7",
   "metadata": {},
   "outputs": [],
   "source": [
    "#np.arange(start,end,step) "
   ]
  },
  {
   "cell_type": "code",
   "execution_count": 112,
   "id": "300bb6c8",
   "metadata": {},
   "outputs": [],
   "source": [
    "arr7=np.arange(1,10,0.2)"
   ]
  },
  {
   "cell_type": "code",
   "execution_count": 113,
   "id": "a0c53c4e",
   "metadata": {},
   "outputs": [
    {
     "data": {
      "text/plain": [
       "array([1. , 1.2, 1.4, 1.6, 1.8, 2. , 2.2, 2.4, 2.6, 2.8, 3. , 3.2, 3.4,\n",
       "       3.6, 3.8, 4. , 4.2, 4.4, 4.6, 4.8, 5. , 5.2, 5.4, 5.6, 5.8, 6. ,\n",
       "       6.2, 6.4, 6.6, 6.8, 7. , 7.2, 7.4, 7.6, 7.8, 8. , 8.2, 8.4, 8.6,\n",
       "       8.8, 9. , 9.2, 9.4, 9.6, 9.8])"
      ]
     },
     "execution_count": 113,
     "metadata": {},
     "output_type": "execute_result"
    }
   ],
   "source": [
    "arr7"
   ]
  },
  {
   "cell_type": "code",
   "execution_count": 116,
   "id": "c8084bc3",
   "metadata": {},
   "outputs": [],
   "source": [
    "#np.linspace(start,end,number of item)\n",
    "arr8=np.linspace(1,10,4)"
   ]
  },
  {
   "cell_type": "code",
   "execution_count": 117,
   "id": "bc761b03",
   "metadata": {},
   "outputs": [
    {
     "data": {
      "text/plain": [
       "array([ 1.,  4.,  7., 10.])"
      ]
     },
     "execution_count": 117,
     "metadata": {},
     "output_type": "execute_result"
    }
   ],
   "source": [
    "arr8"
   ]
  },
  {
   "cell_type": "code",
   "execution_count": 120,
   "id": "4ce675be",
   "metadata": {},
   "outputs": [
    {
     "data": {
      "text/plain": [
       "array([66, 15, 49, 42,  2])"
      ]
     },
     "execution_count": 120,
     "metadata": {},
     "output_type": "execute_result"
    }
   ],
   "source": [
    "np.random.randint(1,100,5)"
   ]
  },
  {
   "cell_type": "code",
   "execution_count": 124,
   "id": "9173c73e",
   "metadata": {},
   "outputs": [
    {
     "data": {
      "text/plain": [
       "array([[[0.56886117, 0.26765915, 0.16876816, 0.13510744],\n",
       "        [0.97541275, 0.78543705, 0.83003476, 0.89113142],\n",
       "        [0.85343907, 0.49601824, 0.48122818, 0.15551798]],\n",
       "\n",
       "       [[0.7699641 , 0.22466176, 0.43556464, 0.8329577 ],\n",
       "        [0.97382733, 0.63229741, 0.23946316, 0.17015616],\n",
       "        [0.95158944, 0.09461986, 0.52524318, 0.45894736]]])"
      ]
     },
     "execution_count": 124,
     "metadata": {},
     "output_type": "execute_result"
    }
   ],
   "source": [
    "np.random.rand(2,3,4) #0-1"
   ]
  },
  {
   "cell_type": "code",
   "execution_count": 126,
   "id": "1116f60f",
   "metadata": {},
   "outputs": [
    {
     "data": {
      "text/plain": [
       "array([[ 0.68325839,  0.32181284,  2.65261415, -1.69377304],\n",
       "       [ 0.35466078,  0.94394563, -0.44392707, -0.08736103],\n",
       "       [-1.03356878, -1.39356487,  0.03710549,  0.7439025 ]])"
      ]
     },
     "execution_count": 126,
     "metadata": {},
     "output_type": "execute_result"
    }
   ],
   "source": [
    "np.random.randn(3,4)"
   ]
  },
  {
   "cell_type": "code",
   "execution_count": 127,
   "id": "dd72cc4b",
   "metadata": {},
   "outputs": [
    {
     "data": {
      "text/plain": [
       "array([60.75741185, 79.14832607, 87.77833316, 74.94999143, 31.13661745])"
      ]
     },
     "execution_count": 127,
     "metadata": {},
     "output_type": "execute_result"
    }
   ],
   "source": [
    "np.random.uniform(1,100,5) #float"
   ]
  },
  {
   "cell_type": "code",
   "execution_count": 128,
   "id": "ed4a868e",
   "metadata": {},
   "outputs": [],
   "source": [
    "#Broadcasting:\n",
    "\n",
    "\n",
    "arr1=np.array([2,4,5,7])\n",
    "arr2=np.array([5,6,7])"
   ]
  },
  {
   "cell_type": "code",
   "execution_count": 129,
   "id": "cb21f066",
   "metadata": {},
   "outputs": [
    {
     "ename": "ValueError",
     "evalue": "operands could not be broadcast together with shapes (4,) (3,) ",
     "output_type": "error",
     "traceback": [
      "\u001b[0;31m---------------------------------------------------------------------------\u001b[0m",
      "\u001b[0;31mValueError\u001b[0m                                Traceback (most recent call last)",
      "\u001b[0;32m<ipython-input-129-e489ba1ad4d1>\u001b[0m in \u001b[0;36m<module>\u001b[0;34m\u001b[0m\n\u001b[0;32m----> 1\u001b[0;31m \u001b[0marr1\u001b[0m\u001b[0;34m+\u001b[0m\u001b[0marr2\u001b[0m\u001b[0;34m\u001b[0m\u001b[0;34m\u001b[0m\u001b[0m\n\u001b[0m",
      "\u001b[0;31mValueError\u001b[0m: operands could not be broadcast together with shapes (4,) (3,) "
     ]
    }
   ],
   "source": [
    "arr1+arr2"
   ]
  },
  {
   "cell_type": "code",
   "execution_count": 130,
   "id": "5303b4fb",
   "metadata": {},
   "outputs": [],
   "source": [
    "arr3=np.array([5,7,9,1])"
   ]
  },
  {
   "cell_type": "code",
   "execution_count": 131,
   "id": "d05cc9ac",
   "metadata": {},
   "outputs": [
    {
     "data": {
      "text/plain": [
       "array([ 7, 11, 14,  8])"
      ]
     },
     "execution_count": 131,
     "metadata": {},
     "output_type": "execute_result"
    }
   ],
   "source": [
    "arr1+arr3"
   ]
  },
  {
   "cell_type": "code",
   "execution_count": 132,
   "id": "761083bb",
   "metadata": {},
   "outputs": [
    {
     "data": {
      "text/plain": [
       "array([15, 21, 27,  3])"
      ]
     },
     "execution_count": 132,
     "metadata": {},
     "output_type": "execute_result"
    }
   ],
   "source": [
    "arr3*3"
   ]
  },
  {
   "cell_type": "code",
   "execution_count": 133,
   "id": "5289318a",
   "metadata": {},
   "outputs": [],
   "source": []
  },
  {
   "cell_type": "code",
   "execution_count": null,
   "id": "47a72b0a",
   "metadata": {},
   "outputs": [],
   "source": []
  },
  {
   "cell_type": "code",
   "execution_count": null,
   "id": "e70243db",
   "metadata": {},
   "outputs": [],
   "source": []
  }
 ],
 "metadata": {
  "kernelspec": {
   "display_name": "Python 3",
   "language": "python",
   "name": "python3"
  },
  "language_info": {
   "codemirror_mode": {
    "name": "ipython",
    "version": 3
   },
   "file_extension": ".py",
   "mimetype": "text/x-python",
   "name": "python",
   "nbconvert_exporter": "python",
   "pygments_lexer": "ipython3",
   "version": "3.8.3"
  }
 },
 "nbformat": 4,
 "nbformat_minor": 5
}
