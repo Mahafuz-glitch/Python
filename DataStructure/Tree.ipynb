{
 "cells": [
  {
   "cell_type": "code",
   "execution_count": null,
   "id": "a22df5c6",
   "metadata": {},
   "outputs": [],
   "source": [
    "class Node:\n",
    "    def __init__(self,value):\n",
    "        self.left = None\n",
    "        self.data = value\n",
    "        self.rigth = None\n",
    "\n",
    "        \n",
    "\n",
    "class Tree:\n",
    "    def createNode(self,data):\n",
    "        return Node(data)\n",
    "    def insert(self,node,data):\n",
    "        if node in None:\n",
    "            self.createNode(data)\n",
    "        if data < node.data :\n",
    "            node.left = self.insert(node.left,data)\n",
    "        else:\n",
    "            node.right = self.insert(node.right,data)\n",
    "            \n",
    "        return node"
   ]
  }
 ],
 "metadata": {
  "kernelspec": {
   "display_name": "Python 3",
   "language": "python",
   "name": "python3"
  },
  "language_info": {
   "codemirror_mode": {
    "name": "ipython",
    "version": 3
   },
   "file_extension": ".py",
   "mimetype": "text/x-python",
   "name": "python",
   "nbconvert_exporter": "python",
   "pygments_lexer": "ipython3",
   "version": "3.8.8"
  }
 },
 "nbformat": 4,
 "nbformat_minor": 5
}
