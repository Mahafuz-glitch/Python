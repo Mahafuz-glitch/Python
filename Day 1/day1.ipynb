{
 "cells": [
  {
   "cell_type": "markdown",
   "metadata": {},
   "source": [
    "#### Today is Sunday\n",
    "Funday"
   ]
  },
  {
   "cell_type": "code",
   "execution_count": 1,
   "metadata": {},
   "outputs": [
    {
     "name": "stdout",
     "output_type": "stream",
     "text": [
      "hello world\n"
     ]
    }
   ],
   "source": [
    "print('hello world')"
   ]
  },
  {
   "cell_type": "markdown",
   "metadata": {},
   "source": [
    "Area of circle"
   ]
  },
  {
   "cell_type": "code",
   "execution_count": 3,
   "metadata": {},
   "outputs": [
    {
     "name": "stdout",
     "output_type": "stream",
     "text": [
      "Enter the value of r: 5\n",
      "The area of a circle is 78.57142857142857\n"
     ]
    }
   ],
   "source": [
    "r=int(input('Enter the value of r: '))\n",
    "pi=22/7\n",
    "A = pi*r**2\n",
    "print('The area of a circle is',A)\n"
   ]
  },
  {
   "cell_type": "code",
   "execution_count": 4,
   "metadata": {},
   "outputs": [
    {
     "name": "stdout",
     "output_type": "stream",
     "text": [
      "Value of R 5\n",
      "78.5\n"
     ]
    }
   ],
   "source": [
    "r=input('Value of R ')\n",
    "r = int(r)\n",
    "pi=3.14\n",
    "a = pi*(r*r)\n",
    "print (a)"
   ]
  },
  {
   "cell_type": "code",
   "execution_count": 5,
   "metadata": {},
   "outputs": [
    {
     "name": "stdout",
     "output_type": "stream",
     "text": [
      "Enter The height 6\n",
      "Enter the width9\n",
      "Area = 54\n"
     ]
    }
   ],
   "source": [
    "h=int(input('Enter The height '))\n",
    "w=int(input('Enter the width'))\n",
    "a=h*w\n",
    "print('Area =', a)"
   ]
  },
  {
   "cell_type": "code",
   "execution_count": 7,
   "metadata": {},
   "outputs": [
    {
     "name": "stdout",
     "output_type": "stream",
     "text": [
      "Please enter the number of seconds you wish to convert: 8000\n",
      "Hrs= 2 mins= 13 secs= 20\n"
     ]
    }
   ],
   "source": [
    "str_seconds = input(\"Please enter the number of seconds you wish to convert: \")\n",
    "total_secs = int(str_seconds)\n",
    "\n",
    "hours = total_secs // 3600\n",
    "secs_still_remaining = total_secs % 3600\n",
    "minutes =  secs_still_remaining // 60\n",
    "secs_finally_remaining = secs_still_remaining  % 60\n",
    "\n",
    "print(\"Hrs=\", hours, \"mins=\", minutes, \"secs=\", secs_finally_remaining)"
   ]
  },
  {
   "cell_type": "code",
   "execution_count": 9,
   "metadata": {},
   "outputs": [
    {
     "name": "stdout",
     "output_type": "stream",
     "text": [
      "please enter present time12\n",
      "alarm waiting time8\n",
      "8 pm\n"
     ]
    }
   ],
   "source": [
    "present_time = int(input(\"please enter present time\"))\n",
    "waiting_time = int(input(\"alarm waiting time\"))\n",
    "y = (present_time + waiting_time) % 24\n",
    "if y <= 12:\n",
    "    print(y,\"am\")\n",
    "else:\n",
    "    print(y-12,\"pm\")"
   ]
  },
  {
   "cell_type": "code",
   "execution_count": 13,
   "metadata": {},
   "outputs": [
    {
     "name": "stdout",
     "output_type": "stream",
     "text": [
      "What is the current time(in hours) :12\n",
      "Time to wait for the alarm(in hours) :8\n",
      "8 Pm\n"
     ]
    }
   ],
   "source": [
    "current_time=int(input('What is the current time(in hours) :' ))\n",
    "wait_time=int(input('Time to wait for the alarm(in hours) :'))\n",
    "total_time=(current_time+wait_time)%24\n",
    "if total_time <= 12 :\n",
    "    print(total_time, 'Am')\n",
    "else: \n",
    "    print((total_time-12), 'Pm')"
   ]
  },
  {
   "cell_type": "code",
   "execution_count": 2,
   "metadata": {},
   "outputs": [
    {
     "name": "stdout",
     "output_type": "stream",
     "text": [
      "100\n"
     ]
    }
   ],
   "source": [
    "x=12.2\n",
    "y=13\n",
    "x=100\n",
    "print(x)"
   ]
  },
  {
   "cell_type": "code",
   "execution_count": 3,
   "metadata": {},
   "outputs": [
    {
     "name": "stdout",
     "output_type": "stream",
     "text": [
      "4\n"
     ]
    }
   ],
   "source": [
    "x=2\n",
    "x=x+2\n",
    "print(x)"
   ]
  },
  {
   "cell_type": "code",
   "execution_count": 8,
   "metadata": {},
   "outputs": [
    {
     "name": "stdout",
     "output_type": "stream",
     "text": [
      "0.9359999999999999\n"
     ]
    }
   ],
   "source": [
    "x=0.6\n",
    "x=3.9*x*(1-x)\n",
    "print(x)"
   ]
  },
  {
   "cell_type": "code",
   "execution_count": 11,
   "metadata": {},
   "outputs": [
    {
     "name": "stdout",
     "output_type": "stream",
     "text": [
      "3\n"
     ]
    }
   ],
   "source": [
    "q=45\n",
    "m=6\n",
    "w=q//m\n",
    "print(w)"
   ]
  },
  {
   "cell_type": "code",
   "execution_count": 12,
   "metadata": {},
   "outputs": [
    {
     "name": "stdout",
     "output_type": "stream",
     "text": [
      "11.0\n"
     ]
    }
   ],
   "source": [
    "x=1+2**3/4*5\n",
    "print(x)"
   ]
  },
  {
   "cell_type": "code",
   "execution_count": 16,
   "metadata": {},
   "outputs": [
    {
     "name": "stdout",
     "output_type": "stream",
     "text": [
      "hello  world\n"
     ]
    }
   ],
   "source": [
    "e='hello ' + ' world'\n",
    "print(e)"
   ]
  },
  {
   "cell_type": "code",
   "execution_count": 20,
   "metadata": {},
   "outputs": [
    {
     "data": {
      "text/plain": [
       "'hello1'"
      ]
     },
     "execution_count": 20,
     "metadata": {},
     "output_type": "execute_result"
    }
   ],
   "source": [
    "e='hello'\n",
    "e=e + str(1)\n",
    "e"
   ]
  },
  {
   "cell_type": "code",
   "execution_count": 22,
   "metadata": {},
   "outputs": [
    {
     "name": "stdout",
     "output_type": "stream",
     "text": [
      "124\n"
     ]
    }
   ],
   "source": [
    "s='123'\n",
    "#print(s+1)\n",
    "i=int(s)\n",
    "print(i+1)"
   ]
  },
  {
   "cell_type": "code",
   "execution_count": 26,
   "metadata": {},
   "outputs": [
    {
     "name": "stdout",
     "output_type": "stream",
     "text": [
      "Name?8\n",
      "<class 'str'>\n",
      "GG 8\n"
     ]
    }
   ],
   "source": [
    "nam=input('Name?')\n",
    "print(type(nam))\n",
    "print('GG',nam)"
   ]
  },
  {
   "cell_type": "code",
   "execution_count": 30,
   "metadata": {},
   "outputs": [
    {
     "name": "stdout",
     "output_type": "stream",
     "text": [
      "Which floor?: 4\n",
      "5\n"
     ]
    }
   ],
   "source": [
    "ind=int(input('Which floor?: '))\n",
    "us=ind+1\n",
    "print(us)"
   ]
  },
  {
   "cell_type": "code",
   "execution_count": 1,
   "metadata": {},
   "outputs": [
    {
     "name": "stdout",
     "output_type": "stream",
     "text": [
      "Enter the Hours: 35\n",
      "Enter rate: 2.75\n",
      "Pay 96.25\n"
     ]
    }
   ],
   "source": [
    "h=int(input('Enter the Hours: '))\n",
    "r=float(input('Enter rate: '))\n",
    "p=h*r\n",
    "print('Pay', p)"
   ]
  },
  {
   "cell_type": "code",
   "execution_count": null,
   "metadata": {},
   "outputs": [],
   "source": [
    "#didn't understand colon 26,43,122\n"
   ]
  },
  {
   "cell_type": "code",
   "execution_count": 1,
   "metadata": {},
   "outputs": [
    {
     "name": "stdout",
     "output_type": "stream",
     "text": [
      "1\n",
      "2\n",
      "3\n",
      "4\n",
      "5\n",
      "6\n",
      "7\n",
      "8\n",
      "9\n",
      "10\n"
     ]
    }
   ],
   "source": [
    "nums = [1, 2, 3, 4, 5, 6, 7, 8, 9, 10]\n",
    "accum = 0\n",
    "for w in nums:\n",
    "    print(w)\n",
    "    #accum = accum + w\n",
    "#print(accum)"
   ]
  },
  {
   "cell_type": "code",
   "execution_count": 8,
   "metadata": {},
   "outputs": [
    {
     "name": "stdout",
     "output_type": "stream",
     "text": [
      "11\n"
     ]
    }
   ],
   "source": [
    "accum = 0\n",
    "for w in range(11):\n",
    "    #print(w)\n",
    "    accum = accum + 1\n",
    "print(accum)"
   ]
  },
  {
   "cell_type": "code",
   "execution_count": null,
   "metadata": {},
   "outputs": [],
   "source": []
  }
 ],
 "metadata": {
  "kernelspec": {
   "display_name": "Python 3",
   "language": "python",
   "name": "python3"
  },
  "language_info": {
   "codemirror_mode": {
    "name": "ipython",
    "version": 3
   },
   "file_extension": ".py",
   "mimetype": "text/x-python",
   "name": "python",
   "nbconvert_exporter": "python",
   "pygments_lexer": "ipython3",
   "version": "3.8.5"
  }
 },
 "nbformat": 4,
 "nbformat_minor": 4
}
