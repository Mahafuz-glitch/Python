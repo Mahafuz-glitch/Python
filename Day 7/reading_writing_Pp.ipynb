{
 "cells": [
  {
   "cell_type": "code",
   "execution_count": 16,
   "metadata": {},
   "outputs": [
    {
     "name": "stdout",
     "output_type": "stream",
     "text": [
      "['Name', 'Sex', 'Age', 'Team', 'Event', 'Medal']\n",
      "['A Dijiang', 'M', '24', 'China', 'Basketball', 'NA']\n",
      "['A Lamusi', 'M', '23', 'China', 'Judo', 'NA']\n",
      "['Gunnar Nielsen Aaby', 'M', '24', 'Denmark', 'Football', 'NA']\n",
      "['Edgar Lindenau Aabye', 'M', '34', 'Denmark/Sweden', 'Tug-Of-War', 'Gold']\n",
      "['Christine Jacoba Aaftink', 'F', '21', 'Netherlands', 'Speed Skating', 'NA']\n",
      "['Christine Jacoba Aaftink', 'F', '21', 'Netherlands', 'Speed Skating', 'NA']\n",
      "['Christine Jacoba Aaftink', 'F', '25', 'Netherlands', 'Speed Skating', 'NA']\n",
      "['Christine Jacoba Aaftink', 'F', '25', 'Netherlands', 'Speed Skating', 'NA']\n",
      "['Christine Jacoba Aaftink', 'F', '27', 'Netherlands', 'Speed Skating', 'NA']\n",
      "['Christine Jacoba Aaftink', 'F', '27', 'Netherlands', 'Speed Skating', 'NA']\n",
      "['Per Knut Aaland', 'M', '31', 'United States', 'Cross Country Skiing', 'NA']\n",
      "['Per Knut Aaland', 'M', '31', 'United States', 'Cross Country Skiing', 'NA']\n",
      "['Per Knut Aaland', 'M', '31', 'United States', 'Cross Country Skiing', 'NA']\n",
      "['Per Knut Aaland', 'M', '31', 'United States', 'Cross Country Skiing', 'NA']\n",
      "['Per Knut Aaland', 'M', '33', 'United States', 'Cross Country Skiing', 'NA']\n",
      "['Per Knut Aaland', 'M', '33', 'United States', 'Cross Country Skiing', 'NA']\n",
      "['Per Knut Aaland', 'M', '33', 'United States', 'Cross Country Skiing', 'NA']\n",
      "['Per Knut Aaland', 'M', '33', 'United States', 'Cross Country Skiing', 'NA']\n",
      "['John Aalberg', 'M', '31', 'United States', 'Cross Country Skiing', 'NA']\n",
      "['John Aalberg', 'M', '31', 'United States', 'Cross Country Skiing', 'NA']\n",
      "['John Aalberg', 'M', '31', 'United States', 'Cross Country Skiing', 'NA']\n",
      "['John Aalberg', 'M', '31', 'United States', 'Cross Country Skiing', 'NA']\n",
      "['John Aalberg', 'M', '33', 'United States', 'Cross Country Skiing', 'NA']\n",
      "['John Aalberg', 'M', '33', 'United States', 'Cross Country Skiing', 'NA']\n",
      "['John Aalberg', 'M', '33', 'United States', 'Cross Country Skiing', 'NA']\n",
      "['John Aalberg', 'M', '33', 'United States', 'Cross Country Skiing', 'NA']\n",
      "['\"Cornelia \"\"Cor\"\" Aalten (-Strannood)\"', 'F', '18', 'Netherlands', 'Athletics', 'NA']\n",
      "['\"Cornelia \"\"Cor\"\" Aalten (-Strannood)\"', 'F', '18', 'Netherlands', 'Athletics', 'NA']\n",
      "['Antti Sami Aalto', 'M', '26', 'Finland', 'Ice Hockey', 'NA']\n",
      "['\"Einar Ferdinand \"\"Einari\"\" Aalto\"', 'M', '26', 'Finland', 'Swimming', 'NA']\n",
      "['Jorma Ilmari Aalto', 'M', '22', 'Finland', 'Cross Country Skiing', 'NA']\n",
      "['Jyri Tapani Aalto', 'M', '31', 'Finland', 'Badminton', 'NA']\n",
      "['Minna Maarit Aalto', 'F', '30', 'Finland', 'Sailing', 'NA']\n",
      "['Minna Maarit Aalto', 'F', '34', 'Finland', 'Sailing', 'NA']\n",
      "['Pirjo Hannele Aalto (Mattila-)', 'F', '32', 'Finland', 'Biathlon', 'NA']\n",
      "['Arvo Ossian Aaltonen', 'M', '22', 'Finland', 'Swimming', 'NA']\n",
      "['Arvo Ossian Aaltonen', 'M', '22', 'Finland', 'Swimming', 'NA']\n",
      "['Arvo Ossian Aaltonen', 'M', '30', 'Finland', 'Swimming', 'Bronze']\n",
      "['Arvo Ossian Aaltonen', 'M', '30', 'Finland', 'Swimming', 'Bronze']\n",
      "['Arvo Ossian Aaltonen', 'M', '34', 'Finland', 'Swimming', 'NA']\n",
      "['Juhamatti Tapio Aaltonen', 'M', '28', 'Finland', 'Ice Hockey', 'Bronze']\n",
      "['Paavo Johannes Aaltonen', 'M', '28', 'Finland', 'Gymnastics', 'Bronze']\n",
      "['Paavo Johannes Aaltonen', 'M', '28', 'Finland', 'Gymnastics', 'Gold']\n",
      "['Paavo Johannes Aaltonen', 'M', '28', 'Finland', 'Gymnastics', 'NA']\n",
      "['Paavo Johannes Aaltonen', 'M', '28', 'Finland', 'Gymnastics', 'Gold']\n",
      "['Paavo Johannes Aaltonen', 'M', '28', 'Finland', 'Gymnastics', 'NA']\n",
      "['Paavo Johannes Aaltonen', 'M', '28', 'Finland', 'Gymnastics', 'NA']\n",
      "['Paavo Johannes Aaltonen', 'M', '28', 'Finland', 'Gymnastics', 'NA']\n",
      "['Paavo Johannes Aaltonen', 'M', '28', 'Finland', 'Gymnastics', 'Gold']\n",
      "['Paavo Johannes Aaltonen', 'M', '32', 'Finland', 'Gymnastics', 'NA']\n",
      "['Paavo Johannes Aaltonen', 'M', '32', 'Finland', 'Gymnastics', 'Bronze']\n",
      "['Paavo Johannes Aaltonen', 'M', '32', 'Finland', 'Gymnastics', 'NA']\n",
      "['Paavo Johannes Aaltonen', 'M', '32', 'Finland', 'Gymnastics', 'NA']\n",
      "['Paavo Johannes Aaltonen', 'M', '32', 'Finland', 'Gymnastics', 'NA']\n",
      "['Paavo Johannes Aaltonen', 'M', '32', 'Finland', 'Gymnastics', 'NA']\n",
      "['Paavo Johannes Aaltonen', 'M', '32', 'Finland', 'Gymnastics', 'NA']\n",
      "['Paavo Johannes Aaltonen', 'M', '32', 'Finland', 'Gymnastics', 'NA']\n",
      "['Timo Antero Aaltonen', 'M', '31', 'Finland', 'Athletics', 'NA']\n",
      "['Win Valdemar Aaltonen', 'M', '54', 'Finland', 'Art Competitions', 'NA']\n"
     ]
    }
   ],
   "source": [
    "md=open(\"olympics.txt\", \"r\")\n",
    "l=md.readlines()\n",
    "for i in l:\n",
    "    m=i.strip()\n",
    "    m=m.split(\",\")\n",
    "    "
   ]
  },
  {
   "cell_type": "code",
   "execution_count": 23,
   "metadata": {},
   "outputs": [
    {
     "name": "stdout",
     "output_type": "stream",
     "text": [
      "1\n",
      "4\n",
      "9\n",
      "16\n",
      "25\n",
      "36\n",
      "49\n",
      "64\n",
      "81\n",
      "100\n"
     ]
    }
   ],
   "source": [
    "md=open(\"mahafuz.txt\", 'r')\n",
    "for i in md:\n",
    "    print(i,end='')\n",
    "md.close()"
   ]
  },
  {
   "cell_type": "code",
   "execution_count": 25,
   "metadata": {},
   "outputs": [
    {
     "name": "stdout",
     "output_type": "stream",
     "text": [
      "['Name', 'Sex', 'Age', 'Team', 'Event', 'Medal']\n"
     ]
    },
    {
     "data": {
      "text/plain": [
       "'Paavo Johannes Aaltonen,Gymnastics,Bronze'"
      ]
     },
     "execution_count": 25,
     "metadata": {},
     "output_type": "execute_result"
    }
   ],
   "source": [
    "fileconnection = open(\"olympics.txt\", 'r')\n",
    "lines = fileconnection.readlines()\n",
    "header = lines[0]\n",
    "field_names = header.strip().split(',')\n",
    "print(field_names)\n",
    "for row in lines[1:]:\n",
    "    vals = row.strip().split(',')\n",
    "    if vals[5] != \"NA\":\n",
    "        m=\"{},{},{}\".format(\n",
    "                vals[0],\n",
    "                vals[4],\n",
    "                vals[5])\n",
    "m"
   ]
  },
  {
   "cell_type": "code",
   "execution_count": 77,
   "metadata": {},
   "outputs": [],
   "source": [
    "md=open(\"olympics.txt\", \"r\")\n",
    "l=md.readlines()\n",
    "h=l[0]\n",
    "h=h.split()\n",
    "a=\" \".join(h)\n",
    "f_val=[]\n",
    "for i in l[1:]:\n",
    "    val=i.strip().split(\",\")\n",
    "    if val[5]!= 'NA':\n",
    "        fval=val\n",
    "        fval=tuple(fval)\n",
    "        f_val.extend([fval])\n",
    "outfile = open(\"new_file.csv\", \"w\")\n",
    "outfile.write(a)\n",
    "outfile.write('\\n')\n",
    "for val in f_val:\n",
    "    val='{}, {}, {} ,{}, {}, {}'.format(val[0],val[1],val[2],val[3],val[4],val[5])\n",
    "    outfile.write(val +'\\n')\n",
    "outfile.close()\n"
   ]
  },
  {
   "cell_type": "code",
   "execution_count": 69,
   "metadata": {},
   "outputs": [
    {
     "name": "stdout",
     "output_type": "stream",
     "text": [
      "['Edgar Lindenau Aabye', 'M', '34', 'Denmark/Sweden', 'Tug-Of-War', 'Gold']\n",
      "['Arvo Ossian Aaltonen', 'M', '30', 'Finland', 'Swimming', 'Bronze']\n",
      "['Arvo Ossian Aaltonen', 'M', '30', 'Finland', 'Swimming', 'Bronze']\n",
      "['Juhamatti Tapio Aaltonen', 'M', '28', 'Finland', 'Ice Hockey', 'Bronze']\n",
      "['Paavo Johannes Aaltonen', 'M', '28', 'Finland', 'Gymnastics', 'Bronze']\n",
      "['Paavo Johannes Aaltonen', 'M', '28', 'Finland', 'Gymnastics', 'Gold']\n",
      "['Paavo Johannes Aaltonen', 'M', '28', 'Finland', 'Gymnastics', 'Gold']\n",
      "['Paavo Johannes Aaltonen', 'M', '28', 'Finland', 'Gymnastics', 'Gold']\n",
      "['Paavo Johannes Aaltonen', 'M', '32', 'Finland', 'Gymnastics', 'Bronze']\n"
     ]
    }
   ],
   "source": [
    "md=open(\"olympics.txt\", \"r\")\n",
    "l=md.readlines()\n",
    "h=l[0]\n",
    "h=h.split()\n",
    "a=\" \".join(h)\n",
    "f_val=[]\n",
    "for i in l[1:]:\n",
    "    val=i.strip().split(\",\")\n",
    "    if val[5]!= 'NA':\n",
    "        fval=val\n",
    "        print(fval)"
   ]
  },
  {
   "cell_type": "code",
   "execution_count": 74,
   "metadata": {},
   "outputs": [
    {
     "data": {
      "text/plain": [
       "'Name,Sex,Age,Team,Event,Medal'"
      ]
     },
     "execution_count": 74,
     "metadata": {},
     "output_type": "execute_result"
    }
   ],
   "source": [
    "md=open(\"olympics.txt\", \"r\")\n",
    "l=md.readlines()\n",
    "h=l[0]\n",
    "h=h.split()\n",
    "a=\" \".join(h)\n",
    "a"
   ]
  },
  {
   "cell_type": "code",
   "execution_count": null,
   "metadata": {},
   "outputs": [],
   "source": []
  }
 ],
 "metadata": {
  "kernelspec": {
   "display_name": "Python 3",
   "language": "python",
   "name": "python3"
  },
  "language_info": {
   "codemirror_mode": {
    "name": "ipython",
    "version": 3
   },
   "file_extension": ".py",
   "mimetype": "text/x-python",
   "name": "python",
   "nbconvert_exporter": "python",
   "pygments_lexer": "ipython3",
   "version": "3.8.5"
  }
 },
 "nbformat": 4,
 "nbformat_minor": 4
}
