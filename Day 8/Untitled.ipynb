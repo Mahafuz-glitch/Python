{
 "cells": [
  {
   "cell_type": "code",
   "execution_count": 4,
   "metadata": {},
   "outputs": [
    {
     "name": "stdout",
     "output_type": "stream",
     "text": [
      "Will pass\n"
     ]
    },
    {
     "ename": "IndexError",
     "evalue": "tuple index out of range",
     "output_type": "error",
     "traceback": [
      "\u001b[0;31m---------------------------------------------------------------------------\u001b[0m",
      "\u001b[0;31mIndexError\u001b[0m                                Traceback (most recent call last)",
      "\u001b[0;32m<ipython-input-4-ad0427a9a544>\u001b[0m in \u001b[0;36m<module>\u001b[0;34m\u001b[0m\n\u001b[1;32m      1\u001b[0m \u001b[0mst\u001b[0m \u001b[0;34m=\u001b[0m \u001b[0;34m[\u001b[0m\u001b[0;34m(\u001b[0m\u001b[0;34m'Timmy'\u001b[0m\u001b[0;34m,\u001b[0m \u001b[0;36m95\u001b[0m\u001b[0;34m,\u001b[0m \u001b[0;34m'Will pass'\u001b[0m\u001b[0;34m)\u001b[0m\u001b[0;34m,\u001b[0m \u001b[0;34m(\u001b[0m\u001b[0;34m'Martha'\u001b[0m\u001b[0;34m,\u001b[0m \u001b[0;36m70\u001b[0m\u001b[0;34m)\u001b[0m\u001b[0;34m]\u001b[0m\u001b[0;34m\u001b[0m\u001b[0;34m\u001b[0m\u001b[0m\n\u001b[1;32m      2\u001b[0m \u001b[0;32mfor\u001b[0m \u001b[0mi\u001b[0m \u001b[0;32min\u001b[0m \u001b[0mst\u001b[0m\u001b[0;34m:\u001b[0m\u001b[0;34m\u001b[0m\u001b[0;34m\u001b[0m\u001b[0m\n\u001b[0;32m----> 3\u001b[0;31m     \u001b[0mprint\u001b[0m\u001b[0;34m(\u001b[0m\u001b[0mi\u001b[0m\u001b[0;34m[\u001b[0m\u001b[0;36m2\u001b[0m\u001b[0;34m]\u001b[0m\u001b[0;34m)\u001b[0m\u001b[0;34m\u001b[0m\u001b[0;34m\u001b[0m\u001b[0m\n\u001b[0m\u001b[1;32m      4\u001b[0m \u001b[0;34m\u001b[0m\u001b[0m\n\u001b[1;32m      5\u001b[0m \u001b[0;34m\u001b[0m\u001b[0m\n",
      "\u001b[0;31mIndexError\u001b[0m: tuple index out of range"
     ]
    }
   ],
   "source": [
    "st = [('Timmy', 95, 'Will pass'), ('Martha', 70)]\n",
    "for i in st:\n",
    "    print(i[2])\n",
    "    \n",
    "        "
   ]
  },
  {
   "cell_type": "code",
   "execution_count": 5,
   "metadata": {},
   "outputs": [
    {
     "name": "stdout",
     "output_type": "stream",
     "text": [
      "2\n"
     ]
    }
   ],
   "source": [
    "students = [('Timmy', 95, 'Will pass'), ('Martha', 70), ('Betty', 82, 'Will pass'), ('Stewart', 50, 'Will not pass'), ('Ashley', 68), ('Natalie', 99, 'Will pass'), ('Archie', 71), ('Carl', 45, 'Will not pass')]\n",
    "passing = {'Will pass': 0, 'Will not pass': 0}\n",
    "for tup in students:\n",
    "    try:\n",
    "        if tup[2]=='Will pass':\n",
    "            \n",
    "            passing['Will pass']+=1\n",
    "        \n",
    "        else:\n",
    "            passing['Will not pass']+=1\n",
    "    except:\n",
    "        continue\n",
    "\n",
    "print(passing['Will not pass'])"
   ]
  },
  {
   "cell_type": "code",
   "execution_count": 4,
   "metadata": {},
   "outputs": [
    {
     "data": {
      "text/plain": [
       "{'Will pass': 3, 'Will not pass': 2}"
      ]
     },
     "execution_count": 4,
     "metadata": {},
     "output_type": "execute_result"
    }
   ],
   "source": [
    "passing"
   ]
  },
  {
   "cell_type": "code",
   "execution_count": 9,
   "metadata": {},
   "outputs": [
    {
     "data": {
      "text/plain": [
       "str"
      ]
     },
     "execution_count": 9,
     "metadata": {},
     "output_type": "execute_result"
    }
   ],
   "source": [
    "i='9'\n",
    "type(i)"
   ]
  },
  {
   "cell_type": "code",
   "execution_count": 11,
   "metadata": {},
   "outputs": [
    {
     "name": "stdout",
     "output_type": "stream",
     "text": [
      "[9, 13, 8, 7, 6, 5, 10, 9, 11, 8, 7, 6, 10, 11, 12, 4, 7, 8, 4, 10, 9, 7, 9, 10, 11, 12, 7, 5, 9, 10, 11, 13, 7, 6, 9, 10, 13, 6, 7, 8, 9, 5]\n"
     ]
    }
   ],
   "source": [
    "nums = [5, 9, '4', 3, 2, 1, 6, 5, '7', 4, 3, 2, 6, 7, 8, '0', 3, 4, 0, 6, 5, '3', 5, 6, 7, 8, '3', '1', 5, 6, 7, 9, 3, 2, 5, 6, '9', 2, 3, 4, 5, 1]\n",
    "plus_four = []\n",
    "for i in nums:\n",
    "    try:\n",
    "        plus_four.append(i+4)\n",
    "    except:\n",
    "        plus_four.append(int(i)+4)\n",
    "print(plus_four)        "
   ]
  },
  {
   "cell_type": "code",
   "execution_count": 16,
   "metadata": {},
   "outputs": [
    {
     "name": "stdout",
     "output_type": "stream",
     "text": [
      "2.0\n",
      "this is out of bound\n",
      "continuing\n"
     ]
    }
   ],
   "source": [
    "items = ['a', 'b']\n",
    "\n",
    "try:\n",
    "    #a = 10/0\n",
    "    third = items[2]\n",
    "    print(\"This won't print\")\n",
    "except:\n",
    "    a = 10/5\n",
    "    print(a)\n",
    "    print(\"this is out of bound\")\n",
    "#except IndexError:\n",
    "#    third = items[1]\n",
    "#    print(third)\n",
    " #   print(\"got an error\")\n",
    "\n",
    "print(\"continuing\")"
   ]
  },
  {
   "cell_type": "code",
   "execution_count": 17,
   "metadata": {},
   "outputs": [
    {
     "data": {
      "text/plain": [
       "2.0"
      ]
     },
     "execution_count": 17,
     "metadata": {},
     "output_type": "execute_result"
    }
   ],
   "source": [
    "myvar = a\n",
    "a"
   ]
  },
  {
   "cell_type": "code",
   "execution_count": 11,
   "metadata": {},
   "outputs": [
    {
     "data": {
      "text/plain": [
       "'pYTHONIST 2'"
      ]
     },
     "execution_count": 11,
     "metadata": {},
     "output_type": "execute_result"
    }
   ],
   "source": [
    "s='Pythonist 2'\n",
    "a=[]\n",
    "for i in s:\n",
    "    a.append(i)\n",
    "for g in range(len(a)):\n",
    "    if a[g]==a[g].upper():\n",
    "        a[g]=a[g].lower()\n",
    "    else:\n",
    "        a[g]==a[g].lower()\n",
    "        a[g]=a[g].upper()\n",
    "b=\"\".join(a)\n",
    "b"
   ]
  },
  {
   "cell_type": "code",
   "execution_count": null,
   "metadata": {},
   "outputs": [],
   "source": [
    "    if a[g]==a[g].upper():\n",
    "        a[g]=a[g].lower()\n",
    "    else:\n",
    "        print('hh')"
   ]
  },
  {
   "cell_type": "code",
   "execution_count": 18,
   "metadata": {},
   "outputs": [
    {
     "name": "stdout",
     "output_type": "stream",
     "text": [
      "Pythonist 2\n",
      "pYTHONIST 2\n",
      "None\n"
     ]
    }
   ],
   "source": [
    "def swap_case(s):\n",
    "    a=[]\n",
    "    for i in s:\n",
    "        a.append(i)\n",
    "    for g in range(len(a)):\n",
    "        if a[g]==a[g].upper():\n",
    "            a[g]=a[g].lower()\n",
    "        else:\n",
    "            a[g]==a[g].lower()\n",
    "            a[g]=a[g].upper()\n",
    "    b=\"\".join(a)   \n",
    "    print(b)\n",
    "\n",
    "if __name__ == '__main__':\n",
    "    s = input()\n",
    "    result = swap_case(s)\n",
    "    print(result)"
   ]
  },
  {
   "cell_type": "code",
   "execution_count": 24,
   "metadata": {},
   "outputs": [
    {
     "data": {
      "text/plain": [
       "'this-is-a-string'"
      ]
     },
     "execution_count": 24,
     "metadata": {},
     "output_type": "execute_result"
    }
   ],
   "source": [
    "s='this is a string'\n",
    "s=s.split(\" \")\n",
    "s\n",
    "a=\"-\".join(s)\n",
    "a\n"
   ]
  },
  {
   "cell_type": "code",
   "execution_count": 40,
   "metadata": {},
   "outputs": [
    {
     "name": "stdout",
     "output_type": "stream",
     "text": [
      "hi! ma fuz! hey\n"
     ]
    }
   ],
   "source": [
    "n='ma'\n",
    "m='fuz'\n",
    "m=m.split()\n",
    "m.extend(\"!\")\n",
    "m=\"\".join(m)\n",
    "print('hi!',n,m,'hey')"
   ]
  },
  {
   "cell_type": "code",
   "execution_count": 11,
   "metadata": {},
   "outputs": [
    {
     "name": "stdout",
     "output_type": "stream",
     "text": [
      "True\n",
      "False\n"
     ]
    }
   ],
   "source": [
    "s='qA2'\n",
    "c=0\n",
    "d=0\n",
    "for i in s:\n",
    "    if i==i.upper():\n",
    "        d+=1\n",
    "        \n",
    "for i in s:\n",
    "    if i==int:\n",
    "        c+=1\n",
    "if c==0:\n",
    "    print(True)\n",
    "else:\n",
    "    print(False)\n",
    "if d==0:\n",
    "    print(True)\n",
    "else:\n",
    "    print(False)    "
   ]
  },
  {
   "cell_type": "code",
   "execution_count": 12,
   "metadata": {},
   "outputs": [
    {
     "name": "stdout",
     "output_type": "stream",
     "text": [
      "True\n"
     ]
    }
   ],
   "source": [
    "lis1 = [10, 20, 30, 40]\n",
    "print(any(lis1))"
   ]
  },
  {
   "cell_type": "code",
   "execution_count": 14,
   "metadata": {},
   "outputs": [
    {
     "data": {
      "text/plain": [
       "[3, 9, 43, 53, 76, 221]"
      ]
     },
     "execution_count": 14,
     "metadata": {},
     "output_type": "execute_result"
    }
   ],
   "source": [
    "l=[9,221,3,53,76,43]\n",
    "sorted(l)"
   ]
  },
  {
   "cell_type": "code",
   "execution_count": 7,
   "metadata": {},
   "outputs": [
    {
     "data": {
      "text/plain": [
       "[5, 2, 3, 4, 5]"
      ]
     },
     "execution_count": 7,
     "metadata": {},
     "output_type": "execute_result"
    }
   ],
   "source": [
    "l=[1,2,3,4,5]\n",
    "f=[]\n",
    "g=0\n",
    "for i in range(len(l)):\n",
    "    if l[0]<l[i]:\n",
    "        l[0]=l[i]\n",
    "l\n",
    "        "
   ]
  },
  {
   "cell_type": "code",
   "execution_count": 1,
   "metadata": {},
   "outputs": [],
   "source": [
    "i=8\n",
    "while i==9:\n",
    "    print(\"Mahafuz\")"
   ]
  },
  {
   "cell_type": "code",
   "execution_count": 15,
   "metadata": {},
   "outputs": [
    {
     "name": "stdout",
     "output_type": "stream",
     "text": [
      "[-23, -6, -5, 0, 5, 23, 23, 67]\n"
     ]
    }
   ],
   "source": [
    "data_list = [-5, -23, 5, 0, 23, -6, 23, 67]\n",
    "\n",
    "new_list = []\n",
    "\n",
    "while data_list:\n",
    "\n",
    "    minimum = data_list[0]  # arbitrary number in list \n",
    "\n",
    "    for x in data_list: \n",
    "\n",
    "        if x < minimum:\n",
    "\n",
    "            minimum = x\n",
    "\n",
    "    new_list.append(minimum)\n",
    "\n",
    "    data_list.remove(minimum)    \n",
    "\n",
    "print (new_list)"
   ]
  },
  {
   "cell_type": "code",
   "execution_count": 26,
   "metadata": {},
   "outputs": [
    {
     "data": {
      "text/plain": [
       "[-23, 5, 0, 23, -6, 23, 67]"
      ]
     },
     "execution_count": 26,
     "metadata": {},
     "output_type": "execute_result"
    }
   ],
   "source": [
    "data_list = [-5, -23, 5, 0, 23, -6, 23, 67]\n",
    "    "
   ]
  },
  {
   "cell_type": "code",
   "execution_count": 24,
   "metadata": {},
   "outputs": [
    {
     "data": {
      "text/plain": [
       "[1]"
      ]
     },
     "execution_count": 24,
     "metadata": {},
     "output_type": "execute_result"
    }
   ],
   "source": [
    "i=[1,2]\n",
    "i.remove(2)\n",
    "i"
   ]
  },
  {
   "cell_type": "code",
   "execution_count": 3,
   "metadata": {},
   "outputs": [
    {
     "name": "stdout",
     "output_type": "stream",
     "text": [
      "enter a number: 7\n",
      "70\n",
      "63\n",
      "56\n",
      "49\n",
      "42\n",
      "35\n",
      "28\n",
      "21\n",
      "14\n",
      "7\n"
     ]
    }
   ],
   "source": [
    "a=int(input(\"enter a number: \"))\n",
    "b=10\n",
    "while b>=1:\n",
    "    print(a*b)\n",
    "    b=b-1"
   ]
  },
  {
   "cell_type": "code",
   "execution_count": 6,
   "metadata": {},
   "outputs": [
    {
     "data": {
      "text/plain": [
       "[6, 5, 4, 3, 2, 1]"
      ]
     },
     "execution_count": 6,
     "metadata": {},
     "output_type": "execute_result"
    }
   ],
   "source": [
    "l=[1,2,3,4,5,6]\n",
    "f=[]\n",
    "while l:\n",
    "    mnm=l[0]\n",
    "    for i in l:\n",
    "        if mnm<i:\n",
    "            mnm=i\n",
    "    f.append(mnm)\n",
    "    l.remove(mnm)\n",
    "f"
   ]
  },
  {
   "cell_type": "code",
   "execution_count": 2,
   "metadata": {},
   "outputs": [
    {
     "data": {
      "text/plain": [
       "[9]"
      ]
     },
     "execution_count": 2,
     "metadata": {},
     "output_type": "execute_result"
    }
   ],
   "source": [
    "l=[9,4]\n",
    "l.remove(4)\n",
    "l"
   ]
  },
  {
   "cell_type": "code",
   "execution_count": 3,
   "metadata": {},
   "outputs": [
    {
     "name": "stdout",
     "output_type": "stream",
     "text": [
      "[8, 7, 6, 5, 4, 3, 2, 1]\n"
     ]
    }
   ],
   "source": [
    "data_list = [1,2,3,4,5,6,7,8]\n",
    "\n",
    "new_list = []\n",
    "\n",
    "while data_list:\n",
    "\n",
    "    minimum = data_list[0]  # arbitrary number in list \n",
    "\n",
    "    for x in data_list: \n",
    "\n",
    "        if minimum < x :\n",
    "\n",
    "            minimum = x\n",
    "\n",
    "    new_list.append(minimum)\n",
    "\n",
    "    data_list.remove(minimum)    \n",
    "\n",
    "print (new_list)"
   ]
  },
  {
   "cell_type": "code",
   "execution_count": 7,
   "metadata": {},
   "outputs": [
    {
     "data": {
      "text/plain": [
       "[38, 892, 892, 892, 892, 38, 148, 576, 576, 38, 148, 345, 38, 148, 38]"
      ]
     },
     "execution_count": 7,
     "metadata": {},
     "output_type": "execute_result"
    }
   ],
   "source": [
    "l=[38,892,148,576,345]\n",
    "ll=[]\n",
    "while l:\n",
    "    m=l[0]\n",
    "    for i in l:\n",
    "        if m<i:\n",
    "            m=i\n",
    "        ll.append(m)\n",
    "    l.remove(m)\n",
    "ll"
   ]
  },
  {
   "cell_type": "code",
   "execution_count": null,
   "metadata": {},
   "outputs": [],
   "source": []
  }
 ],
 "metadata": {
  "kernelspec": {
   "display_name": "Python 3",
   "language": "python",
   "name": "python3"
  },
  "language_info": {
   "codemirror_mode": {
    "name": "ipython",
    "version": 3
   },
   "file_extension": ".py",
   "mimetype": "text/x-python",
   "name": "python",
   "nbconvert_exporter": "python",
   "pygments_lexer": "ipython3",
   "version": "3.8.5"
  }
 },
 "nbformat": 4,
 "nbformat_minor": 4
}
