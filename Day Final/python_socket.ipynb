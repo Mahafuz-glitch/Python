{
 "cells": [
  {
   "cell_type": "markdown",
   "metadata": {},
   "source": [
    "## Python Socket"
   ]
  },
  {
   "cell_type": "code",
   "execution_count": 3,
   "metadata": {},
   "outputs": [
    {
     "name": "stdout",
     "output_type": "stream",
     "text": [
      "HTTP/1.1 200 OK\r\n",
      "Date: Sat, 20 Mar 2021 09:14:17 GMT\r\n",
      "Server: Apache/2.4.18 (Ubuntu)\r\n",
      "Last-Modified: Sat, 13 May 2017 11:22:22 GMT\r\n",
      "ETag: \"493-54f6609245537\"\r\n",
      "Accept-Ranges: bytes\r\n",
      "Content-Length: 1171\r\n",
      "Cache-Control: max-age=0, no-cache, no-store, must-revalidate\r\n",
      "Pragma: no-cache\r\n",
      "Expires: Wed, 11 Jan 1984 05:00:00 GMT\r\n",
      "Connection: close\r\n",
      "Content-Type: text/plain\r\n",
      "\r\n",
      "Writing programs or programming is a very creative\n",
      "and rewarding activity  You can write programs for\n",
      "many reasons ranging from making your living to solving\n",
      "a difficult data analysis problem to having fun to helping\n",
      "someone else solve a problem  This book assumes that\n",
      "{\\em everyone} needs to know how to program and that once\n",
      "you know how to program, you will figure out what you want\n",
      "to do with your newfound skills\n",
      "\n",
      "We are surrounded in our daily lives with computers ranging\n",
      "from laptops to cell phones  We can think of these computers\n",
      "as our personal assistants who can take care of many things\n",
      "on our behalf  The hardware in our current-day computers\n",
      "is essentially built to continuously ask us the question\n",
      "What would you like me to do next\n",
      "\n",
      "Our computers are fast and have vasts amounts of memory and \n",
      "could be very helpful to us if we only knew the language to \n",
      "speak to explain to the computer what we would like it to \n",
      "do next If we knew this language we could tell the \n",
      "computer to do tasks on our behalf that were reptitive  \n",
      "Interestingly, the kinds of things computers can do best\n",
      "are often the kinds of things that we humans find boring\n",
      "and mind-numbing\n"
     ]
    }
   ],
   "source": [
    "import socket\n",
    "\n",
    "mysock = socket.socket(socket.AF_INET, socket.SOCK_STREAM)\n",
    "mysock.connect(('data.pr4e.org', 80))\n",
    "cmd = 'GET http://data.pr4e.org/words.txt HTTP/1.0\\r\\n\\r\\n'.encode() # Bytes\n",
    "mysock.send(cmd)\n",
    "\n",
    "while True:\n",
    "    data = mysock.recv(512)\n",
    "    if len(data) < 1:\n",
    "        break\n",
    "    print(data.decode(),end='')\n",
    "\n",
    "mysock.close()"
   ]
  },
  {
   "cell_type": "code",
   "execution_count": 5,
   "metadata": {},
   "outputs": [
    {
     "name": "stdout",
     "output_type": "stream",
     "text": [
      "But soft what light through yonder window breaks\n",
      "It is the east and Juliet is the sun\n",
      "Arise fair sun and kill the envious moon\n",
      "Who is already sick and pale with grief\n"
     ]
    }
   ],
   "source": [
    "import urllib.request\n",
    "\n",
    "fhand = urllib.request.urlopen('http://data.pr4e.org/romeo.txt')\n",
    "for line in fhand:\n",
    "    print(line.decode().strip())"
   ]
  },
  {
   "cell_type": "code",
   "execution_count": 6,
   "metadata": {},
   "outputs": [
    {
     "name": "stdout",
     "output_type": "stream",
     "text": [
      "{'But': 1, 'soft': 1, 'what': 1, 'light': 1, 'through': 1, 'yonder': 1, 'window': 1, 'breaks': 1, 'It': 1, 'is': 3, 'the': 3, 'east': 1, 'and': 3, 'Juliet': 1, 'sun': 2, 'Arise': 1, 'fair': 1, 'kill': 1, 'envious': 1, 'moon': 1, 'Who': 1, 'already': 1, 'sick': 1, 'pale': 1, 'with': 1, 'grief': 1}\n"
     ]
    }
   ],
   "source": [
    "import urllib.request, urllib.parse, urllib.error\n",
    "\n",
    "fhand = urllib.request.urlopen('http://data.pr4e.org/romeo.txt')\n",
    "\n",
    "counts = dict()\n",
    "for line in fhand:\n",
    "    words = line.decode().split()\n",
    "    for word in words:\n",
    "        counts[word] = counts.get(word, 0) + 1\n",
    "print(counts)"
   ]
  },
  {
   "cell_type": "code",
   "execution_count": 6,
   "metadata": {},
   "outputs": [
    {
     "name": "stdout",
     "output_type": "stream",
     "text": [
      "But soft what light through yonder window breaks\n",
      "It is the east and Juliet is the sun\n",
      "Arise fair sun and kill the envious moon\n",
      "Who is already sick and pale with grief\n"
     ]
    }
   ],
   "source": [
    "import urllib.request, urllib.parse, urllib.error\n",
    "\n",
    "fhand = urllib.request.urlopen('http://data.pr4e.org/romeo.txt')\n",
    "for line in fhand:\n",
    "    print(line.decode().strip())"
   ]
  },
  {
   "cell_type": "code",
   "execution_count": 1,
   "metadata": {},
   "outputs": [
    {
     "name": "stdout",
     "output_type": "stream",
     "text": [
      "Enter - https://coreyms.com/category/development/python\n",
      "URL: https://coreyms.com/\n",
      "URL: https://coreyms.com/\n",
      "URL: https://www.youtube.com/user/schafer5\n",
      "URL: https://github.com/CoreyMSchafer\n",
      "URL: https://plus.google.com/+CoreySchafer44/posts\n",
      "URL: https://twitter.com/CoreyMSchafer\n",
      "URL: https://www.instagram.com/coreymschafer/\n",
      "URL: http://coreyms.com/feed/\n",
      "URL: https://coreyms.com/contact\n",
      "URL: http://coreyms.com/portfolio\n",
      "URL: https://coreyms.com/category/development\n",
      "URL: https://coreyms.com/category/development/python\n",
      "URL: https://coreyms.com/category/development/git\n",
      "URL: https://coreyms.com/category/development/terminal\n",
      "URL: https://coreyms.com/category/development/javascript\n",
      "URL: https://coreyms.com/category/development/wordpress\n",
      "URL: https://coreyms.com/category/web-design\n",
      "URL: https://coreyms.com/category/web-design/css\n",
      "URL: https://coreyms.com/category/diy\n",
      "URL: https://coreyms.com/category/diy/woodworking\n",
      "URL: https://coreyms.com/category/diy/home-improvement\n",
      "URL: https://coreyms.com/contributors\n",
      "URL: https://coreyms.com/support\n",
      "URL: https://coreyms.com/giveaway\n",
      "URL: https://coreyms.com/development/python/python-tutorial-zip-files-creating-and-extracting-zip-archives\n",
      "URL: https://coreyms.com/author/coreymschafer\n",
      "URL: https://coreyms.com/development/python/python-tutorial-zip-files-creating-and-extracting-zip-archives#respond\n",
      "URL: https://coreyms.com/category/development\n",
      "URL: https://coreyms.com/category/development/python\n",
      "URL: https://coreyms.com/tag/gzip\n",
      "URL: https://coreyms.com/tag/shutil\n",
      "URL: https://coreyms.com/tag/zip\n",
      "URL: https://coreyms.com/tag/zipfile\n",
      "URL: https://coreyms.com/development/python/python-data-science-tutorial-analyzing-the-2019-stack-overflow-developer-survey\n",
      "URL: https://coreyms.com/author/coreymschafer\n",
      "URL: https://coreyms.com/development/python/python-data-science-tutorial-analyzing-the-2019-stack-overflow-developer-survey#respond\n",
      "URL: https://coreyms.com/category/development\n",
      "URL: https://coreyms.com/category/development/python\n",
      "URL: https://coreyms.com/tag/data-analysis\n",
      "URL: https://coreyms.com/tag/data-science\n",
      "URL: https://coreyms.com/tag/stack-overflow\n",
      "URL: https://coreyms.com/development/python/python-multiprocessing-tutorial-run-code-in-parallel-using-the-multiprocessing-module\n",
      "URL: https://coreyms.com/author/coreymschafer\n",
      "URL: https://coreyms.com/development/python/python-multiprocessing-tutorial-run-code-in-parallel-using-the-multiprocessing-module#respond\n",
      "URL: https://coreyms.com/category/development\n",
      "URL: https://coreyms.com/category/development/python\n",
      "URL: https://coreyms.com/tag/asynchronous\n",
      "URL: https://coreyms.com/tag/concurrent-futures\n",
      "URL: https://coreyms.com/tag/multiprocessing\n",
      "URL: https://coreyms.com/tag/parallel\n",
      "URL: https://coreyms.com/tag/threading\n",
      "URL: https://coreyms.com/development/python/python-threading-tutorial-run-code-concurrently-using-the-threading-module\n",
      "URL: https://coreyms.com/author/coreymschafer\n",
      "URL: https://coreyms.com/development/python/python-threading-tutorial-run-code-concurrently-using-the-threading-module#respond\n",
      "URL: https://coreyms.com/category/development\n",
      "URL: https://coreyms.com/category/development/python\n",
      "URL: https://coreyms.com/tag/asynchronous\n",
      "URL: https://coreyms.com/tag/concurrency\n",
      "URL: https://coreyms.com/tag/multiprocessing\n",
      "URL: https://coreyms.com/tag/threading\n",
      "URL: https://coreyms.com/development/python/python-quick-tip-the-difference-between-and-is-equality-vs-identity\n",
      "URL: https://coreyms.com/author/coreymschafer\n",
      "URL: https://coreyms.com/development/python/python-quick-tip-the-difference-between-and-is-equality-vs-identity#respond\n",
      "URL: https://coreyms.com/category/development\n",
      "URL: https://coreyms.com/category/development/python\n",
      "URL: https://coreyms.com/tag/vs-is\n",
      "URL: https://coreyms.com/tag/equality\n",
      "URL: https://coreyms.com/tag/identity\n",
      "URL: https://coreyms.com/development/python/python-tutorial-calling-external-commands-using-the-subprocess-module\n",
      "URL: https://coreyms.com/author/coreymschafer\n",
      "URL: https://coreyms.com/development/python/python-tutorial-calling-external-commands-using-the-subprocess-module#respond\n",
      "URL: https://coreyms.com/category/development\n",
      "URL: https://coreyms.com/category/development/python\n",
      "URL: https://coreyms.com/tag/standard-library\n",
      "URL: https://coreyms.com/tag/subprocess\n",
      "URL: https://coreyms.com/development/python/visual-studio-code-windows-setting-up-a-python-development-environment-and-complete-overview\n",
      "URL: https://coreyms.com/author/coreymschafer\n",
      "URL: https://coreyms.com/development/python/visual-studio-code-windows-setting-up-a-python-development-environment-and-complete-overview#respond\n",
      "URL: https://coreyms.com/category/development\n",
      "URL: https://coreyms.com/category/development/python\n",
      "URL: https://coreyms.com/tag/development-environment\n",
      "URL: https://coreyms.com/tag/visual-studio-code\n",
      "URL: https://coreyms.com/tag/visual-studios\n",
      "URL: https://coreyms.com/tag/vs-code\n",
      "URL: https://coreyms.com/tag/vscode\n",
      "URL: https://coreyms.com/development/python/visual-studio-code-mac-setting-up-a-python-development-environment-and-complete-overview\n",
      "URL: https://coreyms.com/author/coreymschafer\n",
      "URL: https://coreyms.com/development/python/visual-studio-code-mac-setting-up-a-python-development-environment-and-complete-overview#respond\n",
      "URL: https://coreyms.com/category/development\n",
      "URL: https://coreyms.com/category/development/python\n",
      "URL: https://coreyms.com/tag/development-environment\n",
      "URL: https://coreyms.com/tag/visual-studio-code\n",
      "URL: https://coreyms.com/tag/visual-studios\n",
      "URL: https://coreyms.com/tag/vs-code\n",
      "URL: https://coreyms.com/tag/vscode\n",
      "URL: https://coreyms.com/development/python/clarifying-the-issues-with-mutable-default-arguments\n",
      "URL: https://coreyms.com/author/coreymschafer\n",
      "URL: https://coreyms.com/development/python/clarifying-the-issues-with-mutable-default-arguments#respond\n",
      "URL: https://coreyms.com/category/development\n",
      "URL: https://coreyms.com/category/development/python\n",
      "URL: https://coreyms.com/tag/common-errors\n",
      "URL: https://coreyms.com/tag/common-mistakes\n",
      "URL: https://coreyms.com/tag/functions\n",
      "URL: https://coreyms.com/tag/mutable-default-arguments\n",
      "URL: https://coreyms.com/development/python/5-common-python-mistakes-and-how-to-fix-them-2\n",
      "URL: https://coreyms.com/author/coreymschafer\n",
      "URL: https://coreyms.com/development/python/5-common-python-mistakes-and-how-to-fix-them-2#respond\n",
      "URL: https://coreyms.com/category/development\n",
      "URL: https://coreyms.com/category/development/python\n",
      "URL: https://coreyms.com/tag/common-errors\n",
      "URL: https://coreyms.com/tag/common-mistakes\n",
      "URL: https://coreyms.com/tag/indentationerror\n",
      "URL: https://coreyms.com/tag/python-gotchas\n",
      "URL: https://coreyms.com/category/development/python\n",
      "URL: https://coreyms.com/category/development/python/page/2\n",
      "URL: https://coreyms.com/category/development/python/page/3\n",
      "URL: https://coreyms.com/category/development/python/page/9\n",
      "URL: https://coreyms.com/category/development/python/page/2\n",
      "URL: https://www.patreon.com/coreyms\n",
      "URL: https://www.amazon.com/gp/product/1449355730/ref=as_li_tl?ie=UTF8&camp=1789&creative=9325&creativeASIN=1449355730&linkCode=as2&tag=coreyms-20&linkId=2f9ceaf471d7d35f2c2657051780fc6f\n",
      "URL: https://www.amazon.com/gp/product/1491946008/ref=as_li_tl?ie=UTF8&camp=1789&creative=9325&creativeASIN=1491946008&linkCode=as2&tag=coreyms-20&linkId=39335cdc340fb7ce5bd51d59c57e7e54\n",
      "URL: https://www.amazon.com/gp/product/1593276036/ref=as_li_tl?ie=UTF8&camp=1789&creative=9325&creativeASIN=1593276036&linkCode=as2&tag=coreyms-20&linkId=75ff844a147bc8cb5fb325608b286158\n",
      "URL: https://www.amazon.com/gp/product/0984782850/ref=as_li_tl?ie=UTF8&camp=1789&creative=9325&creativeASIN=0984782850&linkCode=as2&tag=coreyms-20&linkId=e2f7c21906426f17958a1d04718e7d02\n",
      "URL: https://www.amazon.com/gp/product/020161622X/ref=as_li_tl?ie=UTF8&camp=1789&creative=9325&creativeASIN=020161622X&linkCode=as2&tag=coreyms-20&linkId=a2699f6b6cb5814da54f71140c52f2ca\n",
      "URL: https://www.amazon.com/gp/product/0201835959/ref=as_li_tl?ie=UTF8&camp=1789&creative=9325&creativeASIN=0201835959&linkCode=as2&tag=coreyms-20&linkId=c3de80ab4a4761f7634751cf323af13f\n",
      "URL: http://talkpython.fm/\n",
      "URL: http://shoptalkshow.com/\n",
      "URL: http://www.se-radio.net/\n",
      "URL: http://hanselminutes.com/\n",
      "URL: https://blog.codepen.io/radio/\n",
      "URL: http://www.dancarlin.com/hardcore-history-series/\n",
      "URL: http://www.billburr.com/podcast\n",
      "URL: http://www.samharris.org/podcast\n",
      "URL: http://www.startalkradio.net/shows-archive/\n",
      "URL: http://carasantamaria.com/podcast/\n",
      "URL: http://coreyms.com\n"
     ]
    }
   ],
   "source": [
    "from urllib.request import urlopen\n",
    "from bs4 import BeautifulSoup\n",
    "import ssl\n",
    "\n",
    "# Ignore SSL certificate errors\n",
    "ctx = ssl.create_default_context()\n",
    "ctx.check_hostname = False\n",
    "ctx.verify_mode = ssl.CERT_NONE\n",
    "\n",
    "url = input('Enter - ')\n",
    "html = urlopen(url, context=ctx).read()\n",
    "soup = BeautifulSoup(html, \"html.parser\")\n",
    "\n",
    "# Retrieve all of the anchor tags\n",
    "tags = soup('a')\n",
    "for tag in tags:\n",
    "#     print('TAG:', tag)\n",
    "    print('URL:', tag.get('href', None))\n",
    "   # print('Contents:', tag.contents[0])\n",
    "#     print('Attrs:', tag.attrs)"
   ]
  },
  {
   "cell_type": "code",
   "execution_count": 2,
   "metadata": {},
   "outputs": [
    {
     "ename": "ModuleNotFoundError",
     "evalue": "No module named 'bs4'",
     "output_type": "error",
     "traceback": [
      "\u001b[0;31m---------------------------------------------------------------------------\u001b[0m",
      "\u001b[0;31mModuleNotFoundError\u001b[0m                       Traceback (most recent call last)",
      "\u001b[0;32m<ipython-input-2-5bfca62f6a96>\u001b[0m in \u001b[0;36m<module>\u001b[0;34m\u001b[0m\n\u001b[1;32m      1\u001b[0m \u001b[0;32mimport\u001b[0m \u001b[0murllib\u001b[0m\u001b[0;34m.\u001b[0m\u001b[0mrequest\u001b[0m\u001b[0;34m,\u001b[0m \u001b[0murllib\u001b[0m\u001b[0;34m.\u001b[0m\u001b[0mparse\u001b[0m\u001b[0;34m,\u001b[0m \u001b[0murllib\u001b[0m\u001b[0;34m.\u001b[0m\u001b[0merror\u001b[0m\u001b[0;34m\u001b[0m\u001b[0;34m\u001b[0m\u001b[0m\n\u001b[0;32m----> 2\u001b[0;31m \u001b[0;32mfrom\u001b[0m \u001b[0mbs4\u001b[0m \u001b[0;32mimport\u001b[0m \u001b[0mBeautifulSoup\u001b[0m\u001b[0;34m\u001b[0m\u001b[0;34m\u001b[0m\u001b[0m\n\u001b[0m\u001b[1;32m      3\u001b[0m \u001b[0;32mimport\u001b[0m \u001b[0mssl\u001b[0m\u001b[0;34m\u001b[0m\u001b[0;34m\u001b[0m\u001b[0m\n\u001b[1;32m      4\u001b[0m \u001b[0;34m\u001b[0m\u001b[0m\n\u001b[1;32m      5\u001b[0m \u001b[0;31m# Ignore SSL certificate errors\u001b[0m\u001b[0;34m\u001b[0m\u001b[0;34m\u001b[0m\u001b[0;34m\u001b[0m\u001b[0m\n",
      "\u001b[0;31mModuleNotFoundError\u001b[0m: No module named 'bs4'"
     ]
    }
   ],
   "source": [
    "import urllib.request, urllib.parse, urllib.error\n",
    "from bs4 import BeautifulSoup\n",
    "import ssl\n",
    "\n",
    "# Ignore SSL certificate errors\n",
    "ctx = ssl.create_default_context()\n",
    "ctx.check_hostname = False\n",
    "ctx.verify_mode = ssl.CERT_NONE\n",
    "\n",
    "url = input('Enter - ')\n",
    "html = urllib.request.urlopen(url, context=ctx).read()\n",
    "soup = BeautifulSoup(html, 'html.parser')\n",
    "\n",
    "# Retrieve all of the anchor tags\n",
    "tags = soup('a')\n",
    "for tag in tags:\n",
    "    print(tag.get('href', None))"
   ]
  },
  {
   "cell_type": "code",
   "execution_count": 15,
   "metadata": {},
   "outputs": [
    {
     "name": "stdout",
     "output_type": "stream",
     "text": [
      "{\n",
      "    \"success\": {\n",
      "        \"total\": 1\n",
      "    },\n",
      "    \"contents\": {\n",
      "        \"quotes\": [\n",
      "            {\n",
      "                \"quote\": \"You gotta commit. You've gotta go out there and improvise and you've gotta be completely unafraid to die. You've got to be able to take a chance to die. And you have to die lots. You have to die all the time.\",\n",
      "                \"length\": \"208\",\n",
      "                \"author\": \"Bill Murray\",\n",
      "                \"tags\": [\n",
      "                    \"commit\",\n",
      "                    \"die\",\n",
      "                    \"inspire\"\n",
      "                ],\n",
      "                \"category\": \"inspire\",\n",
      "                \"language\": \"en\",\n",
      "                \"date\": \"2021-03-20\",\n",
      "                \"permalink\": \"https://theysaidso.com/quote/bill-murray-you-gotta-commit-youve-gotta-go-out-there-and-improvise-and-youve-go\",\n",
      "                \"id\": \"10b5AxFYQVLnO6ekInTdmAeF\",\n",
      "                \"background\": \"https://theysaidso.com/img/qod/qod-inspire.jpg\",\n",
      "                \"title\": \"Inspiring Quote of the day\"\n",
      "            }\n",
      "        ]\n",
      "    },\n",
      "    \"baseurl\": \"https://theysaidso.com\",\n",
      "    \"copyright\": {\n",
      "        \"year\": 2023,\n",
      "        \"url\": \"https://theysaidso.com\"\n",
      "    }\n",
      "}\n"
     ]
    }
   ],
   "source": [
    "import requests\n",
    "import json\n",
    "\n",
    "#json from \"https://quotes.rest/qod.json\"\n",
    "r = requests.get(\"https://quotes.rest/qod.json\")\n",
    "res = r.json()\n",
    "print(json.dumps(res, indent = 4))"
   ]
  },
  {
   "cell_type": "code",
   "execution_count": 2,
   "metadata": {},
   "outputs": [
    {
     "data": {
      "text/plain": [
       "{'quote': \"You gotta commit. You've gotta go out there and improvise and you've gotta be completely unafraid to die. You've got to be able to take a chance to die. And you have to die lots. You have to die all the time.\",\n",
       " 'length': '208',\n",
       " 'author': 'Bill Murray',\n",
       " 'tags': ['commit', 'die', 'inspire'],\n",
       " 'category': 'inspire',\n",
       " 'language': 'en',\n",
       " 'date': '2021-03-20',\n",
       " 'permalink': 'https://theysaidso.com/quote/bill-murray-you-gotta-commit-youve-gotta-go-out-there-and-improvise-and-youve-go',\n",
       " 'id': '10b5AxFYQVLnO6ekInTdmAeF',\n",
       " 'background': 'https://theysaidso.com/img/qod/qod-inspire.jpg',\n",
       " 'title': 'Inspiring Quote of the day'}"
      ]
     },
     "execution_count": 2,
     "metadata": {},
     "output_type": "execute_result"
    }
   ],
   "source": [
    "q = res['contents']['quotes'][0]\n",
    "q"
   ]
  },
  {
   "cell_type": "code",
   "execution_count": null,
   "metadata": {},
   "outputs": [],
   "source": [
    "import requests\n",
    "import json\n",
    "\n",
    "#json from \"https://quotes.rest/qod.json\"\n",
    "r = requests.get(\"https://quotes.rest/qod.json\")\n",
    "res = r.json()\n",
    "print(json.dumps(res, indent = 4))\n",
    "q = res['contents']['quotes'][0]\n",
    "q"
   ]
  },
  {
   "cell_type": "code",
   "execution_count": null,
   "metadata": {},
   "outputs": [],
   "source": []
  }
 ],
 "metadata": {
  "kernelspec": {
   "display_name": "Python 3",
   "language": "python",
   "name": "python3"
  },
  "language_info": {
   "codemirror_mode": {
    "name": "ipython",
    "version": 3
   },
   "file_extension": ".py",
   "mimetype": "text/x-python",
   "name": "python",
   "nbconvert_exporter": "python",
   "pygments_lexer": "ipython3",
   "version": "3.8.5"
  }
 },
 "nbformat": 4,
 "nbformat_minor": 4
}
