{
 "cells": [
  {
   "cell_type": "markdown",
   "metadata": {},
   "source": [
    "# Assignment_1"
   ]
  },
  {
   "cell_type": "markdown",
   "metadata": {},
   "source": [
    "## Write code to add ‘horseback riding’ to the third position (i.e., right before volleyball) in the list sports.\n"
   ]
  },
  {
   "cell_type": "code",
   "execution_count": 3,
   "metadata": {},
   "outputs": [
    {
     "data": {
      "text/plain": [
       "['cricket',\n",
       " 'football',\n",
       " 'Horseback riding',\n",
       " 'volleyball',\n",
       " 'baseball',\n",
       " 'softball',\n",
       " 'track and field',\n",
       " 'curling',\n",
       " 'ping pong',\n",
       " 'hockey']"
      ]
     },
     "execution_count": 3,
     "metadata": {},
     "output_type": "execute_result"
    }
   ],
   "source": [
    "sports = ['cricket', 'football', 'volleyball', 'baseball', 'softball', 'track and field', 'curling', 'ping pong', 'hockey']\n",
    "sports.insert(2,'Horseback riding')\n",
    "sports"
   ]
  },
  {
   "cell_type": "markdown",
   "metadata": {},
   "source": [
    "## Write code to take ‘London’ out of the list trav_dest\n"
   ]
  },
  {
   "cell_type": "code",
   "execution_count": 16,
   "metadata": {},
   "outputs": [
    {
     "data": {
      "text/plain": [
       "['Beirut',\n",
       " 'Milan',\n",
       " 'Pittsburgh',\n",
       " 'Buenos Aires',\n",
       " 'Nairobi',\n",
       " 'Kathmandu',\n",
       " 'Osaka',\n",
       " 'Melbourne']"
      ]
     },
     "execution_count": 16,
     "metadata": {},
     "output_type": "execute_result"
    }
   ],
   "source": [
    "trav_dest = ['Beirut', 'Milan', 'Pittsburgh', 'Buenos Aires', 'Nairobi', 'Kathmandu', 'Osaka', 'London', 'Melbourne']\n",
    "del trav_dest[7]\n",
    "trav_dest"
   ]
  },
  {
   "cell_type": "markdown",
   "metadata": {},
   "source": [
    "## Write code to add ‘Guadalajara’ to the end of the list trav_dest using a list method.\n"
   ]
  },
  {
   "cell_type": "code",
   "execution_count": 9,
   "metadata": {},
   "outputs": [
    {
     "data": {
      "text/plain": [
       "['Beirut',\n",
       " 'Milan',\n",
       " 'Pittsburgh',\n",
       " 'Buenos Aires',\n",
       " 'Nairobi',\n",
       " 'Kathmandu',\n",
       " 'Osaka',\n",
       " 'Melbourne',\n",
       " 'Guadalajara']"
      ]
     },
     "execution_count": 9,
     "metadata": {},
     "output_type": "execute_result"
    }
   ],
   "source": [
    "trav_dest = ['Beirut', 'Milan', 'Pittsburgh', 'Buenos Aires', 'Nairobi', 'Kathmandu', 'Osaka', 'Melbourne']\n",
    "trav_dest.extend(['Guadalajara'])\n",
    "trav_dest"
   ]
  },
  {
   "cell_type": "markdown",
   "metadata": {},
   "source": [
    "## Write code to rearrange the strings in the list winners so that they are in alphabetical order from A to Z.\n"
   ]
  },
  {
   "cell_type": "code",
   "execution_count": 27,
   "metadata": {},
   "outputs": [
    {
     "data": {
      "text/plain": [
       "['Alice Munro',\n",
       " 'Alvin E. Roth',\n",
       " 'Kazuo Ishiguro',\n",
       " 'Malala Yousafzai',\n",
       " 'Rainer Weiss',\n",
       " 'Youyou Tu']"
      ]
     },
     "execution_count": 27,
     "metadata": {},
     "output_type": "execute_result"
    }
   ],
   "source": [
    "winners = ['Kazuo Ishiguro', 'Rainer Weiss', 'Youyou Tu', 'Malala Yousafzai', 'Alice Munro', 'Alvin E. Roth']\n",
    "winners.sort()\n",
    "winners"
   ]
  },
  {
   "cell_type": "markdown",
   "metadata": {},
   "source": [
    "## Write code to switch the order of the winners list so that it is now Z to A. Assign this list to the variable z_winners.\n"
   ]
  },
  {
   "cell_type": "code",
   "execution_count": 29,
   "metadata": {},
   "outputs": [
    {
     "data": {
      "text/plain": [
       "['Youyou Tu',\n",
       " 'Rainer Weiss',\n",
       " 'Malala Yousafzai',\n",
       " 'Kazuo Ishiguro',\n",
       " 'Alvin E. Roth',\n",
       " 'Alice Munro']"
      ]
     },
     "execution_count": 29,
     "metadata": {},
     "output_type": "execute_result"
    }
   ],
   "source": [
    "winners = ['Alice Munro', 'Alvin E. Roth', 'Kazuo Ishiguro', 'Malala Yousafzai', 'Rainer Weiss', 'Youyou Tu']\n",
    "winners.sort(reverse= True)\n",
    "winners"
   ]
  },
  {
   "cell_type": "markdown",
   "metadata": {},
   "source": [
    "# Assignment_2"
   ]
  },
  {
   "cell_type": "markdown",
   "metadata": {},
   "source": [
    "## How many charracters are these?"
   ]
  },
  {
   "cell_type": "code",
   "execution_count": 35,
   "metadata": {},
   "outputs": [
    {
     "data": {
      "text/plain": [
       "11"
      ]
     },
     "execution_count": 35,
     "metadata": {},
     "output_type": "execute_result"
    }
   ],
   "source": [
    "byzo = 'hello world!'\n",
    "byzo.split()\n",
    "c=0\n",
    "for i in range (len(byzo)):\n",
    "    c=+i\n",
    "c"
   ]
  },
  {
   "cell_type": "markdown",
   "metadata": {},
   "source": [
    "## what is the number of letters in this list?\n"
   ]
  },
  {
   "cell_type": "code",
   "execution_count": 36,
   "metadata": {},
   "outputs": [
    {
     "name": "stdout",
     "output_type": "stream",
     "text": [
      "27\n"
     ]
    }
   ],
   "source": [
    "cawdra = ['candy', 'daisy', 'pear', 'peach', 'gem', 'crown']\n",
    "c=[]\n",
    "for i in cawdra:\n",
    "    c.append(len(i))\n",
    "a=sum(c)\n",
    "print(a)"
   ]
  },
  {
   "cell_type": "markdown",
   "metadata": {},
   "source": [
    "## what is the total value of this list? (don't use sum)\n"
   ]
  },
  {
   "cell_type": "code",
   "execution_count": 37,
   "metadata": {},
   "outputs": [
    {
     "data": {
      "text/plain": [
       "135"
      ]
     },
     "execution_count": 37,
     "metadata": {},
     "output_type": "execute_result"
    }
   ],
   "source": [
    "lst = [5, 10, 3, 8, 94, 2, 4, 9]\n",
    "a=0\n",
    "for i in lst:\n",
    "    a=a+i\n",
    "a\n"
   ]
  },
  {
   "cell_type": "markdown",
   "metadata": {},
   "source": [
    "## Currently there is a string called str1. Write code to create a list called chars which should contain the characters from str1. Each character in str1 should be its own element in the list chars.\n"
   ]
  },
  {
   "cell_type": "code",
   "execution_count": 38,
   "metadata": {},
   "outputs": [
    {
     "data": {
      "text/plain": [
       "['I', ' ', 'l', 'o', 'v', 'e', ' ', 'p', 'y', 't', 'h', 'o', 'n']"
      ]
     },
     "execution_count": 38,
     "metadata": {},
     "output_type": "execute_result"
    }
   ],
   "source": [
    "str1 = \"I love python\"\n",
    "# HINT: what's the accumulator? That should go here.\n",
    "a=[]\n",
    "for i in str1:\n",
    "    a.append(i)\n",
    "a"
   ]
  },
  {
   "cell_type": "markdown",
   "metadata": {},
   "source": [
    "# Assignment_3"
   ]
  },
  {
   "cell_type": "markdown",
   "metadata": {},
   "source": [
    "## For each character in the string saved in ael, append that character to a list that should be saved in a variable app."
   ]
  },
  {
   "cell_type": "code",
   "execution_count": 39,
   "metadata": {},
   "outputs": [
    {
     "data": {
      "text/plain": [
       "['p', 'y', 't', 'h', 'o', 'n', '!']"
      ]
     },
     "execution_count": 39,
     "metadata": {},
     "output_type": "execute_result"
    }
   ],
   "source": [
    "ael = \"python!\"\n",
    "lst = []\n",
    "for i in ael:\n",
    "    lst.append(i)\n",
    "lst"
   ]
  },
  {
   "cell_type": "markdown",
   "metadata": {},
   "source": [
    "## For each string in wrds, add ‘ed’ to the end of the word (to make the word past tense). Save these past tense words to a list called past_wrds.\n"
   ]
  },
  {
   "cell_type": "code",
   "execution_count": 5,
   "metadata": {},
   "outputs": [
    {
     "data": {
      "text/plain": [
       "['ended',\n",
       " 'worked',\n",
       " 'played',\n",
       " 'started',\n",
       " 'walked',\n",
       " 'looked',\n",
       " 'opened',\n",
       " 'rained',\n",
       " 'learned',\n",
       " 'cleaned']"
      ]
     },
     "execution_count": 5,
     "metadata": {},
     "output_type": "execute_result"
    }
   ],
   "source": [
    "wrds = [\"end\", 'work', \"play\", \"start\", \"walk\", \"look\", \"open\", \"rain\", \"learn\", \"clean\"]\n",
    "a=[]\n",
    "for i in wrds:\n",
    "    a.append(i+str('ed'))\n",
    "a"
   ]
  },
  {
   "cell_type": "markdown",
   "metadata": {},
   "source": [
    "# Assignment_4"
   ]
  },
  {
   "cell_type": "markdown",
   "metadata": {},
   "source": [
    "## Below are a set of scores that students have received in the past semester. Write code to determine how many are 90 or above and assign that result to the value a_scores.\n"
   ]
  },
  {
   "cell_type": "code",
   "execution_count": 11,
   "metadata": {},
   "outputs": [
    {
     "name": "stdout",
     "output_type": "stream",
     "text": [
      "10\n"
     ]
    }
   ],
   "source": [
    "scores = \"67 80 90 78 93 20 79 89 96 97 92 88 79 68 58 90 98 100 79 74 83 88 80 86 85 70 90 100\"\n",
    "scores1 = scores.split(\" \")\n",
    "#print(scores1)\n",
    "a_scores=0\n",
    "for i in scores1:\n",
    "    if int(i)>= 90:\n",
    "        a_scores=a_scores+1\n",
    "#print(int_list)\n",
    "\n",
    "print(a_scores)"
   ]
  },
  {
   "cell_type": "markdown",
   "metadata": {},
   "source": [
    "## Below are a set of scores that students have received in the past semester. Write code to determine how many are 90 or above and assign that result to the value a_scores.\n"
   ]
  },
  {
   "cell_type": "code",
   "execution_count": 9,
   "metadata": {},
   "outputs": [
    {
     "name": "stdout",
     "output_type": "stream",
     "text": [
      "10\n"
     ]
    }
   ],
   "source": [
    "scores = \"67 80 90 78 93 20 79 89 96 97 92 88 79 68 58 90 98 100 79 74 83 88 80 86 85 70 90 100\"\n",
    "scores1 = scores.split(\" \")\n",
    "#print(scores1)\n",
    "lis = [int(i) for i in scores1]\n",
    "#print(int_list)\n",
    "\n",
    "print(count)"
   ]
  },
  {
   "cell_type": "markdown",
   "metadata": {},
   "source": [
    "## Write code that uses the string stored in org and creates an acronym which is assigned to the variable acro. Only the first letter of each word should be used, each letter in the acronym should be a capital letter, and there should be nothing to separate the letters of the acronym. Words that should not be included in the acronym are stored in the list stopwords. For example, if org was assigned the string “hello to world” then the resulting acronym should be “HW”.\n"
   ]
  },
  {
   "cell_type": "code",
   "execution_count": 4,
   "metadata": {},
   "outputs": [
    {
     "name": "stdout",
     "output_type": "stream",
     "text": [
      "OHSE\n"
     ]
    }
   ],
   "source": [
    "s = ['to', 'a', 'for', 'by', 'an', 'am', 'the', 'so', 'it', 'and', \"The\"]\n",
    "org = \"The organization for health, safety, and education\"\n",
    "org=org.split()\n",
    "m=[]\n",
    "\n",
    "for i in org:\n",
    "    if i not in s:\n",
    "        m.append(i)\n",
    "        \n",
    "n=[]\n",
    "for i in m:\n",
    "    n.append(i.upper())\n",
    "\n",
    "o=[]\n",
    "for i in n:\n",
    "    o.append(i[0])\n",
    "\n",
    "o=\"\".join(o)\n",
    "print(o)\n",
    "    "
   ]
  },
  {
   "cell_type": "markdown",
   "metadata": {},
   "source": [
    "## Write code that uses the string stored in sent and creates an acronym which is assigned to the variable acro. The first two letters of each word should be used, each letter in the acronym should be a capital letter, and each element of the acronym should be separated by a “. ” (dot and space). Words that should not be included in the acronym are stored in the list stopwords. For example, if sent was assigned the string “height and ewok wonder” then the resulting acronym should be “HE. EW. WO”.\n"
   ]
  },
  {
   "cell_type": "code",
   "execution_count": 8,
   "metadata": {},
   "outputs": [
    {
     "name": "stdout",
     "output_type": "stream",
     "text": [
      "WA. EA. AI. AR. VI.\n"
     ]
    }
   ],
   "source": [
    "stopwords = ['to', 'a', 'for', 'by', 'an', 'am', 'the', 'so', 'it', 'and', 'The']\n",
    "sent = \"The water earth and air are vital\"\n",
    "sent=sent.split()\n",
    "m=[]\n",
    "\n",
    "for i in sent:\n",
    "    if i not in stopwords:\n",
    "        m.append(i)\n",
    "        \n",
    "n=[]\n",
    "for i in m:\n",
    "    n.append(i.upper())\n",
    "\n",
    "o=[]\n",
    "for i in n:\n",
    "    o.append(i[0:2])\n",
    "\n",
    "q=[]    \n",
    "for i in o:\n",
    "    q.append(i+str('.'))\n",
    "\n",
    "q=\" \".join(q)\n",
    "print(q)\n"
   ]
  },
  {
   "cell_type": "markdown",
   "metadata": {},
   "source": [
    "## A palindrome is a phrase that, if reversed, would read the exact same. Write code that checks if p_phrase is a palindrome by reversing it and then checking if the reversed version is equal to the original. Assign the reversed version of p_phrase to the variable r_phrase so that we can check your work.\n"
   ]
  },
  {
   "cell_type": "code",
   "execution_count": 4,
   "metadata": {},
   "outputs": [
    {
     "name": "stdout",
     "output_type": "stream",
     "text": [
      "['d ', 'o ', 'g ', 'e ', 'e ', 's ', 'e ', 's ', 'e ', 'e ', 'g ', 'o ', 'd ']\n",
      "palindrome\n"
     ]
    }
   ],
   "source": [
    "p = \"Do geese see God\"\n",
    "p=p.lower().split()\n",
    "\n",
    "def r(a):\n",
    "    a.reverse()\n",
    "    return a\n",
    "\n",
    "a=[]\n",
    "for i in p:\n",
    "    a.append(i)\n",
    "\n",
    "b=\"\".join(a)\n",
    "\n",
    "x=[]\n",
    "for i in b :\n",
    "    x.append(i+str(' '))\n",
    "    \n",
    "r_phrase=[]\n",
    "for i in r(x):\n",
    "    r_phrase.append(i)\n",
    "\n",
    "print(r_phrase)\n",
    "\n",
    "if x==r_phrase:\n",
    "    print('palindrome')\n",
    "else:\n",
    "    print('not palindrome')\n"
   ]
  },
  {
   "cell_type": "markdown",
   "metadata": {},
   "source": [
    "## Provided is a list of data about a store’s inventory where each item in the list represents the name of an item, how much is in stock, and how much it costs. Print out each item in the list with the same formatting, using the .format method (not string concatenation). For example, the first print statment should read The store has 12 shoes, each for 29.99 USD.\n"
   ]
  },
  {
   "cell_type": "code",
   "execution_count": 12,
   "metadata": {},
   "outputs": [
    {
     "name": "stdout",
     "output_type": "stream",
     "text": [
      "The store has  12 shoes, each for 29.99\n",
      "The store has  20 shirts, each for 9.99\n",
      "The store has  25 sweatpants, each for 15.00\n",
      "The store has  13 scarves, each for 7.75\n"
     ]
    }
   ],
   "source": [
    "inv = [\"shoes, 12,29.99\", \"shirts, 20,9.99\", \"sweatpants, 25,15.00\", \"scarves, 13,7.75\"]\n",
    "a=inv[0]\n",
    "a=a.split(',')\n",
    "b=a[0]\n",
    "c=a[1]\n",
    "d=a[2]\n",
    "print(\"The store has {} {}, each for {}\".format(c, b, d))\n",
    "a=inv[1]\n",
    "a=a.split(',')\n",
    "b=a[0]\n",
    "c=a[1]\n",
    "d=a[2]\n",
    "print(\"The store has {} {}, each for {}\".format(c, b, d))\n",
    "a=inv[2]\n",
    "a=a.split(',')\n",
    "b=a[0]\n",
    "c=a[1]\n",
    "d=a[2]\n",
    "print(\"The store has {} {}, each for {}\".format(c, b, d))\n",
    "a=inv[3]\n",
    "a=a.split(',')\n",
    "b=a[0]\n",
    "c=a[1]\n",
    "d=a[2]\n",
    "print(\"The store has {} {}, each for {}\".format(c, b, d))"
   ]
  },
  {
   "cell_type": "code",
   "execution_count": 3,
   "metadata": {},
   "outputs": [
    {
     "name": "stdout",
     "output_type": "stream",
     "text": [
      "The store has 12 shoes each for 29.99 USD\n",
      "The store has 20 shirts each for 9.99 USD\n",
      "The store has 25 sweatpants each for 15.00 USD\n",
      "The store has 13 scarves each for 7.75 USD\n"
     ]
    }
   ],
   "source": [
    "inv = [\"shoes, 12,29.99\", \"shirts, 20,9.99\", \"sweatpants, 25,15.00\", \"scarves, 13,7.75\"]\n",
    "for i in inv:\n",
    "    k=i.split(',')\n",
    "    a=k[0]\n",
    "    b=k[1]\n",
    "    c=k[2]\n",
    "    print('The store has{} {} each for {} USD'.format(b,a,c))"
   ]
  },
  {
   "cell_type": "code",
   "execution_count": null,
   "metadata": {},
   "outputs": [],
   "source": []
  }
 ],
 "metadata": {
  "kernelspec": {
   "display_name": "Python 3",
   "language": "python",
   "name": "python3"
  },
  "language_info": {
   "codemirror_mode": {
    "name": "ipython",
    "version": 3
   },
   "file_extension": ".py",
   "mimetype": "text/x-python",
   "name": "python",
   "nbconvert_exporter": "python",
   "pygments_lexer": "ipython3",
   "version": "3.8.5"
  }
 },
 "nbformat": 4,
 "nbformat_minor": 4
}
