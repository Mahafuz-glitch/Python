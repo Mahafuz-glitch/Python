{
 "cells": [
  {
   "cell_type": "code",
   "execution_count": 70,
   "metadata": {},
   "outputs": [
    {
     "name": "stdout",
     "output_type": "stream",
     "text": [
      "{'the': 16, 'girl': 7, 'boy': 5, 'sweets': 4, 'with': 3}\n"
     ]
    }
   ],
   "source": [
    "story = \"A boy and a girl were playing together. The boy had a collection of marbles. The girl has some sweets with her. The boy told the girl that he would give her all his marbles in exchange for the sweets with her. The girl agreed. The boy kept the most beautiful and the biggest marbles with him and gave her the remaining marbles. The girl gave him all her sweets as she promised. That night the girl slept peacefully. But the boy could not sleep as he kept wondering if the girl has hidden some sweets from him the way he had hidden the best marbles from her.\"\n",
    "a=story.lower().split()\n",
    "counts = dict()\n",
    "\n",
    "for i in a:\n",
    "    if i not in counts:\n",
    "        counts[i]=1\n",
    "    else:\n",
    "        counts[i]=counts[i]+1\n",
    "\n",
    "lis1=[]\n",
    "\n",
    "for k,v in counts.items():\n",
    "    lis1.append((v,k))\n",
    "lis1_s=sorted(lis1, reverse= True)\n",
    "\n",
    "final_l=[]\n",
    "\n",
    "for i in  (lis1_s[0:5]):\n",
    "    final_l.append(i)\n",
    " \n",
    "final_dic = {}\n",
    "\n",
    "for v,k in final_l:\n",
    "    final_dic[k]= v\n",
    "print(final_dic)\n",
    "\n",
    "#print(counts)"
   ]
  },
  {
   "cell_type": "code",
   "execution_count": 5,
   "metadata": {},
   "outputs": [
    {
     "data": {
      "text/plain": [
       "[[1, 2, 3, 4]]"
      ]
     },
     "execution_count": 5,
     "metadata": {},
     "output_type": "execute_result"
    }
   ],
   "source": [
    "lis1=[1,2,4,3,5,8,7,5,9,]\n",
    "lis1=sorted(lis1)\n",
    "lis1\n",
    "lis2=[]\n",
    "lis2.append(lis1[0:4])\n",
    "lis2"
   ]
  },
  {
   "cell_type": "code",
   "execution_count": null,
   "metadata": {},
   "outputs": [],
   "source": [
    "\n",
    "final_dic={}\n",
    "\n",
    "for v,k in lis1_s[0:5]:\n",
    "    final_dic[k]= v\n",
    "print(final_dic)"
   ]
  },
  {
   "cell_type": "code",
   "execution_count": null,
   "metadata": {},
   "outputs": [],
   "source": [
    "for i in  (lis1_s[0:5]):\n",
    "    final_l.append(i)"
   ]
  }
 ],
 "metadata": {
  "kernelspec": {
   "display_name": "Python 3",
   "language": "python",
   "name": "python3"
  },
  "language_info": {
   "codemirror_mode": {
    "name": "ipython",
    "version": 3
   },
   "file_extension": ".py",
   "mimetype": "text/x-python",
   "name": "python",
   "nbconvert_exporter": "python",
   "pygments_lexer": "ipython3",
   "version": "3.8.5"
  }
 },
 "nbformat": 4,
 "nbformat_minor": 4
}
