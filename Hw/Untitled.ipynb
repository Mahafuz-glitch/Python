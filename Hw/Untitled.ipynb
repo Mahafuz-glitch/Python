{
 "cells": [
  {
   "cell_type": "code",
   "execution_count": 70,
   "metadata": {},
   "outputs": [
    {
     "name": "stdout",
     "output_type": "stream",
     "text": [
      "{'the': 16, 'girl': 7, 'boy': 5, 'sweets': 4, 'with': 3}\n"
     ]
    }
   ],
   "source": [
    "story = \"A boy and a girl were playing together. The boy had a collection of marbles. The girl has some sweets with her. The boy told the girl that he would give her all his marbles in exchange for the sweets with her. The girl agreed. The boy kept the most beautiful and the biggest marbles with him and gave her the remaining marbles. The girl gave him all her sweets as she promised. That night the girl slept peacefully. But the boy could not sleep as he kept wondering if the girl has hidden some sweets from him the way he had hidden the best marbles from her.\"\n",
    "a=story.lower().split()\n",
    "counts = dict()\n",
    "\n",
    "for i in a:\n",
    "    if i not in counts:\n",
    "        counts[i]=1\n",
    "    else:\n",
    "        counts[i]=counts[i]+1\n",
    "\n",
    "lis1=[]\n",
    "\n",
    "for k,v in counts.items():\n",
    "    lis1.append((v,k))\n",
    "lis1_s=sorted(lis1, reverse= True)\n",
    "\n",
    "final_l=[]\n",
    "\n",
    "for i in  (lis1_s[0:5]):\n",
    "    final_l.append(i)\n",
    " \n",
    "final_dic = {}\n",
    "\n",
    "for v,k in final_l:\n",
    "    final_dic[k]= v\n",
    "print(final_dic)\n",
    "\n",
    "#print(counts)"
   ]
  },
  {
   "cell_type": "code",
   "execution_count": 5,
   "metadata": {},
   "outputs": [
    {
     "data": {
      "text/plain": [
       "[[1, 2, 3, 4]]"
      ]
     },
     "execution_count": 5,
     "metadata": {},
     "output_type": "execute_result"
    }
   ],
   "source": [
    "lis1=[1,2,4,3,5,8,7,5,9,]\n",
    "lis1=sorted(lis1)\n",
    "lis1\n",
    "lis2=[]\n",
    "lis2.append(lis1[0:4])\n",
    "lis2"
   ]
  },
  {
   "cell_type": "code",
   "execution_count": null,
   "metadata": {},
   "outputs": [],
   "source": [
    "\n",
    "final_dic={}\n",
    "\n",
    "for v,k in lis1_s[0:5]:\n",
    "    final_dic[k]= v\n",
    "print(final_dic)"
   ]
  },
  {
   "cell_type": "code",
   "execution_count": null,
   "metadata": {},
   "outputs": [],
   "source": [
    "for i in  (lis1_s[0:5]):\n",
    "    final_l.append(i)"
   ]
  },
  {
   "cell_type": "code",
   "execution_count": 4,
   "metadata": {},
   "outputs": [
    {
     "data": {
      "text/plain": [
       "['ended',\n",
       " 'worked',\n",
       " 'played',\n",
       " 'started',\n",
       " 'walked',\n",
       " 'looked',\n",
       " 'opened',\n",
       " 'rained',\n",
       " 'learned',\n",
       " 'cleaned']"
      ]
     },
     "execution_count": 4,
     "metadata": {},
     "output_type": "execute_result"
    }
   ],
   "source": [
    "wrds = [\"end\", 'work', \"play\", \"start\", \"walk\", \"look\", \"open\", \"rain\", \"learn\", \"clean\"]\n",
    "a=[]\n",
    "for i in wrds:\n",
    "    a.append(i+str('ed'))\n",
    "a"
   ]
  },
  {
   "cell_type": "code",
   "execution_count": 8,
   "metadata": {},
   "outputs": [
    {
     "name": "stdout",
     "output_type": "stream",
     "text": [
      "['67', '80', '90', '78', '93', '20', '79', '89', '96', '97', '92', '88', '79', '68', '58', '90', '98', '100', '79', '74', '83', '88', '80', '86', '85', '70', '90', '100']\n",
      "<class 'str'>\n",
      "<class 'str'>\n",
      "<class 'str'>\n",
      "<class 'str'>\n",
      "<class 'str'>\n",
      "<class 'str'>\n",
      "<class 'str'>\n",
      "<class 'str'>\n",
      "<class 'str'>\n",
      "<class 'str'>\n",
      "<class 'str'>\n",
      "<class 'str'>\n",
      "<class 'str'>\n",
      "<class 'str'>\n",
      "<class 'str'>\n",
      "<class 'str'>\n",
      "<class 'str'>\n",
      "<class 'str'>\n",
      "<class 'str'>\n",
      "<class 'str'>\n",
      "<class 'str'>\n",
      "<class 'str'>\n",
      "<class 'str'>\n",
      "<class 'str'>\n",
      "<class 'str'>\n",
      "<class 'str'>\n",
      "<class 'str'>\n",
      "<class 'str'>\n"
     ]
    }
   ],
   "source": [
    "scores = \"67 80 90 78 93 20 79 89 96 97 92 88 79 68 58 90 98 100 79 74 83 88 80 86 85 70 90 100\"\n",
    "scores1 = scores.split(\" \")\n",
    "print(scores1)\n",
    "for i in scores1:\n",
    "    print(type(i))\n"
   ]
  },
  {
   "cell_type": "code",
   "execution_count": 40,
   "metadata": {},
   "outputs": [
    {
     "name": "stdout",
     "output_type": "stream",
     "text": [
      "OHSE\n"
     ]
    }
   ],
   "source": [
    "s = ['to', 'a', 'for', 'by', 'an', 'am', 'the', 'so', 'it', 'and', \"The\"]\n",
    "org = \"The organization for health, safety, and education\"\n",
    "m=[]\n",
    "org=org.split()\n",
    "\n",
    "for i in org:\n",
    "    if i not in s:\n",
    "        m.append(i)\n",
    "        \n",
    "n=[]\n",
    "for i in m:\n",
    "    n.append(i.upper())\n",
    "o=[]\n",
    "for i in n:\n",
    "    o.append(i[0])\n",
    "o=\"\".join(o)\n",
    "print(o)"
   ]
  },
  {
   "cell_type": "code",
   "execution_count": 28,
   "metadata": {},
   "outputs": [
    {
     "name": "stdout",
     "output_type": "stream",
     "text": [
      "Hulu is in the streaming service business\n"
     ]
    }
   ],
   "source": [
    "streaming = ['netflix', 'hulu', 'disney+', 'appletv+']\n",
    "platform = 'hulu'\n",
    "if platform in streaming:\n",
    "  print('Hulu is in the streaming service business')\n",
    "else:\n",
    "  print('It does not include')"
   ]
  },
  {
   "cell_type": "code",
   "execution_count": 43,
   "metadata": {},
   "outputs": [
    {
     "name": "stdout",
     "output_type": "stream",
     "text": [
      "WA EA AI AR VI\n"
     ]
    }
   ],
   "source": []
  },
  {
   "cell_type": "code",
   "execution_count": 54,
   "metadata": {},
   "outputs": [],
   "source": [
    "p = \"was it a car or a cat I saw\"\n",
    "p=p.split()\n",
    "a=[]\n",
    "for i in p:\n",
    "    a.append(i)\n",
    "a=\"\".join(a)\n",
    "for i in a:\n",
    "    if i "
   ]
  },
  {
   "cell_type": "code",
   "execution_count": 104,
   "metadata": {},
   "outputs": [
    {
     "name": "stdout",
     "output_type": "stream",
     "text": [
      "palindrome\n"
     ]
    }
   ],
   "source": [
    "p = \"was it a car or a cat I saw\"\n",
    "p=p.split()\n",
    "\n",
    "def r(a):\n",
    "    a.reverse()\n",
    "    return a\n",
    "\n",
    "a=[]\n",
    "for i in p:\n",
    "    a.append(i)\n",
    "b=\"\".join(a)\n",
    "x=[]\n",
    "for i in b :\n",
    "    x.append(i+str(' '))\n",
    "    \n",
    "z=[]\n",
    "for i in r(x):\n",
    "    z.append(i)\n",
    "if x==z:\n",
    "    print('palindrome')\n",
    "else:\n",
    "    print('not palindrome')\n",
    " "
   ]
  },
  {
   "cell_type": "code",
   "execution_count": 67,
   "metadata": {},
   "outputs": [
    {
     "name": "stdout",
     "output_type": "stream",
     "text": [
      "['w ', 'a ', 's ', 'i ', 't ', 'a ', 'c ', 'a ', 'r ', 'o ', 'r ', 'a ', 'c ', 'a ', 't ', 'I ', 's ', 'a ', 'w '] "
     ]
    }
   ],
   "source": [
    "p = \"was it a car or a cat I saw\"\n",
    "p=p.split()\n",
    "a=[]\n",
    "for i in p:\n",
    "    a.append(i)\n",
    "b=\"\".join(a)\n",
    "x=[]\n",
    "for i in b :\n",
    "    x.append(i+str(' '))\n",
    "l=x[0:]\n",
    "print(l, end =\" \")"
   ]
  },
  {
   "cell_type": "code",
   "execution_count": 74,
   "metadata": {},
   "outputs": [
    {
     "name": "stdout",
     "output_type": "stream",
     "text": [
      "k\n"
     ]
    }
   ],
   "source": [
    "l=['w ', 'a ', 's ', 'i ', 't ', 'a ', 'c ', 'a ', 'r ', 'o ', 'r ', 'a ', 'c ', 'a ', 't ', 'I ', 's ', 'a ', 'w '] \n",
    "m=\n",
    "if l[0]==l[-1]:\n",
    "    print('k')\n"
   ]
  },
  {
   "cell_type": "code",
   "execution_count": 98,
   "metadata": {},
   "outputs": [
    {
     "name": "stdout",
     "output_type": "stream",
     "text": [
      "t\n",
      "t\n",
      "t\n",
      "t\n",
      "t\n"
     ]
    }
   ],
   "source": [
    "l=['w ', 'a ', 's ', 'i ', 't ']\n",
    "def r(a):\n",
    "    a.reverse()\n",
    "    return a\n"
   ]
  },
  {
   "cell_type": "code",
   "execution_count": 81,
   "metadata": {},
   "outputs": [
    {
     "name": "stdout",
     "output_type": "stream",
     "text": [
      "Original List: ['Windows', 'macOS', 'Linux']\n",
      "Updated List: ['Linux', 'macOS', 'Windows']\n"
     ]
    }
   ],
   "source": [
    "systems = ['Windows', 'macOS', 'Linux']\n",
    "print('Original List:', systems)\n",
    "\n",
    "# List Reverse\n",
    "systems.reverse()\n",
    "\n",
    "# updated list\n",
    "print('Updated List:', systems)"
   ]
  },
  {
   "cell_type": "code",
   "execution_count": 103,
   "metadata": {},
   "outputs": [
    {
     "data": {
      "text/plain": [
       "'wasitacaroracatIsaw'"
      ]
     },
     "execution_count": 103,
     "metadata": {},
     "output_type": "execute_result"
    }
   ],
   "source": [
    "p = \"was it a car or a cat I saw\"\n",
    "p=p.split()\n",
    "p=''.join(p)\n",
    "p"
   ]
  },
  {
   "cell_type": "code",
   "execution_count": 27,
   "metadata": {},
   "outputs": [
    {
     "name": "stdout",
     "output_type": "stream",
     "text": [
      "The store has  12 shoes, each for  29.99\n",
      "The store has  20 shirts, each for  9.99\n",
      "The store has  25 sweatpants, each for  15.00\n"
     ]
    }
   ],
   "source": [
    "inv = [\"shoes, 12, 29.99\", \"shirts, 20, 9.99\", \"sweatpants, 25, 15.00\", \"scarves, 13, 7.75\"]\n",
    "a=inv[0]\n",
    "a=a.split(',')\n",
    "b=a[0]\n",
    "c=a[1]\n",
    "d=a[2]\n",
    "print(\"The store has {} {}, each for {}\".format(c, b, d))\n",
    "a=inv[1]\n",
    "a=a.split(',')\n",
    "b=a[0]\n",
    "c=a[1]\n",
    "d=a[2]\n",
    "print(\"The store has {} {}, each for {}\".format(c, b, d))\n",
    "a=inv[2]\n",
    "a=a.split(',')\n",
    "b=a[0]\n",
    "c=a[1]\n",
    "d=a[2]\n",
    "print(\"The store has {} {}, each for {}\".format(c, b, d))"
   ]
  },
  {
   "cell_type": "code",
   "execution_count": 20,
   "metadata": {},
   "outputs": [
    {
     "data": {
      "text/plain": [
       "'shoes,'"
      ]
     },
     "execution_count": 20,
     "metadata": {},
     "output_type": "execute_result"
    }
   ],
   "source": [
    "b=a[0]\n",
    "b"
   ]
  },
  {
   "cell_type": "code",
   "execution_count": 19,
   "metadata": {},
   "outputs": [
    {
     "name": "stdout",
     "output_type": "stream",
     "text": [
      " 12\n",
      " 20\n",
      " 25\n",
      " 13\n"
     ]
    }
   ],
   "source": [
    "inv = [\"shoes, 12,29.99\", \"shirts, 20,9.99\", \"sweatpants, 25,15.00\", \"scarves, 13,7.75\"]\n",
    "for i in inv:\n",
    "    i=i.split(',')\n",
    "    a=i[1]\n",
    "    print(a)"
   ]
  },
  {
   "cell_type": "code",
   "execution_count": 10,
   "metadata": {},
   "outputs": [
    {
     "data": {
      "text/plain": [
       "['s', 'h', 'o', 'e', 's', ',', ' ', '1', '2', ',', '2', '9', '.', '9', '9']"
      ]
     },
     "execution_count": 10,
     "metadata": {},
     "output_type": "execute_result"
    }
   ],
   "source": [
    " i=i.split(',')\n",
    "    a=i[0]\n",
    "    b=i[1]\n",
    "    c=i[2]\n",
    "    print('THis is {} {} {}'.format(a,b,c))"
   ]
  },
  {
   "cell_type": "code",
   "execution_count": 7,
   "metadata": {},
   "outputs": [
    {
     "data": {
      "text/plain": [
       "'a,bt'"
      ]
     },
     "execution_count": 7,
     "metadata": {},
     "output_type": "execute_result"
    }
   ],
   "source": [
    "a[0]"
   ]
  },
  {
   "cell_type": "code",
   "execution_count": 11,
   "metadata": {},
   "outputs": [
    {
     "name": "stdout",
     "output_type": "stream",
     "text": [
      "The store has 12 shoes, each for 29.99 USD.\n",
      "The store has 20 shirts, each for 9.99 USD.\n",
      "The store has 25 sweatpants, each for 15.00 USD.\n",
      "The store has 13 scarves, each for 7.75 USD.\n"
     ]
    }
   ],
   "source": [
    "inventory = [\"shoes, 12, 29.99\", \"shirts, 20, 9.99\", \"sweatpants, 25, 15.00\", \"scarves, 13, 7.75\"]\n",
    "for temp in inventory:\n",
    "    temp = temp.split(',')\n",
    "    str1=\"The store has{} {}, each for{} USD.\"\n",
    "    str1=str1.format(temp[1],temp[0],temp[2])\n",
    "    print(str1)\n"
   ]
  },
  {
   "cell_type": "code",
   "execution_count": 12,
   "metadata": {},
   "outputs": [
    {
     "name": "stdout",
     "output_type": "stream",
     "text": [
      "The store has 12 shoes, each for 29.99 USD.\n",
      "The store has 20 shirts, each for 9.99 USD.\n",
      "The store has 25 sweatpants, each for 15.00 USD.\n",
      "The store has 13 scarves, each for 7.75 USD.\n"
     ]
    }
   ],
   "source": [
    "inventory = [\"shoes, 12, 29.99\", \"shirts, 20, 9.99\", \"sweatpants, 25, 15.00\", \"scarves, 13, 7.75\"]\n",
    "for temp in inventory:\n",
    "    temp = temp.split(',')\n",
    "    item = temp[0]\n",
    "    quantity = temp[1]\n",
    "    amount = temp[2]\n",
    "    str1=\"The store has{} {}, each for{} USD.\"\n",
    "    str1=str1.format(quantity,item,amount)\n",
    "    print(str1)"
   ]
  },
  {
   "cell_type": "code",
   "execution_count": 20,
   "metadata": {},
   "outputs": [
    {
     "name": "stdout",
     "output_type": "stream",
     "text": [
      "2\n",
      "2\n",
      "2\n",
      "3\n",
      "[[0, 0, 0], [0, 0, 1], [0, 0, 2], [0, 1, 0], [0, 1, 1], [0, 2, 0], [0, 2, 2], [1, 0, 0], [1, 0, 1], [1, 1, 0], [1, 1, 2], [1, 2, 1], [1, 2, 2], [2, 0, 0], [2, 0, 2], [2, 1, 1], [2, 1, 2], [2, 2, 0], [2, 2, 1], [2, 2, 2]]\n"
     ]
    }
   ],
   "source": [
    "if __name__ == '__main__':\n",
    "    x = int(input())\n",
    "    y = int(input())\n",
    "    z = int(input())\n",
    "    n = int(input())\n",
    "    print ([[a,b,c] for a in range(0,x+1) for b in range(0,y+1) for c in range(0,z+1) if a + b + c != n ])"
   ]
  },
  {
   "cell_type": "code",
   "execution_count": 27,
   "metadata": {},
   "outputs": [
    {
     "name": "stdout",
     "output_type": "stream",
     "text": [
      "1\n",
      "1\n",
      "1\n",
      "1\n",
      "[0]\n",
      "[1]\n",
      "[0]\n",
      "[1]\n",
      "[0]\n",
      "[1]\n",
      "[1, 1, 1]\n"
     ]
    }
   ],
   "source": [
    "if __name__ == '__main__':\n",
    "    x = int(input())\n",
    "    y = int(input())\n",
    "    z = int(input())\n",
    "    n = int(input())\n",
    "for a in range (0,x+1):\n",
    "    print([a])\n",
    "for b in range (0,y+1):\n",
    "    print([b])\n",
    "for c in range (0,z+1):\n",
    "    print([c])\n",
    "print([a,b,c])"
   ]
  },
  {
   "cell_type": "code",
   "execution_count": 6,
   "metadata": {},
   "outputs": [
    {
     "name": "stdout",
     "output_type": "stream",
     "text": [
      "3\n"
     ]
    },
    {
     "ename": "AttributeError",
     "evalue": "'map' object has no attribute 'short'",
     "output_type": "error",
     "traceback": [
      "\u001b[1;31m---------------------------------------------------------------------------\u001b[0m",
      "\u001b[1;31mAttributeError\u001b[0m                            Traceback (most recent call last)",
      "\u001b[1;32m<ipython-input-6-8a0b731646a7>\u001b[0m in \u001b[0;36m<module>\u001b[1;34m\u001b[0m\n\u001b[0;32m      2\u001b[0m     \u001b[1;31m#n = int(input())\u001b[0m\u001b[1;33m\u001b[0m\u001b[1;33m\u001b[0m\u001b[1;33m\u001b[0m\u001b[0m\n\u001b[0;32m      3\u001b[0m     \u001b[0marr\u001b[0m \u001b[1;33m=\u001b[0m \u001b[0mmap\u001b[0m\u001b[1;33m(\u001b[0m\u001b[0mint\u001b[0m\u001b[1;33m,\u001b[0m \u001b[0minput\u001b[0m\u001b[1;33m(\u001b[0m\u001b[1;33m)\u001b[0m\u001b[1;33m.\u001b[0m\u001b[0msplit\u001b[0m\u001b[1;33m(\u001b[0m\u001b[1;33m)\u001b[0m\u001b[1;33m)\u001b[0m\u001b[1;33m\u001b[0m\u001b[1;33m\u001b[0m\u001b[0m\n\u001b[1;32m----> 4\u001b[1;33m \u001b[0marr\u001b[0m\u001b[1;33m=\u001b[0m\u001b[0marr\u001b[0m\u001b[1;33m.\u001b[0m\u001b[0mshort\u001b[0m\u001b[1;33m(\u001b[0m\u001b[1;33m)\u001b[0m\u001b[1;33m\u001b[0m\u001b[1;33m\u001b[0m\u001b[0m\n\u001b[0m\u001b[0;32m      5\u001b[0m \u001b[0marr\u001b[0m\u001b[1;33m\u001b[0m\u001b[1;33m\u001b[0m\u001b[0m\n\u001b[0;32m      6\u001b[0m \u001b[1;33m\u001b[0m\u001b[0m\n",
      "\u001b[1;31mAttributeError\u001b[0m: 'map' object has no attribute 'short'"
     ]
    }
   ],
   "source": [
    "if __name__ == '__main__':\n",
    "    #n = int(input())\n",
    "    arr = map(int, input().split())\n",
    "arr=arr.short()\n",
    "arr\n",
    "    "
   ]
  },
  {
   "cell_type": "code",
   "execution_count": 9,
   "metadata": {},
   "outputs": [
    {
     "name": "stdout",
     "output_type": "stream",
     "text": [
      "[2, 3, 4, 6, 5]\n",
      "[5]\n"
     ]
    }
   ],
   "source": [
    "n=5\n",
    "arr=[2, 3, 4, 6, 5]\n",
    "print(arr)\n",
    "arr.sort(reverse =True)\n",
    "ar=[i for i in arr if n==i ]\n",
    "print(ar)"
   ]
  },
  {
   "cell_type": "code",
   "execution_count": 4,
   "metadata": {},
   "outputs": [
    {
     "name": "stdout",
     "output_type": "stream",
     "text": [
      "3\n",
      "Krishna 67 68 69\n",
      "Arjun 70 98 63\n",
      "Malika 52 56 60\n",
      "Malika\n",
      "56.00\n"
     ]
    }
   ],
   "source": [
    "# Import decimal\n",
    "from decimal import Decimal\n",
    "\n",
    "\n",
    "if __name__ == '__main__':\n",
    "    n = int(input())\n",
    "    student_marks = {}\n",
    "    for _ in range(n):\n",
    "        name, *line = input().split()\n",
    "        scores = list(map(float, line))\n",
    "        student_marks[name] = scores\n",
    "    query_name = input()\n",
    "\n",
    "\n",
    "# Extract the values into a list: query_scores\n",
    "query_scores = student_marks[query_name]\n",
    "\n",
    "# Sum the scores in the list: total_scores\n",
    "total_scores = sum(query_scores)\n",
    "\n",
    "# Convert the floats to decimals and average the scores: avg\n",
    "avg = Decimal(total_scores/3)\n",
    "\n",
    "# Print the mean of the scores, correct to two decimals\n",
    "print(round(avg,2))"
   ]
  },
  {
   "cell_type": "code",
   "execution_count": 5,
   "metadata": {},
   "outputs": [
    {
     "name": "stdout",
     "output_type": "stream",
     "text": [
      "1\n",
      "a 23 45 67\n",
      "a\n",
      "45.00\n"
     ]
    }
   ],
   "source": [
    "# python 3 code stub\n",
    "if __name__ == '__main__':\n",
    "    n = int(input())\n",
    "    # dictionary to store the marks, key = name, value = list of scores\n",
    "    student_marks = {}\n",
    "    # read in all the records and store in the dictionary\n",
    "    for _ in range(n):\n",
    "        name, *line = input().split()\n",
    "        scores = list(map(float, line))\n",
    "        student_marks[name] = scores\n",
    "    # query_name is the key value to retrieve\n",
    "    query_name = input()\n",
    "#\n",
    "# divide the sum of the scores list by the length of the scores list\n",
    "# format to 2 places after the decimal and print to STDOUT\n",
    "#\n",
    "# the solution:\n",
    "# \n",
    "print('{0:.2f}'.format(sum(student_marks[query_name])/len(student_marks[query_name])))"
   ]
  },
  {
   "cell_type": "code",
   "execution_count": 2,
   "metadata": {},
   "outputs": [
    {
     "data": {
      "text/plain": [
       "['Beirut',\n",
       " 'Milan',\n",
       " 'Pittsburgh',\n",
       " 'Buenos Aires',\n",
       " 'Nairobi',\n",
       " 'Kathmandu',\n",
       " 'Osaka',\n",
       " 'Melbourne',\n",
       " 'abc']"
      ]
     },
     "execution_count": 2,
     "metadata": {},
     "output_type": "execute_result"
    }
   ],
   "source": [
    "trav_dest = ['Beirut', 'Milan', 'Pittsburgh', 'Buenos Aires', 'Nairobi', 'Kathmandu', 'Osaka', 'Melbourne']\n",
    "trav_dest.extend(['abc'])\n",
    "trav_dest"
   ]
  },
  {
   "cell_type": "code",
   "execution_count": 19,
   "metadata": {},
   "outputs": [
    {
     "data": {
      "text/plain": [
       "'v'"
      ]
     },
     "execution_count": 19,
     "metadata": {},
     "output_type": "execute_result"
    }
   ],
   "source": [
    "m=['m','c','v']\n",
    "h=m[-1]\n",
    "h"
   ]
  },
  {
   "cell_type": "code",
   "execution_count": 35,
   "metadata": {},
   "outputs": [
    {
     "name": "stdout",
     "output_type": "stream",
     "text": [
      "indiancybersecuritysolutions.com\n"
     ]
    }
   ],
   "source": [
    "data = 'From info@indiancybersecuritysolutions.com Sat Jan  5 09:14:16 2008'\n",
    "s=data.find('@')\n",
    "b=data.find(\" \", s)\n",
    "b\n",
    "print(data[s+1:b])"
   ]
  },
  {
   "cell_type": "code",
   "execution_count": 4,
   "metadata": {},
   "outputs": [
    {
     "data": {
      "text/plain": [
       "'bracakdabra'"
      ]
     },
     "execution_count": 4,
     "metadata": {},
     "output_type": "execute_result"
    }
   ],
   "source": [
    "s='bracadabra'\n",
    "i=5\n",
    "q='k'\n",
    "l=list(s)\n",
    "l=l(i,q)\n",
    "g=\"\".join(l)\n",
    "g"
   ]
  },
  {
   "cell_type": "code",
   "execution_count": 25,
   "metadata": {},
   "outputs": [
    {
     "data": {
      "text/plain": [
       "2"
      ]
     },
     "execution_count": 25,
     "metadata": {},
     "output_type": "execute_result"
    }
   ],
   "source": [
    "a='ABCDCDC'\n",
    "b='CDC'\n",
    "c=0\n",
    "for i in range(0, len(a)-len(b)+1):\n",
    "         if a[i:len(b)+i]==b:\n",
    "            c=c+1\n",
    "c\n",
    "       \n"
   ]
  },
  {
   "cell_type": "code",
   "execution_count": 22,
   "metadata": {},
   "outputs": [
    {
     "name": "stdout",
     "output_type": "stream",
     "text": [
      "BC\n"
     ]
    }
   ],
   "source": [
    "a='ABCDCDC'\n",
    "b='ABC'\n",
    "c=0\n",
    "if a[1:3]==b:\n",
    "    c+=1\n",
    "c\n",
    "print(a[1:3])\n"
   ]
  },
  {
   "cell_type": "code",
   "execution_count": 29,
   "metadata": {},
   "outputs": [
    {
     "data": {
      "text/plain": [
       "3"
      ]
     },
     "execution_count": 29,
     "metadata": {},
     "output_type": "execute_result"
    }
   ],
   "source": [
    "b='CDC'\n",
    "len(b)"
   ]
  },
  {
   "cell_type": "code",
   "execution_count": 30,
   "metadata": {},
   "outputs": [
    {
     "name": "stdout",
     "output_type": "stream",
     "text": [
      "True\n"
     ]
    }
   ],
   "source": [
    "print('a'.isalnum())"
   ]
  },
  {
   "cell_type": "code",
   "execution_count": null,
   "metadata": {},
   "outputs": [],
   "source": []
  }
 ],
 "metadata": {
  "kernelspec": {
   "display_name": "Python 3",
   "language": "python",
   "name": "python3"
  },
  "language_info": {
   "codemirror_mode": {
    "name": "ipython",
    "version": 3
   },
   "file_extension": ".py",
   "mimetype": "text/x-python",
   "name": "python",
   "nbconvert_exporter": "python",
   "pygments_lexer": "ipython3",
   "version": "3.8.5"
  }
 },
 "nbformat": 4,
 "nbformat_minor": 4
}
