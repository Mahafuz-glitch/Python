{
 "cells": [
  {
   "cell_type": "code",
   "execution_count": 3,
   "metadata": {},
   "outputs": [
    {
     "name": "stdout",
     "output_type": "stream",
     "text": [
      "You have to pay:  23.64\n"
     ]
    }
   ],
   "source": [
    "#q1\n",
    "bill = 47.28\n",
    "tip = bill * 15/100\n",
    "total = bill + tip\n",
    "share = bill/2 \n",
    "print(\"You have to pay: \" ,share)"
   ]
  },
  {
   "cell_type": "code",
   "execution_count": 14,
   "metadata": {},
   "outputs": [
    {
     "name": "stdout",
     "output_type": "stream",
     "text": [
      "How do you like Python so far?\n"
     ]
    }
   ],
   "source": [
    "#Q3\n",
    "word1 = \"How\"\n",
    "word2 = \"do\"\n",
    "word3 = \"you\"\n",
    "word4 = \"like\"\n",
    "word5 = \"Python\"\n",
    "word6 = \"so\"\n",
    "word7 = \"far?\"\n",
    "\n",
    "print(word1 +\" \"+ word2+\" \"+word3+\" \"+ word4+ \" \" + word5 +\" \" + word6+ \" \"+ word7)"
   ]
  },
  {
   "cell_type": "markdown",
   "metadata": {},
   "source": [
    "# List & str"
   ]
  },
  {
   "cell_type": "code",
   "execution_count": 44,
   "metadata": {},
   "outputs": [
    {
     "data": {
      "text/plain": [
       "['hockey', 'ping pong', 'curling']"
      ]
     },
     "execution_count": 44,
     "metadata": {},
     "output_type": "execute_result"
    }
   ],
   "source": [
    "#Q1\n",
    "sports = ['cricket', 'football', 'volleyball', 'baseball', 'softball', 'track and field', 'curling', 'ping pong', 'hockey']\n",
    "last=[]\n",
    "last.append(sports[-1])\n",
    "last.append(sports[-2])\n",
    "last.append(sports[-3])\n",
    "last"
   ]
  },
  {
   "cell_type": "code",
   "execution_count": 46,
   "metadata": {},
   "outputs": [
    {
     "name": "stdout",
     "output_type": "stream",
     "text": [
      "M\n",
      "I\n",
      "C\n",
      "H\n",
      "I\n",
      "G\n",
      "A\n",
      "N\n"
     ]
    }
   ],
   "source": [
    "my_str = \"MICHIGAN\"\n",
    "for i in my_str:\n",
    "    print (i)"
   ]
  },
  {
   "cell_type": "code",
   "execution_count": 48,
   "metadata": {},
   "outputs": [
    {
     "name": "stdout",
     "output_type": "stream",
     "text": [
      "hello\n",
      "2\n",
      "4\n",
      "6.0\n",
      "7.5\n",
      "234352354\n",
      "the end\n",
      "\n",
      "99\n",
      "<class 'str'>\n",
      "<class 'int'>\n",
      "<class 'int'>\n",
      "<class 'float'>\n",
      "<class 'float'>\n",
      "<class 'int'>\n",
      "<class 'str'>\n",
      "<class 'str'>\n",
      "<class 'int'>\n"
     ]
    }
   ],
   "source": [
    "#q3\n",
    "several_things = [\"hello\", 2, 4, 6.0, 7.5, 234352354, \"the end\", \"\", 99]\n",
    "for i in several_things:\n",
    "    print(i)\n",
    "for t in several_things:\n",
    "    print(type(t))"
   ]
  },
  {
   "cell_type": "code",
   "execution_count": 49,
   "metadata": {},
   "outputs": [
    {
     "name": "stdout",
     "output_type": "stream",
     "text": [
      "5\n",
      "0\n",
      "7\n",
      "9\n",
      "13\n"
     ]
    }
   ],
   "source": [
    "#q4\n",
    "str_list = [\"hello\", \"\", \"goodbye\", \"wonderful\", \"I love Python\"]\n",
    "for i in str_list:\n",
    "    print(len(i))"
   ]
  },
  {
   "cell_type": "code",
   "execution_count": 57,
   "metadata": {},
   "outputs": [
    {
     "name": "stdout",
     "output_type": "stream",
     "text": [
      "48\n"
     ]
    }
   ],
   "source": [
    "#q5 without space\n",
    "original_str = \"The quick brown rhino jumped over the extremely lazy fox.\"\n",
    "num_chars = 0\n",
    "a=original_str.split()\n",
    "\n",
    "for i in a:\n",
    "    num_chars += len(i)\n",
    "    \n",
    "print(num_chars)"
   ]
  },
  {
   "cell_type": "code",
   "execution_count": 26,
   "metadata": {},
   "outputs": [
    {
     "name": "stdout",
     "output_type": "stream",
     "text": [
      "Total number of characters in a string: 57\n"
     ]
    }
   ],
   "source": [
    "#q5 with space\n",
    "original_str = \"The quick brown rhino jumped over the extremely lazy fox.\"\n",
    "num_chars = 0\n",
    "#original_str.split()\n",
    "for i in original_str:\n",
    "    #print(len(i))\n",
    "    num_chars+= len(i)\n",
    "#for i in original_str:\n",
    "    # Write your code here.\n",
    "#Displays the total number of characters present in the given string.\n",
    "print(\"Total number of characters in a string: \" + str(num_chars))"
   ]
  },
  {
   "cell_type": "code",
   "execution_count": 67,
   "metadata": {},
   "outputs": [
    {
     "data": {
      "text/plain": [
       "37"
      ]
     },
     "execution_count": 67,
     "metadata": {},
     "output_type": "execute_result"
    }
   ],
   "source": [
    "#q6\n",
    "addition_str = \"2+5+10+20\"\n",
    "number =addition_str.split('+')\n",
    "sum_val = 0\n",
    "for n in number:\n",
    "    sum_val+= int(n)\n",
    "    \n",
    "sum_val"
   ]
  },
  {
   "cell_type": "code",
   "execution_count": 8,
   "metadata": {},
   "outputs": [
    {
     "name": "stdout",
     "output_type": "stream",
     "text": [
      "['75.1', '77.7', '83.2', '82.5', '81.0', '79.5', '85.7']\n"
     ]
    },
    {
     "data": {
      "text/plain": [
       "80.67142857142858"
      ]
     },
     "execution_count": 8,
     "metadata": {},
     "output_type": "execute_result"
    }
   ],
   "source": [
    "#q7\n",
    "week_temps_f = \"75.1,77.7,83.2,82.5,81.0,79.5,85.7\"\n",
    "temp = week_temps_f.split(\",\")\n",
    "print(temp)\n",
    "c=0\n",
    "d=0\n",
    "for tem in temp:\n",
    "    c+= float(tem)\n",
    "for m in range (len(temp)):\n",
    "    d=m+1\n",
    "    #print(d)\n",
    "av=c/d\n",
    "av"
   ]
  },
  {
   "cell_type": "code",
   "execution_count": 27,
   "metadata": {},
   "outputs": [
    {
     "name": "stdout",
     "output_type": "stream",
     "text": [
      "['75.1', '77.7', '83.2', '82.5', '81.0', '79.5', '85.7']\n"
     ]
    },
    {
     "data": {
      "text/plain": [
       "80.67142857142858"
      ]
     },
     "execution_count": 27,
     "metadata": {},
     "output_type": "execute_result"
    }
   ],
   "source": [
    "week_temps_f = \"75.1,77.7,83.2,82.5,81.0,79.5,85.7\"\n",
    "temp = week_temps_f.split(\",\")\n",
    "print(temp)\n",
    "count = 0\n",
    "num = 0\n",
    "for tem in temp:\n",
    "    num =num + float(tem)\n",
    "count=(len(temp))\n",
    "avg_temp = num / count\n",
    "avg_temp"
   ]
  },
  {
   "cell_type": "code",
   "execution_count": 84,
   "metadata": {},
   "outputs": [
    {
     "name": "stdout",
     "output_type": "stream",
     "text": [
      "[0, 1, 2, 3, 4, 5, 6, 7, 8, 9, 10, 11, 12, 13, 14, 15, 16, 17, 18, 19, 20, 21, 22, 23, 24, 25, 26, 27, 28, 29, 30, 31, 32, 33, 34, 35, 36, 37, 38, 39, 40, 41, 42, 43, 44, 45, 46, 47, 48, 49, 50, 51, 52, 53, 54, 55, 56, 57, 58, 59, 60, 61, 62, 63, 64, 65, 66, 67] "
     ]
    }
   ],
   "source": [
    "#q8\n",
    "nums=[]\n",
    "for i in range(0,68):\n",
    "    nums.append(i)\n",
    "print(nums ,end=\" \")"
   ]
  },
  {
   "cell_type": "code",
   "execution_count": 86,
   "metadata": {},
   "outputs": [
    {
     "name": "stdout",
     "output_type": "stream",
     "text": [
      "[3, 5, 5, 5, 6, 4, 3, 9, 4, 3]\n"
     ]
    }
   ],
   "source": [
    "original_str = \"The quick brown rhino jumped over the extremely lazy fox\"\n",
    "lis = original_str.split()\n",
    "num_words_list = []\n",
    "for i in lis:\n",
    "    num_words_list.append(len(i))   \n",
    "print(num_words_list)"
   ]
  },
  {
   "cell_type": "code",
   "execution_count": 90,
   "metadata": {},
   "outputs": [
    {
     "name": "stdout",
     "output_type": "stream",
     "text": [
      "bbbbbbb\n"
     ]
    }
   ],
   "source": [
    "lett=\"\"\n",
    "for i in range(1):\n",
    "    lett='bbbbbbb'\n",
    "print(lett)"
   ]
  },
  {
   "cell_type": "code",
   "execution_count": 6,
   "metadata": {},
   "outputs": [
    {
     "name": "stdout",
     "output_type": "stream",
     "text": [
      "Total number of characters in a string: 57\n"
     ]
    }
   ],
   "source": [
    "original_str = \"The quick brown rhino jumped over the extremely lazy fox.\"\n",
    "num_chars = 0\n",
    "#original_str.split()\n",
    "for i in original_str:\n",
    "    #print(len(i))\n",
    "    num_chars+= len(i)\n",
    "#for i in original_str:\n",
    "    # Write your code here.\n",
    "#Displays the total number of characters present in the given string.\n",
    "print(\"Total number of characters in a string: \" + str(num_chars))"
   ]
  },
  {
   "cell_type": "markdown",
   "metadata": {},
   "source": [
    "# Dict"
   ]
  },
  {
   "cell_type": "code",
   "execution_count": 4,
   "metadata": {},
   "outputs": [
    {
     "name": "stdout",
     "output_type": "stream",
     "text": [
      "{'us': 70, 'gb': 38, 'c': 45, 'r': 30, 'g': 17}\n"
     ]
    }
   ],
   "source": [
    "#q1\n",
    "medal_count = {'us':70,'gb':38,'c':45,'r':30,'g':17}\n",
    "print(medal_count)"
   ]
  },
  {
   "cell_type": "code",
   "execution_count": 5,
   "metadata": {},
   "outputs": [
    {
     "name": "stdout",
     "output_type": "stream",
     "text": [
      "{'Manuel': 4, 'Lochte': 12, 'Adrian': 7, 'Ledecky': 5, 'Dirado': 4, 'Phelps': 21}\n"
     ]
    }
   ],
   "source": [
    "#q2\n",
    "swimmers = {'Manuel':4, 'Lochte':12, 'Adrian':7, 'Ledecky':5, 'Dirado':4}\n",
    "swimmers['Phelps']=21\n",
    "print(swimmers)"
   ]
  },
  {
   "cell_type": "code",
   "execution_count": 6,
   "metadata": {},
   "outputs": [
    {
     "data": {
      "text/plain": [
       "{'baseball': 9, 'basketball': 4, 'soccer': 4, 'cricket': 2, 'hockey': 3}"
      ]
     },
     "execution_count": 6,
     "metadata": {},
     "output_type": "execute_result"
    }
   ],
   "source": [
    "#q3\n",
    "sports_periods = {'baseball': 9, 'basketball': 4, 'soccer': 4, 'cricket': 2}\n",
    "sports_periods['hockey']=3\n",
    "sports_periods"
   ]
  },
  {
   "cell_type": "code",
   "execution_count": 8,
   "metadata": {},
   "outputs": [
    {
     "data": {
      "text/plain": [
       "{'Italy': 12,\n",
       " 'USA': 33,\n",
       " 'Brazil': 15,\n",
       " 'China': 27,\n",
       " 'Spain': 21,\n",
       " 'Canada': 22,\n",
       " 'Argentina': 8,\n",
       " 'England': 29}"
      ]
     },
     "execution_count": 8,
     "metadata": {},
     "output_type": "execute_result"
    }
   ],
   "source": [
    "#q4\n",
    "golds = {\"Italy\": 12, \"USA\": 33, \"Brazil\": 15, \"China\": 27, \"Spain\": 19, \"Canada\": 22, \"Argentina\": 8, \"England\": 29}\n",
    "golds['Spain']=golds['Spain']+2\n",
    "golds"
   ]
  },
  {
   "cell_type": "code",
   "execution_count": 9,
   "metadata": {},
   "outputs": [
    {
     "data": {
      "text/plain": [
       "{'Fencing'}"
      ]
     },
     "execution_count": 9,
     "metadata": {},
     "output_type": "execute_result"
    }
   ],
   "source": [
    "#q5\n",
    "US_medals = {\"Swimming\": 33, \"Gymnastics\": 6, \"Track & Field\": 6, \"Tennis\": 3, \"Judo\": 2, \"Rowing\": 2, \"Shooting\": 3, \"Cycling - Road\": 1, \"Fencing\": 4, \"Diving\": 2, \"Archery\": 2, \"Cycling - Track\": 1, \"Equestrian\": 2, \"Golf\": 1, \"Weightlifting\": 1}\n",
    "fencing_value={'Fencing'}\n",
    "fencing_value"
   ]
  },
  {
   "cell_type": "code",
   "execution_count": 20,
   "metadata": {},
   "outputs": [
    {
     "name": "stdout",
     "output_type": "stream",
     "text": [
      "18\n"
     ]
    }
   ],
   "source": [
    "#q6\n",
    "Junior = {'SI 206':4, 'SI 310':4, 'BL 300':3, 'TO 313':3, 'BCOM 350':1, 'MO 300':3}\n",
    "credits = 0\n",
    "\n",
    "for key in Junior.keys():\n",
    "    credits+= Junior[key]\n",
    "print(credits)"
   ]
  },
  {
   "cell_type": "code",
   "execution_count": 26,
   "metadata": {},
   "outputs": [
    {
     "name": "stdout",
     "output_type": "stream",
     "text": [
      "{'p': 9, 'e': 8, 't': 1, 'r': 3, ' ': 7, 'i': 3, 'c': 3, 'k': 3, 'd': 2, 'a': 1, 'o': 1, 'f': 1, 'l': 1, 's': 1}\n"
     ]
    }
   ],
   "source": [
    "#q7\n",
    "str1 = \"peter piper picked a peck of pickled peppers\"\n",
    "freq = {}\n",
    "#str1=str1.split()\n",
    "for k in str1:\n",
    "    if k not in freq:\n",
    "        freq[k]=1\n",
    "    else:\n",
    "        freq[k]= freq[k]+ 1\n",
    "print(freq)"
   ]
  },
  {
   "cell_type": "code",
   "execution_count": 5,
   "metadata": {},
   "outputs": [
    {
     "name": "stdout",
     "output_type": "stream",
     "text": [
      "{'I': 3, 'wish': 3, 'with': 3, 'all': 2, 'my': 2, 'heart': 2, 'to': 2, 'fly': 2, 'dragons': 2, 'in': 2, 'a': 2, 'land': 2, 'apart': 2}\n"
     ]
    }
   ],
   "source": [
    "#q8\n",
    "str1 = \"I wish I wish with all my heart to fly with dragons in a land apart\"\n",
    "str1 = str1.split()\n",
    "\n",
    "freq_words = {}\n",
    "\n",
    "for k in str1:\n",
    "    if k not in freq_words:\n",
    "        freq_words[k]= 1\n",
    "    freq_words[k]+= 1\n",
    "print(freq_words)\n",
    "\n"
   ]
  },
  {
   "cell_type": "code",
   "execution_count": 25,
   "metadata": {},
   "outputs": [
    {
     "name": "stdout",
     "output_type": "stream",
     "text": [
      "s\n",
      "{'s': 8, 'a': 3, 'l': 6, 'y': 2, ' ': 7, 'e': 6, 'h': 3, 'b': 1, 't': 1, 'o': 1, 'r': 1}\n"
     ]
    }
   ],
   "source": [
    "#q9\n",
    "sally = \"sally sells sea shells by the sea shore\"\n",
    "characters = {}\n",
    "for k in sally:\n",
    "    if k not in characters:\n",
    "        characters[k] = 0\n",
    "    characters[k] += 1\n",
    "\n",
    "ks = characters.keys()\n",
    "\n",
    "best_char = list(ks)[0] # Have to turn ks into a real list before using [] to select an item\n",
    "\n",
    "for k in ks:\n",
    "    if characters[k] > characters[best_char]:\n",
    "        best_char=characters[k]\n",
    "print(best_char)\n",
    "print(characters)"
   ]
  },
  {
   "cell_type": "code",
   "execution_count": 32,
   "metadata": {},
   "outputs": [
    {
     "name": "stdout",
     "output_type": "stream",
     "text": [
      "{'s': 6, 'u': 8, 'm': 4, 'e': 13, 'r': 4, ' ': 21, 'i': 4, 'a': 7, 'g': 4, 't': 10, 'o': 9, 'd': 2, '.': 3, 'y': 2, 'h': 7, 'v': 2, 'b': 3, 'c': 3, 'f': 4, 'l': 2, 'n': 2}\n"
     ]
    }
   ],
   "source": [
    "p = \"Summer is a great time to go outside. You have to be careful of the sun though because of the heat.\"\n",
    "p=p.lower()\n",
    "low_d = {}\n",
    "\n",
    "for k in p: \n",
    "    if k not in low_d:\n",
    "        low_d[k]=1\n",
    "    low_d[k]=low_d[k]+1\n",
    "print(low_d)"
   ]
  },
  {
   "cell_type": "code",
   "execution_count": 27,
   "metadata": {},
   "outputs": [
    {
     "name": "stdout",
     "output_type": "stream",
     "text": [
      "a bmsdjd amsj\n"
     ]
    }
   ],
   "source": [
    "p=\"A BMSDJD AMSJ\"\n",
    "print(p.lower())"
   ]
  },
  {
   "cell_type": "markdown",
   "metadata": {},
   "source": [
    "# Function"
   ]
  },
  {
   "cell_type": "code",
   "execution_count": 1,
   "metadata": {},
   "outputs": [
    {
     "data": {
      "text/plain": [
       "3723"
      ]
     },
     "execution_count": 1,
     "metadata": {},
     "output_type": "execute_result"
    }
   ],
   "source": [
    "#q1\n",
    "def print_seconds(hours, minutes, seconds):\n",
    "    a=0\n",
    "    a=hours*3600\n",
    "    b=0\n",
    "    b=minutes*60\n",
    "    m=a+b+seconds\n",
    "    return m\n",
    "    print(___)\n",
    "\n",
    "print_seconds(1,2,3)"
   ]
  },
  {
   "cell_type": "code",
   "execution_count": 6,
   "metadata": {},
   "outputs": [
    {
     "name": "stdout",
     "output_type": "stream",
     "text": [
      "11715\n"
     ]
    }
   ],
   "source": [
    "#q2\n",
    "def get_seconds(hours, minutes, seconds):\n",
    "    return 3600*hours + 60*minutes + seconds\n",
    "\n",
    "amount_a = get_seconds(2, 30, 0)\n",
    "amount_b = get_seconds(0,45, 15)\n",
    "result = amount_a +amount_b\n",
    "print(result)"
   ]
  },
  {
   "cell_type": "code",
   "execution_count": 14,
   "metadata": {},
   "outputs": [
    {
     "name": "stdout",
     "output_type": "stream",
     "text": [
      "july has 31 days.\n"
     ]
    }
   ],
   "source": [
    "# q3\n",
    "def month_days(m,d):\n",
    "    print(str(m)+ \" has \"+ str(d)+ \" days.\")\n",
    "month_days('july',31)\n",
    "    "
   ]
  },
  {
   "cell_type": "code",
   "execution_count": 1,
   "metadata": {},
   "outputs": [],
   "source": [
    "#q4\n",
    "def rectangle_area(base, height):\n",
    "    area= base*height  # the area is base*height\n",
    "    print(\"The area is \" + str(area))"
   ]
  },
  {
   "cell_type": "code",
   "execution_count": 33,
   "metadata": {},
   "outputs": [
    {
     "name": "stdout",
     "output_type": "stream",
     "text": [
      "The distance in kilometers is 89.60000000000001\n",
      "The round-trip in kilometers is 90\n"
     ]
    }
   ],
   "source": [
    "#q5\n",
    "# 1) Complete the function to return the result of the conversion\n",
    "def convert_distance(miles):\n",
    "    km = miles * 1.6  # approximately 1.6 km in 1 mile\n",
    "    return km\n",
    "\n",
    "my_trip_miles = 56\n",
    "\n",
    "# 2) Convert my_trip_miles to kilometers by calling the function above\n",
    "my_trip_km = convert_distance(my_trip_miles)\n",
    "a=round(my_trip_km)\n",
    "# 3) Fill in the blank to print the result of the conversion\n",
    "print(\"The distance in kilometers is \" + str(my_trip_km))\n",
    "\n",
    "# 4) Calculate the round-trip in kilometers by doubling the result,\n",
    "#    and fill in the blank to print the result\n",
    "print(\"The round-trip in kilometers is \" + str(a))"
   ]
  },
  {
   "cell_type": "code",
   "execution_count": null,
   "metadata": {},
   "outputs": [],
   "source": [
    "# This function compares two numbers and returns them\n",
    "# in increasing order.\n",
    "def order_numbers(number1, number2):\n",
    "    if number2 > number1:\n",
    "        return number1, number2\n",
    "    else:\n",
    "        return number2, number1\n",
    "\n",
    "# 1) Fill in the blanks so the print statement displays the result\n",
    "#    of the function call\n",
    "___, ___ = order_numbers(100, 99)\n",
    "print(smaller, bigger)"
   ]
  }
 ],
 "metadata": {
  "kernelspec": {
   "display_name": "Python 3",
   "language": "python",
   "name": "python3"
  },
  "language_info": {
   "codemirror_mode": {
    "name": "ipython",
    "version": 3
   },
   "file_extension": ".py",
   "mimetype": "text/x-python",
   "name": "python",
   "nbconvert_exporter": "python",
   "pygments_lexer": "ipython3",
   "version": "3.8.5"
  }
 },
 "nbformat": 4,
 "nbformat_minor": 4
}
