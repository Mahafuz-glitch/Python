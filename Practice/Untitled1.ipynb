{
 "cells": [
  {
   "cell_type": "code",
   "execution_count": 16,
   "id": "64d1cdec",
   "metadata": {},
   "outputs": [
    {
     "name": "stdout",
     "output_type": "stream",
     "text": [
      "True\n"
     ]
    }
   ],
   "source": [
    "#if the count of jake and marry are same in any given string then it return True esle False and i fucking cant\n",
    "#do it in my technical interview \n",
    "\n",
    "string = \"Histhisisjakeandilovemaryjakeandlovemarysothedandfnfahfbjakebbufwfvwacbafyefqwfuvscnamaryj\"\n",
    "jake =0\n",
    "marry =0\n",
    "\n",
    "try:  \n",
    "    for i in range (len(string)):\n",
    "        if string[i]==\"j\":\n",
    "            if string[i+1]==\"a\":\n",
    "                if string[i+2]==\"k\":\n",
    "                    if string[i+3]==\"e\":\n",
    "                        jake +=1\n",
    "except Exception as e:\n",
    "    pass\n",
    "\n",
    "try:    \n",
    "    for i in range (len(string)):\n",
    "        if string[i]==\"m\":\n",
    "            if string[i+1]==\"a\":\n",
    "                 if string[i+2]==\"r\":\n",
    "                        if string[i+3]==\"y\":\n",
    "                            marry +=1\n",
    "except Exception as e:\n",
    "    pass\n",
    "\n",
    "if jake == marry:\n",
    "    print(True)\n",
    "else:\n",
    "    print(False)"
   ]
  },
  {
   "cell_type": "code",
   "execution_count": 28,
   "id": "c3f8234b",
   "metadata": {},
   "outputs": [
    {
     "name": "stdout",
     "output_type": "stream",
     "text": [
      "rahamanhave left 0 points\n",
      "{'rahaman': 0}\n"
     ]
    },
    {
     "data": {
      "text/plain": [
       "'sardar and point is 500'"
      ]
     },
     "execution_count": 28,
     "metadata": {},
     "output_type": "execute_result"
    }
   ],
   "source": [
    "class customer:\n",
    "    def __init__(self,customer_name,point):\n",
    "        self.customer_name = customer_name\n",
    "        self.point = point\n",
    "        self.final_dic = {self.customer_name:self.point}\n",
    "    def name(self):\n",
    "        print(self.customer_name)\n",
    "    def name_point(self):\n",
    "        print(self.point)\n",
    "    def add_point(self,added_p):\n",
    "        self.final_dic[self.customer_name]+=added_p\n",
    "    def sub_point(self,sub_p):\n",
    "        self.final_dic[self.customer_name]-=sub_p\n",
    "        if self.final_dic[self.customer_name]<0:\n",
    "            self.final_dic[self.customer_name]=0\n",
    "        print(f\"{self.customer_name}have left {self.final_dic[self.customer_name]} points\")\n",
    "    def db(self):\n",
    "        print(self.final_dic)\n",
    "    def __str__(self):\n",
    "        return f\"{self.customer_name} and point is {self.point}\"\n",
    "p1 = customer(\"Mahafuz\",600)\n",
    "p2 = customer(\"rahaman\",875)\n",
    "p3=customer(\"sardar\",500)\n",
    "p1.add_point(400)\n",
    "p2.sub_point(900)\n",
    "p2.db()\n",
    "str(p3)"
   ]
  }
 ],
 "metadata": {
  "kernelspec": {
   "display_name": "Python 3",
   "language": "python",
   "name": "python3"
  },
  "language_info": {
   "codemirror_mode": {
    "name": "ipython",
    "version": 3
   },
   "file_extension": ".py",
   "mimetype": "text/x-python",
   "name": "python",
   "nbconvert_exporter": "python",
   "pygments_lexer": "ipython3",
   "version": "3.8.8"
  }
 },
 "nbformat": 4,
 "nbformat_minor": 5
}
