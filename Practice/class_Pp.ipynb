{
 "cells": [
  {
   "cell_type": "code",
   "execution_count": 3,
   "metadata": {},
   "outputs": [
    {
     "name": "stdout",
     "output_type": "stream",
     "text": [
      "40\n",
      "Hello my name is Jj\n"
     ]
    }
   ],
   "source": [
    "class Person:\n",
    "  def __init__(self, name, age):\n",
    "    self.name = name\n",
    "    self.age = age\n",
    "\n",
    "  def myfunc(self):\n",
    "    print(\"Hello my name is \" + self.name)\n",
    "\n",
    "p1 = Person(\"Jj\", 36)\n",
    "\n",
    "p1.age = 40\n",
    "\n",
    "print(p1.age)\n",
    "p1.myfunc()"
   ]
  },
  {
   "cell_type": "code",
   "execution_count": 8,
   "metadata": {},
   "outputs": [
    {
     "name": "stdout",
     "output_type": "stream",
     "text": [
      "mahafuz\n"
     ]
    }
   ],
   "source": [
    "class f1:\n",
    "    def __init__(s,a,b):\n",
    "        s.a=a\n",
    "        s.b=b\n",
    "        \n",
    "        \n",
    "p1=f1('mahafuz',21)\n",
    "print(p1.a)"
   ]
  },
  {
   "cell_type": "code",
   "execution_count": 9,
   "metadata": {},
   "outputs": [
    {
     "name": "stdout",
     "output_type": "stream",
     "text": [
      "WTF\n"
     ]
    }
   ],
   "source": [
    "p1.a=\"WTF\"\n",
    "print(p1.a)"
   ]
  },
  {
   "cell_type": "code",
   "execution_count": 10,
   "metadata": {},
   "outputs": [
    {
     "data": {
      "text/plain": [
       "12"
      ]
     },
     "execution_count": 10,
     "metadata": {},
     "output_type": "execute_result"
    }
   ],
   "source": [
    "class Triangle:\n",
    "    def __init__(self,a,b,c):\n",
    "        self.a=a\n",
    "        self.b=b\n",
    "        self.c=c\n",
    "    def per(self):\n",
    "        p=self.a+self.b+self.c\n",
    "        return p\n",
    "t1=Triangle(3,4,5)\n",
    "t1.per()"
   ]
  },
  {
   "cell_type": "code",
   "execution_count": 11,
   "metadata": {},
   "outputs": [
    {
     "name": "stdout",
     "output_type": "stream",
     "text": [
      "(3,5)\n"
     ]
    }
   ],
   "source": [
    "class Point:\n",
    "    def __init__(self, x=0, y=0):\n",
    "        self.x = x\n",
    "        self.y = y\n",
    "\n",
    "    def __str__(self):\n",
    "        return \"({0},{1})\".format(self.x, self.y)\n",
    "\n",
    "    def __add__(self, other):\n",
    "        x = self.x + other.x\n",
    "        y = self.y + other.y\n",
    "        return Point(x, y)\n",
    "\n",
    "\n",
    "p1 = Point(1, 2)\n",
    "p2 = Point(2, 3)\n",
    "\n",
    "print(p1+p2)"
   ]
  },
  {
   "cell_type": "code",
   "execution_count": 1,
   "metadata": {},
   "outputs": [
    {
     "name": "stdout",
     "output_type": "stream",
     "text": [
      "Not for u\n",
      "Not for u\n",
      "The student can take HU coz his number is 25\n"
     ]
    }
   ],
   "source": [
    "class student:\n",
    "    def __init__(self,s_name,s_roll,s_per):\n",
    "        self.s_name=s_name\n",
    "        self.s_roll=s_roll\n",
    "        self.s_per=s_per\n",
    "    def sci(self):\n",
    "        if self.s_per>=60:\n",
    "            return f\"The student can take sci coz his number is {self.s_per}\"\n",
    "        else:\n",
    "            return \"Not for u\"\n",
    "    def com(self):\n",
    "        if self.s_per<=60 and self.s_per>=30:\n",
    "                  return f\"The persion can have commers coz his number is {self.s_per}\"\n",
    "        else:\n",
    "             return \"Not for u\"\n",
    "    def hu(self):\n",
    "        if self.s_per<=25:\n",
    "            return f\"The student can take HU coz his number is {self.s_per}\"\n",
    "        \n",
    "s1=student('Mahafuz',8,70)\n",
    "s2=student('Rahaman',10,45)\n",
    "s3=student('sardar',30,25)\n",
    "print(s3.sci())\n",
    "print(s3.com())\n",
    "print(s3.hu())"
   ]
  },
  {
   "cell_type": "code",
   "execution_count": 27,
   "metadata": {},
   "outputs": [
    {
     "data": {
      "text/plain": [
       "'inst Hunt Python'"
      ]
     },
     "execution_count": 27,
     "metadata": {},
     "output_type": "execute_result"
    }
   ],
   "source": [
    "s='Python Hunt inst'\n",
    "str=\" \".join(s.split()[::-1])\n",
    "str"
   ]
  },
  {
   "cell_type": "code",
   "execution_count": 3,
   "metadata": {},
   "outputs": [
    {
     "name": "stdout",
     "output_type": "stream",
     "text": [
      "Videos Prime Amazone\n"
     ]
    }
   ],
   "source": [
    "s='Amazone Prime Videos'\n",
    "a=s.split()\n",
    "m=len(a)\n",
    "st=[]\n",
    "while a:\n",
    "    \n",
    "    for i in range (len(a)):\n",
    "        if m==i:\n",
    "            m=m-1\n",
    "    st.append(a[i])\n",
    "    a.remove(a[i])\n",
    "    \n",
    "print(\" \".join(st))"
   ]
  },
  {
   "cell_type": "code",
   "execution_count": 53,
   "metadata": {},
   "outputs": [
    {
     "name": "stdout",
     "output_type": "stream",
     "text": [
      "23GF\n",
      "10980\n"
     ]
    }
   ],
   "source": [
    "num = (input())\n",
    "print(int(num,17))"
   ]
  },
  {
   "cell_type": "code",
   "execution_count": 59,
   "metadata": {},
   "outputs": [
    {
     "data": {
      "text/plain": [
       "765"
      ]
     },
     "execution_count": 59,
     "metadata": {},
     "output_type": "execute_result"
    }
   ],
   "source": [
    "x = abs(+765)\n",
    "x"
   ]
  },
  {
   "cell_type": "code",
   "execution_count": 60,
   "metadata": {},
   "outputs": [
    {
     "data": {
      "text/plain": [
       "5.830951894845301"
      ]
     },
     "execution_count": 60,
     "metadata": {},
     "output_type": "execute_result"
    }
   ],
   "source": [
    "x = abs(3+5j)\n",
    "x"
   ]
  },
  {
   "cell_type": "code",
   "execution_count": 84,
   "metadata": {},
   "outputs": [
    {
     "name": "stdout",
     "output_type": "stream",
     "text": [
      "7\n",
      "-40 40\n"
     ]
    }
   ],
   "source": [
    "n = int(input())\n",
    "c = 'R'\n",
    "x,y=0,0\n",
    "for i in range(n):\n",
    "    if c=='R':\n",
    "        x = abs(x) + 10;\n",
    "        y = abs(y);\n",
    "        c ='U';\n",
    "    elif c=='U':\n",
    "        y = y + 20;\n",
    "        c = 'L';\n",
    "    elif c=='L':\n",
    "        x = -(x + 10);\n",
    "        c = 'D';\n",
    "    elif c=='D':\n",
    "        y = -(y);\n",
    "        c = 'R';\n",
    "print(x,y)"
   ]
  },
  {
   "cell_type": "code",
   "execution_count": 76,
   "metadata": {},
   "outputs": [
    {
     "name": "stdout",
     "output_type": "stream",
     "text": [
      "abc\n",
      "abc is not a keyword\n"
     ]
    }
   ],
   "source": [
    "t=['break','case','continue','default','defer','else','for','func','goto','if','map','range','return','struct','type','var']\n",
    "a=input()\n",
    "c=0\n",
    "for i in t:\n",
    "    if a==i:\n",
    "        c=c+1\n",
    "        print(f\"{a} is a keyword\")\n",
    "        break\n",
    "if c==0:\n",
    "    print(f\"{a} is not a keyword\")\n",
    "        "
   ]
  },
  {
   "cell_type": "code",
   "execution_count": 83,
   "metadata": {},
   "outputs": [
    {
     "name": "stdout",
     "output_type": "stream",
     "text": [
      "<class 'tuple'>\n",
      "if\n",
      "if is a keyword\n"
     ]
    }
   ],
   "source": [
    "keyword = (\"break\", \"case\", \"continue\", \"default\", \"defer\", \"else\", \"for\", \n",
    "\"func\", \"goto\", \"if\", \"map\", \"range\", \"return\", \"struct\", \"type\", \"var\")\n",
    "print(type(keyword))\n",
    "input_var = input()\n",
    "if input_var in keyword:\n",
    "    print(input_var+ \" is a keyword\")\n",
    "else:\n",
    "    print(input_var+ \" is not a keyword\")"
   ]
  },
  {
   "cell_type": "code",
   "execution_count": 85,
   "metadata": {},
   "outputs": [
    {
     "name": "stdout",
     "output_type": "stream",
     "text": [
      "7\n",
      "90 50\n"
     ]
    }
   ],
   "source": [
    "n = int(input())\n",
    "c = 'R'\n",
    "dis = 10\n",
    "x,y=0,0\n",
    "for i in range(n):\n",
    "    if c=='R':\n",
    "        x=x+dis\n",
    "        c='U'\n",
    "        dis=dis+10\n",
    "    elif c=='U':\n",
    "        y=y+dis\n",
    "        c='L'\n",
    "        dis=dis+10\n",
    "    elif c=='L':\n",
    "        x=x-dis\n",
    "        c='D'\n",
    "        dis=dis+10\n",
    "    elif c=='D':\n",
    "        y=y-dis\n",
    "        c='A'\n",
    "        dis=dis+10\n",
    "    elif c=='A':\n",
    "        x=x+dis\n",
    "        c='R'\n",
    "        dis=dis+10\n",
    "print(x,y)"
   ]
  },
  {
   "cell_type": "code",
   "execution_count": 86,
   "metadata": {},
   "outputs": [
    {
     "name": "stdout",
     "output_type": "stream",
     "text": [
      "23GF\n",
      "10980\n"
     ]
    }
   ],
   "source": [
    "num=input()\n",
    "print(int(num,17))"
   ]
  },
  {
   "cell_type": "code",
   "execution_count": 15,
   "metadata": {},
   "outputs": [
    {
     "name": "stdout",
     "output_type": "stream",
     "text": [
      "9834698765123\n",
      "1\n"
     ]
    }
   ],
   "source": [
    "s=int(input())\n",
    "a=str(s)\n",
    "b=list(a)\n",
    "m=[]\n",
    "n=[]\n",
    "q=0\n",
    "for i in range (len(b)):\n",
    "    if q==i:\n",
    "        m.append(b[i])\n",
    "        q=i+2\n",
    "    else:\n",
    "        n.append(b[i])\n",
    "o=0\n",
    "for i in m:\n",
    "    o=o+int(i)\n",
    "t=0\n",
    "for i in n:\n",
    "    t=t+int(i)\n",
    "print(abs(t-o))"
   ]
  },
  {
   "cell_type": "code",
   "execution_count": 17,
   "metadata": {},
   "outputs": [
    {
     "name": "stdout",
     "output_type": "stream",
     "text": [
      "Enter the number:9834698765123\n",
      "1\n"
     ]
    }
   ],
   "source": [
    "num = [int(d) for d in str(input(\"Enter the number:\"))]\n",
    "even,odd = 0,0\n",
    "for i in range(0,len(num)):\n",
    "    if i % 2 ==0:\n",
    "        even = even + num[i]\n",
    "    else:\n",
    "        odd = odd + num[i]\n",
    "\n",
    "print(abs(odd-even))\n"
   ]
  },
  {
   "cell_type": "code",
   "execution_count": 9,
   "metadata": {},
   "outputs": [
    {
     "name": "stdout",
     "output_type": "stream",
     "text": [
      "34\n"
     ]
    }
   ],
   "source": [
    "class Dog:\n",
    "    def __init__(s,n,a):\n",
    "        s.n=n\n",
    "        s.a=a\n",
    "    def d_a(s):\n",
    "        return s.a\n",
    "d=Dog('Tim',34)\n",
    "print(d.d_a())"
   ]
  },
  {
   "cell_type": "code",
   "execution_count": 2,
   "metadata": {},
   "outputs": [
    {
     "name": "stdout",
     "output_type": "stream",
     "text": [
      "<__main__.Student object at 0x7fd81004a8e0> is name\n"
     ]
    }
   ],
   "source": [
    "class Student:\n",
    "    def __init__(self,name,age,gr):\n",
    "        self.name=name\n",
    "        self.age=age\n",
    "        self.gr=gr\n",
    "    def get_grade(self):\n",
    "        return self.gr\n",
    "class Course:\n",
    "    def __init__(self,name,max_student):\n",
    "        self.name=name\n",
    "        self.max_student=max_student\n",
    "        self.stu=[]\n",
    "    def add_c(self,student):\n",
    "        if len(self.stu)<self.max_student:\n",
    "            self.stu.append(student)\n",
    "            return True\n",
    "        return False\n",
    "    def s(self):\n",
    "        return self.stu\n",
    "    def get_avg(self):\n",
    "        v=0\n",
    "        for i in self.stu:\n",
    "            v+=Student.get_grade()\n",
    "        return v/len(self.stu)\n",
    "    def __str__(self):\n",
    "        return f\"{self.stu[0]} is name\"\n",
    "s1=Student('Mahafuz',21,90)\n",
    "s2=Student('Santa',23,95)\n",
    "s3=Student('Borma',45,65)\n",
    "s4=Student('Boroabba',70,98)\n",
    "co=Course(\"Science\",3)\n",
    "co.add_c(s1)\n",
    "co.add_c(s2)\n",
    "print(co)\n"
   ]
  },
  {
   "cell_type": "code",
   "execution_count": 3,
   "metadata": {},
   "outputs": [
    {
     "name": "stdout",
     "output_type": "stream",
     "text": [
      "3\n",
      "-20 20\n"
     ]
    }
   ],
   "source": [
    "n = int(input())\n",
    "c = 'R'\n",
    "x,y=0,0\n",
    "for i in range(n):\n",
    "    if c=='R':\n",
    "        x = abs(x) + 10;\n",
    "        y = abs(y);\n",
    "        c ='U';\n",
    "    elif c=='U':\n",
    "        y = y + 20;\n",
    "        c = 'L';\n",
    "    elif c=='L':\n",
    "        x = -(x + 10);\n",
    "        c = 'D';\n",
    "    elif c=='D':\n",
    "        y = -(y);\n",
    "        c = 'R';\n",
    "print(x,y)"
   ]
  },
  {
   "cell_type": "code",
   "execution_count": null,
   "metadata": {},
   "outputs": [],
   "source": []
  }
 ],
 "metadata": {
  "kernelspec": {
   "display_name": "Python 3",
   "language": "python",
   "name": "python3"
  },
  "language_info": {
   "codemirror_mode": {
    "name": "ipython",
    "version": 3
   },
   "file_extension": ".py",
   "mimetype": "text/x-python",
   "name": "python",
   "nbconvert_exporter": "python",
   "pygments_lexer": "ipython3",
   "version": "3.8.8"
  }
 },
 "nbformat": 4,
 "nbformat_minor": 4
}
