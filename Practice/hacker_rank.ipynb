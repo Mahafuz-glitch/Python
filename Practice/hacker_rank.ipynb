{
 "cells": [
  {
   "cell_type": "code",
   "execution_count": null,
   "metadata": {},
   "outputs": [],
   "source": [
    "n=17\n",
    "for i in range(1,n+1):\n",
    "    print(i, oct(i)[2:], hex(i)[2:], bin(i)[2:])"
   ]
  },
  {
   "cell_type": "code",
   "execution_count": null,
   "metadata": {},
   "outputs": [],
   "source": [
    "print(oct(6)[2:])"
   ]
  },
  {
   "cell_type": "code",
   "execution_count": null,
   "metadata": {},
   "outputs": [],
   "source": [
    "m='mana'\n",
    "print(m[1:2])"
   ]
  },
  {
   "cell_type": "code",
   "execution_count": null,
   "metadata": {},
   "outputs": [],
   "source": [
    "N = int(input())\n",
    "l = len(bin(N)) - 2\n",
    "\n",
    "for i in range(1, N + 1):\n",
    "    f = \"\"\n",
    "    for c in \"doXb\":\n",
    "        if f:\n",
    "            f += \" \"\n",
    "        f += \"{:>\" + str(l) + c + \"}\"\n",
    "    print(f.format(i, i, i, i))"
   ]
  },
  {
   "cell_type": "code",
   "execution_count": null,
   "metadata": {},
   "outputs": [],
   "source": [
    "N = int(input())\n",
    "l = len(bin(N)) - 2\n",
    "l\n",
    "for i in range(1, N + 1):\n",
    "    f = \"\"\n",
    "    for c in \"doXb\":\n",
    "        c"
   ]
  },
  {
   "cell_type": "code",
   "execution_count": null,
   "metadata": {},
   "outputs": [],
   "source": [
    "bin(12)"
   ]
  },
  {
   "cell_type": "code",
   "execution_count": null,
   "metadata": {},
   "outputs": [],
   "source": [
    "i=int(input())\n",
    "f=(i*9/5)+32\n",
    "f"
   ]
  },
  {
   "cell_type": "code",
   "execution_count": null,
   "metadata": {},
   "outputs": [],
   "source": [
    "#Capital your name\n",
    "s=input()\n",
    "a=[]\n",
    "for i in s:\n",
    "    a.append(i)\n",
    "for i in range (len(a)):\n",
    "    if a[i]==\" \":\n",
    "        a[i+1]=a[i+1].upper()\n",
    "a[0]=a[0].upper()\n",
    "a=\"\".join(a)\n",
    "a"
   ]
  },
  {
   "cell_type": "code",
   "execution_count": null,
   "metadata": {},
   "outputs": [],
   "source": [
    "#HAcker_rank minions game\n",
    "s='ANANAS'\n",
    "s=s.lower()\n",
    "q=[]\n",
    "kev=[]\n",
    "stu=[]\n",
    "samp=['a','e','i','o','u']\n",
    "for i in s:\n",
    "    q.append(i)\n",
    "l1=[]\n",
    "while q:\n",
    "    for i in range (len(q)):\n",
    "        l1.append(\"\".join(q[0:i+1]))\n",
    "    q.remove(q[0])\n",
    "for i in l1:\n",
    "    if i[0] in samp:\n",
    "        kev.append(i)\n",
    "    else:\n",
    "        stu.append(i)\n",
    "\n",
    "\n",
    "kevin=len(kev)\n",
    "print(kev)\n",
    "print(kevin)\n",
    "stuied=len(stu)\n",
    "print(stu)\n",
    "print(stuied)\n",
    "if stuied>kevin:\n",
    "    print(f\"stuied {stuied}\")\n",
    "elif kevin>stuied:\n",
    "    print(f\"kevin {kevin}\")\n",
    "else:\n",
    "    print(\"Draw\")"
   ]
  },
  {
   "cell_type": "code",
   "execution_count": null,
   "metadata": {},
   "outputs": [],
   "source": [
    "def minion_game(string):\n",
    "    s=string.lower()\n",
    "    q=[]\n",
    "    kev=[]\n",
    "    stu=[]\n",
    "    samp=['a','e','i','o','u']\n",
    "    for i in s:\n",
    "        q.append(i)\n",
    "    l1=[]\n",
    "    while q:\n",
    "        for i in range (len(q)):\n",
    "            l1.append(\"\".join(q[0:i+1]))\n",
    "        q.remove(q[0])\n",
    "    for i in l1:\n",
    "        if i[0] in samp:\n",
    "            kev.append(i)\n",
    "        else:\n",
    "            stu.append(i)    \n",
    "    kevin=len(kev)\n",
    "    stuied=len(stu)\n",
    "    if stuied>kevin:\n",
    "        print(f\"Stuart {stuied}\")\n",
    "    elif kevin>stuied:\n",
    "        print(f\"kevin {kevin}\")\n",
    "    else:\n",
    "        print (\"Draw\")\n",
    "s=input()\n",
    "minion_game(s)"
   ]
  },
  {
   "cell_type": "code",
   "execution_count": null,
   "metadata": {},
   "outputs": [],
   "source": [
    "a=(5,6,7)\n",
    "b=(3,6,10)\n",
    "a,b=list(a),list(b)\n",
    "bob=0\n",
    "alice=0\n",
    "for i in a:\n",
    "    for j in b:\n",
    "        if i>j:\n",
    "            alice+=1\n",
    "            b.remove(j)\n",
    "            break \n",
    "        elif i==j:\n",
    "            b.remove(j)\n",
    "            break \n",
    "        elif i<j:\n",
    "            bob+=1\n",
    "            b.remove(j)\n",
    "            break\n",
    "print(f\"{alice} {bob}\")"
   ]
  },
  {
   "cell_type": "code",
   "execution_count": null,
   "metadata": {},
   "outputs": [],
   "source": [
    "n=3\n",
    "l=11, 2, 4,   4 ,5 ,6,   10 ,8 ,-12\n",
    "r=0\n",
    "lf=0\n",
    "\n",
    "for i in l:\n",
    "    if i==0 or i%3==0:\n",
    "        \n",
    "            \n",
    "    "
   ]
  },
  {
   "cell_type": "code",
   "execution_count": null,
   "metadata": {},
   "outputs": [],
   "source": [
    "def diagonalDifference(arr):\n",
    "    # Write your code here, O(n)\n",
    "    #l, r = left sum, right sum\n",
    "    l, r = 0, 0\n",
    "    # single pass, grab both values\n",
    "    for i in range(len(arr)):\n",
    "        l += arr[i][i]\n",
    "        r += arr[i][-i-1]\n",
    "    return abs(l-r)\n"
   ]
  },
  {
   "cell_type": "code",
   "execution_count": null,
   "metadata": {},
   "outputs": [],
   "source": [
    "import numpy as np\n",
    "arr=[11, 2, 4,   4 ,5 ,6,10 ,8 ,-12]\n",
    "arr=np.array(arr)\n",
    "arr"
   ]
  },
  {
   "cell_type": "code",
   "execution_count": null,
   "metadata": {},
   "outputs": [],
   "source": [
    "from numpy import *\n",
    "arr=[[11, 2, 4],[4 ,5 ,6],[10 ,8 ,-12]]\n",
    "arr[1][2]"
   ]
  },
  {
   "cell_type": "code",
   "execution_count": null,
   "metadata": {},
   "outputs": [],
   "source": [
    "arr = [-4, 3, -9, 0, 4, 1]\n",
    "len(arr)"
   ]
  },
  {
   "cell_type": "code",
   "execution_count": null,
   "metadata": {},
   "outputs": [],
   "source": [
    "for i in range(n):\n",
    "    for j in range(i+1):\n",
    "        print(\" \",end=\"*\")\n",
    "    print('\\n')"
   ]
  },
  {
   "cell_type": "code",
   "execution_count": null,
   "metadata": {},
   "outputs": [],
   "source": [
    "n=6\n",
    "k=2*n-1\n",
    "for i in range(n):\n",
    "    for _ in range(k):\n",
    "        print(end=\" \")\n",
    "    k=k-2\n",
    "    for _ in range (i+1):\n",
    "        print(\"# \",end=\"\")\n",
    "    print(\"\\n\")\n"
   ]
  },
  {
   "cell_type": "code",
   "execution_count": null,
   "metadata": {},
   "outputs": [],
   "source": [
    "l=[1,2,3,4,5]\n",
    "u=[]\n",
    "n=[]\n",
    "for i in l:\n",
    "    if i!=min(l):\n",
    "        u.append(i)\n",
    "    elif i==min(l) and len(u)==0:\n",
    "        u=l\n",
    "for i in l:\n",
    "    if i!=max(l):\n",
    "        n.append(i)\n",
    "    elif i==max(l) and len(n)==0:\n",
    "        n=l\n",
    "if len(l)==len(u):\n",
    "    u.remove(u[0])\n",
    "if len(l)==len(n):\n",
    "    n.remove(n[0])\n",
    "print(u)\n",
    "print(n)   \n",
    "print(f\"{sum(n)} {sum(u)}\")"
   ]
  },
  {
   "cell_type": "code",
   "execution_count": null,
   "metadata": {},
   "outputs": [],
   "source": [
    "l=[5,5,5,5,5]\n",
    "u=[]\n",
    "u=l\n",
    "u"
   ]
  },
  {
   "cell_type": "code",
   "execution_count": null,
   "metadata": {},
   "outputs": [],
   "source": [
    " c = 0\n",
    "    temp = ar[0]\n",
    "    for i in range(1,len(ar)):\n",
    "        if ar[i] > temp:\n",
    "            temp = ar[i]\n",
    "    for i in range(0,len(ar)):\n",
    "        if ar[i] == temp:\n",
    "            c = c + 1"
   ]
  },
  {
   "cell_type": "code",
   "execution_count": 19,
   "metadata": {},
   "outputs": [
    {
     "data": {
      "text/plain": [
       "5"
      ]
     },
     "execution_count": 19,
     "metadata": {},
     "output_type": "execute_result"
    }
   ],
   "source": [
    "time='07:05:45PM'\n",
    "h, m, s = map(int, time[:-2].split(':'))\n",
    "if time[-2:].upper()==\"PM\":\n",
    "    h=h+12\n",
    "m\n",
    "#print(f\"{h}:{m}:{s}\")\n"
   ]
  },
  {
   "cell_type": "code",
   "execution_count": null,
   "metadata": {},
   "outputs": [],
   "source": []
  }
 ],
 "metadata": {
  "kernelspec": {
   "display_name": "Python 3",
   "language": "python",
   "name": "python3"
  },
  "language_info": {
   "codemirror_mode": {
    "name": "ipython",
    "version": 3
   },
   "file_extension": ".py",
   "mimetype": "text/x-python",
   "name": "python",
   "nbconvert_exporter": "python",
   "pygments_lexer": "ipython3",
   "version": "3.8.8"
  }
 },
 "nbformat": 4,
 "nbformat_minor": 4
}
