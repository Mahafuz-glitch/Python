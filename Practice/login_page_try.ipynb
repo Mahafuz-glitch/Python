{
 "cells": [
  {
   "cell_type": "code",
   "execution_count": 36,
   "metadata": {},
   "outputs": [],
   "source": [
    "import sqlite3\n",
    "\n",
    "conn=sqlite3.connect(\"admin.db\")\n",
    "c=conn.cursor()\n",
    "c.execute(\"\"\"CREATE TABLE admin(\n",
    "            User_Id txt,\n",
    "            Password txt)\n",
    "          \"\"\")\n",
    "c.execute(\"INSERT INTO admin VALUES('mahafuz@1234','mahafuz1234')\")\n",
    "conn.commit()\n",
    "\n"
   ]
  },
  {
   "cell_type": "code",
   "execution_count": 37,
   "metadata": {},
   "outputs": [
    {
     "name": "stdout",
     "output_type": "stream",
     "text": [
      "mahafuz1234\n"
     ]
    }
   ],
   "source": [
    "c.execute(\"SELECT * FROM admin\")\n",
    "for i in c.fetchall():\n",
    "    print(i[1])"
   ]
  },
  {
   "cell_type": "code",
   "execution_count": 8,
   "metadata": {},
   "outputs": [],
   "source": [
    "c.execute(\"drop table admin\")\n",
    "conn.commit()"
   ]
  },
  {
   "cell_type": "code",
   "execution_count": 38,
   "metadata": {},
   "outputs": [
    {
     "name": "stdout",
     "output_type": "stream",
     "text": [
      "Enter Your UserId : mahafuz@1234\n",
      "Enter Your password : mahafuz1234\n",
      "Correct Password\n"
     ]
    }
   ],
   "source": [
    "def admin_check(user_n,user_p):\n",
    "    flag=0\n",
    "    c.execute(\"SELECT * FROM admin\")\n",
    "    items=c.fetchall()\n",
    "    for i in items:\n",
    "        if i[0]==user_n:\n",
    "            flag+=1\n",
    "    for i in items:\n",
    "        if i[1]==user_p:\n",
    "            flag+=1\n",
    "    if flag==2:\n",
    "        return True\n",
    "    else:\n",
    "        return False\n",
    "    \n",
    "\n",
    "user_n=input(\"Enter Your UserId : \")\n",
    "user_p=input(\"Enter Your password : \")   \n",
    "if admin_check(user_n,user_p)==True:\n",
    "    print(\"Correct Password\")\n",
    "else:\n",
    "    print(\"Try again\")\n",
    "     \n",
    "\n",
    "\n"
   ]
  },
  {
   "cell_type": "code",
   "execution_count": 10,
   "metadata": {},
   "outputs": [],
   "source": [
    "import sqlite3\n",
    "\n",
    "conn=sqlite3.connect(\"admin.db\")\n",
    "c=conn.cursor()\n",
    "c.execute(\"\"\"CREATE TABLE m_admin(\n",
    "            User_Id txt,\n",
    "            Password txt)\n",
    "          \"\"\")\n",
    "c.execute(\"INSERT INTO m_admin VALUES('m@1','m1')\")\n",
    "c.execute(\"INSERT INTO m_admin VALUES('m@2','m2')\")\n",
    "conn.commit()\n",
    "\n",
    "\n"
   ]
  },
  {
   "cell_type": "code",
   "execution_count": 17,
   "metadata": {},
   "outputs": [
    {
     "name": "stdout",
     "output_type": "stream",
     "text": [
      "Hi\n"
     ]
    }
   ],
   "source": [
    "c.execute(\"SELECT * FROM m_admin\")\n",
    "for i in c.fetchall():\n",
    "    if i[0]=='m@2':\n",
    "        print('Hi')\n",
    "  "
   ]
  },
  {
   "cell_type": "code",
   "execution_count": null,
   "metadata": {},
   "outputs": [],
   "source": []
  }
 ],
 "metadata": {
  "kernelspec": {
   "display_name": "Python 3",
   "language": "python",
   "name": "python3"
  },
  "language_info": {
   "codemirror_mode": {
    "name": "ipython",
    "version": 3
   },
   "file_extension": ".py",
   "mimetype": "text/x-python",
   "name": "python",
   "nbconvert_exporter": "python",
   "pygments_lexer": "ipython3",
   "version": "3.8.5"
  }
 },
 "nbformat": 4,
 "nbformat_minor": 4
}
