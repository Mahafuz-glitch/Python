{
 "cells": [
  {
   "cell_type": "code",
   "execution_count": 2,
   "metadata": {},
   "outputs": [
    {
     "name": "stdout",
     "output_type": "stream",
     "text": [
      "Enter the total amount: 500\n",
      "Enter the total number of people: 6\n",
      "Enter Name: q\n",
      "Enter the amount you paied: 83\n",
      "Enter Name: w\n",
      "Enter the amount you paied: 83\n",
      "Enter Name: e\n",
      "Enter the amount you paied: 83\n",
      "Enter Name: r\n",
      "Enter the amount you paied: 83\n",
      "Enter Name: s\n",
      "Enter the amount you paied: 83\n",
      "Enter Name: t\n",
      "Enter the amount you paied: 83\n",
      "q wont have to pay anything\n",
      "The persion who is feeling generous today have to pay 2\n",
      "w wont have to pay anything\n",
      "The persion who is feeling generous today have to pay 2\n",
      "e wont have to pay anything\n",
      "The persion who is feeling generous today have to pay 2\n",
      "r wont have to pay anything\n",
      "The persion who is feeling generous today have to pay 2\n",
      "s wont have to pay anything\n",
      "The persion who is feeling generous today have to pay 2\n",
      "t wont have to pay anything\n",
      "The persion who is feeling generous today have to pay 2\n"
     ]
    }
   ],
   "source": [
    "total_cost=int(input(\"Enter the total amount: \"))\n",
    "people=int(input(\"Enter the total number of people: \"))\n",
    "l_n=[]\n",
    "l_p=[]\n",
    "for _ in range (people):\n",
    "    l_n.append(input(\"Enter Name: \"))\n",
    "    l_p.append(int(input(\"Enter the amount you paied: \")))\n",
    "#print(l_n)\n",
    "#print(l_p)\n",
    "per_c=round(total_cost/people)\n",
    "if sum(l_p)==total_cost or 0<total_cost-sum(l_p)<10:\n",
    "    \n",
    "    dp={}\n",
    "    \n",
    "    s=0\n",
    "    \n",
    "    for i in l_n:\n",
    "    \n",
    "        dp[i]=l_p[s]\n",
    "    \n",
    "        s+=1\n",
    "        \n",
    "    for k,v in dp.items():\n",
    "        \n",
    "        if dp[k]==per_c:\n",
    "            \n",
    "            print(f\"{k} wont have to pay anything\")\n",
    "            \n",
    "        elif dp[k]<per_c:\n",
    "            \n",
    "                  print(f\"{k} have to pay {per_c-dp[k]} Rs\")\n",
    "                \n",
    "        elif dp[k]>per_c:\n",
    "                        print(f\"{k} will have {dp[k]-per_c} Rs back\")\n",
    "    if per_c*people!= total_cost:\n",
    "            \n",
    "        print(f\"The persion who is feeling generous today have to pay {total_cost-(per_c*people)}\")\n",
    "            \n",
    "elif sum(l_p)<total_cost:\n",
    "    \n",
    "    print(f\"You have to add {total_cost-sum(l_p)} Rs more\")\n",
    "    \n",
    "elif sum(l_p)>total_cost:\n",
    "    \n",
    "    print(f\"You add {sum(l_p)-total_cos} Rs more.\")"
   ]
  },
  {
   "cell_type": "code",
   "execution_count": null,
   "metadata": {},
   "outputs": [],
   "source": [
    "#How to add 2 list eliment in a dictionary\n",
    "dp={}\n",
    "s=0\n",
    "for i in l_n:\n",
    "    \n",
    "    dp[i]=l_p[s]\n",
    "    \n",
    "    s+=1\n",
    "    \n",
    "\n",
    "        "
   ]
  }
 ],
 "metadata": {
  "kernelspec": {
   "display_name": "Python 3",
   "language": "python",
   "name": "python3"
  },
  "language_info": {
   "codemirror_mode": {
    "name": "ipython",
    "version": 3
   },
   "file_extension": ".py",
   "mimetype": "text/x-python",
   "name": "python",
   "nbconvert_exporter": "python",
   "pygments_lexer": "ipython3",
   "version": "3.8.5"
  }
 },
 "nbformat": 4,
 "nbformat_minor": 4
}
