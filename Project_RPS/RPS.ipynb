{
 "cells": [
  {
   "cell_type": "code",
   "execution_count": 2,
   "metadata": {},
   "outputs": [
    {
     "name": "stdout",
     "output_type": "stream",
     "text": [
      "          WELCOME TO THE ROCK, PAPER, SCISSER GAME\n",
      "To give your input as \"Rock\" Type \"r\"\n",
      "To give your input as \"Paper\" Type \"p\"\n",
      "To give your input as \"Scissors\" Type \"s\"\n",
      "Let'S >>>>>>>>>><<<<<<<<<< START\n",
      "Best of :5\n",
      "            Your Turn: f\n",
      "invalid input chose among \"\"r\": for rock\", \"\"s\": for scissor\", \"\"p\": for paper\"\n",
      "    Your Score 0 || computer Score 0|| and Tie 0\n",
      "             One more??\n",
      "    Type \"y\" to continue playing or press Enter:\n",
      "                THE END\n"
     ]
    }
   ],
   "source": [
    "import random\n",
    "print(\"          WELCOME TO THE ROCK, PAPER, SCISSER GAME\")\n",
    "print('''To give your input as \"Rock\" Type \"r\"''')\n",
    "print('''To give your input as \"Paper\" Type \"p\"''')\n",
    "print('''To give your input as \"Scissors\" Type \"s\"''')\n",
    "user=0\n",
    "com=0\n",
    "tie=0\n",
    "l_1=['r','p','s']  \n",
    "v=1\n",
    "print(\"Let'S >>>>>>>>>><<<<<<<<<< START\")\n",
    "\n",
    "while v!=0 :\n",
    "  \n",
    "    \n",
    "    try:\n",
    "        \n",
    "        roun =int(input(\"Best of :\"))\n",
    "        for i in range (roun):\n",
    "            \n",
    "                u_i=input(\"            Your Turn: \")\n",
    "                if u_i in l_1:\n",
    "                    \n",
    "                    s=random.randint(1,3)\n",
    "    \n",
    "                    if s==1:\n",
    "                        a=\"r\"\n",
    "                    elif s==2:\n",
    "                        a=\"p\"\n",
    "                    elif s==3:\n",
    "                        a=\"s\"\n",
    "                    print(\"            Computer :\",a)\n",
    "                    print(\"            -------------\")\n",
    "                    if a==u_i:\n",
    "                        tie+=1\n",
    "                    elif a==\"r\" and u_i==\"s\":\n",
    "                        com+=1\n",
    "                    elif a==\"r\" and u_i==\"p\":\n",
    "                        user+=1\n",
    "                    elif a==\"p\" and u_i==\"r\":\n",
    "                        com+=1\n",
    "                    elif a==\"p\" and u_i==\"s\":\n",
    "                        user+=1\n",
    "                    elif a==\"p\" and u_i==\"r\":\n",
    "                        com+=1\n",
    "                    elif a==\"s\" and u_i==\"r\":\n",
    "                        user+=1\n",
    "                else:\n",
    "                    print('''invalid input chose among \"\"r\": for rock\", \"\"s\": for scissor\", \"\"p\": for paper\"''')\n",
    "                    break\n",
    "\n",
    "        print(f\"    Your Score {user} || computer Score {com}|| and Tie {tie}\")\n",
    "        if user>com:\n",
    "            print(\"                   You WIN\")\n",
    "        elif user<com:\n",
    "            print(\"             Better Luck next time\")\n",
    "        elif user==com:\n",
    "            print(\"             One more??\")\n",
    "        \n",
    "        v=v-1\n",
    "        if v==0 and input('''    Type \"y\" to continue playing or press Enter:''')==\"y\":\n",
    "            v=v+1\n",
    "        else:\n",
    "            print(\"                THE END\")\n",
    "    except Exception as e:\n",
    "        print(e)"
   ]
  },
  {
   "cell_type": "markdown",
   "metadata": {},
   "source": [
    "# Toss"
   ]
  },
  {
   "cell_type": "code",
   "execution_count": null,
   "metadata": {},
   "outputs": [],
   "source": [
    "import random\n",
    "if random.randint(1,2)==1:\n",
    "    print(\"Heads\")\n",
    "else:\n",
    "    print(\"Tail\")\n",
    "    "
   ]
  },
  {
   "cell_type": "code",
   "execution_count": null,
   "metadata": {},
   "outputs": [],
   "source": []
  }
 ],
 "metadata": {
  "kernelspec": {
   "display_name": "Python 3",
   "language": "python",
   "name": "python3"
  },
  "language_info": {
   "codemirror_mode": {
    "name": "ipython",
    "version": 3
   },
   "file_extension": ".py",
   "mimetype": "text/x-python",
   "name": "python",
   "nbconvert_exporter": "python",
   "pygments_lexer": "ipython3",
   "version": "3.8.5"
  }
 },
 "nbformat": 4,
 "nbformat_minor": 4
}
