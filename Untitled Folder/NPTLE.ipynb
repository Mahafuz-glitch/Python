{
 "cells": [
  {
   "cell_type": "code",
   "execution_count": 1,
   "metadata": {},
   "outputs": [
    {
     "name": "stdout",
     "output_type": "stream",
     "text": [
      "5\n",
      "9\n",
      "4\n",
      "6\n",
      "8\n",
      "2\n",
      "2 4 6 8 9\n"
     ]
    }
   ],
   "source": [
    "\n",
    "from random import randint\n",
    "n = int(input())\n",
    "arr = []\n",
    "for i in range(n):\n",
    "    x = int(input())\n",
    "    arr.append(x)\n",
    "\n",
    "sorted = True\n",
    "\n",
    "while(sorted):\n",
    "    j = randint(0,n-1)\n",
    "    i = randint(0,n-1)\n",
    "    arr[i],arr[j] = arr[j],arr[i]\n",
    "    for k in range(0,n-1):\n",
    "        if (arr[k] > arr[k+1]):\n",
    "            sorted = False\n",
    "    \n",
    "    if(sorted):\n",
    "        break\n",
    "    else:\n",
    "        sorted = True\n",
    "\n",
    "for i in range(n):\n",
    "    if(i==n-1):\n",
    "        print(arr[i])\n",
    "    else:\n",
    "        print(arr[i],end=\" \")"
   ]
  },
  {
   "cell_type": "code",
   "execution_count": 2,
   "metadata": {},
   "outputs": [
    {
     "name": "stdout",
     "output_type": "stream",
     "text": [
      "4\n",
      "23\n",
      "5\n",
      "7\n",
      "54\n"
     ]
    },
    {
     "data": {
      "text/plain": [
       "[23, 5, 7, 54]"
      ]
     },
     "execution_count": 2,
     "metadata": {},
     "output_type": "execute_result"
    }
   ],
   "source": [
    "from random import randint\n",
    "n = int(input())\n",
    "arr = []\n",
    "for i in range(n):\n",
    "    x = int(input())\n",
    "    arr.append(x)\n",
    "\n",
    "sorted = True\n",
    "arr"
   ]
  },
  {
   "cell_type": "code",
   "execution_count": 3,
   "metadata": {},
   "outputs": [
    {
     "name": "stdout",
     "output_type": "stream",
     "text": [
      "100 50 50\n",
      "Walk\n"
     ]
    }
   ],
   "source": [
    "import math\n",
    "N,v1,v2=map(int, input().split())\n",
    "cab=2*N/v2\n",
    "walk=(math.sqrt(2*N))/v1\n",
    "if cab>walk:\n",
    "    print('Walk')\n",
    "if walk>cab:\n",
    "    print('cab')"
   ]
  },
  {
   "cell_type": "code",
   "execution_count": 13,
   "metadata": {},
   "outputs": [
    {
     "name": "stdout",
     "output_type": "stream",
     "text": [
      "2 10 14\n",
      "Walk"
     ]
    }
   ],
   "source": [
    "from math import*\n",
    "n,v1,v2=input().split(\" \")\n",
    "walk=sqrt(2)*float(n)\n",
    "cab=float(n)+float(n)\n",
    "if (walk/float(v1))>(cab/float(v2)):\n",
    "  print(\"Cab\",end=\"\")\n",
    "else:\n",
    "  print(\"Walk\",end=\"\")"
   ]
  },
  {
   "cell_type": "code",
   "execution_count": 6,
   "metadata": {},
   "outputs": [
    {
     "name": "stdout",
     "output_type": "stream",
     "text": [
      "1 3 2 4 5\n",
      "3"
     ]
    }
   ],
   "source": [
    "import sys\n",
    "a=input().split(\" \")\n",
    "for i in range(len(a)):\n",
    "  a[i]=int(a[i])\n",
    "  \n",
    "def func(a):\n",
    "  flag=0\n",
    "  min=sys.maxsize\n",
    "  for i in range(len(a)):\n",
    "    for j in range(i,len(a)):\n",
    "      if(a[i]>a[j]):\n",
    "        if a[i]<min:\n",
    "          min=a[i]\n",
    "        flag=1\n",
    "        break\n",
    "        \n",
    "        \n",
    "  if flag==0:\n",
    "    return(0)\n",
    "  a.remove(min)\n",
    "  a.append(min)\n",
    "  return(1+func(a))\n",
    "\n",
    "count=func(a)\n",
    "print(count,end=\"\")"
   ]
  },
  {
   "cell_type": "code",
   "execution_count": 8,
   "metadata": {},
   "outputs": [
    {
     "data": {
      "text/plain": [
       "30"
      ]
     },
     "execution_count": 8,
     "metadata": {},
     "output_type": "execute_result"
    }
   ],
   "source": [
    "l=[39 ,45 ,7 ,24 ,30 ,32]\n",
    "sorted(l)[2]"
   ]
  },
  {
   "cell_type": "code",
   "execution_count": null,
   "metadata": {},
   "outputs": [],
   "source": [
    "n=int(input())\n",
    "l=input().split(\" \")\n",
    "k=int(input())-1\n",
    "search=int(l[k])\n",
    "for i in range(n):\n",
    "  l[i]=int(l[i])\n",
    "  \n",
    "l.sort()\n",
    "\n",
    "for x in range(n):\n",
    "  if l[x]==search:\n",
    "    print(x+1,end=\"\")"
   ]
  },
  {
   "cell_type": "code",
   "execution_count": 10,
   "metadata": {},
   "outputs": [
    {
     "name": "stdout",
     "output_type": "stream",
     "text": [
      "2\n",
      "32\n",
      "45\n",
      "1\n"
     ]
    },
    {
     "data": {
      "text/plain": [
       "int"
      ]
     },
     "execution_count": 10,
     "metadata": {},
     "output_type": "execute_result"
    }
   ],
   "source": [
    "n=int(input())\n",
    "l=[]\n",
    "for i in range (n):\n",
    "    l.append(int(input()))\n",
    "k=int(input())-1\n",
    "search=l[k]\n"
   ]
  },
  {
   "cell_type": "code",
   "execution_count": 6,
   "metadata": {},
   "outputs": [
    {
     "name": "stdout",
     "output_type": "stream",
     "text": [
      "39 45 7 24 30 32\n"
     ]
    },
    {
     "data": {
      "text/plain": [
       "str"
      ]
     },
     "execution_count": 6,
     "metadata": {},
     "output_type": "execute_result"
    }
   ],
   "source": [
    "l=input().split()\n",
    "type(l[0])"
   ]
  },
  {
   "cell_type": "code",
   "execution_count": 15,
   "metadata": {},
   "outputs": [
    {
     "name": "stdout",
     "output_type": "stream",
     "text": [
      "6\n"
     ]
    },
    {
     "data": {
      "text/plain": [
       "{1: 1, 2: 4, 3: 9, 4: 16, 5: 25, 6: 36}"
      ]
     },
     "execution_count": 15,
     "metadata": {},
     "output_type": "execute_result"
    }
   ],
   "source": [
    "n=int(input())\n",
    "d={x:x*x for x in range(1,(n+1))}\n",
    "d"
   ]
  },
  {
   "cell_type": "code",
   "execution_count": 16,
   "metadata": {},
   "outputs": [
    {
     "name": "stdout",
     "output_type": "stream",
     "text": [
      "5\n"
     ]
    },
    {
     "data": {
      "text/plain": [
       "{1: 1, 2: 4, 3: 9, 4: 16, 5: 25, 6: 36}"
      ]
     },
     "execution_count": 16,
     "metadata": {},
     "output_type": "execute_result"
    }
   ],
   "source": [
    "def d2(*arg):\n",
    "    d={x:x*x for x in range(1,(n+1))}\n",
    "    return d\n",
    "d2(int(input()))"
   ]
  },
  {
   "cell_type": "code",
   "execution_count": 2,
   "metadata": {},
   "outputs": [
    {
     "name": "stdout",
     "output_type": "stream",
     "text": [
      "45\n",
      "{6: 1, 10: 1, 14: 1, 22: 1, 26: 1, 34: 1, 38: 1, 46: 1, 58: 1, 62: 1, 74: 1, 82: 1, 86: 1, 94: 1, 106: 1, 118: 1, 122: 1, 134: 1, 142: 1, 146: 1, 158: 1, 166: 1, 178: 1, 194: 1, 15: 1, 21: 1, 33: 1, 39: 1, 51: 1, 57: 1, 69: 1, 87: 1, 93: 1, 111: 1, 123: 1, 129: 1, 141: 1, 159: 1, 177: 1, 183: 1, 35: 1, 55: 1, 65: 1, 85: 1, 95: 1, 115: 1, 145: 1, 155: 1, 185: 1, 77: 1, 91: 1, 119: 1, 133: 1, 161: 1, 143: 1, 187: 1}\n",
      "Yes"
     ]
    }
   ],
   "source": [
    "n=int(input())\n",
    "a=[2,3,5,7,11,13,17,19,23,29,31,37,41,43,47,53,59,61,67,71,73,79,83,89,97]\n",
    "b={}\n",
    "flag=0\n",
    "for i in a:\n",
    "  for j in a:\n",
    "    if i!=j and (i*j)<=194:\n",
    "      b[i*j]=1\n",
    "print(b)      \n",
    "for i in range(1,n+1):\n",
    "  if b.get(n-i)!=None and b.get(i)!=None and b[n-i]==1 and b[i]==1:\n",
    "    print(\"Yes\",end=\"\")\n",
    "    flag+=1\n",
    "    break\n",
    "if flag==0: print(\"No\",end=\"\")"
   ]
  },
  {
   "cell_type": "code",
   "execution_count": 8,
   "metadata": {},
   "outputs": [
    {
     "data": {
      "text/plain": [
       "['1', '8', '9', '6', '0', '3', '2', '4', '7', '5']"
      ]
     },
     "execution_count": 8,
     "metadata": {},
     "output_type": "execute_result"
    }
   ],
   "source": [
    "l='1 8 9 6 0 3 2 1 0 6 2 0 4 1 0 3 7 1 6 5 3 9 9 5 5 0 9 9 1 1 3 8 2 3 4 7 5 2 1 1 5 0 4 3 9 3 0 3 9 4 9 8 2 2 2 2 2'\n",
    "l1=l.split()\n",
    "nl1=[]\n",
    "for i in l1:\n",
    "    if i not in nl1:\n",
    "        nl1.append(i)\n",
    "nl1\n",
    "    "
   ]
  },
  {
   "cell_type": "code",
   "execution_count": 24,
   "metadata": {},
   "outputs": [
    {
     "name": "stdout",
     "output_type": "stream",
     "text": [
      "['', '', '', '', '-', '', '', '', '-', '', '', '', '', '', '']\n",
      "thre for five"
     ]
    }
   ],
   "source": [
    "n='three four five'\n",
    "l=[''] \n",
    "vowel =['a', 'e', 'i', 'o', 'u'] \n",
    "for i in range(1,len(n)):\n",
    "  if n[i-1] in vowel and n[i] in vowel :\n",
    "    l. append('-') \n",
    "  else:\n",
    "    l. append ('') \n",
    "print(l)\n",
    "for i in range (0,len(n)):\n",
    "   if l[i] !='-':\n",
    "      print (n[i] , end=\"\" )"
   ]
  },
  {
   "cell_type": "code",
   "execution_count": 40,
   "metadata": {},
   "outputs": [
    {
     "name": "stdout",
     "output_type": "stream",
     "text": [
      "dsabj dsahjlg dfsabdsas asdasdasdssasa isedsabj"
     ]
    }
   ],
   "source": [
    "def vowle(c):\n",
    "    return (c=='a')or(c=='e')or(c=='i')or(c=='o')or(c=='u')\n",
    "def sen(strg):\n",
    "    print(strg[0],end=\"\")\n",
    "    \n",
    "    for i in range(1,len(strg)):\n",
    "        if vowle(strg[i-1])!=True or vowle(strg[i])!=True:\n",
    "            print(strg[i],end=\"\")\n",
    "strg='dsabj dsahjlg dfsabdsaeas asdasdasdssaasa ioioeseaeaoidsabj'\n",
    "sen(strg)"
   ]
  },
  {
   "cell_type": "code",
   "execution_count": null,
   "metadata": {},
   "outputs": [],
   "source": []
  }
 ],
 "metadata": {
  "kernelspec": {
   "display_name": "Python 3",
   "language": "python",
   "name": "python3"
  },
  "language_info": {
   "codemirror_mode": {
    "name": "ipython",
    "version": 3
   },
   "file_extension": ".py",
   "mimetype": "text/x-python",
   "name": "python",
   "nbconvert_exporter": "python",
   "pygments_lexer": "ipython3",
   "version": "3.8.5"
  }
 },
 "nbformat": 4,
 "nbformat_minor": 4
}
