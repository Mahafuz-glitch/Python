{
 "cells": [
  {
   "cell_type": "code",
   "execution_count": 17,
   "metadata": {},
   "outputs": [],
   "source": [
    "import sqlite3"
   ]
  },
  {
   "cell_type": "code",
   "execution_count": 18,
   "metadata": {},
   "outputs": [],
   "source": [
    "con=sqlite3.connect('coustomer.db')"
   ]
  },
  {
   "cell_type": "code",
   "execution_count": 19,
   "metadata": {},
   "outputs": [],
   "source": [
    "c=con.cursor()"
   ]
  },
  {
   "cell_type": "code",
   "execution_count": 16,
   "metadata": {},
   "outputs": [],
   "source": [
    "c.execute(\"drop table coustomer\")\n",
    "con.commit()"
   ]
  },
  {
   "cell_type": "code",
   "execution_count": 20,
   "metadata": {},
   "outputs": [],
   "source": [
    "c.execute('''CREATE TABLE coustomer(\n",
    "          first_name txt,\n",
    "          last_name txt,\n",
    "          email txt)\n",
    "        ''')\n",
    "#datatype:\n",
    "#1:Null\n",
    "#2Int\n",
    "#3Real\n",
    "#4text\n",
    "#blob\n",
    "con.commit()"
   ]
  },
  {
   "cell_type": "code",
   "execution_count": 21,
   "metadata": {},
   "outputs": [],
   "source": [
    "c.execute(\"INSERT INTO coustomer VALUES('Mahafuz','Rahaman','mahafuz@rahaman')\")\n",
    "con.commit()"
   ]
  },
  {
   "cell_type": "code",
   "execution_count": 22,
   "metadata": {},
   "outputs": [],
   "source": [
    "many_cos=[\n",
    "          ('Santa','banta','santa@banta'),\n",
    "          ('Suryashis','Roy','suryashis@roy'),\n",
    "          ('Anis','Rahaman','anis@rahaman'),\n",
    "          ]\n",
    "c.executemany(\"INSERT INTO coustomer VALUES (?,?,?)\",many_cos)\n",
    "con.commit()"
   ]
  },
  {
   "cell_type": "code",
   "execution_count": 23,
   "metadata": {},
   "outputs": [
    {
     "name": "stdout",
     "output_type": "stream",
     "text": [
      "[('Mahafuz', 'Rahaman', 'mahafuz@rahaman'), ('Santa', 'banta', 'santa@banta'), ('Suryashis', 'Roy', 'suryashis@roy'), ('Anis', 'Rahaman', 'anis@rahaman')]\n"
     ]
    }
   ],
   "source": [
    "c.execute(\"SELECT * FROM coustomer\")\n",
    "print(c.fetchall())"
   ]
  },
  {
   "cell_type": "code",
   "execution_count": 24,
   "metadata": {},
   "outputs": [
    {
     "name": "stdout",
     "output_type": "stream",
     "text": [
      "('Mahafuz', 'Rahaman', 'mahafuz@rahaman')\n",
      "('Santa', 'banta', 'santa@banta')\n",
      "('Suryashis', 'Roy', 'suryashis@roy')\n",
      "('Anis', 'Rahaman', 'anis@rahaman')\n"
     ]
    }
   ],
   "source": [
    "c.execute(\"SELECT * FROM coustomer\")\n",
    "items=c.fetchall()\n",
    "for item in items:\n",
    "    print(item)"
   ]
  },
  {
   "cell_type": "code",
   "execution_count": 25,
   "metadata": {},
   "outputs": [
    {
     "name": "stdout",
     "output_type": "stream",
     "text": [
      "Firstname\tLastname\tEmail\n",
      "Mahafuz\t\tRahaman\t\tmahafuz@rahaman\n",
      "Santa\t\tbanta\t\tsanta@banta\n",
      "Suryashis\t\tRoy\t\tsuryashis@roy\n",
      "Anis\t\tRahaman\t\tanis@rahaman\n"
     ]
    }
   ],
   "source": [
    "c.execute(\"SELECT * FROM coustomer\")\n",
    "items=c.fetchall()\n",
    "print(\"Firstname\\t\"+\"Lastname\\t\"+\"Email\")\n",
    "for item in items:\n",
    "    print(item[0]+\"\\t\\t\"+item[1]+\"\\t\\t\"+item[2])"
   ]
  },
  {
   "cell_type": "code",
   "execution_count": 26,
   "metadata": {},
   "outputs": [
    {
     "name": "stdout",
     "output_type": "stream",
     "text": [
      "(1, 'Mahafuz', 'Rahaman', 'mahafuz@rahaman')\n",
      "(2, 'Santa', 'banta', 'santa@banta')\n",
      "(3, 'Suryashis', 'Roy', 'suryashis@roy')\n",
      "(4, 'Anis', 'Rahaman', 'anis@rahaman')\n"
     ]
    }
   ],
   "source": [
    "c.execute(\"SELECT rowid, * FROM coustomer\")\n",
    "items=c.fetchall()\n",
    "for item in items:\n",
    "    print(item)"
   ]
  },
  {
   "cell_type": "code",
   "execution_count": 27,
   "metadata": {},
   "outputs": [
    {
     "name": "stdout",
     "output_type": "stream",
     "text": [
      "('Mahafuz', 'Rahaman', 'mahafuz@rahaman')\n",
      "('Anis', 'Rahaman', 'anis@rahaman')\n"
     ]
    }
   ],
   "source": [
    "c.execute(\"SELECT * FROM coustomer WHERE email LIKE '%rahaman'\")\n",
    "items=c.fetchall()\n",
    "for item in items:\n",
    "    print(item)\n",
    "con.commit()"
   ]
  },
  {
   "cell_type": "code",
   "execution_count": 28,
   "metadata": {},
   "outputs": [
    {
     "name": "stdout",
     "output_type": "stream",
     "text": [
      "('Mahafuz', 'Rahaman', 'mahafuz@rahaman')\n",
      "('Anis', 'Rahaman', 'anis@rahaman')\n"
     ]
    }
   ],
   "source": [
    "c.execute(\"SELECT * FROM coustomer WHERE last_name LIKE'Ra%'\")\n",
    "items=c.fetchall()\n",
    "for item in items:\n",
    "    print(item)\n",
    "con.commit()"
   ]
  },
  {
   "cell_type": "code",
   "execution_count": 29,
   "metadata": {},
   "outputs": [
    {
     "name": "stdout",
     "output_type": "stream",
     "text": [
      "('Mahafuz', 'Rahaman', 'mahafuz@rahaman')\n",
      "('Santanu', 'banta', 'santa@banta')\n",
      "('Suryashis', 'Roy', 'suryashis@roy')\n",
      "('Anis', 'Rahaman', 'anis@rahaman')\n"
     ]
    }
   ],
   "source": [
    "c.execute(\"\"\"UPDATE coustomer SET first_name='Santanu'\n",
    "            WHERE last_name='banta'\n",
    "\"\"\")\n",
    "c.execute(\"SELECT * FROM coustomer\")\n",
    "items=c.fetchall()\n",
    "for item in items:\n",
    "    print(item)\n",
    "con.commit()"
   ]
  },
  {
   "cell_type": "code",
   "execution_count": 30,
   "metadata": {},
   "outputs": [
    {
     "name": "stdout",
     "output_type": "stream",
     "text": [
      "('Mahafuz', 'Rahaman', 'mahafuz@rahaman')\n",
      "('Santanu', 'banta', 'santa@banta')\n",
      "('Suryashis', 'Roy', 'suryashis@roy')\n",
      "('Anisur', 'Rahaman', 'anis@rahaman')\n"
     ]
    }
   ],
   "source": [
    "c.execute(\"\"\"UPDATE coustomer SET first_name='Anisur'\n",
    "            WHERE rowid=4\n",
    "\"\"\")\n",
    "c.execute(\"SELECT * FROM coustomer\")\n",
    "items=c.fetchall()\n",
    "for item in items:\n",
    "    print(item)\n",
    "con.commit()"
   ]
  },
  {
   "cell_type": "code",
   "execution_count": 32,
   "metadata": {},
   "outputs": [
    {
     "name": "stdout",
     "output_type": "stream",
     "text": [
      "('Mahafuz', 'Rahaman', 'mahafuz@rahaman')\n",
      "('Santanu', 'banta', 'santa@banta')\n",
      "('Suryashis', 'Roy', 'suryashis@roy')\n"
     ]
    }
   ],
   "source": [
    "c.execute(\"DELETE FROM coustomer WHERE rowid=4\")\n",
    "c.execute(\"SELECT * FROM coustomer\")\n",
    "for i in c.fetchall():\n",
    "    print(i)\n",
    "con.commit()"
   ]
  },
  {
   "cell_type": "code",
   "execution_count": 35,
   "metadata": {},
   "outputs": [
    {
     "name": "stdout",
     "output_type": "stream",
     "text": [
      "(3, 'Suryashis', 'Roy', 'suryashis@roy')\n",
      "(2, 'Santanu', 'banta', 'santa@banta')\n",
      "(1, 'Mahafuz', 'Rahaman', 'mahafuz@rahaman')\n"
     ]
    }
   ],
   "source": [
    "c.execute (\"SELECT rowid, * FROM coustomer ORDER BY rowid DESC\")\n",
    "for i in c.fetchall():\n",
    "    print(i)\n",
    "#* can use after order by    \n",
    "#ASC\n",
    "#DESC\n",
    "#last_name\n",
    "#last_name DESC"
   ]
  },
  {
   "cell_type": "code",
   "execution_count": 41,
   "metadata": {},
   "outputs": [
    {
     "name": "stdout",
     "output_type": "stream",
     "text": [
      "('Santanu', 'banta', 'santa@banta')\n"
     ]
    }
   ],
   "source": [
    "c.execute(\"SELECT * FROM coustomer WHERE last_name LIKE 'bant%' and rowid=2\")\n",
    "for i in c.fetchall():\n",
    "    print(i)\n",
    "con.commit()"
   ]
  },
  {
   "cell_type": "code",
   "execution_count": 44,
   "metadata": {},
   "outputs": [
    {
     "name": "stdout",
     "output_type": "stream",
     "text": [
      "('Mahafuz', 'Rahaman', 'mahafuz@rahaman')\n",
      "('Santanu', 'banta', 'santa@banta')\n"
     ]
    }
   ],
   "source": [
    "c.execute(\"SELECT * FROM coustomer LIMIT 2\")\n",
    "for i in c.fetchall():\n",
    "    print(i)\n",
    "con.commit()"
   ]
  },
  {
   "cell_type": "code",
   "execution_count": null,
   "metadata": {},
   "outputs": [],
   "source": []
  }
 ],
 "metadata": {
  "kernelspec": {
   "display_name": "Python 3",
   "language": "python",
   "name": "python3"
  },
  "language_info": {
   "codemirror_mode": {
    "name": "ipython",
    "version": 3
   },
   "file_extension": ".py",
   "mimetype": "text/x-python",
   "name": "python",
   "nbconvert_exporter": "python",
   "pygments_lexer": "ipython3",
   "version": "3.8.5"
  }
 },
 "nbformat": 4,
 "nbformat_minor": 4
}
